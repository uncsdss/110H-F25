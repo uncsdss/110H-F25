{
 "cells": [
  {
   "cell_type": "code",
   "execution_count": null,
   "id": "22db2276-a4b1-4bb3-8d0d-6a404cbdf10d",
   "metadata": {},
   "outputs": [],
   "source": [
    "# Review - histograms"
   ]
  },
  {
   "cell_type": "code",
   "execution_count": null,
   "id": "66217c7a",
   "metadata": {},
   "outputs": [],
   "source": [
    "import pandas as pd\n",
    "import seaborn as sns"
   ]
  },
  {
   "cell_type": "code",
   "execution_count": null,
   "id": "219e4be6",
   "metadata": {},
   "outputs": [],
   "source": [
    "# discussion question from lecture 9\n",
    "incomes = pd.read_csv('2022_female_actors.csv')\n",
    "incomes"
   ]
  },
  {
   "cell_type": "code",
   "execution_count": null,
   "id": "90f52e26",
   "metadata": {},
   "outputs": [],
   "source": [
    "my_bins = [0, 25, 30, 60]\n",
    "sns.histplot(data=incomes, bins = my_bins)\n"
   ]
  },
  {
   "cell_type": "code",
   "execution_count": null,
   "id": "d7f25075",
   "metadata": {},
   "outputs": [],
   "source": [
    "my_bins = [0, 25, 30, 60]\n",
    "sns.histplot(data=incomes, bins = my_bins, stat='proportion')"
   ]
  },
  {
   "cell_type": "code",
   "execution_count": null,
   "id": "1a3591bf",
   "metadata": {},
   "outputs": [],
   "source": [
    "sns.histplot(data=incomes, bins = my_bins, stat='density')"
   ]
  },
  {
   "cell_type": "code",
   "execution_count": null,
   "id": "9d616b54",
   "metadata": {},
   "outputs": [],
   "source": [
    "# Mean, Median, and Mode"
   ]
  },
  {
   "cell_type": "code",
   "execution_count": null,
   "id": "0ea28fee-6906-48bd-9987-772e391ca8f5",
   "metadata": {},
   "outputs": [],
   "source": [
    "movies = pd.read_csv('top_movies_2017.csv')\n",
    "movies"
   ]
  },
  {
   "cell_type": "code",
   "execution_count": null,
   "id": "482e402f-1a1f-4ea0-9343-9c7c39bca00b",
   "metadata": {},
   "outputs": [],
   "source": [
    "movies['Gross (in million)'] = movies['Gross'] / 1000000\n",
    "movies['Gross (in million)'].mean()"
   ]
  },
  {
   "cell_type": "code",
   "execution_count": null,
   "id": "49a09a1f-26f8-4d0f-8532-56fc624fb87a",
   "metadata": {},
   "outputs": [],
   "source": [
    "movies['Gross (in million)'].median()"
   ]
  },
  {
   "cell_type": "code",
   "execution_count": null,
   "id": "47cfc0c8-56df-4f70-b7b9-89e96b6fa327",
   "metadata": {},
   "outputs": [],
   "source": [
    "movies['Gross (in million)'].mode()"
   ]
  },
  {
   "cell_type": "code",
   "execution_count": null,
   "id": "6d9de345-d61a-40a5-94bc-54c2b37bda91",
   "metadata": {},
   "outputs": [],
   "source": [
    "movies['Gross (in million)'].value_counts()"
   ]
  },
  {
   "cell_type": "code",
   "execution_count": null,
   "id": "052168de-4e8b-400e-8e73-d5801a17ecff",
   "metadata": {},
   "outputs": [],
   "source": [
    "movies['Age'] = 2025 - movies['Year']\n",
    "movies['Age'].mean()"
   ]
  },
  {
   "cell_type": "code",
   "execution_count": null,
   "id": "105d5481-ff1b-4fa8-a2d0-3565e84329ef",
   "metadata": {},
   "outputs": [],
   "source": [
    "movies['Age'].median()"
   ]
  },
  {
   "cell_type": "code",
   "execution_count": null,
   "id": "361b96e4-e2f6-427b-9b75-ba0f17afedad",
   "metadata": {},
   "outputs": [],
   "source": [
    "movies['Age'].mode()"
   ]
  },
  {
   "cell_type": "code",
   "execution_count": null,
   "id": "c47b3111-7f9c-4899-8fef-29eed9d0cb5f",
   "metadata": {},
   "outputs": [],
   "source": [
    "movies['Age'].value_counts()"
   ]
  },
  {
   "cell_type": "code",
   "execution_count": null,
   "id": "99bac6ce-aa14-48f2-a5c7-aea5c640faba",
   "metadata": {},
   "outputs": [],
   "source": [
    "movies.groupby('Age')['Gross (in million)'].mean()"
   ]
  },
  {
   "cell_type": "code",
   "execution_count": null,
   "id": "12d4f1bf-53cc-4f64-a19b-e60bb0119adc",
   "metadata": {},
   "outputs": [],
   "source": [
    "movies.groupby('Gross (in million)')['Age'].mean()"
   ]
  },
  {
   "cell_type": "code",
   "execution_count": null,
   "id": "98297954-fa1a-4a4b-94d1-a0bf8b5d5638",
   "metadata": {},
   "outputs": [],
   "source": [
    "# Range, Standard Deviation, Interquartile Range"
   ]
  },
  {
   "cell_type": "code",
   "execution_count": null,
   "id": "d12598ae-638b-4875-b591-ef96b8a4e325",
   "metadata": {},
   "outputs": [],
   "source": [
    "movies['Age'].max()-movies['Age'].min()"
   ]
  },
  {
   "cell_type": "code",
   "execution_count": null,
   "id": "bf3574dc-55a4-4c1c-b278-2b39a0a89e9c",
   "metadata": {},
   "outputs": [],
   "source": [
    "movies['Gross (in million)'].max()-movies['Gross (in million)'].min()"
   ]
  },
  {
   "cell_type": "code",
   "execution_count": null,
   "id": "60a35734-ead9-4331-8c93-7c07fb9305e8",
   "metadata": {},
   "outputs": [],
   "source": [
    "movies['Age'].std()"
   ]
  },
  {
   "cell_type": "code",
   "execution_count": null,
   "id": "d7e8740a-7060-4713-ae1e-2861a843f59e",
   "metadata": {},
   "outputs": [],
   "source": [
    "movies['Gross (in million)'].std()"
   ]
  },
  {
   "cell_type": "code",
   "execution_count": null,
   "id": "e6a14812-1f29-4109-b621-eb5a4e699518",
   "metadata": {},
   "outputs": [],
   "source": [
    "Q1 = movies['Age'].quantile(0.25)\n",
    "Q3 = movies['Age'].quantile(0.75)\n",
    "Q3-Q1"
   ]
  },
  {
   "cell_type": "code",
   "execution_count": null,
   "id": "1aea413e-5d31-42f7-ab6b-2fb82ecc69ef",
   "metadata": {},
   "outputs": [],
   "source": [
    "Q1 = movies['Gross (in million)'].quantile(0.25)\n",
    "Q3 = movies['Gross (in million)'].quantile(0.75)\n",
    "Q3-Q1"
   ]
  },
  {
   "cell_type": "code",
   "execution_count": null,
   "id": "5c16edee-070b-47cf-b860-0fb557b9e509",
   "metadata": {},
   "outputs": [],
   "source": [
    "movies.groupby('Age')['Gross (in million)'].std()"
   ]
  },
  {
   "cell_type": "code",
   "execution_count": null,
   "id": "ca0a7eb4-5d90-4528-8592-83661ca3fb4c",
   "metadata": {},
   "outputs": [],
   "source": [
    "# Boxplot"
   ]
  },
  {
   "cell_type": "code",
   "execution_count": null,
   "id": "2832ff7c-bbd5-42ac-8572-0b9e8be93cf8",
   "metadata": {},
   "outputs": [],
   "source": [
    "sns.boxplot(data=movies, x='Age') "
   ]
  },
  {
   "cell_type": "code",
   "execution_count": null,
   "id": "27f5391d-9621-4459-9b07-a36fd0931a58",
   "metadata": {},
   "outputs": [],
   "source": [
    "sns.boxplot(data=movies, y='Age') "
   ]
  },
  {
   "cell_type": "code",
   "execution_count": null,
   "id": "5bc89e48-fec3-4e4e-86e5-b4c678c94011",
   "metadata": {},
   "outputs": [],
   "source": [
    "sns.boxplot(movies[['Age', 'Gross (in million)']])"
   ]
  },
  {
   "cell_type": "code",
   "execution_count": null,
   "id": "2a22baf9-1abd-45eb-b11a-d962a17cbc1a",
   "metadata": {},
   "outputs": [],
   "source": [
    "sns.boxplot(data=movies, x='Age', y='Studio') "
   ]
  },
  {
   "cell_type": "code",
   "execution_count": null,
   "id": "025caf22-3a59-452c-9c30-40bacfdb7dc8",
   "metadata": {},
   "outputs": [],
   "source": [
    "sns.boxplot(data=movies, x='Gross (in million)', y='Studio') "
   ]
  },
  {
   "cell_type": "code",
   "execution_count": null,
   "id": "54b29395-3aae-4f8c-9c03-ec954caa0844",
   "metadata": {},
   "outputs": [],
   "source": [
    "sns.boxplot(movies.groupby('Gross (in million)').Age.mean())"
   ]
  }
 ],
 "metadata": {
  "kernelspec": {
   "display_name": "Python 3",
   "language": "python",
   "name": "python3"
  },
  "language_info": {
   "codemirror_mode": {
    "name": "ipython",
    "version": 3
   },
   "file_extension": ".py",
   "mimetype": "text/x-python",
   "name": "python",
   "nbconvert_exporter": "python",
   "pygments_lexer": "ipython3",
   "version": "3.12.10"
  }
 },
 "nbformat": 4,
 "nbformat_minor": 5
}
