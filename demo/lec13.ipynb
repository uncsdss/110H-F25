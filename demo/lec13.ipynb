{
 "cells": [
  {
   "cell_type": "code",
   "execution_count": null,
   "id": "9b481d4e-4ccd-4bb2-8ace-2250129518a3",
   "metadata": {},
   "outputs": [],
   "source": [
    "import seaborn as sns\n",
    "import pandas as pd\n",
    "import random"
   ]
  },
  {
   "cell_type": "code",
   "execution_count": null,
   "id": "9f109075",
   "metadata": {},
   "outputs": [],
   "source": [
    "random.choice(['H','T'])"
   ]
  },
  {
   "cell_type": "code",
   "execution_count": null,
   "id": "270eda32",
   "metadata": {},
   "outputs": [],
   "source": [
    "random.choices(['H','T'],k=10)"
   ]
  },
  {
   "cell_type": "code",
   "execution_count": null,
   "id": "ccc484a7",
   "metadata": {},
   "outputs": [],
   "source": [
    "sns.histplot(random.choices(['H','T'],k=10))"
   ]
  },
  {
   "cell_type": "code",
   "execution_count": null,
   "id": "4bd10cca",
   "metadata": {},
   "outputs": [],
   "source": [
    "sns.histplot(random.choices(['H','T'],k=10000))"
   ]
  },
  {
   "cell_type": "code",
   "execution_count": null,
   "id": "a5747490",
   "metadata": {},
   "outputs": [],
   "source": [
    "random.choices(range(1,40),k=20) # with replacement"
   ]
  },
  {
   "cell_type": "code",
   "execution_count": null,
   "id": "be8e0fe1",
   "metadata": {},
   "outputs": [],
   "source": [
    "random.sample(range(1,40),k=20) # without replacement"
   ]
  },
  {
   "cell_type": "code",
   "execution_count": null,
   "id": "d2aa5fc1-0922-41f0-b581-61f408768163",
   "metadata": {},
   "outputs": [],
   "source": [
    "penguins = pd.read_csv('palmer_penguins.csv')\n",
    "penguins"
   ]
  },
  {
   "cell_type": "code",
   "execution_count": null,
   "id": "fb7bcee5",
   "metadata": {},
   "outputs": [],
   "source": [
    "penguins.sample()"
   ]
  },
  {
   "cell_type": "code",
   "execution_count": null,
   "id": "09f2c698",
   "metadata": {},
   "outputs": [],
   "source": [
    "penguins.sample(10)"
   ]
  },
  {
   "cell_type": "code",
   "execution_count": null,
   "id": "7b7a5b09",
   "metadata": {},
   "outputs": [],
   "source": [
    "penguins.sample(10, ignore_index=True)"
   ]
  },
  {
   "cell_type": "code",
   "execution_count": null,
   "id": "3d7ca3f2",
   "metadata": {},
   "outputs": [],
   "source": [
    "penguins.sample(frac=0.1, ignore_index=True)"
   ]
  },
  {
   "cell_type": "code",
   "execution_count": null,
   "id": "7967b641",
   "metadata": {},
   "outputs": [],
   "source": [
    "penguins.sample(10)"
   ]
  },
  {
   "cell_type": "code",
   "execution_count": null,
   "id": "9df9ee5b",
   "metadata": {},
   "outputs": [],
   "source": [
    "penguins.sample(10, random_state=13)"
   ]
  },
  {
   "cell_type": "code",
   "execution_count": null,
   "id": "f856e003",
   "metadata": {},
   "outputs": [],
   "source": [
    "penguins.sample(10, random_state=13, replace=True)"
   ]
  },
  {
   "cell_type": "code",
   "execution_count": null,
   "id": "1874902c",
   "metadata": {},
   "outputs": [],
   "source": [
    "penguins.sample(10)"
   ]
  }
 ],
 "metadata": {
  "kernelspec": {
   "display_name": "Python 3 (ipykernel)",
   "language": "python",
   "name": "python3"
  },
  "language_info": {
   "codemirror_mode": {
    "name": "ipython",
    "version": 3
   },
   "file_extension": ".py",
   "mimetype": "text/x-python",
   "name": "python",
   "nbconvert_exporter": "python",
   "pygments_lexer": "ipython3",
   "version": "3.10.10"
  }
 },
 "nbformat": 4,
 "nbformat_minor": 5
}
