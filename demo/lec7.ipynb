{
 "cells": [
  {
   "cell_type": "markdown",
   "id": "ae0ecdab-6645-494a-b2e0-59d068117bc7",
   "metadata": {},
   "source": [
    "# line plot"
   ]
  },
  {
   "cell_type": "code",
   "execution_count": null,
   "id": "1cf280ac",
   "metadata": {},
   "outputs": [],
   "source": [
    "import seaborn as sns\n",
    "import pandas as pd"
   ]
  },
  {
   "cell_type": "code",
   "execution_count": null,
   "id": "59f7121c-7bfe-4313-8df1-d6f2de36076c",
   "metadata": {},
   "outputs": [],
   "source": [
    "gme = pd.read_csv('gamestop.csv')\n",
    "gme"
   ]
  },
  {
   "cell_type": "code",
   "execution_count": null,
   "id": "9d7ff9d5-4163-4e0e-9188-30c9b5ef03e3",
   "metadata": {},
   "outputs": [],
   "source": [
    "sns.lineplot(data=gme, x='Date', y='Open')"
   ]
  },
  {
   "cell_type": "code",
   "execution_count": null,
   "id": "9eb4ee17-5688-4de1-ac95-78b79d1a4d6c",
   "metadata": {},
   "outputs": [],
   "source": [
    "gme = pd.read_csv('gamestop.csv',  \n",
    "                  parse_dates=['Date'])\n",
    "gme"
   ]
  },
  {
   "cell_type": "code",
   "execution_count": null,
   "id": "2cce22d7-78a0-4509-8627-d0d5ed0c508d",
   "metadata": {},
   "outputs": [],
   "source": [
    "sns.lineplot(data=gme, x='Date', y='Open')"
   ]
  },
  {
   "cell_type": "markdown",
   "id": "fd2ed4ae-a610-436a-8dcf-fd46920470fb",
   "metadata": {},
   "source": [
    "# scatter plot "
   ]
  },
  {
   "cell_type": "code",
   "execution_count": null,
   "id": "9cc7afe7-346c-44a8-bd36-aea77b49d4c1",
   "metadata": {},
   "outputs": [],
   "source": [
    "dugong = pd.read_csv('dugong.csv')\n",
    "dugong"
   ]
  },
  {
   "cell_type": "code",
   "execution_count": null,
   "id": "37a4f601-50bf-40a5-a5c8-f755226254d5",
   "metadata": {},
   "outputs": [],
   "source": [
    "sns.scatterplot(data=dugong, x='Age', y='Length')"
   ]
  },
  {
   "cell_type": "markdown",
   "id": "2edaa767-af81-4aab-9aaa-0e0cc33cb336",
   "metadata": {},
   "source": [
    "# with groupby"
   ]
  },
  {
   "cell_type": "code",
   "execution_count": null,
   "id": "d730c841-c821-4dff-bb86-ebae66649d7e",
   "metadata": {},
   "outputs": [],
   "source": [
    "movies = pd.read_csv('top_movies_2017.csv')\n",
    "movies"
   ]
  },
  {
   "cell_type": "code",
   "execution_count": null,
   "id": "e2ecead7-9264-41d1-897d-004c60554578",
   "metadata": {},
   "outputs": [],
   "source": [
    "counts = movies.groupby('Year').Title.count()\n",
    "#counts = movies.groupby('Year').Title.nunique()\n",
    "\n",
    "counts"
   ]
  },
  {
   "cell_type": "code",
   "execution_count": null,
   "id": "ccbb82aa-f7d3-42ac-ae63-0481d7d42efc",
   "metadata": {},
   "outputs": [],
   "source": [
    "sns.lineplot(data=counts)"
   ]
  },
  {
   "cell_type": "code",
   "execution_count": null,
   "id": "6a595650-42dc-41ba-bac7-d386a0e57488",
   "metadata": {},
   "outputs": [],
   "source": [
    "avg_gross = movies.groupby('Year').Gross.mean()\n",
    "sns.scatterplot(data=avg_gross)"
   ]
  },
  {
   "cell_type": "code",
   "execution_count": null,
   "id": "8c23bda0-2707-4863-b4d7-abb0db7eab4c",
   "metadata": {},
   "outputs": [],
   "source": [
    "avg_gross = movies.groupby('Year')['Gross (Adjusted)'].mean()\n",
    "sns.scatterplot(data=avg_gross)"
   ]
  }
 ],
 "metadata": {
  "kernelspec": {
   "display_name": "Python 3",
   "language": "python",
   "name": "python3"
  },
  "language_info": {
   "codemirror_mode": {
    "name": "ipython",
    "version": 3
   },
   "file_extension": ".py",
   "mimetype": "text/x-python",
   "name": "python",
   "nbconvert_exporter": "python",
   "pygments_lexer": "ipython3",
   "version": "3.12.10"
  }
 },
 "nbformat": 4,
 "nbformat_minor": 5
}
