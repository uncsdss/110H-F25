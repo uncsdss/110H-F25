{
 "cells": [
  {
   "cell_type": "code",
   "execution_count": null,
   "id": "0fca508a-da98-4cc3-bed0-51d7e5e5d61c",
   "metadata": {},
   "outputs": [],
   "source": [
    "import pandas as pd\n",
    "import seaborn as sns"
   ]
  },
  {
   "cell_type": "code",
   "execution_count": null,
   "id": "b4c1b003-d475-4e5f-aed7-8eb0d6300c81",
   "metadata": {},
   "outputs": [],
   "source": [
    "penguins = pd.read_csv('palmer_penguins.csv')\n",
    "penguins.head()"
   ]
  },
  {
   "cell_type": "code",
   "execution_count": null,
   "id": "4d9a856e-c549-478a-8a5c-68400476b3b2",
   "metadata": {},
   "outputs": [],
   "source": [
    "sns.scatterplot(data=penguins, x='Culmen Length (mm)', y='Body Mass (g)')"
   ]
  },
  {
   "cell_type": "code",
   "execution_count": null,
   "id": "a501610c-7f77-4d53-9a59-71f737eb575c",
   "metadata": {},
   "outputs": [],
   "source": [
    "sns.scatterplot(data=penguins, x='Culmen Depth (mm)', y='Body Mass (g)')"
   ]
  },
  {
   "cell_type": "code",
   "execution_count": null,
   "id": "7e85e0d7-b8bc-4282-9e70-d5620b345f1e",
   "metadata": {},
   "outputs": [],
   "source": [
    "sns.scatterplot(data=penguins, x='Flipper Length (mm)', y='Body Mass (g)')"
   ]
  },
  {
   "cell_type": "code",
   "execution_count": null,
   "id": "41a12730-b708-465d-8017-19292c1d832d",
   "metadata": {},
   "outputs": [],
   "source": [
    "r1 = penguins[['Culmen Length (mm)', 'Body Mass (g)']].corr()\n",
    "r1"
   ]
  },
  {
   "cell_type": "code",
   "execution_count": null,
   "id": "9c72afdc-1246-48d0-a502-f4be7aa7db08",
   "metadata": {},
   "outputs": [],
   "source": [
    "r2 = penguins[['Culmen Depth (mm)', 'Body Mass (g)']].corr()\n",
    "r2"
   ]
  },
  {
   "cell_type": "code",
   "execution_count": null,
   "id": "d142c3c7-f210-41f5-a203-bcc3dbb1e62f",
   "metadata": {},
   "outputs": [],
   "source": [
    "r3 = penguins[['Flipper Length (mm)', 'Body Mass (g)']].corr()\n",
    "r3"
   ]
  },
  {
   "cell_type": "code",
   "execution_count": null,
   "id": "a8180c67-954f-4c40-aa6f-4175eec0cac1",
   "metadata": {},
   "outputs": [],
   "source": [
    "r4 = penguins[['Culmen Length (mm)', 'Culmen Depth (mm)', 'Flipper Length (mm)', 'Body Mass (g)']].corr()\n",
    "r4"
   ]
  },
  {
   "cell_type": "code",
   "execution_count": null,
   "id": "ba6013e3",
   "metadata": {},
   "outputs": [],
   "source": [
    "sns.heatmap(r4, annot=True)"
   ]
  }
 ],
 "metadata": {
  "kernelspec": {
   "display_name": "Python 3 (ipykernel)",
   "language": "python",
   "name": "python3"
  },
  "language_info": {
   "codemirror_mode": {
    "name": "ipython",
    "version": 3
   },
   "file_extension": ".py",
   "mimetype": "text/x-python",
   "name": "python",
   "nbconvert_exporter": "python",
   "pygments_lexer": "ipython3",
   "version": "3.10.10"
  }
 },
 "nbformat": 4,
 "nbformat_minor": 5
}
