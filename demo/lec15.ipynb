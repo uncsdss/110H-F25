{
 "cells": [
  {
   "cell_type": "code",
   "execution_count": null,
   "id": "cf55d4e4-a6fc-49d2-9b4e-fa435bd69ae3",
   "metadata": {},
   "outputs": [],
   "source": [
    "import random \n",
    "import pandas as pd\n",
    "import seaborn as sns\n",
    "import matplotlib.pyplot as plt"
   ]
  },
  {
   "cell_type": "markdown",
   "id": "8c65fb2f-d105-4fce-9fbe-68831f6f5a40",
   "metadata": {},
   "source": [
    "# Hypothesis test\n",
    "\n",
    "(a)\n",
    "\n",
    "Null hypothesis: The coin is fair.\n",
    "\n",
    "Alternative: No, it’s biased towards heads.\n",
    "\n",
    "(b)\n",
    "\n",
    "Null hypothesis: The coin is fair.\n",
    "\n",
    "Alternative: No, it's not."
   ]
  },
  {
   "cell_type": "code",
   "execution_count": null,
   "id": "8531416c-d043-4dcd-817e-bb0f9ebe20fa",
   "metadata": {},
   "outputs": [],
   "source": [
    "# Simulate 400 flips of a biased coin (P(H)=0.6, P(T)=0.4) and save to CSV\n",
    "actual_coin = random.choices(['H', 'T'], \n",
    "                             k=400, \n",
    "                             weights=[0.6, 0.4])\n",
    "pd.DataFrame(actual_coin, columns=['coin']).to_csv('coins_400.csv', index=False)"
   ]
  },
  {
   "cell_type": "code",
   "execution_count": null,
   "id": "f7473832-10cd-4eaa-a17e-ff1ea6bc969e",
   "metadata": {},
   "outputs": [],
   "source": [
    "# Pretend we don't know the actual coin bias, and analyze the data\n",
    "coins_400 = pd.read_csv('coins_400.csv')\n",
    "sns.histplot(coins_400, x='coin', stat='density')\n",
    "coins_400.head()"
   ]
  },
  {
   "cell_type": "code",
   "execution_count": null,
   "id": "e56b5a82-7a2a-4510-b4e1-d22a0d3bc7db",
   "metadata": {},
   "outputs": [],
   "source": [
    "# (a) percent of heads\n",
    "heads = (coins_400['coin']=='H')\n",
    "t1 = sum(heads) / len(coins_400)\n",
    "t1"
   ]
  },
  {
   "cell_type": "code",
   "execution_count": null,
   "id": "d7864843-0860-46e5-bf42-c37bd6b7d563",
   "metadata": {},
   "outputs": [],
   "source": [
    "# (b) | percent of heads - 50% | \n",
    "t2 = abs(t1 - 0.5)\n",
    "t2"
   ]
  },
  {
   "cell_type": "code",
   "execution_count": null,
   "id": "f4e42520-d8b4-4c68-80ed-ebad533ea732",
   "metadata": {},
   "outputs": [],
   "source": [
    "# 1. Make a lot of simulated data under the null hypothesis\n",
    "# 2. Calculate the statistics t1 and t2 from simulated data\n",
    "\n",
    "statistic = pd.DataFrame(columns=['t1', 't2'])\n",
    "\n",
    "for simulation in range(1000):\n",
    "    simulated_coins = pd.DataFrame(random.choices(['H', 'T'], k=400), columns=['coin'])\n",
    "    heads = (simulated_coins['coin']=='H') # True, False array\n",
    "    sim_t1 = sum(heads) / len(simulated_coins) # proportion of heads\n",
    "    sim_t2 = abs(sim_t1-0.5) # difference from 50%\n",
    "    statistic.loc[len(statistic)] = [sim_t1, sim_t2]\n",
    "statistic"
   ]
  },
  {
   "cell_type": "code",
   "execution_count": null,
   "id": "d0e9b095-7cd1-4c7f-9647-1912761d4bfc",
   "metadata": {},
   "outputs": [],
   "source": [
    "# 3a. Plot empirical distribution of t1 (under the null)\n",
    "\n",
    "fig, ax = plt.subplots(1)\n",
    "sns.histplot(data=statistic, x='t1', stat='density', label='Under the null')\n",
    "ax.axvline(t1, color='k', linestyle='-.', label='In dataset')\n",
    "ax.legend()"
   ]
  },
  {
   "cell_type": "code",
   "execution_count": null,
   "id": "66ca5e29-b420-4628-8945-f6ee88c4f06b",
   "metadata": {},
   "outputs": [],
   "source": [
    "# p1: how many simulated t1s are larger than data t1?\n",
    "sum(statistic['t1']>=t1)/len(statistic)"
   ]
  },
  {
   "cell_type": "code",
   "execution_count": null,
   "id": "105d6168-c12e-4213-ac60-b335ce75faaf",
   "metadata": {},
   "outputs": [],
   "source": [
    "# 3b. Plot empirical distribution of t2 (under the null)\n",
    "fig, ax = plt.subplots(1)\n",
    "sns.histplot(data=statistic, x='t2', stat='density', label='Under the null')\n",
    "ax.axvline(t2, color='k', linestyle='-.', label='In dataset')\n",
    "ax.legend()"
   ]
  },
  {
   "cell_type": "code",
   "execution_count": null,
   "id": "fc9c0554-84c2-42ba-a1c7-dcbd11e59834",
   "metadata": {},
   "outputs": [],
   "source": [
    "# p2: how many simulated t2s are larger than data t2?\n",
    "sum(statistic['t2']>=t2)/len(statistic)"
   ]
  },
  {
   "cell_type": "markdown",
   "id": "df46d546-6162-4a29-b668-18b6e89dd162",
   "metadata": {},
   "source": [
    "# Hypothesis test for numerical data\n",
    "Null: Group A and Group B are each sampled from population distributions that are approximately normal with potentially different standard deviations but the same mean.\n",
    "\n",
    "Alternative: No, B distribution has a higher mean than A distribution.\n",
    "\n",
    "Statistic: sample mean of B - sample mean of A (or some variation of it)\n"
   ]
  },
  {
   "cell_type": "code",
   "execution_count": null,
   "id": "3b18dddd-af22-4b30-8718-c00d42af1fe6",
   "metadata": {},
   "outputs": [],
   "source": [
    "# generate two groups of data from normal distributions and save to CSV\n",
    "mean_A, std_A = 20, 3\n",
    "mean_B, std_B = 22, 4\n",
    "n_A = 30\n",
    "n_B = 20\n",
    "\n",
    "actual_A = []\n",
    "for i in range(n_A):\n",
    "    actual_A.append(random.gauss(mean_A, std_A))\n",
    "\n",
    "actual_B = []\n",
    "for i in range(n_B):\n",
    "    actual_B.append(random.gauss(mean_B, std_B))\n",
    "\n",
    "pd.DataFrame(actual_A, columns=['value']).to_csv('A.csv', index=False)\n",
    "pd.DataFrame(actual_B, columns=['value']).to_csv('B.csv', index=False)"
   ]
  },
  {
   "cell_type": "code",
   "execution_count": null,
   "id": "93223fc2-17ad-44f9-89a5-259295c4e446",
   "metadata": {},
   "outputs": [],
   "source": [
    "# Pretend we don't know the actual distributions, and analyze the data\n",
    "group_A = pd.read_csv('A.csv')\n",
    "group_B = pd.read_csv('B.csv')\n",
    "group_A.head()"
   ]
  },
  {
   "cell_type": "code",
   "execution_count": null,
   "id": "c921a2fe-90a1-4e41-809b-ada1d1d099b8",
   "metadata": {},
   "outputs": [],
   "source": [
    "# one statistic = mean of B - mean of A\n",
    "group_B['value'].mean() - group_A['value'].mean()\n"
   ]
  },
  {
   "cell_type": "code",
   "execution_count": null,
   "id": "27734a94-c3ca-48b4-99a9-545d4de0cc1c",
   "metadata": {},
   "outputs": [],
   "source": [
    "# t-statistic = (mB - mA)/sqrt(sA^2/nA + sB^2/nB)\n",
    "import math\n",
    "top = group_B['value'].mean() - group_A['value'].mean()\n",
    "bottom = group_A['value'].std()**2/len(group_A) + group_B['value'].std()**2/len(group_B) \n",
    "t = top/math.sqrt(bottom)\n",
    "t"
   ]
  },
  {
   "cell_type": "markdown",
   "id": "c80ff043-ed98-4c9e-865e-c831c3da7fa4",
   "metadata": {},
   "source": [
    "At this point, we can skip running the simulations, because the empirical distribution of t-statistic is known to come from a probability distribution called t-distribution. People have figured out what that distribution looks like and how to calculate the corresponding p-value in the theoretical curve.\n",
    "\n",
    "`df` stands for degrees of freedom, which is something that depends on number of samples and standard deviations. No need to memorize the formula.\n",
    "\n",
    "See parameters in \n",
    "https://docs.scipy.org/doc/scipy/reference/generated/scipy.stats.ttest_ind.html"
   ]
  },
  {
   "cell_type": "code",
   "execution_count": null,
   "id": "034609a7-59d5-4308-9cae-98e61d8ddc97",
   "metadata": {},
   "outputs": [],
   "source": [
    "#https://docs.scipy.org/doc/scipy/reference/generated/scipy.stats.ttest_ind.html\n",
    "from scipy.stats import ttest_ind\n",
    "\n",
    "ttest_ind(group_A['value'], group_B['value'], \n",
    "          equal_var=False, \n",
    "          alternative='less') # mean A < mean B\n"
   ]
  }
 ],
 "metadata": {
  "kernelspec": {
   "display_name": "Python 3",
   "language": "python",
   "name": "python3"
  },
  "language_info": {
   "codemirror_mode": {
    "name": "ipython",
    "version": 3
   },
   "file_extension": ".py",
   "mimetype": "text/x-python",
   "name": "python",
   "nbconvert_exporter": "python",
   "pygments_lexer": "ipython3",
   "version": "3.12.10"
  }
 },
 "nbformat": 4,
 "nbformat_minor": 5
}
