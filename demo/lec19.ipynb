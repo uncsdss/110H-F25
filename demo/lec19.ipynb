{
 "cells": [
  {
   "cell_type": "code",
   "execution_count": null,
   "id": "30279bd3-481b-4ca7-a20b-350d8334ad67",
   "metadata": {},
   "outputs": [],
   "source": [
    "import numpy as np\n",
    "import seaborn as sns\n",
    "from matplotlib import pyplot as plt\n",
    "import pandas as pd"
   ]
  },
  {
   "cell_type": "markdown",
   "id": "25db5eaf",
   "metadata": {},
   "source": [
    "# Predicting the weight of ROUSes using Linear Regression\n",
    "Using other data we have in the table, we want to predict the weight of ROUSes."
   ]
  },
  {
   "cell_type": "code",
   "execution_count": null,
   "id": "bc3efcc9-a243-4d5a-b3cd-45eb4b10e027",
   "metadata": {},
   "outputs": [],
   "source": [
    "rouses = pd.read_csv('ROUSes.csv')\n",
    "print(rouses.shape)\n",
    "rouses.head()"
   ]
  },
  {
   "cell_type": "markdown",
   "id": "3235a492-dcdd-406c-af5d-c349609ba5f5",
   "metadata": {},
   "source": [
    "# Exploratory analysis\n",
    "First, let's look at some scatterplots of the numberic variables vs. weight."
   ]
  },
  {
   "cell_type": "code",
   "execution_count": null,
   "id": "1fb58327",
   "metadata": {},
   "outputs": [],
   "source": [
    "sns.scatterplot(data=rouses, x='Age',y='Weight')"
   ]
  },
  {
   "cell_type": "code",
   "execution_count": null,
   "id": "c583a78d-57a8-42f9-be18-9fcce724da82",
   "metadata": {},
   "outputs": [],
   "source": [
    "sns.scatterplot(data=rouses, x='Length',y='Weight')"
   ]
  },
  {
   "cell_type": "markdown",
   "id": "acfba157",
   "metadata": {},
   "source": [
    "Age seems to have a decently linear correlation with weight.  Lenght looks more like a square relationship.  So we'll try using Age to predict Weight.  Let's drop the other columns."
   ]
  },
  {
   "cell_type": "code",
   "execution_count": null,
   "id": "beed6e25-a894-4c21-8c1c-7cc455f51f89",
   "metadata": {},
   "outputs": [],
   "source": [
    "rouses = rouses.drop(columns=['Temperament','Length']) # drop the column 'Name'\n",
    "rouses.head()"
   ]
  },
  {
   "cell_type": "markdown",
   "id": "49665c9d-14e2-4756-9faf-9a8f80ed3852",
   "metadata": {},
   "source": [
    "We will **randomly split the sample into two groups, and reserve the samples in the test set for evaluating the model**. \n",
    "\n",
    "Think of it as a professor reserving some questions in the question bank for the actual test (test) and releasing the rest as practice questions (train). Why would giving all the questions ahead of time be an inaccurate way to evaluate a student's understanding (model)?"
   ]
  },
  {
   "cell_type": "code",
   "execution_count": null,
   "id": "bf2f7a05-915b-478a-8641-088536d6307e",
   "metadata": {},
   "outputs": [],
   "source": [
    "train = rouses.sample(frac=0.8) # 80% rows for training\n",
    "test = rouses.drop(index=train.index) # rest of rows for testing\n",
    "print(train.shape, test.shape)"
   ]
  },
  {
   "cell_type": "markdown",
   "id": "958f889f-74a6-4c07-a931-a0d713a3d3a7",
   "metadata": {},
   "source": [
    "The next thing to do is to separate out the target data `Weight` from the predictor data (everything else; in this case just Age is left)."
   ]
  },
  {
   "cell_type": "code",
   "execution_count": null,
   "id": "b3a2e86e-e37d-4bcd-90b1-92493b91762c",
   "metadata": {},
   "outputs": [],
   "source": [
    "y_train = train['Weight']\n",
    "X_train = train.drop(columns=['Weight'])\n",
    "print(X_train.shape, y_train.shape)\n",
    "\n",
    "y_test = test['Weight']\n",
    "X_test = test.drop(columns=['Weight']) \n",
    "print(X_test.shape, y_test.shape)"
   ]
  },
  {
   "cell_type": "markdown",
   "id": "21e7adb5-97c4-401f-9615-4f97918ba99d",
   "metadata": {},
   "source": [
    "## Training or fitting a model \n",
    "\n",
    "To use a machine learning model from `scikit-learn`, you should import the relevant model."
   ]
  },
  {
   "cell_type": "code",
   "execution_count": null,
   "id": "e4a59769-1d00-4e90-90b5-8360edbff630",
   "metadata": {},
   "outputs": [],
   "source": [
    "from sklearn.linear_model import LinearRegression\n",
    "\n",
    "lr = LinearRegression(fit_intercept=True)\n",
    "lr.fit(X_train, y_train)\n",
    "print('Train score:',lr.score(X_train, y_train))\n",
    "print('Test score:',lr.score(X_test, y_test))\n",
    "\n",
    "coefs = pd.DataFrame(lr.coef_, \n",
    "                     index=lr.feature_names_in_, \n",
    "                    columns=['Coefficient vals'])\n",
    "coefs\n",
    "\n"
   ]
  },
  {
   "cell_type": "markdown",
   "id": "65d7f7a2",
   "metadata": {},
   "source": [
    "For linear regression a \"score\" (the R2 value) near 1 is what we are hoping for, and 0 is the worst result.  So our model is doing a very good job at predicting the data!  The coefficient tells us how much Weight change to expect with every unit change of Age.\n",
    "\n",
    "To visualize our line, we can plug some values in and have their outputs predicted:"
   ]
  },
  {
   "cell_type": "code",
   "execution_count": null,
   "id": "21215f97",
   "metadata": {},
   "outputs": [],
   "source": [
    "predict_inputs = pd.DataFrame({'Age':[1,55]})\n",
    "predictions=lr.predict(predict_inputs)\n",
    "predictions"
   ]
  },
  {
   "cell_type": "code",
   "execution_count": null,
   "id": "c01b0fb3",
   "metadata": {},
   "outputs": [],
   "source": [
    "fig, ax = plt.subplots(1)\n",
    "\n",
    "ax.plot([1,55], [predictions[0], predictions[1]], color = \"red\", label = \"linear regression model\")\n",
    "ax.scatter(rouses['Age'], rouses['Weight'], label = \"data\")\n",
    "ax.set(xlabel='Age', ylabel='Weight')\n",
    "plt.legend()"
   ]
  },
  {
   "cell_type": "markdown",
   "id": "643b5532",
   "metadata": {},
   "source": [
    "Indeed, it looks like this line is a very good fit to our data!"
   ]
  },
  {
   "cell_type": "markdown",
   "id": "71dbc6f3-6222-40ba-9895-08f5be51afad",
   "metadata": {},
   "source": [
    "# Another example\n",
    "Here is another linear regression example for synthetically generated data that we actually know the **true** model"
   ]
  },
  {
   "cell_type": "code",
   "execution_count": null,
   "id": "10360291-9df6-4303-a5c3-8bdf9b7adaf3",
   "metadata": {},
   "outputs": [],
   "source": [
    "# controls random number generation\n",
    "# always get the same data\n",
    "np.random.seed(1234) \n",
    "\n",
    "# true model is linear with a = 1 and b = 1\n",
    "a = 1\n",
    "b = 1\n",
    "\n",
    "n_points = 100\n",
    "\n",
    "X = np.random.rand(n_points)\n",
    "Y = a*X + b + 0.2*np.random.randn(n_points) # final term is random noise"
   ]
  },
  {
   "cell_type": "code",
   "execution_count": null,
   "id": "08eb9762",
   "metadata": {},
   "outputs": [],
   "source": [
    "fig, ax = plt.subplots(1)\n",
    "\n",
    "ax.plot([0,1], [1, 2], color = \"black\", label = \"true model\")\n",
    "ax.scatter(X, Y, label = \"data\")\n",
    "ax.set(xlabel='X', ylabel='Y')\n",
    "plt.legend()"
   ]
  },
  {
   "cell_type": "code",
   "execution_count": null,
   "id": "d0364827",
   "metadata": {},
   "outputs": [],
   "source": [
    "df = pd.DataFrame(data={'Y': Y, 'X': X})\n",
    "train = df.sample(frac=0.8) # 80% rows for training\n",
    "test = df.drop(index=train.index) # rest of rows for testing\n",
    "print(train.shape, test.shape)\n",
    "df\n"
   ]
  },
  {
   "cell_type": "code",
   "execution_count": null,
   "id": "85d3a5c9",
   "metadata": {},
   "outputs": [],
   "source": [
    "y_train = train['Y']\n",
    "X_train = train.drop(columns=['Y'])\n",
    "print(X_train.shape, y_train.shape)\n",
    "\n",
    "y_test = test['Y']\n",
    "X_test = test.drop(columns=['Y']) \n",
    "print(X_test.shape, y_test.shape)"
   ]
  },
  {
   "cell_type": "code",
   "execution_count": null,
   "id": "1f180c96-b5f7-4be3-a8ae-8b1dea828bc9",
   "metadata": {},
   "outputs": [],
   "source": [
    "from sklearn.linear_model import LinearRegression\n",
    "\n",
    "lr = LinearRegression(fit_intercept=True)\n",
    "lr.fit(X_train, y_train)\n",
    "\n"
   ]
  },
  {
   "cell_type": "code",
   "execution_count": null,
   "id": "c84daee3",
   "metadata": {},
   "outputs": [],
   "source": [
    "lr.score(X_train, y_train) \n",
    "# R2 value for our training data "
   ]
  },
  {
   "cell_type": "code",
   "execution_count": null,
   "id": "b0fa7efb",
   "metadata": {},
   "outputs": [],
   "source": [
    "lr.score(X_test, y_test) \n",
    "# R2 value for our training data "
   ]
  },
  {
   "cell_type": "code",
   "execution_count": null,
   "id": "a01bc16d",
   "metadata": {},
   "outputs": [],
   "source": [
    "coefs = pd.DataFrame(lr.coef_, \n",
    "                     index=lr.feature_names_in_, \n",
    "                    columns=['Coefficient vals'])\n",
    "coefs\n",
    "\n"
   ]
  },
  {
   "cell_type": "code",
   "execution_count": null,
   "id": "6f12a2ce",
   "metadata": {},
   "outputs": [],
   "source": [
    "prediction_inputs = pd.DataFrame(data={'X': [0,1]})\n",
    "predictions = lr.predict(prediction_inputs)\n",
    "predictions"
   ]
  },
  {
   "cell_type": "code",
   "execution_count": null,
   "id": "5939d00f",
   "metadata": {},
   "outputs": [],
   "source": [
    "fig, ax = plt.subplots(1)\n",
    "\n",
    "ax.plot([0,1], [1, 2], color = \"black\", label = \"true model\")\n",
    "ax.plot([0,1], [predictions[0], predictions[1]], color = \"red\", label = \"linear regression model\")\n",
    "ax.scatter(X, Y, label = \"data\")\n",
    "ax.set(xlabel='X', ylabel='Y')\n",
    "plt.legend()"
   ]
  }
 ],
 "metadata": {
  "kernelspec": {
   "display_name": "Python 3",
   "language": "python",
   "name": "python3"
  },
  "language_info": {
   "codemirror_mode": {
    "name": "ipython",
    "version": 3
   },
   "file_extension": ".py",
   "mimetype": "text/x-python",
   "name": "python",
   "nbconvert_exporter": "python",
   "pygments_lexer": "ipython3",
   "version": "3.12.10"
  }
 },
 "nbformat": 4,
 "nbformat_minor": 5
}
