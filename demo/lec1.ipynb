{
 "cells": [
  {
   "cell_type": "code",
   "execution_count": 15,
   "id": "a7faa037-c407-4414-a7e5-9354acc37159",
   "metadata": {},
   "outputs": [],
   "source": [
    "import numpy as np\n",
    "import matplotlib.pyplot as plt"
   ]
  },
  {
   "cell_type": "code",
   "execution_count": null,
   "id": "dea5c3d6-7c61-4fac-9f8f-46033b912c2c",
   "metadata": {},
   "outputs": [],
   "source": [
    "img = plt.imread('colors.jpeg')\n",
    "img = img/255\n",
    "print(img.shape)\n",
    "plt.imshow(img)"
   ]
  },
  {
   "cell_type": "code",
   "execution_count": null,
   "id": "54b699f6-44ed-452a-9070-8e74d2258771",
   "metadata": {},
   "outputs": [],
   "source": [
    "img"
   ]
  },
  {
   "cell_type": "code",
   "execution_count": null,
   "id": "c65bdd84-8c78-4d6a-99d5-ed167732fe9d",
   "metadata": {},
   "outputs": [],
   "source": [
    "img[:10, :10, 0]"
   ]
  },
  {
   "cell_type": "code",
   "execution_count": null,
   "id": "108809b8-e888-4fe7-a18c-edfd56330ab7",
   "metadata": {},
   "outputs": [],
   "source": [
    "img[50:1000, 200:1000] = 0\n",
    "plt.imshow(img)"
   ]
  },
  {
   "cell_type": "code",
   "execution_count": null,
   "id": "a84af7ca-15a4-47b3-9b7f-07cba752c799",
   "metadata": {},
   "outputs": [],
   "source": [
    "img = img.swapaxes(1,0)\n",
    "print(img.shape)\n",
    "plt.imshow(img)"
   ]
  },
  {
   "cell_type": "code",
   "execution_count": null,
   "id": "1ecba13f-bfff-4f0c-9d28-1d3368d729e6",
   "metadata": {},
   "outputs": [],
   "source": [
    "fig, ax = plt.subplots(1,3, figsize=(12,4))\n",
    "\n",
    "im1 = ax[0].imshow(img[:,:,0], cmap='Reds')\n",
    "ax[0].set_xticks([])\n",
    "ax[0].set_yticks([])\n",
    "fig.colorbar(im1)\n",
    "\n",
    "im2 = ax[1].imshow(img[:,:,1], cmap='Greens')\n",
    "ax[1].set_xticks([])\n",
    "ax[1].set_yticks([])\n",
    "fig.colorbar(im2)\n",
    "\n",
    "im3 = ax[2].imshow(img[:,:,2], cmap='Blues')\n",
    "ax[2].set_xticks([])\n",
    "ax[2].set_yticks([])\n",
    "fig.colorbar(im3)\n",
    "plt.tight_layout()\n",
    "plt.show()\n"
   ]
  },
  {
   "cell_type": "code",
   "execution_count": null,
   "id": "34908bf0-1ead-4d23-82c1-7daf53923f89",
   "metadata": {},
   "outputs": [],
   "source": [
    "plt.imshow(img)"
   ]
  },
  {
   "cell_type": "code",
   "execution_count": 23,
   "id": "df704907-2062-4b90-a92f-612fe1321250",
   "metadata": {},
   "outputs": [],
   "source": [
    "img = plt.imread('colors.jpeg')\n",
    "img = img/255"
   ]
  },
  {
   "cell_type": "code",
   "execution_count": 24,
   "id": "36f03d56-39b9-4e1c-9792-b065ff84f2b5",
   "metadata": {},
   "outputs": [],
   "source": [
    "def draw_image_rect( x0: int, y0: int, w: int, h:int, t: int=10, c: float=1.0):\n",
    "    for j in range(y0, y0+h):\n",
    "       img[x0 - t:x0 + t, j]=c\n",
    "       img[x0 + w - t:x0 + w + t, j]=c   \n",
    "    for i in range(x0, x0 + w):\n",
    "        img[i,y0 - t:y0 + t]=c\n",
    "        img[i,y0 + h - t:y0 + h + t]=c"
   ]
  },
  {
   "cell_type": "code",
   "execution_count": 25,
   "id": "94c06b64-6798-4b5f-bf1e-535fe56c2aa1",
   "metadata": {},
   "outputs": [],
   "source": [
    "draw_image_rect( 500, 500, 500, 500, 5, 0)"
   ]
  },
  {
   "cell_type": "code",
   "execution_count": null,
   "id": "a56bd007-12cf-4f2d-8ed5-ea4f6c4bf835",
   "metadata": {},
   "outputs": [],
   "source": [
    "plt.imshow(img)"
   ]
  },
  {
   "cell_type": "code",
   "execution_count": 27,
   "id": "83c05185-2c8c-4472-ba8f-1a2d1cbae857",
   "metadata": {},
   "outputs": [],
   "source": [
    "def mystery( x0: int, y0: int, q: int, t: int=10, c: float=1.0):\n",
    "    for i in range(0,360):\n",
    "        x = x0 + np.cos(np.radians(i)) * q\n",
    "        y = y0 + np.sin(np.radians(i)) * q\n",
    "        x=int(x)\n",
    "        y=int(y)\n",
    "        img[int(x) - t : x + t, y - t: y + t]=c"
   ]
  },
  {
   "cell_type": "code",
   "execution_count": 28,
   "id": "69b27adb-e9ca-4613-ab27-2f14bd18fa7d",
   "metadata": {},
   "outputs": [],
   "source": [
    "mystery(1000, 1500, 500,30)"
   ]
  },
  {
   "cell_type": "code",
   "execution_count": null,
   "id": "f88cd71e-4e58-4ef5-84c8-2d2692dec016",
   "metadata": {},
   "outputs": [],
   "source": [
    "plt.imshow(img)"
   ]
  },
  {
   "cell_type": "code",
   "execution_count": null,
   "id": "03f21358-7b2a-4eb2-af1d-c7c409f613d9",
   "metadata": {},
   "outputs": [],
   "source": []
  }
 ],
 "metadata": {
  "kernelspec": {
   "display_name": "Python 3",
   "language": "python",
   "name": "python3"
  },
  "language_info": {
   "codemirror_mode": {
    "name": "ipython",
    "version": 3
   },
   "file_extension": ".py",
   "mimetype": "text/x-python",
   "name": "python",
   "nbconvert_exporter": "python",
   "pygments_lexer": "ipython3",
   "version": "3.12.8"
  }
 },
 "nbformat": 4,
 "nbformat_minor": 5
}
