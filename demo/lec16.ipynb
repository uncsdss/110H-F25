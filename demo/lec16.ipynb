{
 "cells": [
  {
   "cell_type": "code",
   "execution_count": null,
   "id": "cf55d4e4-a6fc-49d2-9b4e-fa435bd69ae3",
   "metadata": {},
   "outputs": [],
   "source": [
    "import random \n",
    "import pandas as pd\n",
    "import seaborn as sns\n",
    "import matplotlib.pyplot as plt"
   ]
  },
  {
   "cell_type": "markdown",
   "id": "8c65fb2f-d105-4fce-9fbe-68831f6f5a40",
   "metadata": {},
   "source": [
    "# Hypothesis test previous semester exam\n",
    "\n",
    "Null hypothesis: The chance of ToL serving Sushi is 25% each day and is independent of any other day.  Any deviation is due to chance.\n",
    "\n",
    "Alternative: The chance of ToL serving Sushi on some arbitrary day is less than 25%.\n",
    "\n",
    "Test statistic: Proportion of days curry is served.\n"
   ]
  },
  {
   "cell_type": "code",
   "execution_count": null,
   "id": "e56b5a82-7a2a-4510-b4e1-d22a0d3bc7db",
   "metadata": {},
   "outputs": [],
   "source": [
    "# observed proportion of days curry is served\n",
    "\n",
    "t = 13/100"
   ]
  },
  {
   "cell_type": "code",
   "execution_count": null,
   "id": "f4e42520-d8b4-4c68-80ed-ebad533ea732",
   "metadata": {},
   "outputs": [],
   "source": [
    "# 1. Make a lot of simulated data under the null hypothesis\n",
    "# 2. Calculate the statistic t from simulated data\n",
    "\n",
    "statistic = pd.DataFrame(columns=['t'])\n",
    "random.seed(442)\n",
    "for simulation in range(1000):\n",
    "    simulated_food = pd.DataFrame(random.choices(['Pizza', 'Curry', 'Sushi', 'Nuggets'], k=100), columns=['food'])\n",
    "    curry_days = (simulated_food['food']=='Curry') # True, False array\n",
    "    sim_t = sum(curry_days) / len(simulated_food) # proportion of Curry\n",
    "    statistic.loc[len(statistic)] = [sim_t]\n",
    "statistic"
   ]
  },
  {
   "cell_type": "code",
   "execution_count": null,
   "id": "d0e9b095-7cd1-4c7f-9647-1912761d4bfc",
   "metadata": {},
   "outputs": [],
   "source": [
    "# 3. Plot empirical distribution of t (under the null)\n",
    "\n",
    "fig, ax = plt.subplots(1)\n",
    "sns.histplot(data=statistic, x='t', stat='density', label='Under the null',bins=15)\n",
    "ax.axvline(t, color='k', linestyle='-.', label='Observed statistic')\n",
    "ax.legend()"
   ]
  },
  {
   "cell_type": "code",
   "execution_count": null,
   "id": "66ca5e29-b420-4628-8945-f6ee88c4f06b",
   "metadata": {},
   "outputs": [],
   "source": [
    "# p: how many simulated t's are less than observed t?\n",
    "sum(statistic['t']<=t)/len(statistic)"
   ]
  }
 ],
 "metadata": {
  "kernelspec": {
   "display_name": "Python 3",
   "language": "python",
   "name": "python3"
  },
  "language_info": {
   "codemirror_mode": {
    "name": "ipython",
    "version": 3
   },
   "file_extension": ".py",
   "mimetype": "text/x-python",
   "name": "python",
   "nbconvert_exporter": "python",
   "pygments_lexer": "ipython3",
   "version": "3.12.10"
  }
 },
 "nbformat": 4,
 "nbformat_minor": 5
}
