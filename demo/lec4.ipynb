{
 "cells": [
  {
   "cell_type": "markdown",
   "id": "b71dd3eb",
   "metadata": {},
   "source": [
    "# while loops"
   ]
  },
  {
   "cell_type": "code",
   "execution_count": null,
   "id": "d5e046dc",
   "metadata": {},
   "outputs": [],
   "source": [
    "# keep rolling a dice until we get a six\n",
    "# note all the indentation\n",
    "import random\n",
    "rolled_a_six_flag = False\n",
    "while rolled_a_six_flag != True:\n",
    "    roll = random.randint(1, 6)\n",
    "    if roll == 6:\n",
    "        rolled_a_six_flag = True\n",
    "    print(f\"Roll: {roll}\")\n",
    "print(\"We did it!\")"
   ]
  },
  {
   "cell_type": "code",
   "execution_count": null,
   "id": "e4f58b22",
   "metadata": {},
   "outputs": [],
   "source": [
    "# keep rolling a dice until we get a six (less code, but maybe more confusing)\n",
    "import random\n",
    "# initialize roll to something that won't make the while conditional true\n",
    "roll = 1 \n",
    "while roll != 6:\n",
    "    roll = random.randint(1, 6)\n",
    "    print(f\"Roll: {roll}\")\n",
    "print(\"We did it!\")"
   ]
  },
  {
   "cell_type": "code",
   "execution_count": null,
   "id": "933f5144",
   "metadata": {},
   "outputs": [],
   "source": [
    "# keep rolling a two dice until you we double sixes\n",
    "import random\n",
    "rolled_double_sixes_flag = False\n",
    "while rolled_double_sixes_flag != True:\n",
    "    roll1 = random.randint(1, 6)\n",
    "    roll2 = random.randint(1, 6)\n",
    "    if roll1 == 6 and roll2 == 6:\n",
    "        rolled_double_sixes_flag = True\n",
    "    print(f\"Rolls: {roll1}, {roll2}\")\n",
    "print(\"Get out of jail free!\")"
   ]
  },
  {
   "cell_type": "markdown",
   "id": "dda73d02",
   "metadata": {},
   "source": [
    "# break"
   ]
  },
  {
   "cell_type": "code",
   "execution_count": 151,
   "id": "2f481f2b",
   "metadata": {},
   "outputs": [
    {
     "name": "stdout",
     "output_type": "stream",
     "text": [
      "Checking 10...\n",
      "Checking 20...\n",
      "Checking 30...\n",
      "Found 30!\n"
     ]
    }
   ],
   "source": [
    "items = [10, 20, 30, 40, 50]\n",
    "target = 30\n",
    "   \n",
    "for item in items:\n",
    "    print(f\"Checking {item}...\")\n",
    "    if item == target:\n",
    "        print(f\"Found {target}!\")\n",
    "        break"
   ]
  },
  {
   "cell_type": "code",
   "execution_count": null,
   "id": "a54b58f5",
   "metadata": {},
   "outputs": [],
   "source": [
    "# keep rolling a dice until you get a six (using break)\n",
    "import random\n",
    "while True:\n",
    "    roll = random.randint(1, 6)\n",
    "    print(f\"Roll: {roll}\")\n",
    "    if roll == 6:\n",
    "        break\n",
    "print(\"We did it!\")"
   ]
  },
  {
   "cell_type": "markdown",
   "id": "9bf6b430",
   "metadata": {},
   "source": [
    "# Importing pandas and reading in a table"
   ]
  },
  {
   "cell_type": "code",
   "execution_count": null,
   "id": "b2462e72-2303-45dd-970a-44d72e88b060",
   "metadata": {},
   "outputs": [],
   "source": [
    "import pandas as pd"
   ]
  },
  {
   "cell_type": "code",
   "execution_count": null,
   "id": "ac87eff8-609b-4f5a-8cff-a5fa9ea309f0",
   "metadata": {},
   "outputs": [],
   "source": [
    "nba_df = pd.read_csv('nba_salaries.csv')\n",
    "nba_df"
   ]
  },
  {
   "cell_type": "code",
   "execution_count": null,
   "id": "6ba16744-3778-4d27-9cf4-bb0887b4e37d",
   "metadata": {},
   "outputs": [],
   "source": [
    "type(nba_df)"
   ]
  },
  {
   "cell_type": "markdown",
   "id": "61cbf337-32fa-4f5b-bcfb-a2b61e1654ac",
   "metadata": {},
   "source": [
    "# First glance - basic info about the table\n"
   ]
  },
  {
   "cell_type": "code",
   "execution_count": null,
   "id": "86f97bd2-e0a8-4b7d-bd73-12cf23d0e91f",
   "metadata": {},
   "outputs": [],
   "source": [
    "nba_df.head(10)"
   ]
  },
  {
   "cell_type": "code",
   "execution_count": null,
   "id": "af7e6efa-3dd5-4f39-b6a9-373ce62dc6ed",
   "metadata": {},
   "outputs": [],
   "source": [
    "nba_df.tail()"
   ]
  },
  {
   "cell_type": "code",
   "execution_count": null,
   "id": "c5c1e64f-3c5b-4b2c-86f6-f82d61b412bd",
   "metadata": {},
   "outputs": [],
   "source": [
    "nba_df.sample(5)"
   ]
  },
  {
   "cell_type": "code",
   "execution_count": null,
   "id": "f66c3cd7-65bf-4f67-abc6-028b5db320ee",
   "metadata": {},
   "outputs": [],
   "source": [
    "nba_df.info()"
   ]
  },
  {
   "cell_type": "code",
   "execution_count": null,
   "id": "c0393a5c-8292-4b20-9b00-c5d1fefaa954",
   "metadata": {},
   "outputs": [],
   "source": [
    "nba_df.shape # number of rows, number of columns"
   ]
  },
  {
   "cell_type": "code",
   "execution_count": null,
   "id": "bcef635b-e04b-4a02-9502-ab9854fe2c6e",
   "metadata": {},
   "outputs": [],
   "source": [
    "nba_df.columns"
   ]
  },
  {
   "cell_type": "code",
   "execution_count": null,
   "id": "1ddf55b8-4dba-42e8-bb79-4830cb35de12",
   "metadata": {},
   "outputs": [],
   "source": [
    "nba_df.index"
   ]
  },
  {
   "cell_type": "code",
   "execution_count": null,
   "id": "4022a89c-fc6d-4233-ba0b-a349bab5d362",
   "metadata": {},
   "outputs": [],
   "source": [
    "nba_df.dtypes # object usually means string"
   ]
  },
  {
   "cell_type": "code",
   "execution_count": null,
   "id": "07cdf340-290f-4d00-8e14-1c4a00e4b844",
   "metadata": {},
   "outputs": [],
   "source": [
    "nba_df.describe() # only works on numerical columns"
   ]
  },
  {
   "cell_type": "markdown",
   "id": "d1d23826-c059-410b-a6b8-8f28fc64c05f",
   "metadata": {},
   "source": [
    "# Selecting columns"
   ]
  },
  {
   "cell_type": "code",
   "execution_count": null,
   "id": "de19f6f0-b086-4b44-8b80-8e06484b1302",
   "metadata": {},
   "outputs": [],
   "source": [
    "nba_df.name"
   ]
  },
  {
   "cell_type": "code",
   "execution_count": null,
   "id": "587d5bd5-b184-4bd7-a713-d67d218b7331",
   "metadata": {},
   "outputs": [],
   "source": [
    "nba_df['name']"
   ]
  },
  {
   "cell_type": "code",
   "execution_count": null,
   "id": "92c63ce3-0919-4ae5-83f0-b691c1b66edf",
   "metadata": {},
   "outputs": [],
   "source": [
    "nba_df.at[3, 'name'] # this is row label or index 3, not 3 from the top"
   ]
  },
  {
   "cell_type": "markdown",
   "id": "8cbefbd6-588d-4b22-9317-b5a9f5dc1c82",
   "metadata": {},
   "source": [
    "# Manipulating columns"
   ]
  },
  {
   "cell_type": "code",
   "execution_count": null,
   "id": "0935c508-0a0e-4619-8f03-dd5bfaba6cd5",
   "metadata": {},
   "outputs": [],
   "source": [
    "nba_df.salary.min(), nba_df.salary.max() # this is an aggregation function - computes a single number from the column"
   ]
  },
  {
   "cell_type": "code",
   "execution_count": null,
   "id": "752dfebe-72c3-4cfa-8d3d-ea47e5dd2df7",
   "metadata": {},
   "outputs": [],
   "source": [
    "nba_df.salary.mean(), nba_df.salary.sum() # this one as well"
   ]
  },
  {
   "cell_type": "code",
   "execution_count": null,
   "id": "2586db8d-49ff-48de-98c6-815a44a43f24",
   "metadata": {},
   "outputs": [],
   "source": [
    "nba_df.salary/1000 # this is a transformation function - you get back a column of the same shape."
   ]
  },
  {
   "cell_type": "code",
   "execution_count": null,
   "id": "1a4e1c2b-2081-4b25-a1d0-7352409d1c1c",
   "metadata": {},
   "outputs": [],
   "source": [
    "nba_df.name + ' (' + nba_df.team + ')'"
   ]
  },
  {
   "cell_type": "code",
   "execution_count": null,
   "id": "7a522468-6167-4a02-8300-13e9783da230",
   "metadata": {},
   "outputs": [],
   "source": [
    "# This will throw an error - why?\n",
    "# nba_df.name + ' (' + nba_df.salary + ')'"
   ]
  },
  {
   "cell_type": "code",
   "execution_count": null,
   "id": "db348c12-5dd2-4ca0-9380-fe5040c297b3",
   "metadata": {},
   "outputs": [],
   "source": [
    "nba_df.name + ' (' + nba_df.salary.astype(str) + ')'"
   ]
  },
  {
   "cell_type": "code",
   "execution_count": null,
   "id": "47d41e22-5393-4754-8d08-5df4c53502b1",
   "metadata": {},
   "outputs": [],
   "source": [
    "nba_df.position.value_counts() # only meaningful if you have not too many options"
   ]
  },
  {
   "cell_type": "markdown",
   "id": "fd67f809-db64-4412-bbbf-657dfc1059c0",
   "metadata": {},
   "source": [
    "Someone asked: Why does this look different? \n",
    "\n",
    "This is a Pandas data type for arrays, which you can think of as a single column or row that's not actually a table."
   ]
  },
  {
   "cell_type": "code",
   "execution_count": null,
   "id": "4dae501f-bf14-46a3-8e9c-ef209ba3b65d",
   "metadata": {},
   "outputs": [],
   "source": [
    "pos_counts = nba_df.position.value_counts()\n",
    "type(pos_counts)"
   ]
  },
  {
   "cell_type": "markdown",
   "id": "3d5dbde9-cf12-4581-880b-c0942bc4b6d5",
   "metadata": {},
   "source": [
    "If we want, we can turn it into a table with one column by running the following code."
   ]
  },
  {
   "cell_type": "code",
   "execution_count": null,
   "id": "36ff011f-d502-4742-843f-6c53e604b4f4",
   "metadata": {},
   "outputs": [],
   "source": [
    "pd.DataFrame(pos_counts)"
   ]
  },
  {
   "cell_type": "markdown",
   "id": "216c8ad9-bef8-4e84-8179-504cd8854adf",
   "metadata": {},
   "source": [
    "# Selecting more than one column and and dropping columns"
   ]
  },
  {
   "cell_type": "code",
   "execution_count": null,
   "id": "ac84bba8-6579-49d8-803e-9bc6ddb2853e",
   "metadata": {},
   "outputs": [],
   "source": [
    "nba_df.filter(['name', 'salary']) # list of column names"
   ]
  },
  {
   "cell_type": "code",
   "execution_count": null,
   "id": "cbbace6e-fb35-46d4-acb8-6f433ed42989",
   "metadata": {},
   "outputs": [],
   "source": [
    "nba_df.drop(columns=['rank']) # columns = list of column names"
   ]
  },
  {
   "cell_type": "markdown",
   "id": "0aafc0d7-2cd1-4dbb-90dd-f6f7bca67cfa",
   "metadata": {},
   "source": [
    "# Adding new columns or rewriting columns"
   ]
  },
  {
   "cell_type": "markdown",
   "id": "782e4c12-4e73-481b-bada-a2588196105b",
   "metadata": {},
   "source": [
    "Nothing we've done so far changed the original table `nba_df`."
   ]
  },
  {
   "cell_type": "code",
   "execution_count": null,
   "id": "4bfb18a0-2fea-47d4-8b3f-feddaee013d1",
   "metadata": {},
   "outputs": [],
   "source": [
    "nba_df['sport'] = 'basketball'\n",
    "nba_df"
   ]
  },
  {
   "cell_type": "code",
   "execution_count": null,
   "id": "33293c8b-43a1-4c3b-bc76-8856e2e07d49",
   "metadata": {},
   "outputs": [],
   "source": [
    "nba_df['salary (in M)'] = nba_df['salary']/1000000\n",
    "nba_df"
   ]
  },
  {
   "cell_type": "code",
   "execution_count": null,
   "id": "d4f00226-59ad-4d55-84be-4fa7cdc4d080",
   "metadata": {},
   "outputs": [],
   "source": [
    "nba_df['salary (in M)'] = nba_df['salary (in M)'].round(2)\n",
    "nba_df"
   ]
  },
  {
   "cell_type": "markdown",
   "id": "82723727-b85e-4a3b-8717-05764c17860d",
   "metadata": {},
   "source": [
    "# Fun string methods again"
   ]
  },
  {
   "cell_type": "code",
   "execution_count": null,
   "id": "db770fa4-9781-4161-82db-129cb28fb1db",
   "metadata": {},
   "outputs": [],
   "source": [
    "nba_df.name.str.lower()"
   ]
  },
  {
   "cell_type": "code",
   "execution_count": null,
   "id": "23c53ff3-cd77-4d7c-b107-0a8f7fb64e7c",
   "metadata": {},
   "outputs": [],
   "source": [
    "nba_df.name.str.split()"
   ]
  },
  {
   "cell_type": "code",
   "execution_count": null,
   "id": "e877d8d3-02a2-4210-bbe3-a120ebf9d987",
   "metadata": {},
   "outputs": [],
   "source": [
    "nba_df.name.str.get(0)"
   ]
  },
  {
   "cell_type": "code",
   "execution_count": null,
   "id": "ade3d60c-f050-409b-9f28-9b0f22dba62f",
   "metadata": {},
   "outputs": [],
   "source": [
    "nba_df.name.str.split().str.get(0) # you can combine them"
   ]
  },
  {
   "cell_type": "markdown",
   "id": "64cfdcdf-cd5b-4aa8-8c6b-b70b7665d4f4",
   "metadata": {},
   "source": [
    "# Example questions\n",
    "\n",
    "1. How would you replace every team name with just the team without the city, for example ‘Los Angeles Lakers’ -> ‘Lakers’?\n",
    "2. How would you get the number of times each team appears in this table, for example: Charlotte Hornets appears 150 times and Houston Rockets  appears 299 times."
   ]
  },
  {
   "cell_type": "code",
   "execution_count": null,
   "id": "173d3d1c-48e5-40c0-ad6a-d1126e0133ab",
   "metadata": {},
   "outputs": [],
   "source": [
    "# Example Question #1 answer\n",
    "nba_df.team.str.split().str.get(-1)\n",
    "nba_df\n",
    "# The line below would do the replacement, which would change the original table\n",
    "# nba_df.team = nba_df.team.str.split().str.get(-1)\n"
   ]
  },
  {
   "cell_type": "code",
   "execution_count": null,
   "id": "cde0dc42-db0c-40b7-a0cd-106035740afd",
   "metadata": {},
   "outputs": [],
   "source": [
    "# Example Question #2 answer\n",
    "nba_df.team.value_counts()\n"
   ]
  }
 ],
 "metadata": {
  "kernelspec": {
   "display_name": "Python 3",
   "language": "python",
   "name": "python3"
  },
  "language_info": {
   "codemirror_mode": {
    "name": "ipython",
    "version": 3
   },
   "file_extension": ".py",
   "mimetype": "text/x-python",
   "name": "python",
   "nbconvert_exporter": "python",
   "pygments_lexer": "ipython3",
   "version": "3.12.10"
  }
 },
 "nbformat": 4,
 "nbformat_minor": 5
}
