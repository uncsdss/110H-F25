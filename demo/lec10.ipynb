{
 "cells": [
  {
   "cell_type": "code",
   "execution_count": null,
   "id": "9b481d4e-4ccd-4bb2-8ace-2250129518a3",
   "metadata": {},
   "outputs": [],
   "source": [
    "import seaborn as sns\n",
    "import pandas as pd"
   ]
  },
  {
   "cell_type": "markdown",
   "id": "141aba0e-d5a8-4609-a579-c89f08144a2e",
   "metadata": {},
   "source": [
    "# Scatterplot"
   ]
  },
  {
   "cell_type": "code",
   "execution_count": null,
   "id": "8fe1f83c-a362-4563-a6c4-c8d683f49d41",
   "metadata": {},
   "outputs": [],
   "source": [
    "penguins = pd.read_csv('palmer_penguins.csv')"
   ]
  },
  {
   "cell_type": "code",
   "execution_count": null,
   "id": "9201cb65-8161-44d7-a6d5-7c2fc3e4c61f",
   "metadata": {},
   "outputs": [],
   "source": [
    "penguins.head(3)"
   ]
  },
  {
   "cell_type": "code",
   "execution_count": null,
   "id": "785abb32-3275-4265-ba38-10765aafa477",
   "metadata": {},
   "outputs": [],
   "source": [
    "penguins['Species'] = penguins['Species'].str.split().str.get(0)\n",
    "# Split by spaces then take the first item\n",
    "\n",
    "penguins.head(3)"
   ]
  },
  {
   "cell_type": "code",
   "execution_count": null,
   "id": "6261bbfa-ebf1-4482-ac6f-d8d909e5b824",
   "metadata": {},
   "outputs": [],
   "source": [
    "sns.scatterplot(data=penguins, \n",
    "                x='Culmen Length (mm)', \n",
    "                y='Culmen Depth (mm)')"
   ]
  },
  {
   "cell_type": "code",
   "execution_count": null,
   "id": "c1248a1b-bcf5-438d-bc55-c53773686bad",
   "metadata": {},
   "outputs": [],
   "source": [
    "sns.scatterplot(data=penguins, \n",
    "                x='Culmen Length (mm)', \n",
    "                y='Culmen Depth (mm)', \n",
    "                hue='Flipper Length (mm)')"
   ]
  },
  {
   "cell_type": "code",
   "execution_count": null,
   "id": "17bd6902-6193-4979-b3ee-7476b9077b1f",
   "metadata": {},
   "outputs": [],
   "source": [
    "sns.scatterplot(data=penguins, \n",
    "                x='Culmen Length (mm)', \n",
    "                y='Culmen Depth (mm)', \n",
    "                hue='Species')"
   ]
  },
  {
   "cell_type": "code",
   "execution_count": null,
   "id": "572d45a9-3145-4de7-9b49-2e29fbe475d0",
   "metadata": {},
   "outputs": [],
   "source": [
    "sns.scatterplot(data=penguins, \n",
    "                x='Culmen Length (mm)', \n",
    "                y='Culmen Depth (mm)', \n",
    "                hue='Species', \n",
    "                size='Body Mass (g)')"
   ]
  },
  {
   "cell_type": "code",
   "execution_count": null,
   "id": "68feb4bb-7482-446d-9741-01f6f72f6a4a",
   "metadata": {},
   "outputs": [],
   "source": [
    "sns.scatterplot(data=penguins, \n",
    "                x='Culmen Length (mm)', \n",
    "                y='Culmen Depth (mm)', \n",
    "                hue='Flipper Length (mm)', \n",
    "                style='Sex')"
   ]
  },
  {
   "cell_type": "code",
   "execution_count": null,
   "id": "204d324a-1772-481b-a419-74933e0f371d",
   "metadata": {},
   "outputs": [],
   "source": [
    "sns.relplot(\n",
    "    data=penguins, \n",
    "    x='Culmen Length (mm)', \n",
    "    y='Culmen Depth (mm)',\n",
    "    col=\"Sex\", row='Species', \n",
    "    hue='Flipper Length (mm)',\n",
    "    kind=\"scatter\"\n",
    ")\n"
   ]
  },
  {
   "cell_type": "code",
   "execution_count": null,
   "id": "899d0f69-ba98-4431-bc64-05aea727dc45",
   "metadata": {},
   "outputs": [],
   "source": [
    "penguins_FM = penguins[penguins.Sex != '.']"
   ]
  },
  {
   "cell_type": "code",
   "execution_count": null,
   "id": "747340a2-99cb-4ae3-93f5-ae1c92aaaf8d",
   "metadata": {},
   "outputs": [],
   "source": [
    "sns.relplot(\n",
    "    data=penguins_FM, \n",
    "    x='Culmen Length (mm)', \n",
    "    y='Culmen Depth (mm)',\n",
    "    col=\"Sex\", row='Species', \n",
    "    hue='Flipper Length (mm)',\n",
    "    kind=\"scatter\"\n",
    ")"
   ]
  },
  {
   "cell_type": "markdown",
   "id": "ae62cc4e-5794-46e6-b41b-0bc3676de928",
   "metadata": {},
   "source": [
    "# Histplot"
   ]
  },
  {
   "cell_type": "code",
   "execution_count": null,
   "id": "3cdf0856-1b21-4e1d-bb42-f4ad209dc158",
   "metadata": {},
   "outputs": [],
   "source": [
    "sns.histplot(data=penguins, \n",
    "             x = 'Culmen Length (mm)', \n",
    "             hue='Species', \n",
    "             stat='density')"
   ]
  },
  {
   "cell_type": "markdown",
   "id": "71453707-0aaf-4144-879b-7063204ba890",
   "metadata": {},
   "source": [
    "# Lineplot"
   ]
  },
  {
   "cell_type": "code",
   "execution_count": null,
   "id": "f2e56f82-161d-42c4-8888-e16cbf57857e",
   "metadata": {},
   "outputs": [],
   "source": [
    "gme = pd.read_csv('gamestop.csv', index_col=\"Date\", parse_dates=True)\n",
    "\n",
    "gme['Year'] = gme.index.year\n",
    "gme['Month'] = gme.index.month\n",
    "gme['Day'] = gme.index.day\n",
    "\n",
    "gme.head(2)"
   ]
  },
  {
   "cell_type": "code",
   "execution_count": null,
   "id": "bf0b44da-7635-41e2-8f77-7b31c954d684",
   "metadata": {},
   "outputs": [],
   "source": [
    "roi = (2019 <= gme.Year)\n",
    "sub_gme = gme[roi]\n",
    "sub_gme.head(2)"
   ]
  },
  {
   "cell_type": "code",
   "execution_count": null,
   "id": "4e322aee-16d7-4125-8fc0-1cc4091a608a",
   "metadata": {},
   "outputs": [],
   "source": [
    "sns.lineplot(data=sub_gme.filter(['High', 'Low']))"
   ]
  },
  {
   "cell_type": "markdown",
   "id": "e780099f-68ee-4d7b-a595-a369f20b584f",
   "metadata": {},
   "source": [
    "# Barplot"
   ]
  },
  {
   "cell_type": "code",
   "execution_count": null,
   "id": "3c9035c0-c320-422d-b45d-1b3992c21aa9",
   "metadata": {},
   "outputs": [],
   "source": [
    "sns.barplot(data=penguins, y = 'Culmen Length (mm)', x = 'Species', hue='Island')"
   ]
  },
  {
   "cell_type": "code",
   "execution_count": null,
   "id": "c098258b-ea2f-494a-bc15-065c5d59eceb",
   "metadata": {},
   "outputs": [],
   "source": []
  }
 ],
 "metadata": {
  "kernelspec": {
   "display_name": "Python 3",
   "language": "python",
   "name": "python3"
  },
  "language_info": {
   "codemirror_mode": {
    "name": "ipython",
    "version": 3
   },
   "file_extension": ".py",
   "mimetype": "text/x-python",
   "name": "python",
   "nbconvert_exporter": "python",
   "pygments_lexer": "ipython3",
   "version": "3.12.10"
  }
 },
 "nbformat": 4,
 "nbformat_minor": 5
}
