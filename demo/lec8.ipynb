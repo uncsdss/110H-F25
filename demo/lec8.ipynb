{
 "cells": [
  {
   "cell_type": "code",
   "execution_count": null,
   "id": "9b481d4e-4ccd-4bb2-8ace-2250129518a3",
   "metadata": {},
   "outputs": [],
   "source": [
    "import seaborn as sns\n",
    "import pandas as pd"
   ]
  },
  {
   "cell_type": "code",
   "execution_count": null,
   "id": "d730c841-c821-4dff-bb86-ebae66649d7e",
   "metadata": {},
   "outputs": [],
   "source": [
    "movies = pd.read_csv('top_movies_2017.csv')\n",
    "movies"
   ]
  },
  {
   "cell_type": "code",
   "execution_count": null,
   "id": "f9796e99",
   "metadata": {},
   "outputs": [],
   "source": [
    "movies['Age'] = 2025 - movies['Year']\n",
    "movies"
   ]
  },
  {
   "cell_type": "markdown",
   "id": "627f4379-5a6c-40ce-8f72-550ebfc4d963",
   "metadata": {},
   "source": [
    "# Bar plot\n",
    "\n",
    "## If you already have the numerical attribute as a column"
   ]
  },
  {
   "cell_type": "code",
   "execution_count": null,
   "id": "a559b240-ab8b-4d22-9851-dcf8345feba8",
   "metadata": {},
   "outputs": [],
   "source": [
    "sns.barplot(data=movies, \n",
    "            x='Title', \n",
    "            y='Age')\n",
    "\n",
    "# what's wrong with this??"
   ]
  },
  {
   "cell_type": "code",
   "execution_count": null,
   "id": "5efc6a67-2a78-4bc0-890f-4e83ea9285ec",
   "metadata": {},
   "outputs": [],
   "source": [
    "ten_movies = movies.head(10)\n",
    "\n",
    "sns.barplot(data=ten_movies, \n",
    "            y='Title', \n",
    "            x='Age')"
   ]
  },
  {
   "cell_type": "code",
   "execution_count": null,
   "id": "0557b976-0a01-46be-9d67-0c550c69c01c",
   "metadata": {},
   "outputs": [],
   "source": [
    "# more thought into picking which 10 movies to show\n",
    "\n",
    "ten_oldest_movies = movies.sort_values('Age', ascending=False).head(10)\n",
    "\n",
    "sns.barplot(data=ten_oldest_movies, \n",
    "            y='Title', \n",
    "            x='Age',\n",
    "           color='tab:blue') # you can do this if you don't like rainbows \n",
    "\n",
    "# https://matplotlib.org/stable/gallery/color/named_colors.html#base-colors"
   ]
  },
  {
   "cell_type": "markdown",
   "id": "64eb4500-62d1-465a-bec8-21c7cefeac70",
   "metadata": {},
   "source": [
    "## Age of top 10 grossing movies"
   ]
  },
  {
   "cell_type": "code",
   "execution_count": null,
   "id": "f2b0cc6d",
   "metadata": {},
   "outputs": [],
   "source": [
    "movies.sort_values('Gross').head(10)"
   ]
  },
  {
   "cell_type": "code",
   "execution_count": null,
   "id": "10b47bda",
   "metadata": {},
   "outputs": [],
   "source": [
    "highest_grossing_movies = movies.sort_values('Gross',ascending=False)\n",
    "highest_grossing_movies.head(10)"
   ]
  },
  {
   "cell_type": "code",
   "execution_count": null,
   "id": "e2ecead7-9264-41d1-897d-004c60554578",
   "metadata": {},
   "outputs": [],
   "source": [
    "sns.barplot(data=highest_grossing_movies.head(10), \n",
    "            x='Age', \n",
    "            y='Title')"
   ]
  },
  {
   "cell_type": "markdown",
   "id": "728c66da-14ea-4931-bab7-06ad2d6c584a",
   "metadata": {},
   "source": [
    "## Categorical distribution\n",
    "\n",
    "Barplot of counts (that you haven't counted yet) -> just use countplot from the start"
   ]
  },
  {
   "cell_type": "code",
   "execution_count": null,
   "id": "c04db852-130e-4eba-a767-dba736aa8013",
   "metadata": {},
   "outputs": [],
   "source": [
    "sns.countplot(data=movies, \n",
    "              y='Studio')"
   ]
  },
  {
   "cell_type": "code",
   "execution_count": null,
   "id": "f2682aec-aab7-4f83-ab75-92ed760003db",
   "metadata": {},
   "outputs": [],
   "source": [
    "movies.Studio.value_counts()"
   ]
  },
  {
   "cell_type": "code",
   "execution_count": null,
   "id": "2bf0ed28-5b56-478b-a3d1-972d559e6006",
   "metadata": {},
   "outputs": [],
   "source": [
    "# you can order the bars by frequency using the result of value_counts()\n",
    "sns.countplot(data=movies, \n",
    "              y='Studio', \n",
    "              order=movies.Studio.value_counts().index)"
   ]
  },
  {
   "cell_type": "code",
   "execution_count": null,
   "id": "53b16d87-7637-4338-920d-27b125d28e6b",
   "metadata": {},
   "outputs": [],
   "source": [
    "# you can specify colors too\n",
    "# https://matplotlib.org/stable/users/explain/colors/colors.html\n",
    "sns.countplot(data=movies, \n",
    "              y='Studio', \n",
    "              order=movies.Studio.value_counts(ascending=True).index,\n",
    "             color='tab:red')\n"
   ]
  },
  {
   "cell_type": "markdown",
   "id": "903fb01b-9f68-48e9-951b-7f86b5088f6d",
   "metadata": {},
   "source": [
    "# Numerical distribution\n",
    "\n",
    "Use histplot"
   ]
  },
  {
   "cell_type": "code",
   "execution_count": null,
   "id": "89f46fa3",
   "metadata": {},
   "outputs": [],
   "source": [
    "sns.histplot(data=movies, x='Age')"
   ]
  },
  {
   "cell_type": "code",
   "execution_count": null,
   "id": "f555fb28",
   "metadata": {},
   "outputs": [],
   "source": [
    "movies['Age'].describe()\n"
   ]
  },
  {
   "cell_type": "code",
   "execution_count": null,
   "id": "426a6486",
   "metadata": {},
   "outputs": [],
   "source": [
    "sns.histplot(data=movies, x='Age', bins = range(0,110,10)) # range goes up to but not including!"
   ]
  },
  {
   "cell_type": "code",
   "execution_count": null,
   "id": "acfcb690-74d9-4206-b284-82d5196f778c",
   "metadata": {},
   "outputs": [],
   "source": [
    "sns.histplot(data=movies, x='Age', bins = range(0,111,10))"
   ]
  },
  {
   "cell_type": "code",
   "execution_count": null,
   "id": "d65fe77e",
   "metadata": {},
   "outputs": [],
   "source": [
    "my_bins = [0, 5, 10, 15, 25, 40, 65, 104] # bins also go up to but not including!\n",
    "sns.histplot(data=movies, x='Age', bins = my_bins)"
   ]
  },
  {
   "cell_type": "code",
   "execution_count": null,
   "id": "1b4a2db3",
   "metadata": {},
   "outputs": [],
   "source": [
    "sns.histplot(data=movies, x='Age',stat='percent',bins=my_bins)"
   ]
  },
  {
   "cell_type": "code",
   "execution_count": null,
   "id": "6d1e1b75",
   "metadata": {},
   "outputs": [],
   "source": [
    "sns.histplot(data=movies, x='Age',stat='density',bins=my_bins)"
   ]
  },
  {
   "cell_type": "code",
   "execution_count": null,
   "id": "871858bd",
   "metadata": {},
   "outputs": [],
   "source": [
    "incomes = pd.read_csv('2022_female_actors.csv')\n",
    "incomes.head()"
   ]
  },
  {
   "cell_type": "code",
   "execution_count": null,
   "id": "5f1daa21",
   "metadata": {},
   "outputs": [],
   "source": [
    "incomes.describe()"
   ]
  },
  {
   "cell_type": "code",
   "execution_count": null,
   "id": "87663cf9",
   "metadata": {},
   "outputs": [],
   "source": [
    "sns.histplot( incomes, bins=10)"
   ]
  },
  {
   "cell_type": "code",
   "execution_count": null,
   "id": "18f992d7",
   "metadata": {},
   "outputs": [],
   "source": [
    "sns.histplot( incomes, bins=range(0,61,6)) # very different than above!"
   ]
  },
  {
   "cell_type": "code",
   "execution_count": null,
   "id": "2b979386",
   "metadata": {},
   "outputs": [],
   "source": [
    "my_bins = [0, 25, 30, 60]\n",
    "sns.histplot( incomes, bins=my_bins)"
   ]
  },
  {
   "cell_type": "code",
   "execution_count": null,
   "id": "87ed6312",
   "metadata": {},
   "outputs": [],
   "source": [
    "sns.histplot( incomes, bins=my_bins, stat='density')"
   ]
  },
  {
   "cell_type": "markdown",
   "id": "0afa9314-b8b3-41d1-b03b-6c1896c43049",
   "metadata": {},
   "source": [
    "# More examples"
   ]
  },
  {
   "cell_type": "code",
   "execution_count": null,
   "id": "2a804e58",
   "metadata": {},
   "outputs": [],
   "source": [
    "lec1_poll=pd.DataFrame(data=['It will look good on my resume',\n",
    "                             \"I heard the teacher's dog is cute\",\n",
    "                             'It will look good on my resume',\n",
    "                             'I need some credits',\n",
    "                             'To learn about Data Science',\n",
    "                             'I need some credits',\n",
    "                             'I heard the teacher is great',\n",
    "                             \"I heard the teacher's dog is cute\",\n",
    "                             \"I heard the teacher's dog is cute\",\n",
    "                             'It will look good on my resume',\n",
    "                             'To learn about Data Science'], columns=['Response'])\n",
    "lec1_poll"
   ]
  },
  {
   "cell_type": "code",
   "execution_count": null,
   "id": "5b497507",
   "metadata": {},
   "outputs": [],
   "source": [
    "sns.barplot(data=lec1_poll.value_counts('Response'),orient='h')"
   ]
  },
  {
   "cell_type": "code",
   "execution_count": null,
   "id": "b4fca856",
   "metadata": {},
   "outputs": [],
   "source": [
    "sns.barplot(data=lec1_poll.value_counts('Response',normalize=True),orient='h')"
   ]
  }
 ],
 "metadata": {
  "kernelspec": {
   "display_name": "Python 3",
   "language": "python",
   "name": "python3"
  },
  "language_info": {
   "codemirror_mode": {
    "name": "ipython",
    "version": 3
   },
   "file_extension": ".py",
   "mimetype": "text/x-python",
   "name": "python",
   "nbconvert_exporter": "python",
   "pygments_lexer": "ipython3",
   "version": "3.12.10"
  }
 },
 "nbformat": 4,
 "nbformat_minor": 5
}
