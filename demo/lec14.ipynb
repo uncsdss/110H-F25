{
 "cells": [
  {
   "cell_type": "code",
   "execution_count": null,
   "id": "cf55d4e4-a6fc-49d2-9b4e-fa435bd69ae3",
   "metadata": {},
   "outputs": [],
   "source": [
    "import random \n",
    "import pandas as pd\n",
    "import seaborn as sns\n",
    "import matplotlib.pyplot as plt"
   ]
  },
  {
   "cell_type": "code",
   "execution_count": null,
   "id": "0569d6ac-5f72-49a6-aca5-f1cb60c2fa68",
   "metadata": {},
   "outputs": [],
   "source": [
    "# coin toss\n",
    "random.choice(['H', 'T'])"
   ]
  },
  {
   "cell_type": "code",
   "execution_count": null,
   "id": "26ee9963-9577-48f0-a431-b99703b1ec11",
   "metadata": {},
   "outputs": [],
   "source": [
    "# die roll\n",
    "random.choice([1, 2, 3, 4, 5, 6]) "
   ]
  },
  {
   "cell_type": "code",
   "execution_count": null,
   "id": "9fcf5775-cee9-4aef-830a-5ca8de78dd94",
   "metadata": {},
   "outputs": [],
   "source": [
    "# bus is late anywhere from 0 to 10 minutes, uniform distribution\n",
    "random.uniform(0, 10) \n",
    "\n",
    "# how is this different from random.choice([1, 2, 3, 4, 5, 6, 7, 8, 9, 10])?"
   ]
  },
  {
   "cell_type": "markdown",
   "id": "c7f04f7a-db19-4ee7-9834-b67df99b862e",
   "metadata": {},
   "source": [
    "# Sampling from probability distribution\n",
    "\n",
    "What happens when you change the number of experiments (i.e. coin flip, die roll, bus arrival time measurement) from 20 to 100? 1000? 5?"
   ]
  },
  {
   "cell_type": "code",
   "execution_count": null,
   "id": "0bd448f4-0d2f-4dd7-b4b1-157d084b86a5",
   "metadata": {},
   "outputs": [],
   "source": [
    "flips = random.choices(['H', 'T'], k=20)\n",
    "sns.histplot(flips, stat='density') # This is empirical distribution of simulated data"
   ]
  },
  {
   "cell_type": "code",
   "execution_count": null,
   "id": "02c0f33f-756b-4e85-9806-622f0b7e4517",
   "metadata": {},
   "outputs": [],
   "source": [
    "rolls = random.choices([1, 2, 3, 4, 5, 6], k=20)\n",
    "sns.histplot(rolls, stat='density', bins=range(1,7))"
   ]
  },
  {
   "cell_type": "markdown",
   "id": "3c6c31ea-769c-4336-8b3c-2fd0feaa8015",
   "metadata": {},
   "source": [
    "# Law of large numbers\n",
    "\n",
    "Sample mean approaches population mean"
   ]
  },
  {
   "cell_type": "code",
   "execution_count": null,
   "id": "95b938a0-902d-479a-9f7e-9ed494e85cde",
   "metadata": {},
   "outputs": [],
   "source": [
    "# expected value is 1/2 (\n",
    "\n",
    "flips = random.choices([1, 0], k=20)\n",
    "sum(flips)/len(flips) # calculate sample mean"
   ]
  },
  {
   "cell_type": "code",
   "execution_count": null,
   "id": "d596df24-bea3-4401-a3fe-2781821b7e26",
   "metadata": {},
   "outputs": [],
   "source": [
    "ks = range(1, 5001) \n",
    "# Number of samples drawn from uniform distribution, try 1 to 1000\n",
    "\n",
    "all_means = []\n",
    "\n",
    "for k in ks:\n",
    "    flips = random.choices([1, 0], k=k)\n",
    "    m = sum(flips)/len(flips) # calculate sample mean\n",
    "    all_means.append(m) # save sample mean\n",
    "\n",
    "fig, ax = plt.subplots(1)\n",
    "sns.scatterplot(x=ks, y=all_means, label='sample mean')\n",
    "ax.set_xlabel('Number of samples')\n",
    "ax.set_ylabel('Mean of observed data')\n",
    "ax.axhline(0.5, color='k', label='expected value')\n",
    "ax.legend()"
   ]
  },
  {
   "cell_type": "code",
   "execution_count": null,
   "id": "8bbace68-e6b1-4b42-9e7a-85a1511f709b",
   "metadata": {},
   "outputs": [],
   "source": [
    "# expected value is 3.5\n",
    "\n",
    "rolls = random.choices([1, 2, 3, 4, 5, 6], k=20)\n",
    "sum(rolls)/len(rolls) # calculate sample mean"
   ]
  },
  {
   "cell_type": "code",
   "execution_count": null,
   "id": "d568ce6f-1274-42a4-8e66-74817c54c927",
   "metadata": {},
   "outputs": [],
   "source": [
    "ks = range(1, 5001) \n",
    "# Number of samples drawn from uniform distribution, try 1 to 1000\n",
    "\n",
    "all_means = []\n",
    "\n",
    "for k in ks:\n",
    "    rolls = random.choices([1, 2, 3, 4, 5, 6], k=k)\n",
    "    m = sum(rolls)/len(rolls) # calculate sample mean\n",
    "    all_means.append(m) # save sample mean\n",
    "\n",
    "fig, ax = plt.subplots(1)\n",
    "sns.scatterplot(x=ks, y=all_means, label='sample mean')\n",
    "ax.set_xlabel('Number of samples')\n",
    "ax.set_ylabel('Mean of observed data')\n",
    "ax.axhline(3.5, color='k', label='expected value')\n",
    "ax.legend()"
   ]
  },
  {
   "cell_type": "markdown",
   "id": "6b597d76-09fb-46f8-8fbc-3c9a3a3c606e",
   "metadata": {},
   "source": [
    "# Central Limit Theorem\n",
    "\n",
    "Distribution of sample means approaches normal distribution.\n",
    "\n",
    "Try the different values for `num_rolls_per_expt` and `num_buses_per_expt`. Do you notice anything change in the mean and std of sample means? In the shape?"
   ]
  },
  {
   "cell_type": "code",
   "execution_count": null,
   "id": "4003ec5c-22a4-4863-b3cf-8bea01bcce64",
   "metadata": {},
   "outputs": [],
   "source": [
    "num_experiment = 1000 # number of times you repeat the experiment\n",
    "\n",
    "num_rolls_per_expt = 80 # number of samples you draw from uniform distribution\n",
    "#num_rolls_per_expt = 20\n",
    "#num_rolls_per_expt = 80\n",
    "#num_rolls_per_expt = 320\n",
    "\n",
    "all_means = []\n",
    "\n",
    "\n",
    "for roll in range(num_experiment): \n",
    "    rolls = random.choices([1, 2, 3, 4, 5, 6], k=num_rolls_per_expt) \n",
    "    m = sum(rolls)/len(rolls) # calulate sample mean\n",
    "    all_means.append(m)\n",
    "\n",
    "fig, ax = plt.subplots(1)\n",
    "sns.histplot(all_means, label='sample means', stat='density')\n",
    "ax.set_xlabel('Sample mean of die roll')\n",
    "ax.axvline(3.5, label='expected value', color='k', linestyle='-.')\n",
    "ax.legend()\n",
    "\n",
    "print('num_experiment:', num_experiment)\n",
    "print('num_rolls_per_expt:', num_rolls_per_expt)\n",
    "print('mean of sample means:', pd.DataFrame(all_means).mean()[0])\n",
    "print('standard deviation of sample means:', pd.DataFrame(all_means).std()[0])"
   ]
  },
  {
   "cell_type": "code",
   "execution_count": null,
   "id": "81746083-f108-49ec-919e-91cc61d7d567",
   "metadata": {},
   "outputs": [],
   "source": [
    "num_experiment = 1000  # number of times you repeat the experiment\n",
    "\n",
    "num_flips_per_expt = 30 # number of samples you draw from uniform distribution\n",
    "#num_buses_per_expt = 20\n",
    "#num_buses_per_expt = 80\n",
    "#num_buses_per_expt = 320\n",
    "\n",
    "all_means = []\n",
    "\n",
    "for measurement in range(num_experiment):\n",
    "    flip = random.choices([1, 0], k=num_flips_per_expt) \n",
    "    m = sum(flip)/len(flip) # calulate sample mean\n",
    "    all_means.append(m)\n",
    "\n",
    "fig, ax = plt.subplots(1)\n",
    "sns.histplot(all_means, label='sample means', stat='density')\n",
    "ax.set_xlabel('Sample mean of bus arrival times')\n",
    "ax.legend()\n",
    "\n",
    "print('num_experiment:', num_experiment)\n",
    "print('num_flips_per_expt:', num_flips_per_expt)\n",
    "print('mean of sample means:', pd.DataFrame(all_means).mean()[0])\n",
    "print('standard deviation of sample means:', pd.DataFrame(all_means).std()[0])"
   ]
  }
 ],
 "metadata": {
  "kernelspec": {
   "display_name": "Python 3",
   "language": "python",
   "name": "python3"
  },
  "language_info": {
   "codemirror_mode": {
    "name": "ipython",
    "version": 3
   },
   "file_extension": ".py",
   "mimetype": "text/x-python",
   "name": "python",
   "nbconvert_exporter": "python",
   "pygments_lexer": "ipython3",
   "version": "3.12.10"
  }
 },
 "nbformat": 4,
 "nbformat_minor": 5
}
