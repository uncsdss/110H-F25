{
 "cells": [
  {
   "cell_type": "code",
   "execution_count": null,
   "id": "f4dac783",
   "metadata": {
    "deletable": false,
    "editable": false
   },
   "outputs": [],
   "source": [
    "# Initialize Otter\n",
    "import otter\n",
    "grader = otter.Notebook(\"hw0.ipynb\")"
   ]
  },
  {
   "cell_type": "markdown",
   "id": "077d9ac9",
   "metadata": {},
   "source": [
    "## <u>Name:</u> [Your name] and (your onyen)\n",
    "\n",
    "I encourage discussing ideas and brainstorming with your peers, but the final text, code, and comments in this homework assignment MUST be 100% written by you as mentioned in syllabus.\n",
    "\n"
   ]
  },
  {
   "cell_type": "markdown",
   "id": "2232705c-dbb6-4465-957f-478562c4577b",
   "metadata": {},
   "source": [
    "# Homework 0: Introduction to Data Science (37 points)\n",
    "\n",
    "Please complete this notebook by filling in the cells provided. Be sure to run the cell above that loads the autograder, and be sure to save your notebook before generating your submission by running the last cell.\n",
    "\n",
    "!! Please submit a PDF of your notebook and upload it to Gradescope along with the generated zip file.  If no PDF submitted, **points will be deducted**.  You can make a PDF from JupyterHub by 1. File->Print or 2. Command+P (on Mac), then choose 'Save to PDF'. This saves the file on your laptop.  You can then drag and drop the zip & pdf file together to the upload box on Gradescope.\n",
    "\n",
    "!! Points will also be **deducted** if you do not include your name and Onyen in the Markdown cell above!\n",
    "\n",
    "Note that you are not expected to understand all the Python code in this homework; you will mostly be executing code and analyzing the output, but you will not be writing extensive amounts of code.\n",
    "\n",
    "Also, note that this homework touches on many of the topics we will be covering in more depth during the course, so you are not expected to fully understand the concepts yet, but answer every question to the best of your ability.  Also, several of the questions do not have a single correct answer, so apply critical thinking when answering the questions.  We will discuss the homework problems and answers in class later."
   ]
  },
  {
   "cell_type": "markdown",
   "id": "f896e7b2-c8d3-4adf-9343-d042d0c4342a",
   "metadata": {},
   "source": [
    "**Deadline:**\n",
    "\n",
    "This assignment is **due Tuesday, 8/26 by 8:00am ET**.\n",
    "\n",
    "You should start early so that you have time to get help if you're stuck. Office hours are held Monday-Friday. The schedule is posted in Canvas.\n",
    "\n",
    "**Note: The tests included in this homework are meant to help with learning, but are not thorough grading tests.  That means even though tests may say 100% passed, it doesn't mean your final grade will be 100%. We will be grading the homework manually.**\n",
    "\n"
   ]
  },
  {
   "cell_type": "markdown",
   "id": "72ff7f9e",
   "metadata": {},
   "source": [
    "## 1. Data Visualization (7 points)\n",
    "Data visualization is one of the most important subjects you will learn about in **DATA110**.  It is a great way to gain some intuition about the nature of the data; also, people are often good at discerning visual patterns.  Some questions related to data visualization are: Who is the visualization for?  What types of visualization are best for the given data?  Is there a subset of the data that might be particularly interesting to visualize?"
   ]
  },
  {
   "cell_type": "markdown",
   "id": "b595c2d7",
   "metadata": {},
   "source": [
    "Different types of visualization are useful for different purposes.  Some data visualization types we will be learning include scatter plots, bar plots, box plots, and histograms."
   ]
  },
  {
   "cell_type": "markdown",
   "id": "6710d73e",
   "metadata": {},
   "source": [
    "**Problem 1.1 (1 point).**  Run the code below and observe the plot that is generated. "
   ]
  },
  {
   "cell_type": "code",
   "execution_count": null,
   "id": "e1f53f83",
   "metadata": {},
   "outputs": [],
   "source": [
    "# Just run this cell!\n",
    "import pandas as pd\n",
    "import seaborn as sns\n",
    "import matplotlib.pyplot as plt\n",
    "# load data file\n",
    "state_data = pd.read_csv('us-state-populations.csv')\n",
    "plt.xticks(rotation=-90, fontsize = 8)\n",
    "sns.barplot(x=state_data['state'],y=state_data['pop_2017'])"
   ]
  },
  {
   "cell_type": "markdown",
   "id": "cefddca3",
   "metadata": {},
   "source": [
    "Which of the following visualization types does the plot above most resemble?\\\n",
    " ![](visualizations.jpg)"
   ]
  },
  {
   "cell_type": "markdown",
   "id": "e84ead29",
   "metadata": {},
   "source": [
    "_Double-click or press Enter to edit this cell.  Type the letter of the answer here, replacing this text._"
   ]
  },
  {
   "cell_type": "markdown",
   "id": "a74c5e82",
   "metadata": {},
   "source": [
    "**Problem 1.2 (2 points).**  Run the code below and observe the plot."
   ]
  },
  {
   "cell_type": "code",
   "execution_count": null,
   "id": "d74883fe",
   "metadata": {},
   "outputs": [],
   "source": [
    "fig,ax = plt.subplots(1, figsize=(5,8))\n",
    "plt.xticks(fontsize = 8)\n",
    "sns.barplot(y=state_data['state'],x=100*state_data['pop_2017']/state_data['pop_2017'].sum())\n",
    "ax.set_xlabel('Percent of U.S. population')"
   ]
  },
  {
   "cell_type": "markdown",
   "id": "0dc48eb1",
   "metadata": {},
   "source": [
    "This bar plot should look similar to the previous, but in what ways is this plot different?"
   ]
  },
  {
   "cell_type": "markdown",
   "id": "87bd470a",
   "metadata": {},
   "source": [
    "_Type your answer here, replacing this text._"
   ]
  },
  {
   "cell_type": "markdown",
   "id": "141f0b77",
   "metadata": {},
   "source": [
    "**Problem 1.3 (2 points).**  Run the code below and observe the plot."
   ]
  },
  {
   "cell_type": "code",
   "execution_count": null,
   "id": "fd53243a",
   "metadata": {},
   "outputs": [],
   "source": [
    "sns.histplot(state_data['pop_2017'],binwidth=2500000,binrange=(0,40000000))"
   ]
  },
  {
   "cell_type": "markdown",
   "id": "01fd5df5",
   "metadata": {},
   "source": [
    "The plot above uses the same data, but looks very different.  This type of plot is called a *histogram*.  Given what you saw in the first plot, what do you think the \"Count\" label on the y-axis is referring to in this plot? "
   ]
  },
  {
   "cell_type": "markdown",
   "id": "05f6d8b9",
   "metadata": {},
   "source": [
    "_Type your answer here, replacing this text._"
   ]
  },
  {
   "cell_type": "markdown",
   "id": "55be48a0",
   "metadata": {},
   "source": [
    "**Problem 1.4 (2 points).**  If you were asked how many states have a population between 2.5 and 5 million, which type of plot (bar plot or histogram) would be more useful and why?  What would be the answer?"
   ]
  },
  {
   "cell_type": "markdown",
   "id": "6e5b2fad",
   "metadata": {},
   "source": [
    "_Type your answer here, replacing this text._"
   ]
  },
  {
   "cell_type": "markdown",
   "id": "65cfea73",
   "metadata": {},
   "source": [
    "## 2. Statistics (6 points)\n",
    "**Statistics** is the branch of mathematics related to collecting, analyzing, and interpreting data.  Data science depends heavily upon statistics.  In future homeworks you will be writing python code to do statistical analysis, but for this homework you will just be using the results from provided code to answer questions."
   ]
  },
  {
   "cell_type": "markdown",
   "id": "92d4b5f6",
   "metadata": {},
   "source": [
    "**Problem 2.1 (2 points).**  **Summary statistics** are concise numerical measures used to help make sense out of complex data sets.  The most basic of these measures are **central tendency** measures: mean, median, and mode.  The **mean** is the arithmetic average of the data.  The **median** is the middle point of the data when arranged in ascending order.  The **mode** is the most frequently occurring value in the data.  Run the code below to compute the mean, median, and mode for the state populations in 2017, then update the code to do the same for 2014.   "
   ]
  },
  {
   "cell_type": "code",
   "execution_count": null,
   "id": "ce52d055",
   "metadata": {
    "deletable": false,
    "editable": false
   },
   "outputs": [],
   "source": [
    "state_data = pd.read_csv('us-state-populations.csv')\n",
    "def central_tendency_measures(table, column_name):   \n",
    "       return [int(table[column_name].mean()), int(table[column_name].median()), int(table[column_name].mode()[0])]"
   ]
  },
  {
   "cell_type": "code",
   "execution_count": null,
   "id": "a88ed99d",
   "metadata": {
    "deletable": false,
    "editable": false
   },
   "outputs": [],
   "source": [
    "central_tendency_measures_2017 = central_tendency_measures(state_data, 'pop_2017')\n",
    "central_tendency_measures_2017"
   ]
  },
  {
   "cell_type": "code",
   "execution_count": null,
   "id": "95959a27",
   "metadata": {
    "tags": [
     "otter_answer_cell"
    ]
   },
   "outputs": [],
   "source": [
    "#change the code below to compute the central_tendency_measures for 2014 using the function above\n",
    "central_tendency_measures_2014 = ..."
   ]
  },
  {
   "cell_type": "code",
   "execution_count": null,
   "id": "34704df5",
   "metadata": {
    "deletable": false,
    "editable": false
   },
   "outputs": [],
   "source": [
    "grader.check(\"q2.1\")"
   ]
  },
  {
   "cell_type": "markdown",
   "id": "7a275f07",
   "metadata": {},
   "source": [
    "**Problem 2.2 (2 points).**  Another class of summary statistics are called **dispersion measures**.  For example, the **variance** and **standard deviation** are measures of how widely the data is spread around the mean.  For example, if all the data was the same, the variance would be zero, and if the data were all very different, the variance would be high.  Do you think the variance of the state population data would go up or down if you removed California and Texas from the dataset?  Why?"
   ]
  },
  {
   "cell_type": "markdown",
   "id": "24cf2748",
   "metadata": {},
   "source": [
    "_Type your answer here, replacing this text._"
   ]
  },
  {
   "cell_type": "markdown",
   "id": "ee7b8035",
   "metadata": {},
   "source": [
    "**Problem 2.3 (1 point).** A fundamental concept in statistics that we will be studying is **sampling**.  The idea of sampling is to select a portion (or subset) of a larger **population** and study that portion (the **sample**) to gain information about the population. Data are the result of sampling from a population.  A **biased** sample is one that does not accurately represent the population it is intended to describe.  Why do you think the following might be considered a biased sample?\n",
    "\n",
    "**Population:** all college students.  **Sample:** students in your DATA110 section.\n"
   ]
  },
  {
   "cell_type": "markdown",
   "id": "72963579",
   "metadata": {},
   "source": [
    "_Type your answer here, replacing this text._"
   ]
  },
  {
   "cell_type": "markdown",
   "id": "fa6ab1d2",
   "metadata": {},
   "source": [
    "**Problem 2.4 (1 point).** How might the following be considered a biased sample?\n",
    "\n",
    "**Population:** residents of North Carolina.  **Sample:** a list of 1000 names randomly selected from the North Carolina Department of Motor Vehicles driver license records"
   ]
  },
  {
   "cell_type": "markdown",
   "id": "9da7cf53",
   "metadata": {},
   "source": [
    "_Type your answer here, replacing this text._"
   ]
  },
  {
   "cell_type": "markdown",
   "id": "b22ee543",
   "metadata": {},
   "source": [
    "## 3. Inference and prediction (7 points)\n",
    "Inference is the process of drawing conclusions from data. Prediction is the process of using the data you have to predict for cases that are not represented in the data. Inference reasons backward; from the data we have, what can we infer about what generated that data?  Prediction reasons forward; given the data we have, what can we predict about other data?  They are related concepts, but distinctly different."
   ]
  },
  {
   "cell_type": "markdown",
   "id": "2e8e8149",
   "metadata": {},
   "source": [
    "**Problem 3.1 (1 point).** Consider a situation in which you receive a quarter from a vending machine.  If you toss the quarter 20 times, what would be your prediction for how many heads you would get?  (don't do math for this, just give an estimate)\n"
   ]
  },
  {
   "cell_type": "markdown",
   "id": "19ceac63",
   "metadata": {},
   "source": [
    "_Type your answer here, replacing this text._"
   ]
  },
  {
   "cell_type": "markdown",
   "id": "3b199a73",
   "metadata": {},
   "source": [
    "**Problem 3.2 (2 points).** Suppose you actually do toss the quarter 10 times, and you get 7 heads and 3 tails.  Can you infer anything about the properties of the quarter?  Why or why not?\n"
   ]
  },
  {
   "cell_type": "markdown",
   "id": "be5a5315",
   "metadata": {},
   "source": [
    "_Type your answer here, replacing this text._"
   ]
  },
  {
   "cell_type": "markdown",
   "id": "e9ca2bcf",
   "metadata": {},
   "source": [
    "**Problem 3.3 (2 points).** Suppose you toss the quarter 10,000 times, and you get 7000 heads and 3000 tails.  Can you infer anything about the properties of the quaterer?  Is this situation any different than **Problem 3.2**, and if so, why is it different?"
   ]
  },
  {
   "cell_type": "markdown",
   "id": "2d75a64e",
   "metadata": {},
   "source": [
    "_Type your answer here, replacing this text._"
   ]
  },
  {
   "cell_type": "markdown",
   "id": "d44e2e0e",
   "metadata": {},
   "source": [
    "**Problem 3.4 (1 point).** For coin tosses or dice rolls, most people have a good mental model and can interpret the data without sophisticated tools.  But for more complex or less familiar data, inferences and predictions are much less obvious.  That is when data analysis tools such as **linear regression** are particularly useful.  We'll learn more about linear regression later; for now, just think of it as fitting a simple function that describes the data.\n",
    "\n",
    "A random sample of 10 used Teslas that are for sale is shown in the table below.  (run the code to see a table of the sales data). "
   ]
  },
  {
   "cell_type": "code",
   "execution_count": null,
   "id": "98205a61",
   "metadata": {},
   "outputs": [],
   "source": [
    "tesla_prices = pd.read_csv('tesla_list.csv')\n",
    "tesla_prices"
   ]
  },
  {
   "cell_type": "markdown",
   "id": "da38c849",
   "metadata": {},
   "source": [
    "The table data can be challenging to understand by just looking, so plotting the data is always a good idea.  Run the code cell below to see a scatter plot of Price vs. Age."
   ]
  },
  {
   "cell_type": "code",
   "execution_count": null,
   "id": "ec1e2835",
   "metadata": {},
   "outputs": [],
   "source": [
    "sns.scatterplot(data=tesla_prices, x=\"Age (yrs)\", y=\"Price ($)\")"
   ]
  },
  {
   "cell_type": "markdown",
   "id": "445317f3",
   "metadata": {},
   "source": [
    "The scatterplot is helpful, but by performing a linear regression and visualizing the model that is fit, we can get even more insight into the data.  Run the code cell below then answer the questions."
   ]
  },
  {
   "cell_type": "code",
   "execution_count": null,
   "id": "cc1751b5",
   "metadata": {},
   "outputs": [],
   "source": [
    "g=sns.regplot(data=tesla_prices, x=\"Age (yrs)\", y=\"Price ($)\")\n",
    "plt.grid()\n",
    "plt.show()"
   ]
  },
  {
   "cell_type": "markdown",
   "id": "e34caf76",
   "metadata": {},
   "source": [
    "Based on the model graphics you see in the plot above, would you **infer** that price variablility in dollars is greater for **A. newer** or **B. older** Teslas?  "
   ]
  },
  {
   "cell_type": "markdown",
   "id": "48e2f593",
   "metadata": {},
   "source": [
    "_Type your answer here, replacing this text._"
   ]
  },
  {
   "cell_type": "markdown",
   "id": "581fb6dc",
   "metadata": {},
   "source": [
    "**Problem 3.5 (1 point).** Based on the model graphics in the plot above, would you **predict** that the price of an 8 year old Tesla will be higher or lower than a 6 year old Tesla?\n"
   ]
  },
  {
   "cell_type": "markdown",
   "id": "3fe3722d",
   "metadata": {},
   "source": [
    "_Type your answer here, replacing this text._"
   ]
  },
  {
   "cell_type": "markdown",
   "id": "bc9f975e",
   "metadata": {},
   "source": [
    "## 4. Data Representation and Data Types (7 points)\n",
    "Statistics is the branch of mathematics related to collecting, analyzing, and interpreting data.  Data science depends heavily upon statistics.  In future homeworks you will be writing python code to do statistical analysis, but for this homework you will just be using the results from provided code to answer questions.\n"
   ]
  },
  {
   "cell_type": "markdown",
   "id": "2f9f01f5",
   "metadata": {},
   "source": [
    "**Problem 4.1 (3 points)**. Consider the `state_data` table from Problem 1: "
   ]
  },
  {
   "cell_type": "code",
   "execution_count": null,
   "id": "28aa9d0a",
   "metadata": {},
   "outputs": [],
   "source": [
    "#run this code\n",
    "state_data"
   ]
  },
  {
   "cell_type": "markdown",
   "id": "c0d0a235",
   "metadata": {},
   "source": [
    "Each **data sample** in this table corresponds to what?   (Use the definition of **data sample** from the slides in class)\n",
    "How many **data samples** are there?  How many pieces of information are collected for each **data sample**?"
   ]
  },
  {
   "cell_type": "markdown",
   "id": "19fda9e7",
   "metadata": {},
   "source": [
    "_Type your answer here, replacing this text._"
   ]
  },
  {
   "cell_type": "markdown",
   "id": "95f51e75",
   "metadata": {},
   "source": [
    "**Problem 4.2 (1 point).** Data can be re-arranged and looked at in different ways.  Suppose all the data in the `state_data` Table was instead converted into a time-series Table, such that each data sample would correspond to a particular year, ith `Year` being the first column and each state being a column.  In this case, how many rows would you need for this new Table?"
   ]
  },
  {
   "cell_type": "markdown",
   "id": "17d28f8d",
   "metadata": {},
   "source": [
    "_Type your answer here, replacing this text._"
   ]
  },
  {
   "cell_type": "markdown",
   "id": "2ce25f60",
   "metadata": {},
   "source": [
    "**Problem 4.3 (3 points).** Different types of data representations are appropriate for different situations.  Describe which of the following three modalities would be best for the situations below and explain why, using each modality exactly once.\\\n",
    "**A)** Time-series table **B)** Image  **C)** Text"
   ]
  },
  {
   "cell_type": "markdown",
   "id": "c1da3ccf",
   "metadata": {},
   "source": [
    "**Situation 1.** For every show, Netflix has a description of the show along with the names of the actors and episode titles."
   ]
  },
  {
   "cell_type": "markdown",
   "id": "2cf854aa",
   "metadata": {},
   "source": [
    "_Type your answer here, replacing this text._"
   ]
  },
  {
   "cell_type": "markdown",
   "id": "ff5ad4e6",
   "metadata": {},
   "source": [
    "**Situation 2.** For every show, Netflix provides a thumbnail to help users visualize the content."
   ]
  },
  {
   "cell_type": "markdown",
   "id": "85b85f5d",
   "metadata": {},
   "source": [
    "_Type your answer here, replacing this text._"
   ]
  },
  {
   "cell_type": "markdown",
   "id": "842d5b1a",
   "metadata": {},
   "source": [
    "**Situation 3.** For a particular user, every day Neflix logs the number of times they login, number of videos they open, and the total time spent in the application. "
   ]
  },
  {
   "cell_type": "markdown",
   "id": "d83442fb",
   "metadata": {},
   "source": [
    "_Type your answer here, replacing this text._"
   ]
  },
  {
   "cell_type": "markdown",
   "id": "eea8d9e1",
   "metadata": {},
   "source": [
    "_Type your answer here, replacing this text._\n"
   ]
  },
  {
   "cell_type": "markdown",
   "id": "6b5322a3",
   "metadata": {},
   "source": [
    "## 5. Ethics (10 points)\n",
    "\n",
    "Continually throughout the semester, we will explore the ethical considerations for data science.  This is because ethical concerns can arise at every stage of data science; for example, during data collection, data processing, data storage, data analysis, data visualization, and even data destruction.  These situations are often nuanced and the answers are not clear-cut, so it is often important to provide a rationale along with a approach."
   ]
  },
  {
   "cell_type": "markdown",
   "id": "0c50e72c",
   "metadata": {},
   "source": [
    "**Problem 5.1 (4 points).**\n",
    "Suppose you are tasked with doing a study of the effects of diet on sleep, so you log your daily calories and sleep hours for a month.  At the end of the month, you realize you forgot to record sleep data for a few of the days and calorie data for a few other days.  Order the four behaviors below from most appropriate to least appropriate and explain any ethical concerns you have with each behavior.\n",
    "1. Use only the days that have both data recorded for your analysis.\n",
    "2. Use the days that have both data recorded to predict the missing values in the collected data and add those values to the collected data.\n",
    "3. Do your best to remember what the values were for the data you forgot to record, and add those values into the collected data.\n",
    "4. Throw out all the data and start the study again.  \n"
   ]
  },
  {
   "cell_type": "markdown",
   "id": "e7c03309",
   "metadata": {},
   "source": [
    "_Type your answer here, replacing this text._"
   ]
  },
  {
   "cell_type": "markdown",
   "id": "244c4b7e",
   "metadata": {},
   "source": [
    "**Problem 5.2 (2 points).**  Suppose you decide to do an extended study of the effects of diet on sleep, so you collect and analyze six months of data, and write and submit a paper about your findings.  While writing the paper, you gather 1 more month of data, but this data doesn't show the same relationships as the first six months.  Do you decide to include it in the paper?  Why or why not?"
   ]
  },
  {
   "cell_type": "markdown",
   "id": "4931dcb2",
   "metadata": {},
   "source": [
    "_Type your answer here, replacing this text._"
   ]
  },
  {
   "cell_type": "markdown",
   "id": "3d13adbc",
   "metadata": {},
   "source": [
    "**Problem 5.3 (2 points).** While making a visualization for your paper about the effects of diet on sleep, you plot the data and see that one data point for calories is 10 times more than any other day.  You are fairly sure you did not eat 10 times more calories that day.  Do you handle this data point differently?  Why or why not?"
   ]
  },
  {
   "cell_type": "markdown",
   "id": "3fb77506",
   "metadata": {},
   "source": [
    "_Type your answer here, replacing this text._"
   ]
  },
  {
   "cell_type": "markdown",
   "id": "07d8f75c",
   "metadata": {},
   "source": [
    "**Problem 5.4 (2 points).** Just as you finish writing your paper about the effects of diet on sleep, you accidentally save over the file that contains the raw data you collected, and unfortunately you do not have a backup copy.  The paper is finished, but you can no longer reproduce the results it describes.  Do you still submit it for publication?  If so, do you change the paper in any way?"
   ]
  },
  {
   "cell_type": "markdown",
   "id": "56bf3efa",
   "metadata": {},
   "source": [
    "_Type your answer here, replacing this text._"
   ]
  },
  {
   "cell_type": "markdown",
   "id": "4c00e612",
   "metadata": {},
   "source": [
    "## Bonus.  Images (2 extra credit points)\n",
    "Though we won't do a lot with images in this class, Python does provide tools for working with images, and images are very similar to Tables.  Run the code below that loads an image and draws a circle in the image."
   ]
  },
  {
   "cell_type": "code",
   "execution_count": null,
   "id": "7acfd00b",
   "metadata": {},
   "outputs": [],
   "source": [
    "import numpy as np\n",
    "def draw_circle( img, x0, y0, r, c=1.0):\n",
    "    for i in range(0,360):\n",
    "        x = x0 + np.cos(np.radians(i)) * r\n",
    "        y = y0 + np.sin(np.radians(i)) * r\n",
    "        x=int(x)\n",
    "        y=int(y)\n",
    "        img[y - 3: y + 3, int(x) - 3 : x + 3 ]=c\n"
   ]
  },
  {
   "cell_type": "code",
   "execution_count": null,
   "id": "65c1bd37",
   "metadata": {},
   "outputs": [],
   "source": [
    "img = plt.imread('yikes.jpg')\n",
    "img = img/255\n",
    "draw_circle(img, 100, 100, 50, 0 )\n",
    "plt.imshow(img)"
   ]
  },
  {
   "cell_type": "markdown",
   "id": "4d0b37da",
   "metadata": {},
   "source": [
    "Who said the instructor's cat was cute?!?  \n",
    "\n",
    "Now write code to call the `draw_circle` function so that a white circle is drawn around the cat's head. You don't need to understand the Python code or the math behind it to figure out what each of the parameter does! Play around with the function by passing in different numbers and see how that changes what you see. For example, what does `draw_circle(img, 1000, 100, 50, 0)` do? What did that change? What about `draw_circle(img, 1000, 100, 50, 1)` Remember, you can add as many additional cells as you'd like."
   ]
  },
  {
   "cell_type": "markdown",
   "id": "3d64657d-6015-4bc3-b33d-b6da0ee24138",
   "metadata": {},
   "source": [
    "Copy the following code into the next cell and change the line marked with `...`.\n",
    "\n",
    "```Python\n",
    "img = plt.imread('yikes.jpg')\n",
    "img = img/255\n",
    "# Change the code below to draw a white circle around the cat's head\n",
    "draw_circle(...) \n",
    "plt.imshow(img)\n",
    "```"
   ]
  },
  {
   "cell_type": "code",
   "execution_count": null,
   "id": "7d49e322",
   "metadata": {},
   "outputs": [],
   "source": [
    "# copy and edit code here and run cell\n"
   ]
  },
  {
   "cell_type": "markdown",
   "id": "2dd81334",
   "metadata": {},
   "source": [
    "Finally, load an image of your own and draw circles on it, or other shape functions you write!  Hint: we like pets. \n",
    "\n",
    "Copy the following code into the next cell and change the line marked with `...`.\n",
    "\n",
    "```Python\n",
    "# Change the code below\n",
    "# Make sure to write the correct file name here for your image.\n",
    "img = plt.imread(...)\n",
    "img = img/255\n",
    "# Change the code below to draw a circle somewhere interesting on your image\n",
    "draw_circle(...) \n",
    "plt.imshow(img)\n",
    "```"
   ]
  },
  {
   "cell_type": "code",
   "execution_count": null,
   "id": "0be9250d-6c01-4b94-bee5-d07be38d3153",
   "metadata": {},
   "outputs": [],
   "source": [
    "# copy and edit code here and run cell\n"
   ]
  },
  {
   "cell_type": "markdown",
   "id": "fe27f058",
   "metadata": {},
   "source": [
    "You're all done with Homework 0!\n",
    "\n",
    "**Important submission steps:**\n",
    "\n",
    "1. Run the tests and verify that they all pass.\n",
    "2. Choose **Save Notebook** from the **File** menu, then **run the final cell**.\n",
    "3. Click the link to download the zip file.\n",
    "4. Go to Canvas and submit the zip file.\n",
    "**It is your responsibility to make sure your work is saved before running the last cell.**"
   ]
  },
  {
   "cell_type": "markdown",
   "id": "3d1c4749",
   "metadata": {
    "deletable": false,
    "editable": false
   },
   "source": [
    "## Submission\n",
    "\n",
    "Make sure you have run all cells in your notebook in order before running the cell below, so that all images/graphs appear in the output. The cell below will generate a zip file for you to submit. **Please save before exporting!**\n",
    "\n",
    "Submit zip file and PDF to Gradescope Homework0"
   ]
  },
  {
   "cell_type": "code",
   "execution_count": null,
   "id": "50cee097",
   "metadata": {
    "deletable": false,
    "editable": false
   },
   "outputs": [],
   "source": [
    "# Save your notebook first, then run this cell to export your submission.\n",
    "grader.export(pdf=False, run_tests=True)"
   ]
  },
  {
   "cell_type": "markdown",
   "id": "0764c7ff",
   "metadata": {},
   "source": [
    " "
   ]
  }
 ],
 "metadata": {
  "kernelspec": {
   "display_name": "Python 3",
   "language": "python",
   "name": "python3"
  },
  "language_info": {
   "codemirror_mode": {
    "name": "ipython",
    "version": 3
   },
   "file_extension": ".py",
   "mimetype": "text/x-python",
   "name": "python",
   "nbconvert_exporter": "python",
   "pygments_lexer": "ipython3",
   "version": "3.11.9"
  },
  "otter": {
   "OK_FORMAT": true,
   "tests": {
    "q2.1": {
     "name": "q2.1",
     "points": 2,
     "suites": [
      {
       "cases": [
        {
         "code": ">>> assert central_tendency_measures_2014 == [6247500, 4410415, 583334]\n",
         "hidden": false,
         "locked": false
        }
       ],
       "scored": true,
       "setup": "",
       "teardown": "",
       "type": "doctest"
      }
     ]
    }
   }
  }
 },
 "nbformat": 4,
 "nbformat_minor": 5
}
