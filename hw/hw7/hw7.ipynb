{
 "cells": [
  {
   "cell_type": "code",
   "execution_count": null,
   "id": "7aa57f52",
   "metadata": {
    "deletable": false,
    "editable": false
   },
   "outputs": [],
   "source": [
    "# Initialize Otter\n",
    "import otter\n",
    "grader = otter.Notebook(\"hw7.ipynb\")"
   ]
  },
  {
   "cell_type": "markdown",
   "id": "dcb54678-872b-44c8-9ad7-a36758bc742f",
   "metadata": {
    "jp-MarkdownHeadingCollapsed": true
   },
   "source": [
    "## <u>Name:</u> [Your name] and (your onyen)\n",
    "\n",
    "\n",
    "The final text, code, and comments in this homework assignment MUST be 100% written by you as mentioned in syllabus.\n",
    "\n"
   ]
  },
  {
   "cell_type": "markdown",
   "id": "b1690054",
   "metadata": {},
   "source": [
    "\n",
    "Please complete this notebook by filling in the cells provided.\n",
    "\n",
    "!! Please submit a  zip and **PDF** of your notebook. You can make a PDF from JupyterHub by 1. File->Print or 2. Command+P (on Mac), then choose 'Save to PDF'. This saves the file on your laptop. All problems will be manually graded. **Make sure all your code is visible and not cut off in the pdf. If we can't see your answer code for a coding problem, points may be deducted.**\n",
    "\n",
    "!! Points will also be **deducted** if you do not include your name and Onyen in the Markdown cell above!!"
   ]
  },
  {
   "cell_type": "markdown",
   "id": "22d1e54e-16d4-4a59-8d04-889400a18948",
   "metadata": {},
   "source": [
    "# Homework 7: Hypothesis Testing (25 points)"
   ]
  },
  {
   "cell_type": "markdown",
   "id": "333121ec",
   "metadata": {},
   "source": [
    "In this homework, you'll be analyzing the fairness of a 6-sided die.\n",
    "\n",
    "A street vendor asks you if you'd like to play a game.  The game is:\n",
    "* pay \\$10 to roll a 6-sided die 3 times\n",
    "* if any of those rolls is a 2 he pays you $12.  \n",
    "\n",
    "You decide to play the game 30 times, and out of your 90 total rolls of the die, you roll a 2 **seven times**.  You start to suspect something is not right, and you wonder if perhaps the die is NOT fair.  "
   ]
  },
  {
   "cell_type": "markdown",
   "id": "eaa46648-1d95-412b-a95e-0bbc79361524",
   "metadata": {},
   "source": [
    "## Problem 1. Loaded question (14 points)\n",
    "\n"
   ]
  },
  {
   "cell_type": "markdown",
   "id": "e2af7f62-eb6e-4fbd-9c9d-80ff6156e1a7",
   "metadata": {},
   "source": [
    "#### **Problem 1.1 (4 points) Hypothesis Testing.**\n",
    "In particular, you feel that there might be **less than fair chance** of rolling a 2, even though the street vendor insists it is fair. You decide to conduct a hypothesis test.\n",
    "\n",
    "1) State the null hypothesis for this situation.  Remember, you'll need to be able to \"simulate under the null\".\n",
    "2) State the alternative hypothesis.\n",
    "3) Which of the following statistics would you be appropriate for evaluating these hypotheses?\n",
    "* a) cost to play the game\n",
    "* b) number of 5's rolled\n",
    "* c) proportion of 2's rolled\n",
    "* d) total number of rolls\n",
    "4) What is the value of this statistic for the 30 games you played?  Assign it to `measured_statistic1` in the provided cell."
   ]
  },
  {
   "cell_type": "markdown",
   "id": "f8d7ed16-9f47-4acb-80ce-3820f2982895",
   "metadata": {},
   "source": [
    "*Write your answers to 1-4 here*"
   ]
  },
  {
   "cell_type": "code",
   "execution_count": null,
   "id": "4c7eaf72-34ba-4eea-a701-e8f3534b1408",
   "metadata": {
    "tags": [
     "otter_answer_cell"
    ]
   },
   "outputs": [],
   "source": [
    "# Assign the value of the statistic for the 30 games here\n",
    "measured_statistic1 = ..."
   ]
  },
  {
   "cell_type": "markdown",
   "id": "e0854a18-fbce-4b61-909e-62ff3676d935",
   "metadata": {},
   "source": [
    "#### **Problem 1.2 (10 points) Simulating under the null**\n",
    "In this problem, you'll be writing code to simulate the test statistic for 90 rolls, and you'll run that simulation 1000 times. \n",
    "\n",
    "**Problem 1.2.1 (2 points).** \n",
    "First, write a function named `simulate_six_sixed_die` that takes a number of rolls as an argument and returns a list containing that many simulated 6-sided die rolls. Import whatever Python package you need to do this."
   ]
  },
  {
   "cell_type": "code",
   "execution_count": null,
   "id": "0c0179b5-597d-465c-82ea-90ca980f5487",
   "metadata": {
    "tags": [
     "otter_answer_cell"
    ]
   },
   "outputs": [],
   "source": [
    "# write your code here\n",
    "..."
   ]
  },
  {
   "cell_type": "code",
   "execution_count": null,
   "id": "b31570e0",
   "metadata": {
    "deletable": false,
    "editable": false
   },
   "outputs": [],
   "source": [
    "grader.check(\"q1.2.1\")"
   ]
  },
  {
   "cell_type": "markdown",
   "id": "4ca1afc7-0507-48d1-a8b8-81ade19803d3",
   "metadata": {},
   "source": [
    "**Problem 1.2.2 (2 points).**\n",
    "Next, write code to simulate 1000 times the test statistic for 90 die rolls, and store the test statistic in a table named `statistic1`"
   ]
  },
  {
   "cell_type": "code",
   "execution_count": null,
   "id": "f63151c2-f20a-4e46-98d5-3b6500f7b268",
   "metadata": {
    "tags": [
     "otter_answer_cell"
    ]
   },
   "outputs": [],
   "source": [
    "import pandas as pd\n",
    "statistic1 = pd.DataFrame(columns=['test statistic'])\n",
    "# finish the code below, replacing all the ... with your code\n",
    "for simulation in range(1000):\n",
    "    # simulate 90 rolls of a six-sided die using your function\n",
    "    roll_list = ...\n",
    "    simulated_rolls = pd.DataFrame(roll_list, columns=['roll']) # create a 1-column table of randomly simulated rolls\n",
    "    # twos is an array of True or False. True if roll is 2, False otherwise.\n",
    "    twos = ...\n",
    "    # calculate the statistic for this simulated data using twos\n",
    "    sim_t1 = ...\n",
    "    statistic1.loc[len(statistic1)] = [sim_t1] # add simulated result to end of table\n",
    "statistic1"
   ]
  },
  {
   "cell_type": "markdown",
   "id": "33b764e5-2e50-4843-a1d8-54d37c0b351d",
   "metadata": {
    "deletable": false,
    "editable": false
   },
   "source": [
    "**Problem 1.2.3 (2 points).**\n",
    "Plot the empirical distribution of your statistics simulated under the null.  Plot a vertical line for the value of the measured statistic for your actual games.  Label your plot using the parameter `label=` just like in the lec15 demo code."
   ]
  },
  {
   "cell_type": "code",
   "execution_count": null,
   "id": "73cdfbb5-594d-40c8-9994-059d09a77482",
   "metadata": {
    "tags": [
     "otter_answer_cell"
    ]
   },
   "outputs": [],
   "source": [
    "# 3. Plot empirical distribution of t1 (under the null)\n",
    "import seaborn as sns\n",
    "import matplotlib.pyplot as plt\n",
    "fig, ax = plt.subplots(1)\n",
    "# write your code here\n",
    "...\n",
    "ax.legend()"
   ]
  },
  {
   "cell_type": "markdown",
   "id": "343ea52b-b02c-4dde-8089-147b7066ee04",
   "metadata": {
    "deletable": false,
    "editable": false
   },
   "source": [
    "**Problem 1.2.4 (1 point).**\n",
    "Looking at the shape of your distribution, what type of distribution is your simulation data, approximately? We're referring to the distribution of the statistics simulated under the null."
   ]
  },
  {
   "cell_type": "markdown",
   "id": "3c6a991e-c7db-410c-b207-603b7f32da5c",
   "metadata": {
    "deletable": false,
    "editable": false
   },
   "source": [
    "*Write your answer here*"
   ]
  },
  {
   "cell_type": "markdown",
   "id": "6a57699f-d944-4935-a15e-4554ada38159",
   "metadata": {
    "deletable": false,
    "editable": false
   },
   "source": [
    "**Problem 1.2.5 (2 points).**\n",
    "Write code to compute the p-value from the `statistic1` table."
   ]
  },
  {
   "cell_type": "code",
   "execution_count": null,
   "id": "078daeee-a63d-4921-9202-490701b43ae8",
   "metadata": {
    "tags": [
     "otter_answer_cell"
    ]
   },
   "outputs": [],
   "source": [
    "p_value1 = ...\n",
    "p_value1"
   ]
  },
  {
   "cell_type": "markdown",
   "id": "19fd1755-e1cc-4995-8170-ced6553c31d3",
   "metadata": {
    "deletable": false,
    "editable": false
   },
   "source": [
    "**Problem 1.2.6 (1 point).**\n",
    "Does your simulation provide evidence against the null?  (yes or no)  If so, is the evidence statistically significant?  Is it extremely statistically significant?  Explain the convention you are using to answer these questions."
   ]
  },
  {
   "cell_type": "markdown",
   "id": "7b02b4c1-7685-4311-9b6e-87aa9ec2cd08",
   "metadata": {
    "deletable": false,
    "editable": false
   },
   "source": [
    "*Write your answers here*"
   ]
  },
  {
   "cell_type": "markdown",
   "id": "dc07b20f-2f45-43e7-8733-a463c3541343",
   "metadata": {
    "deletable": false,
    "editable": false
   },
   "source": [
    "## Problem 2. (11 points) Reloaded question.\n",
    "#### **Problem 2.1 (4 points) Hypothesis testing**\n",
    "Instead of investigating if there is a **less than fair** chance of rolling a 2 like you just did in Problem 1, now evaluate if there is an **unfair chance** of rolling a 2 (either more likely or less likely than fair).\n",
    "\n",
    "1) State the null hypothesis for this situation.\n",
    "2) State the alternative hypothesis.\n",
    "3) Which of the following statistics would you be appropriate for evaluating these hypotheses?\n",
    "* a) number of 2's rolled in a row\n",
    "* b) abs(proportion of 2's rolled - 1/6)\n",
    "* c) abs(proportion of 2's rolled + 1/6)\n",
    "* d) abs(total number of rolls)\n",
    "4) What is the value of this statistic for the 30 games you played in Problem 1?  Assign it to `measured_statistic2` in the provided cell."
   ]
  },
  {
   "cell_type": "markdown",
   "id": "6b647b80-35b3-47db-bef0-2550ecbe8db8",
   "metadata": {
    "deletable": false,
    "editable": false
   },
   "source": [
    "*Write your answers to 1-4 here*"
   ]
  },
  {
   "cell_type": "code",
   "execution_count": null,
   "id": "521606a8-ebe5-4e95-80de-c2717317e32f",
   "metadata": {
    "tags": [
     "otter_answer_cell"
    ]
   },
   "outputs": [],
   "source": [
    "# Assign your measured statistic here\n",
    "measured_statistic2 = ..."
   ]
  },
  {
   "cell_type": "markdown",
   "id": "466a55e5-d707-4fc8-969c-e816323144f5",
   "metadata": {
    "deletable": false,
    "editable": false
   },
   "source": [
    "#### **Problem 2.2 (7 points) Simulating under the null revisited**\n",
    "\n",
    "**Problem 2.2.1 (2 points).**\n",
    "Now, write code to simulate 1000 times this new test statistic for 90 die rolls, and store the results in a table named `statistic2`.  You can use the same `sample_die()` function you wrote before."
   ]
  },
  {
   "cell_type": "code",
   "execution_count": null,
   "id": "e82e735f-6665-4e4f-9df9-fdf1d3bb10a0",
   "metadata": {
    "tags": [
     "otter_answer_cell"
    ]
   },
   "outputs": [],
   "source": [
    "statistic2 = pd.DataFrame(columns=['test statistic'])\n",
    "# finish the code below, replacing all the ... with your code\n",
    "for simulation in range(1000):\n",
    "    # simulate 90 rolls of a six-sided die using your function\n",
    "    roll_list = ...\n",
    "    simulated_rolls = pd.DataFrame(roll_list, columns=['roll']) # create a 1-column table of randomly simulated rolls\n",
    "    twos = ...\n",
    "    sim_t2 = ...\n",
    "    statistic2.loc[len(statistic2)] = [sim_t2] # add simulated result to end of table\n",
    "statistic2"
   ]
  },
  {
   "cell_type": "markdown",
   "id": "fee347bc-a2b9-4805-b50e-955911643600",
   "metadata": {
    "deletable": false,
    "editable": false
   },
   "source": [
    "**Problem 2.2.2 (2 points).**\n",
    "Plot the empirical distribution of your statistics simulated under the null.  Plot a vertical line for the value of the measured statistic for your actual games.  Label your plot using the parameter `label=`."
   ]
  },
  {
   "cell_type": "code",
   "execution_count": null,
   "id": "9678d090-6c9f-45db-a009-7750f8ddc347",
   "metadata": {
    "tags": [
     "otter_answer_cell"
    ]
   },
   "outputs": [],
   "source": [
    "fig, ax = plt.subplots(1)\n",
    "# write your code here\n",
    "...\n",
    "ax.legend()"
   ]
  },
  {
   "cell_type": "markdown",
   "id": "f2220998-193f-444d-b3db-30c89bcaddfd",
   "metadata": {
    "deletable": false,
    "editable": false
   },
   "source": [
    "**Problem 2.2.3 (2 points).** Write code to compute the p-value from the `statistic2` table.\n"
   ]
  },
  {
   "cell_type": "code",
   "execution_count": null,
   "id": "611de61b-1257-4b8f-89ba-0972c46a7a6f",
   "metadata": {
    "tags": [
     "otter_answer_cell"
    ]
   },
   "outputs": [],
   "source": [
    "p_value2 = ...\n",
    "p_value2"
   ]
  },
  {
   "cell_type": "markdown",
   "id": "0db719b3-9877-4461-8c29-2949909ef0ad",
   "metadata": {},
   "source": [
    "**Problem 2.2.4 (1 point).**\n",
    "Does your simulation provide evidence against the null?  (yes or no)  If so, is the evidence statistically significant?  Is it extremely statistically significant?  "
   ]
  },
  {
   "cell_type": "markdown",
   "id": "24e1ae33-9fab-4e48-9c08-5790cc0cba83",
   "metadata": {},
   "source": [
    "*Write your answers here*"
   ]
  },
  {
   "cell_type": "raw",
   "id": "7e7aa05b",
   "metadata": {},
   "source": []
  },
  {
   "cell_type": "markdown",
   "id": "c16f5691",
   "metadata": {
    "deletable": false,
    "editable": false
   },
   "source": [
    "## Submission\n",
    "\n",
    "Make sure you have run all cells in your notebook in order before running the cell below, so that all images/graphs appear in the output. The cell below will generate a zip file for you to submit. **Please save before exporting!**\n",
    "\n",
    "Submit zip file and PDF to Gradescope Homework7"
   ]
  },
  {
   "cell_type": "code",
   "execution_count": null,
   "id": "7516d429",
   "metadata": {
    "deletable": false,
    "editable": false
   },
   "outputs": [],
   "source": [
    "# Save your notebook first, then run this cell to export your submission.\n",
    "grader.export(pdf=False, run_tests=True)"
   ]
  },
  {
   "cell_type": "markdown",
   "id": "cb22779b",
   "metadata": {},
   "source": [
    " "
   ]
  }
 ],
 "metadata": {
  "kernelspec": {
   "display_name": "Python 3",
   "language": "python",
   "name": "python3"
  },
  "language_info": {
   "codemirror_mode": {
    "name": "ipython",
    "version": 3
   },
   "file_extension": ".py",
   "mimetype": "text/x-python",
   "name": "python",
   "nbconvert_exporter": "python",
   "pygments_lexer": "ipython3",
   "version": "3.12.5"
  },
  "otter": {
   "OK_FORMAT": true,
   "tests": {
    "q1.2.1": {
     "name": "q1.2.1",
     "points": 2,
     "suites": [
      {
       "cases": [
        {
         "code": ">>> assert type(simulate_six_sided_die(5)) == list\n>>> assert len(simulate_six_sided_die(5)) == 5\n>>> assert min(simulate_six_sided_die(1000)) == 1\n>>> assert max(simulate_six_sided_die(1000)) == 6\n",
         "hidden": false,
         "locked": false
        }
       ],
       "scored": true,
       "setup": "",
       "teardown": "",
       "type": "doctest"
      }
     ]
    }
   }
  }
 },
 "nbformat": 4,
 "nbformat_minor": 5
}
