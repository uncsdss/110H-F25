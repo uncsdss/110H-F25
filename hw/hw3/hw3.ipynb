{
 "cells": [
  {
   "cell_type": "code",
   "execution_count": null,
   "id": "27af57b4",
   "metadata": {
    "deletable": false,
    "editable": false
   },
   "outputs": [],
   "source": [
    "# Initialize Otter\n",
    "import otter\n",
    "grader = otter.Notebook(\"hw3.ipynb\")"
   ]
  },
  {
   "cell_type": "markdown",
   "id": "bade7ce0",
   "metadata": {},
   "source": [
    "## Name and Onyen\n",
    "\n",
    "I encourage discussing ideas and brainstorming with your peers, but the final text, code, and comments in this homework assignment MUST be 100% written by you as mentioned in syllabus."
   ]
  },
  {
   "cell_type": "markdown",
   "id": "953a7ae3",
   "metadata": {
    "id": "953a7ae3"
   },
   "source": [
    "# Homework 3: Defining functions and Python Review  (50 points)\n",
    "\n",
    "Please complete this notebook by filling in the cells provided. \n",
    "\n",
    "!! Please submit zip and a **PDF** of your notebook. You can make a PDF from JupyterHub by 1. File->Print or 2. Command+P (on Mac), then choose 'Save to PDF'. This saves the file on your laptop. All problems will be manually graded, so no need to submit ipynb or zip file. **But you need to make sure all your code is visible and not cut off in the pdf. If we can't see your answer code for a coding problem, points may be deducted.**\n",
    "\n",
    "!! Points will also be **deducted** if you do not include your name and Onyen in the Markdown cell above!!"
   ]
  },
  {
   "cell_type": "markdown",
   "id": "cebf6e14",
   "metadata": {},
   "source": [
    "# Python Lightning round (13 points)"
   ]
  },
  {
   "cell_type": "markdown",
   "id": "35d98743",
   "metadata": {},
   "source": [
    "**Problem 1.1 (2 points).** Assign a range of integers to a variable named `bizz` that starts at 3 and steps by 3 up to and including 12."
   ]
  },
  {
   "cell_type": "code",
   "execution_count": null,
   "id": "1850bc20",
   "metadata": {
    "tags": [
     "otter_answer_cell"
    ]
   },
   "outputs": [],
   "source": [
    "# replace ... with your code\n",
    "..."
   ]
  },
  {
   "cell_type": "code",
   "execution_count": null,
   "id": "b7232dce",
   "metadata": {
    "deletable": false,
    "editable": false
   },
   "outputs": [],
   "source": [
    "grader.check(\"q1.1\")"
   ]
  },
  {
   "cell_type": "markdown",
   "id": "f60f507f",
   "metadata": {},
   "source": [
    "**Problem 1.2 (2 points).** Define a function named `test_func_prob12` with a parameter named `exactly_three_things` that is expected to be a list. The function assigns the **third** element of that list to a variable named `favorite`. The function then returns `favorite`."
   ]
  },
  {
   "cell_type": "code",
   "execution_count": null,
   "id": "b4246ab6",
   "metadata": {
    "tags": [
     "otter_answer_cell"
    ]
   },
   "outputs": [],
   "source": [
    "# replace ... with your code\n",
    "def test_func_prob12(exactly_three_things):\n",
    "...\n",
    "    return favorite"
   ]
  },
  {
   "cell_type": "code",
   "execution_count": null,
   "id": "eabcaa2a",
   "metadata": {
    "deletable": false,
    "editable": false
   },
   "outputs": [],
   "source": [
    "grader.check(\"q1.2\")"
   ]
  },
  {
   "cell_type": "markdown",
   "id": "ddd13b37",
   "metadata": {},
   "source": [
    "**Problem 1.3 (2 points).** Define a function named `take_away` that takes in two numbers `x`, `y`, and returns the first argument minus the second argument."
   ]
  },
  {
   "cell_type": "code",
   "execution_count": null,
   "id": "f14e3558",
   "metadata": {
    "tags": [
     "otter_answer_cell"
    ]
   },
   "outputs": [],
   "source": [
    "# replace ... with your code\n",
    "..."
   ]
  },
  {
   "cell_type": "code",
   "execution_count": null,
   "id": "c22d97fa",
   "metadata": {
    "deletable": false,
    "editable": false
   },
   "outputs": [],
   "source": [
    "grader.check(\"q1.3\")"
   ]
  },
  {
   "cell_type": "markdown",
   "id": "047fbe91",
   "metadata": {},
   "source": [
    "**Problem 1.4 (1 point).** Inside the function `test_positive`, if the given variable `numeric_arg` is greater than 0, set a variable `positive_flag` to `True`."
   ]
  },
  {
   "cell_type": "code",
   "execution_count": null,
   "id": "3bdf9a3c",
   "metadata": {
    "tags": [
     "otter_answer_cell"
    ]
   },
   "outputs": [],
   "source": [
    "# replace ... with your code\n",
    "def test_positive(numeric_arg):\n",
    "    positive_flag = False\n",
    "...\n",
    "    return positive_flag"
   ]
  },
  {
   "cell_type": "code",
   "execution_count": null,
   "id": "dde4481f",
   "metadata": {
    "deletable": false,
    "editable": false
   },
   "outputs": [],
   "source": [
    "grader.check(\"q1.4\")"
   ]
  },
  {
   "cell_type": "markdown",
   "id": "8a1b1d04",
   "metadata": {},
   "source": [
    "**Problem 1.5 (2 points).** Modify `test_func_prob15` to loop through all the elements in a list of strings named `lots_of_words` and increment a variable name `word_count` by a value of 1 for each element. \n",
    "\n",
    "**Hint**: The in-notebook gradecheck only makes sure the function returns a value >0 for non-empty lists.  Test your code yourself by calling your function with examples."
   ]
  },
  {
   "cell_type": "code",
   "execution_count": null,
   "id": "1b970a74",
   "metadata": {
    "tags": [
     "otter_answer_cell"
    ]
   },
   "outputs": [],
   "source": [
    "# replace ... with your code\n",
    "def test_func_prob15(lots_of_words):\n",
    "    word_count = 0\n",
    "...\n",
    "    return word_count\n",
    "  "
   ]
  },
  {
   "cell_type": "code",
   "execution_count": null,
   "id": "684cab9d",
   "metadata": {
    "deletable": false,
    "editable": false
   },
   "outputs": [],
   "source": [
    "grader.check(\"q1.5\")"
   ]
  },
  {
   "cell_type": "markdown",
   "id": "b214c445",
   "metadata": {},
   "source": [
    "**Problem 1.6 (2 points).** Modify the function `test_func_16` to return the second to the last item in a list named `many_things`."
   ]
  },
  {
   "cell_type": "code",
   "execution_count": null,
   "id": "af2ca149",
   "metadata": {
    "tags": [
     "otter_answer_cell"
    ]
   },
   "outputs": [],
   "source": [
    "# replace ... with your code\n",
    "def test_func_prob16(many_things):\n",
    "..."
   ]
  },
  {
   "cell_type": "code",
   "execution_count": null,
   "id": "1bfb4472",
   "metadata": {
    "deletable": false,
    "editable": false
   },
   "outputs": [],
   "source": [
    "grader.check(\"q1.6\")"
   ]
  },
  {
   "cell_type": "markdown",
   "id": "5d48fc87",
   "metadata": {},
   "source": [
    "**Problem 1.7 (2 points).** Define a function `fun_game` with one argument `i` that returns the string 'bizz' if the argument is divisible by 3.  If not, it returns the string 'buzz' if the argument is divisible by 7.  If the argument is not divisible by either 3 or 7, the function returns string 'boring'."
   ]
  },
  {
   "cell_type": "code",
   "execution_count": null,
   "id": "f743dded",
   "metadata": {
    "tags": [
     "otter_answer_cell"
    ]
   },
   "outputs": [],
   "source": [
    "# replace ... with your code\n",
    "..."
   ]
  },
  {
   "cell_type": "code",
   "execution_count": null,
   "id": "9133605d",
   "metadata": {
    "deletable": false,
    "editable": false
   },
   "outputs": [],
   "source": [
    "grader.check(\"q1.7\")"
   ]
  },
  {
   "cell_type": "markdown",
   "id": "ee97b890",
   "metadata": {},
   "source": [
    "**Extra credit (1 point).** Define a function `funner_game` with one argument that returns the string 'bizz' if the argument is divisible by 3, the string 'buzz' if the argument is divisible by 7, unless it is divisible by both 3 and 7, in which case it returns string 'bizzbuzz'.  If the argument is not divisible by either 3 or 7, the function returns string 'boring'."
   ]
  },
  {
   "cell_type": "code",
   "execution_count": null,
   "id": "afa0a82f",
   "metadata": {
    "otter": {
     "tests": [
      "extracredit1"
     ]
    },
    "tags": [
     "otter_answer_cell"
    ]
   },
   "outputs": [],
   "source": [
    "# replace ... with your code\n",
    "..."
   ]
  },
  {
   "cell_type": "markdown",
   "id": "7e299f77",
   "metadata": {},
   "source": [
    "# 2. Primes revisited (10 points)\n",
    "\n",
    "This problem continues on the work of Lab 6.\n",
    "\n",
    "**Problem 2.1 (2 points).**  Write a function called `is_prime` with one argument that tests whether the argument is prime. You should return `True` if the input is prime, and `False` otherwise. \n",
    "Remember that `0` and `1` are not prime. You can safely assume that the input is an integer $\\gt 0$. **Hint** You already did this in Lab 6 but with different restrictions on the input which you will have to adjust for!\n"
   ]
  },
  {
   "cell_type": "code",
   "execution_count": null,
   "id": "85157288",
   "metadata": {},
   "outputs": [],
   "source": []
  },
  {
   "cell_type": "code",
   "execution_count": null,
   "id": "7cfe443b",
   "metadata": {
    "tags": [
     "otter_answer_cell"
    ]
   },
   "outputs": [],
   "source": [
    "# replace ... with your code\n",
    "...\n"
   ]
  },
  {
   "cell_type": "code",
   "execution_count": null,
   "id": "c7a14fe5",
   "metadata": {
    "deletable": false,
    "editable": false
   },
   "outputs": [],
   "source": [
    "grader.check(\"q2.1\")"
   ]
  },
  {
   "cell_type": "markdown",
   "id": "06d0d7eb",
   "metadata": {},
   "source": [
    "**Problem 2.2 (4 points).**  Write a function called `primes_up_to` with one integer argument `n` that finds all primes from 1 up to and including `n`, returned as a list. Call your `is_prime()` function from Problem 2.1.  The reason we write functions is so that we can use them!\n"
   ]
  },
  {
   "cell_type": "code",
   "execution_count": null,
   "id": "f9da03ac",
   "metadata": {
    "tags": [
     "otter_answer_cell"
    ]
   },
   "outputs": [],
   "source": [
    "# replace ... with your code\n",
    "..."
   ]
  },
  {
   "cell_type": "code",
   "execution_count": null,
   "id": "42b86a51",
   "metadata": {
    "deletable": false,
    "editable": false
   },
   "outputs": [],
   "source": [
    "grader.check(\"q2.2\")"
   ]
  },
  {
   "cell_type": "markdown",
   "id": "57965109",
   "metadata": {},
   "source": [
    "**Problem 2.3 (4 points).**  Write a function called `only_primes` that takes one list of positive integers as an argument and returns a new list that contains only the items from the input list that are prime.\n"
   ]
  },
  {
   "cell_type": "code",
   "execution_count": null,
   "id": "348fde90",
   "metadata": {
    "tags": [
     "otter_answer_cell"
    ]
   },
   "outputs": [],
   "source": [
    "# replace ... with your code\n",
    "..."
   ]
  },
  {
   "cell_type": "code",
   "execution_count": null,
   "id": "3a84be32",
   "metadata": {
    "deletable": false,
    "editable": false
   },
   "outputs": [],
   "source": [
    "grader.check(\"q2.3\")"
   ]
  },
  {
   "cell_type": "markdown",
   "id": "d8b9a1e3",
   "metadata": {},
   "source": [
    "# Problem 3. Rideshare (12 points)\n",
    "\n",
    "### Part A: for loops and defining functions\n",
    " \n",
    "**Problem 3.1 List of squares (2 points).** \n",
    "Write a function called `square` which takes in a list of numbers and returns a list with each item squared."
   ]
  },
  {
   "cell_type": "code",
   "execution_count": null,
   "id": "07b1ddf0",
   "metadata": {
    "tags": [
     "otter_answer_cell"
    ]
   },
   "outputs": [],
   "source": [
    "# replace ... with your code\n",
    "..."
   ]
  },
  {
   "cell_type": "code",
   "execution_count": null,
   "id": "ccd914d0",
   "metadata": {
    "deletable": false,
    "editable": false
   },
   "outputs": [],
   "source": [
    "grader.check(\"q3.1\")"
   ]
  },
  {
   "cell_type": "markdown",
   "id": "beb674dd",
   "metadata": {},
   "source": [
    "**Problem 3.2 Power lists (2 points).** \n",
    "Now, let's make a more flexible function called `compute_power(L,n)` that lets the user raise each element to the `n`th power. Give `n` a default value of 2. You can test your own code by checking that `compute_power(L)` gives the same result as `square(L)` for different lists of numbers."
   ]
  },
  {
   "cell_type": "code",
   "execution_count": null,
   "id": "f77e1275",
   "metadata": {
    "tags": [
     "otter_answer_cell"
    ]
   },
   "outputs": [],
   "source": [
    "# replace ... with your code\n",
    "..."
   ]
  },
  {
   "cell_type": "code",
   "execution_count": null,
   "id": "2300334c",
   "metadata": {
    "deletable": false,
    "editable": false
   },
   "outputs": [],
   "source": [
    "grader.check(\"q3.2\")"
   ]
  },
  {
   "cell_type": "markdown",
   "id": "202989ee",
   "metadata": {},
   "source": [
    "### Part B: Computing distances with functions\n",
    "\n",
    "For the next part, we're going to think about how we might be able to write functions that can be used to compute distances on a map.\n",
    "\n",
    "**Problem 2.3 Computing the Euclidean distance (2 points).** \n",
    "\n",
    "\"Euclidean distance\" is simply the distance of the straight line that connects two points in Euclidean space. It's basically the distance \"as the crow flies\". On a map, it might look something like this:\n",
    "\n",
    "<img src=\"https://i.imgur.com/KSmguA5.png\" width=500px>\n",
    "<div style=\"text-align: center\"> </div>\n",
    "\n",
    "Write a function called `Euclidean_distance` which takes in two points `p` and `q` (both are lists of numbers) and returns the calculated Euclidean distance bewteen `p` and `q`.\n",
    "\n",
    "For example: \n",
    "\n",
    "```python\n",
    "Euclidean_distance([2, 1], [5, 5])\n",
    "```\n",
    "```\n",
    "5.0\n",
    "```\n",
    "\n",
    "\n",
    "**Hint:** Euclidean distance between $(x_1,y_1)$ and $(x_2,y_2)$ is defined as $\\sqrt{(x_1-x_2)^2+(y_1-y_2)^2}$. (Remember the Pythagorean theorem?)\n",
    "\n",
    "**Hint:** The Python code for calculating square root of `x` is the following:\n",
    "\n",
    "```python\n",
    "import math\n",
    "math.sqrt(x)\n",
    "```\n",
    "We have already imported math for you."
   ]
  },
  {
   "cell_type": "code",
   "execution_count": null,
   "id": "0d8b74c8",
   "metadata": {
    "tags": [
     "otter_answer_cell"
    ]
   },
   "outputs": [],
   "source": [
    "import math\n",
    "# replace ... below to implement this function\n",
    "def Euclidean_distance(p, q):\n",
    "..."
   ]
  },
  {
   "cell_type": "code",
   "execution_count": null,
   "id": "6f40705a",
   "metadata": {
    "deletable": false,
    "editable": false
   },
   "outputs": [],
   "source": [
    "grader.check(\"q3.3\")"
   ]
  },
  {
   "cell_type": "markdown",
   "id": "e56e20d1",
   "metadata": {},
   "source": [
    "**Problem 3.4 Computing the \"Lyft\" distance (2 points).** \n",
    "\n",
    "For this part of the assignment, let's say that you've been thinking about starting a new rideshare company similar to Uber or Lyft. You've started thinking about how you should go about estimating the amount you should charge for a given ride. You've realized that computing the Euclidean distance between two points makes sense for \"as the bird flies\" distance computations, but not for vehicles which need to navigate city blocks. This is why this type of distnace is called the Manhattan distance. Now you need to create a new function that computes an estimate for the total distance of the ride for your new \"Lyft-like\" service.\n",
    "\n",
    "When you're driving a car you can't just travel in a straight line between two points, you're forced to drive along the grid structure defined by where the streets are. Your path might look something like this:\n",
    "\n",
    "<img src=\"https://i.imgur.com/ieJ1Z4k.png\" width=500px>\n",
    "<div style=\"text-align: center\"> </div>\n",
    "<br>\n",
    "\n",
    "For the purposes of computing these new \"Lyft\"-like distances, you're going to assume that the drivers for your company are generally pretty good about taking the shortest possible route, and you're also going to assume that, most of the time, the streets will have a pretty standard grid-like structure. After all, it would be pretty hard to predict just how irregular the routes might end up being.\n",
    "\n",
    "**Write a function for computing a \"Lyft\" distance** based on the restriction that the car must travel on a grid of roads that run parallel to the $x$ and $y$ axes of an $x$-$y$ plane. Your function should be named `lyft_distance` and take a **starting point and a stopping point as arguments** and **return** the distance estimate. Your estimate will essentially tell you how many blocks the driver will travel to get to the destination. \n",
    "\n",
    "**Hint**: \"Lyft\" distance between $(x_1,y_1)$ and $(x_2,y_2)$ is defined as $\\vert x_1-x_2\\vert + \\vert y_1-y_2\\vert$.\n",
    "\n",
    "**Hint**: The Python syntax for absolute value is `abs(x)`.\n"
   ]
  },
  {
   "cell_type": "code",
   "execution_count": null,
   "id": "b2bc6770",
   "metadata": {
    "tags": [
     "otter_answer_cell"
    ]
   },
   "outputs": [],
   "source": [
    "# replace ... with your code\n",
    "..."
   ]
  },
  {
   "cell_type": "code",
   "execution_count": null,
   "id": "b24388d7",
   "metadata": {
    "deletable": false,
    "editable": false
   },
   "outputs": [],
   "source": [
    "grader.check(\"q3.4\")"
   ]
  },
  {
   "cell_type": "markdown",
   "id": "bde74ef5",
   "metadata": {},
   "source": [
    "**Problem 3.5 (2 points).** Write a function name `distance_difference` that returns the difference between the Lyft distance and the Euclidean distance given a starting point and a stopping point."
   ]
  },
  {
   "cell_type": "code",
   "execution_count": null,
   "id": "34582b63",
   "metadata": {
    "tags": [
     "otter_answer_cell"
    ]
   },
   "outputs": [],
   "source": [
    "# replace ... with your code\n",
    "..."
   ]
  },
  {
   "cell_type": "code",
   "execution_count": null,
   "id": "8edaafd8",
   "metadata": {
    "deletable": false,
    "editable": false
   },
   "outputs": [],
   "source": [
    "grader.check(\"q3.5\")"
   ]
  },
  {
   "cell_type": "markdown",
   "id": "b813cff4",
   "metadata": {},
   "source": [
    "**Problem 3.6 Creating a fare-computing function (2 points).** \n",
    "\n",
    "Let's assume that you want to be able to quickly calculate an estimate for the cost of the trip so that you can let your riders know roughly how much you'll charge them.  \n",
    "\n",
    "**Write another function** called `trip_cost` that **calls the function you just wrote** for computing the total distance of the ride to ***return* the cost of the trip in a user-friendly sentence** so that it reads \"The cost of the trip will be $< amount >.\" where < amount > is the total in dollars that the trip will cost. Remember that we only want numbers up to 1 cent (no fractional cents). Your function should take as arguments the starting point, the stopping point, and the fare (per mile), with a default value of 40 cents. (For the purposes of this exercise, we will assume that each block is one mile so that we don't need to worry about unit conversions.)\n",
    "\n",
    "***Hints:***\n",
    "\n",
    "1.) Start with the `def` statement. How many parameters do you need? Do any of them have a default value? Next, think about what you need to `return`. What should the data type be?\n",
    "\n",
    "2.) To make the dollar value look nice, first calculate the cost, and then generate a string using the code `f\"The cost of the trip will be ${cost:.2f}.\"` Wow, what is this pretty fancy string format? They are called Python f-string, and you can read about them here (https://realpython.com/python-f-strings/) and here (https://docs.python.org/3/tutorial/inputoutput.html).\n",
    "\n",
    "3.) Your `trip_cost` function should call your `lyft_distance` function."
   ]
  },
  {
   "cell_type": "code",
   "execution_count": null,
   "id": "a0f43a36",
   "metadata": {
    "tags": [
     "otter_answer_cell"
    ]
   },
   "outputs": [],
   "source": [
    "# replace ... with your code\n",
    "..."
   ]
  },
  {
   "cell_type": "code",
   "execution_count": null,
   "id": "88ef3c31",
   "metadata": {
    "deletable": false,
    "editable": false
   },
   "outputs": [],
   "source": [
    "grader.check(\"q3.6\")"
   ]
  },
  {
   "cell_type": "markdown",
   "id": "0c11a5a2",
   "metadata": {},
   "source": [
    "**Extra credit (1 point).** Define a function `trip_length` with one argument that returns the total distance a Lyft driver travels given a list of locations that the driver visits.  You'll have to test your code out yourself on some lists of points.  Be sure to test the case if the Lyft driver just stays home all day!"
   ]
  },
  {
   "cell_type": "code",
   "execution_count": null,
   "id": "1a29ac6b",
   "metadata": {
    "otter": {
     "tests": [
      "extracreditprob3"
     ]
    },
    "tags": [
     "otter_answer_cell"
    ]
   },
   "outputs": [],
   "source": [
    "# replace ... with your code\n",
    "..."
   ]
  },
  {
   "cell_type": "markdown",
   "id": "233b772a",
   "metadata": {
    "deletable": false,
    "editable": false
   },
   "source": [
    "## Submission\n",
    "\n",
    "Make sure you have run all cells in your notebook in order before running the cell below, so that all images/graphs appear in the output. The cell below will generate a zip file for you to submit. **Please save before exporting!**\n",
    "\n",
    "Submit zip file and PDF to Gradescope Homework3"
   ]
  },
  {
   "cell_type": "code",
   "execution_count": null,
   "id": "36223b96",
   "metadata": {
    "deletable": false,
    "editable": false
   },
   "outputs": [],
   "source": [
    "# Save your notebook first, then run this cell to export your submission.\n",
    "grader.export(pdf=False, run_tests=True)"
   ]
  },
  {
   "cell_type": "markdown",
   "id": "88888e9f",
   "metadata": {},
   "source": [
    " "
   ]
  }
 ],
 "metadata": {
  "colab": {
   "provenance": []
  },
  "kernelspec": {
   "display_name": "Python 3",
   "language": "python",
   "name": "python3"
  },
  "language_info": {
   "codemirror_mode": {
    "name": "ipython",
    "version": 3
   },
   "file_extension": ".py",
   "mimetype": "text/x-python",
   "name": "python",
   "nbconvert_exporter": "python",
   "pygments_lexer": "ipython3",
   "version": "3.12.10"
  },
  "otter": {
   "OK_FORMAT": true,
   "tests": {
    "extracredit1": {
     "name": "extracredit1",
     "points": 1,
     "suites": [
      {
       "cases": [],
       "scored": true,
       "setup": "",
       "teardown": "",
       "type": "doctest"
      }
     ]
    },
    "extracreditprob3": {
     "name": "extracreditprob3",
     "points": 1,
     "suites": [
      {
       "cases": [],
       "scored": true,
       "setup": "",
       "teardown": "",
       "type": "doctest"
      }
     ]
    },
    "q1.1": {
     "name": "q1.1",
     "points": 2,
     "suites": [
      {
       "cases": [
        {
         "code": ">>> assert type(bizz) == range\n>>> assert len(bizz) == 4\n>>> assert bizz[0] == 3\n>>> assert bizz[1] == 6\n>>> assert bizz[2] == 9\n>>> assert bizz[3] == 12\n",
         "hidden": false,
         "locked": false
        }
       ],
       "scored": true,
       "setup": "",
       "teardown": "",
       "type": "doctest"
      }
     ]
    },
    "q1.2": {
     "name": "q1.2",
     "points": 2,
     "suites": [
      {
       "cases": [
        {
         "code": ">>> assert test_func_prob12(['Whiskers', 'on', 'kittens']) == 'kittens'\n",
         "hidden": false,
         "locked": false
        }
       ],
       "scored": true,
       "setup": "",
       "teardown": "",
       "type": "doctest"
      }
     ]
    },
    "q1.3": {
     "name": "q1.3",
     "points": 2,
     "suites": [
      {
       "cases": [
        {
         "code": ">>> assert take_away(10, 6) == 4\n>>> assert take_away(20, 16) == 4\n",
         "hidden": false,
         "locked": false
        }
       ],
       "scored": true,
       "setup": "",
       "teardown": "",
       "type": "doctest"
      }
     ]
    },
    "q1.4": {
     "name": "q1.4",
     "points": 1,
     "suites": [
      {
       "cases": [
        {
         "code": ">>> assert test_positive(10) == True\n>>> assert test_positive(-3) == False\n>>> assert test_positive(0) == False\n",
         "hidden": false,
         "locked": false
        }
       ],
       "scored": true,
       "setup": "",
       "teardown": "",
       "type": "doctest"
      }
     ]
    },
    "q1.5": {
     "name": "q1.5",
     "points": 2,
     "suites": [
      {
       "cases": [
        {
         "code": ">>> assert test_func_prob15([' ']) > 0\n",
         "hidden": false,
         "locked": false
        }
       ],
       "scored": true,
       "setup": "",
       "teardown": "",
       "type": "doctest"
      }
     ]
    },
    "q1.6": {
     "name": "q1.6",
     "points": 2,
     "suites": [
      {
       "cases": [
        {
         "code": ">>> assert test_func_prob16(['Whiskers', 'on', 'kittens']) == 'on'\n>>> assert test_func_prob16(['Whiskers', 'on']) == 'Whiskers'\n",
         "hidden": false,
         "locked": false
        }
       ],
       "scored": true,
       "setup": "",
       "teardown": "",
       "type": "doctest"
      }
     ]
    },
    "q1.7": {
     "name": "q1.7",
     "points": 2,
     "suites": [
      {
       "cases": [
        {
         "code": ">>> assert fun_game(60) == 'bizz'\n>>> assert fun_game(140) == 'buzz'\n>>> assert fun_game(210) == 'bizz'\n>>> assert fun_game(500) == 'boring'\n",
         "hidden": false,
         "locked": false
        }
       ],
       "scored": true,
       "setup": "",
       "teardown": "",
       "type": "doctest"
      }
     ]
    },
    "q2.1": {
     "name": "q2.1",
     "points": 2,
     "suites": [
      {
       "cases": [
        {
         "code": ">>> assert is_prime(3)\n>>> assert not is_prime(4)\n>>> assert is_prime(9973)\n>>> assert not is_prime(9977)\n>>> assert not is_prime(1)\n",
         "hidden": false,
         "locked": false
        }
       ],
       "scored": true,
       "setup": "",
       "teardown": "",
       "type": "doctest"
      }
     ]
    },
    "q2.2": {
     "name": "q2.2",
     "points": 4,
     "suites": [
      {
       "cases": [
        {
         "code": ">>> assert type(primes_up_to(5)) == list\n",
         "hidden": false,
         "locked": false
        }
       ],
       "scored": true,
       "setup": "",
       "teardown": "",
       "type": "doctest"
      }
     ]
    },
    "q2.3": {
     "name": "q2.3",
     "points": 4,
     "suites": [
      {
       "cases": [
        {
         "code": ">>> assert type(only_primes([1, 2, 3, 4, 5])) == list\n",
         "hidden": false,
         "locked": false
        }
       ],
       "scored": true,
       "setup": "",
       "teardown": "",
       "type": "doctest"
      }
     ]
    },
    "q3.1": {
     "name": "q3.1",
     "points": 2,
     "suites": [
      {
       "cases": [
        {
         "code": ">>> assert square([25, 29, 30]) == [625, 841, 900]\n>>> assert square([]) == []\n",
         "hidden": false,
         "locked": false
        }
       ],
       "scored": true,
       "setup": "",
       "teardown": "",
       "type": "doctest"
      }
     ]
    },
    "q3.2": {
     "name": "q3.2",
     "points": 2,
     "suites": [
      {
       "cases": [
        {
         "code": ">>> assert compute_power([23, 28, 20]) == [529, 784, 400]\n",
         "hidden": false,
         "locked": false
        }
       ],
       "scored": true,
       "setup": "",
       "teardown": "",
       "type": "doctest"
      }
     ]
    },
    "q3.3": {
     "name": "q3.3",
     "points": 2,
     "suites": [
      {
       "cases": [
        {
         "code": ">>> assert Euclidean_distance([2, 1], [5, 5]) == math.sqrt((2 - 5) ** 2 + (1 - 5) ** 2)\n>>> assert Euclidean_distance([22, 10], [-2, 3]) == math.sqrt((22 + 2) ** 2 + (10 - 3) ** 2)\n>>> assert Euclidean_distance([-2, 3.2], [2.8, -3.9]) == math.sqrt((-2 - 2.8) ** 2 + (3.2 + 3.9) ** 2)\n",
         "hidden": false,
         "locked": false
        }
       ],
       "scored": true,
       "setup": "",
       "teardown": "",
       "type": "doctest"
      }
     ]
    },
    "q3.4": {
     "name": "q3.4",
     "points": 2,
     "suites": [
      {
       "cases": [
        {
         "code": ">>> assert lyft_distance([4, 5], [-2, -6]) == abs(4 + 2) + abs(5 + 6)\n>>> assert lyft_distance([2.1, -1.98], [3, 2]) == abs(2.1 - 3) + abs(-1.98 - 2)\n",
         "hidden": false,
         "locked": false
        }
       ],
       "scored": true,
       "setup": "",
       "teardown": "",
       "type": "doctest"
      }
     ]
    },
    "q3.5": {
     "name": "q3.5",
     "points": 2,
     "suites": [
      {
       "cases": [
        {
         "code": ">>> assert type(distance_difference) == type(lambda: 0)\n>>> assert distance_difference([4, 5], [4, -6]) == 0\n>>> assert distance_difference([0, 0], [3, 4]) == 2\n>>> assert distance_difference([0.2, 0.2], [3.2, 4.2]) == 2\n",
         "hidden": false,
         "locked": false
        }
       ],
       "scored": true,
       "setup": "",
       "teardown": "",
       "type": "doctest"
      }
     ]
    },
    "q3.6": {
     "name": "q3.6",
     "points": 2,
     "suites": [
      {
       "cases": [
        {
         "code": ">>> assert trip_cost([-2, -6], [4, 5]) == 'The cost of the trip will be $6.80.'\n",
         "hidden": false,
         "locked": false
        }
       ],
       "scored": true,
       "setup": "",
       "teardown": "",
       "type": "doctest"
      }
     ]
    }
   }
  }
 },
 "nbformat": 4,
 "nbformat_minor": 5
}
