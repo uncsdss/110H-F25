{
 "cells": [
  {
   "cell_type": "code",
   "execution_count": null,
   "id": "3532ff0c",
   "metadata": {
    "deletable": false,
    "editable": false
   },
   "outputs": [],
   "source": [
    "# Initialize Otter\n",
    "import otter\n",
    "grader = otter.Notebook(\"hw6.ipynb\")"
   ]
  },
  {
   "cell_type": "markdown",
   "id": "dcb54678-872b-44c8-9ad7-a36758bc742f",
   "metadata": {
    "jp-MarkdownHeadingCollapsed": true
   },
   "source": [
    "## <u>Name:</u> [Your name] and (your onyen)\n",
    "\n",
    "\n",
    "I encourage discussing ideas and brainstorming with your peers, but the final text, code, and comments in this homework assignment MUST be 100% written by you as mentioned in syllabus.\n",
    "\n"
   ]
  },
  {
   "cell_type": "markdown",
   "id": "22d1e54e-16d4-4a59-8d04-889400a18948",
   "metadata": {},
   "source": [
    "# Homework 6: Correlation/Causation, Probability, and Sampling (48 points)\n",
    "\n",
    "Please complete this notebook by filling in the cells provided.\n",
    "\n",
    "!! Please submit the generated **zip** file and a **PDF** of your notebook. You can make a PDF from JupyterHub by 1. File->Print or 2. Command+P (on Mac), then choose 'Save to PDF'. This saves the file on your laptop. All problems will be manually graded, so no need to submit ipynb or zip file. **But you need to make sure all your code is visible and not cut off in the pdf. If we can't see your answer code for a coding problem, points may be deducted.**\n",
    "\n",
    "!! Points will also be **deducted** if you do not include your name and Onyen in the Markdown cell above!!\n"
   ]
  },
  {
   "cell_type": "markdown",
   "id": "cbd1bfe5",
   "metadata": {},
   "source": [
    "## Problem 1. Correlation/Causation (4 points)\n",
    "For each of the following cases, decide whether it is an example of **causality**, **correlation**, or **neither**.  For each answer, explain why in a single sentence."
   ]
  },
  {
   "cell_type": "markdown",
   "id": "7bb61095",
   "metadata": {},
   "source": [
    "* Case A. Roulette wheel spins and crap table dice rolls."
   ]
  },
  {
   "cell_type": "markdown",
   "id": "fe12c152",
   "metadata": {},
   "source": [
    "_Type your answer here, replacing this text._"
   ]
  },
  {
   "cell_type": "markdown",
   "id": "27ea1696",
   "metadata": {},
   "source": [
    "* Case B.\\\n",
    " ![](this_is_fine.jpg)"
   ]
  },
  {
   "cell_type": "markdown",
   "id": "ea687b4b",
   "metadata": {},
   "source": [
    "_Type your answer here, replacing this text._"
   ]
  },
  {
   "cell_type": "markdown",
   "id": "187bffd1",
   "metadata": {},
   "source": [
    "* Case C. Golf club swing speed and golf ball initial flight speed."
   ]
  },
  {
   "cell_type": "markdown",
   "id": "6214f8f0",
   "metadata": {},
   "source": [
    "_Type your answer here, replacing this text._"
   ]
  },
  {
   "cell_type": "markdown",
   "id": "f20f7efd",
   "metadata": {},
   "source": [
    "* Case D. Shoe size and reading ability."
   ]
  },
  {
   "cell_type": "markdown",
   "id": "dc3e37c9",
   "metadata": {},
   "source": [
    "_Type your answer here, replacing this text._"
   ]
  },
  {
   "cell_type": "markdown",
   "id": "1ab8de51",
   "metadata": {},
   "source": [
    "## Problem 2. Probability (11 points)\n",
    "A street \"vendor\" asks you if you'd like to play a game.  The game is:\n",
    "* pay \\$10 to roll a 6-sided die 3 times\n",
    "* if any of those rolls is a 2 he pays you a total of $12.  Remember, you already paid him $10 to play.\n",
    "\n",
    "Assume the street vendor's dice are fair.  (just for this problem; never assume this IRL!)"
   ]
  },
  {
   "cell_type": "markdown",
   "id": "94f106d0",
   "metadata": {},
   "source": [
    "**Problem 2.1 (1 point).** What are your chances losing the game? (of not rolling any 2s) (show how you calculate this)"
   ]
  },
  {
   "cell_type": "markdown",
   "id": "e65f754f",
   "metadata": {},
   "source": [
    "*Write your answers here*"
   ]
  },
  {
   "cell_type": "markdown",
   "id": "ee43da63",
   "metadata": {},
   "source": [
    "**Problem 2.2 (1 point).** What are your chances of winning the game? (rolling at least one 2) (show how you calculate this)"
   ]
  },
  {
   "cell_type": "markdown",
   "id": "e119fe99",
   "metadata": {},
   "source": [
    "*Write your answers here*"
   ]
  },
  {
   "cell_type": "markdown",
   "id": "f224e2a6",
   "metadata": {},
   "source": [
    "**Problem 2.3 (1 point).** What are your chances of rolling exactly one 2 in a game? (show how you calculate this)"
   ]
  },
  {
   "cell_type": "markdown",
   "id": "15cfc878",
   "metadata": {},
   "source": [
    "*Write your answers here*"
   ]
  },
  {
   "cell_type": "markdown",
   "id": "6460856a",
   "metadata": {},
   "source": [
    "**Problem 2.4 (1 point).** What are your chances of winning the game given that the first two rolls are not a 2? (show how you calculate this)"
   ]
  },
  {
   "cell_type": "markdown",
   "id": "bca54a5e",
   "metadata": {},
   "source": [
    "*Write your answers here*"
   ]
  },
  {
   "cell_type": "markdown",
   "id": "105ae883",
   "metadata": {},
   "source": [
    "**Problem 2.4 (1 point).** What are your chances of winning the game given that the first roll is not a 2? (show how you calculate this)"
   ]
  },
  {
   "cell_type": "markdown",
   "id": "dc36cea3",
   "metadata": {},
   "source": [
    "*Write your answers here*"
   ]
  },
  {
   "cell_type": "markdown",
   "id": "88cf0eec",
   "metadata": {},
   "source": [
    "**Problem 2.5 (1 point).** What are your chances of losing the game given that the first roll is not a 2? (show how you calculate this)"
   ]
  },
  {
   "cell_type": "markdown",
   "id": "d9780534",
   "metadata": {},
   "source": [
    "*Write your answers here*"
   ]
  },
  {
   "cell_type": "markdown",
   "id": "bfee396d",
   "metadata": {},
   "source": [
    "**Problem 2.6 (1 point).** What are your chances of losing the game given that none of the rolls are a 6? That is not a typo: given that none are a 6.  (show how you calculate this)"
   ]
  },
  {
   "cell_type": "markdown",
   "id": "869b2bd8",
   "metadata": {},
   "source": [
    "*Write your answers here*"
   ]
  },
  {
   "cell_type": "markdown",
   "id": "dcabe4e7",
   "metadata": {},
   "source": [
    "**Problem 2.7 (1 point).** If you play this game five times, what is the probability that you lose all five games? (show how you calculate this)"
   ]
  },
  {
   "cell_type": "markdown",
   "id": "73eb5677",
   "metadata": {},
   "source": [
    "*Write your answers here*"
   ]
  },
  {
   "cell_type": "markdown",
   "id": "d0011328",
   "metadata": {},
   "source": [
    "**Problem 2.8 (1 point).** What is the **expected value** of your profit or loss if you play the game once?"
   ]
  },
  {
   "cell_type": "markdown",
   "id": "04954095",
   "metadata": {},
   "source": [
    "*Write your answers here*"
   ]
  },
  {
   "cell_type": "markdown",
   "id": "bafaad34",
   "metadata": {},
   "source": [
    "**Problem 2.9 (1 point).** What is the **expected value** of your profit or loss if you play the game 5 times?"
   ]
  },
  {
   "cell_type": "markdown",
   "id": "38b308cc",
   "metadata": {},
   "source": [
    "*Write your answers here*"
   ]
  },
  {
   "cell_type": "markdown",
   "id": "3592164b",
   "metadata": {},
   "source": [
    "**Problem 2.10 (1 point).** If you play the game 100 times, are you guaranteed to win at least one of the games? If not, what is the probability that you win at least 1 game?"
   ]
  },
  {
   "cell_type": "markdown",
   "id": "16563dbb",
   "metadata": {},
   "source": [
    "*Write your answers here*"
   ]
  },
  {
   "cell_type": "markdown",
   "id": "dbc617eb",
   "metadata": {},
   "source": [
    "**Problem 2.11 (1 point).**  If you want to maximize your expected financial situation, would you play 0 times, 1 time, 10 times, or 100 times?"
   ]
  },
  {
   "cell_type": "markdown",
   "id": "be973a97",
   "metadata": {},
   "source": [
    "*Write your answers here*"
   ]
  },
  {
   "cell_type": "markdown",
   "id": "4e2cc901",
   "metadata": {},
   "source": [
    "## Problem 3. Probability, the Sequel: Revenge of the Data Scientist (4 points)\n",
    "You ask the street vendor if you can use your own die for the game, and he says \"sure, no problem\".  Same rules:\n",
    "* pay \\$10 to roll a 6-sided die 3 times\n",
    "* if any of those rolls is a 2 he pays you $12.  Remember, you already paid him $10 to play.\n",
    "\n",
    "It just so happens that you have a weighted die in your pocket has a **2/6 probability of rolling a 2** for each roll!"
   ]
  },
  {
   "cell_type": "markdown",
   "id": "40d826f0",
   "metadata": {},
   "source": [
    "**Problem 3.1 (1 point).** Now  what is the chances of losing the game if you get to roll your biased die? (show how you calculate this)"
   ]
  },
  {
   "cell_type": "markdown",
   "id": "2187a205",
   "metadata": {},
   "source": [
    "*[Write your result here]*"
   ]
  },
  {
   "cell_type": "markdown",
   "id": "a29bd903",
   "metadata": {},
   "source": [
    "**Problem 3.2 (1 point).** What is your chance of winning the game with your biased die? (show how you calculate this)"
   ]
  },
  {
   "cell_type": "markdown",
   "id": "8fad9b1a",
   "metadata": {},
   "source": [
    "*[Write your result here]*"
   ]
  },
  {
   "cell_type": "markdown",
   "id": "d92b1def",
   "metadata": {},
   "source": [
    "**Problem 3.3 (1 point).** What is the expected value of your profit or loss if you play the game once with your biased die?"
   ]
  },
  {
   "cell_type": "markdown",
   "id": "965b16bc",
   "metadata": {},
   "source": [
    "*[Write your result here]*"
   ]
  },
  {
   "cell_type": "markdown",
   "id": "2f924bbf",
   "metadata": {},
   "source": [
    "**Problem 3.4 (1 point).** For a weighted die that is likely to roll a certain number, usually the number on the opposite side of it will be less likely, making the probability distribution for the other five numbers not uniform.  For this game, does it matter that the distribution of the other 5 numbers is not uniform?  Why or why not?"
   ]
  },
  {
   "cell_type": "markdown",
   "id": "417177ac",
   "metadata": {},
   "source": [
    "*[Write your result here]*"
   ]
  },
  {
   "cell_type": "markdown",
   "id": "735b53d0",
   "metadata": {},
   "source": [
    "**Extra credit (1 point).**  Given the rules of the game, for the expected value to be 0, what would the probability of rolling a 2 for a single roll of the die have to be?  (this question does not use the biased die from your pocket; it is asking exactly how a die would have to be biased to create an expected value of 0) (show how you calculate this)"
   ]
  },
  {
   "cell_type": "markdown",
   "id": "8fe42bbf",
   "metadata": {},
   "source": [
    "*[Write your result here]*"
   ]
  },
  {
   "cell_type": "markdown",
   "id": "e0d354d3",
   "metadata": {},
   "source": [
    "## Problem 4. Let's Make a Game! (17 points)\n",
    "In this problem, you will be implementing the Monty Hall game.  Don't copy the code yet, but the flow of the game looks like below; note the 5 functions that the game calls.\n",
    "```Python\n",
    "def lets_make_a_deal():\n",
    "    # Function 1\n",
    "    winning_door = randomly_choose_winning_door() # randomly place the car behind one of the three doors\n",
    "\n",
    "    # Function 2\n",
    "    chosen_door = get_player_door_choice() # player chooses a door\n",
    "    print(f\"You chose door {chosen_door}.\")\n",
    "\n",
    "    # Function 3\n",
    "    switch_door = host_actions(chosen_door, winning_door) # host reveals a door and offers to switch\n",
    "\n",
    "    # Function 4\n",
    "    trade_decision = get_player_trade_decision() # player decides whether to switch\n",
    "    if trade_decision == True:\n",
    "        print(f\"You switch to door {switch_door}.\")\n",
    "    else:\n",
    "        print(f\"You stick with door {chosen_door}.\")\n",
    "\n",
    "    print(f\"The winning door is {winning_door}.\")\n",
    "\n",
    "    # Function 5\n",
    "    win = assess_win(chosen_door, winning_door, trade_decision)\n",
    "\n",
    "    return [chosen_door, trade_decision, win]\n",
    "```"
   ]
  },
  {
   "cell_type": "markdown",
   "id": "88b401cc",
   "metadata": {},
   "source": [
    "**Problem 4.1 (1 point).** List the names of all the variables in `lets_make_a_deal()`.  Hint: there are 5 variables."
   ]
  },
  {
   "cell_type": "markdown",
   "id": "7cf1719d",
   "metadata": {},
   "source": [
    "*Write the variables here*"
   ]
  },
  {
   "cell_type": "markdown",
   "id": "af6cdd7c",
   "metadata": {},
   "source": [
    "**Problem 4.2 (1 point).** First, you will implement Function 1, `randomly_choose_winning_door` to return a random number 1, 2, or 3.  I've gotten you started, but you need to finish the function definition."
   ]
  },
  {
   "cell_type": "code",
   "execution_count": null,
   "id": "b46417e0",
   "metadata": {
    "tags": [
     "otter_answer_cell"
    ]
   },
   "outputs": [],
   "source": [
    "# replace ... with your code\n",
    "import random\n",
    "\n",
    "def randomly_choose_winning_door():\n",
    "    door = ...\n",
    "    return door\n"
   ]
  },
  {
   "cell_type": "markdown",
   "id": "4ee880e7",
   "metadata": {
    "deletable": false,
    "editable": false
   },
   "source": [
    "**Problem 4.3 (1 point).** Next, implement Function 2, `get_player_door_choice` to ask the user to input their choice.  Again, I've gotten you started, but you need to finish the function definition."
   ]
  },
  {
   "cell_type": "code",
   "execution_count": null,
   "id": "6f808135",
   "metadata": {
    "tags": [
     "otter_answer_cell"
    ]
   },
   "outputs": [],
   "source": [
    "# replace ... with your code\n",
    "def get_player_door_choice():\n",
    "    chosen_door = ...\n",
    "    return int(chosen_door)\n"
   ]
  },
  {
   "cell_type": "markdown",
   "id": "9f560b1f",
   "metadata": {
    "deletable": false,
    "editable": false
   },
   "source": [
    "**Problem 4.4 (0 points).** The code for Function3 `host_actions` has a bit of complex logic, so I've included it for you below.  Note that in takes in `winning_door` and `player_door` then always reveals a losing door and offers a door for the player to switch to.  Make sure to run the cell below to define the function."
   ]
  },
  {
   "cell_type": "code",
   "execution_count": null,
   "id": "4575424e",
   "metadata": {
    "deletable": false,
    "editable": false
   },
   "outputs": [],
   "source": [
    "# run this cell\n",
    "def host_actions(player_door, winning_door):\n",
    "    doors = [1, 2, 3]\n",
    "    doors.remove(player_door) # remove the door the player chose\n",
    "    if player_door == winning_door: # if the player chose the winning door\n",
    "        reveal_door = random.choice(doors)  # reveal a random door with a goat\n",
    "        doors.remove(reveal_door)   # remove the revealed door\n",
    "        switch_door = doors[0]  # the remaining door is the one player can switch to\n",
    "    else:\n",
    "        doors.remove(winning_door) # remove the winning door, leaving the door with a goat\n",
    "        reveal_door = doors[0] # reveal the door with a goat\n",
    "        switch_door = winning_door # the winning door is the one player can switch to\n",
    "    print(f\"The host reveals door {reveal_door} which has a goat behind it and offers you the chance to switch to door {switch_door}.\")\n",
    "    return switch_door"
   ]
  },
  {
   "cell_type": "markdown",
   "id": "8c997874",
   "metadata": {
    "deletable": false,
    "editable": false
   },
   "source": [
    "**Problem 4.5 (1 point).** Next, implement Function 4, `get_player_trade_decision` to ask the user to input if they want to swap door or not.  Again, I've gotten you started, but you need to finish the function definition; it should return True if the player wants to swap or False if they want to keep their original choice."
   ]
  },
  {
   "cell_type": "code",
   "execution_count": null,
   "id": "4022bc5c",
   "metadata": {
    "tags": [
     "otter_answer_cell"
    ]
   },
   "outputs": [],
   "source": [
    "# replace ... with your code\n",
    "def get_player_trade_decision():\n",
    "    choice = ...\n",
    "    return choice == 'y'\n"
   ]
  },
  {
   "cell_type": "markdown",
   "id": "65643b58",
   "metadata": {
    "deletable": false,
    "editable": false
   },
   "source": [
    "**Problem 4.6 (2 points).** Next, implement the final function, Function 5, `assess_win` to return True if the player wins and False if they lose.  This one requires you to think through some logic.  Make sure to update the print statements too.\n",
    "\n",
    "Note you can determine if the player won with just 3 inputs; you don't need to know what door the host offered! Hmmm, seems the actions of the host don't have any bearing in the result."
   ]
  },
  {
   "cell_type": "code",
   "execution_count": null,
   "id": "1c7fc6fc",
   "metadata": {
    "tags": [
     "otter_answer_cell"
    ]
   },
   "outputs": [],
   "source": [
    "# replace ... with your code\n",
    "def assess_win(initially_chosen_door, winning_door, trade_decision):\n",
    "    if trade_decision == False: \n",
    "        # player chose not to switch\n",
    "        if initially_chosen_door == winning_door:\n",
    "            print(\"Replace this with something appropriate\")\n",
    "            win = ...\n",
    "        else:\n",
    "            print( \"Replace this with something appropriate\")\n",
    "            win = ...\n",
    "    else: \n",
    "        # player chose to switch\n",
    "        if initially_chosen_door != winning_door:\n",
    "            print(\"Replace this with something appropriate\")\n",
    "            win = ...\n",
    "        else:\n",
    "            print(\"Replace this with something appropriate\")\n",
    "            win = ...\n",
    "    return win"
   ]
  },
  {
   "cell_type": "markdown",
   "id": "6a2ca342",
   "metadata": {
    "deletable": false,
    "editable": false
   },
   "source": [
    "**Problem 4.7 (1 point).** Finally, let's play!  Copy the code for the function `lets_make_a_deal` in the cell below, and then write code to play test the game by calling the function in the second code cell.  If you've defined all the 5 functions correctly, the game should work!"
   ]
  },
  {
   "cell_type": "code",
   "execution_count": null,
   "id": "7d4b3154",
   "metadata": {
    "tags": [
     "otter_answer_cell"
    ]
   },
   "outputs": [],
   "source": [
    "# Copy the code for lets_make_a_deal from the start of this problem, replacing ...\n",
    "...\n"
   ]
  },
  {
   "cell_type": "code",
   "execution_count": null,
   "id": "a9dbe245",
   "metadata": {
    "tags": [
     "otter_answer_cell"
    ]
   },
   "outputs": [],
   "source": [
    "# Write the code to run and test out the game here.  Play as many times as you like!\n",
    "..."
   ]
  },
  {
   "cell_type": "markdown",
   "id": "97a45a63",
   "metadata": {
    "deletable": false,
    "editable": false
   },
   "source": [
    "**Problem 4.8 (1 point).** What type of data object does `lets_make_a_deal` return?"
   ]
  },
  {
   "cell_type": "markdown",
   "id": "6398b149",
   "metadata": {
    "deletable": false,
    "editable": false
   },
   "source": [
    "*Write your answer here*"
   ]
  },
  {
   "cell_type": "markdown",
   "id": "222b3f9f",
   "metadata": {
    "deletable": false,
    "editable": false
   },
   "source": [
    "**Problem 4.9 (2 points).** While playing is fun, it would take a lot of plays to gather an interesting amount of play.  Instead of doing that, rewrite Fuction 2 and Function 4 to use random choices instead of user input.  I've gotten you started again below"
   ]
  },
  {
   "cell_type": "code",
   "execution_count": null,
   "id": "16580a92",
   "metadata": {
    "tags": [
     "otter_answer_cell"
    ]
   },
   "outputs": [],
   "source": [
    "# replace ... with your code for both functions.\n",
    "def get_player_door_choice():\n",
    "    choice = ...\n",
    "    return choice\n",
    "\n",
    "def get_player_trade_decision():\n",
    "    trade = ...\n",
    "    return trade"
   ]
  },
  {
   "cell_type": "code",
   "execution_count": null,
   "id": "3add7ad1",
   "metadata": {
    "tags": [
     "otter_answer_cell"
    ]
   },
   "outputs": [],
   "source": [
    "# Write the code to run and test the game again.  Run this cell a few times to see the behavior.\n",
    "..."
   ]
  },
  {
   "cell_type": "markdown",
   "id": "5b0d660b",
   "metadata": {
    "deletable": false,
    "editable": false
   },
   "source": [
    "**Problem 4.10 (2 points).** Okay, let's do some data science by collecting lots of data and taking a look at it using  our data science tools!  Write code to collect 10,000 runs of `lets_make_a_deal` and add the results of each run to the table `simulation_results` which is defined below.  **Hint:** a very common pattern when doing data collection is adding a new row to the end of a table, which you can do using `.loc[]` as follows:\n",
    "```Python\n",
    "simulation_results.loc[len(simulation_results)] = new_row\n",
    "```  \n",
    "where `new_row` is a list of the values you want in the row you are adding."
   ]
  },
  {
   "cell_type": "code",
   "execution_count": null,
   "id": "27db533c",
   "metadata": {
    "tags": [
     "otter_answer_cell"
    ]
   },
   "outputs": [],
   "source": [
    "import pandas as pd\n",
    "simulation_results=pd.DataFrame( columns=['chosen door','trade?', 'win?'])\n",
    "# replace ... with the your code to collect 10000 runs of the game\n",
    "...\n",
    "simulation_results.head()\n"
   ]
  },
  {
   "cell_type": "markdown",
   "id": "c4a692f4",
   "metadata": {
    "deletable": false,
    "editable": false
   },
   "source": [
    "**Problem 4.11 (2 points).** Do the results behave as we might expect?  Make two seaborn plots in separate code cells, the first showing the number of wins for each `chosen door`, and the second showing the number of wins for each trade decision.  Make these plots using either groupby with barplot or or boolean indexing with countplot like we have done previously."
   ]
  },
  {
   "cell_type": "code",
   "execution_count": null,
   "id": "60be5539",
   "metadata": {
    "tags": [
     "otter_answer_cell"
    ]
   },
   "outputs": [],
   "source": [
    "import seaborn as sns\n",
    "# Replace ... to make a plot showing the number of wins for each chosen door.\n",
    "...\n"
   ]
  },
  {
   "cell_type": "code",
   "execution_count": null,
   "id": "d20fe9c0",
   "metadata": {
    "tags": [
     "otter_answer_cell"
    ]
   },
   "outputs": [],
   "source": [
    "# Replace ... to make a second plot showing the number of wins for each trade decision.\n",
    "..."
   ]
  },
  {
   "cell_type": "markdown",
   "id": "96b863a0",
   "metadata": {
    "deletable": false,
    "editable": false
   },
   "source": [
    "**Problem 4.12 (1 point).** Do these results match your expections and seem reasonable?  If not, maybe you made a mistake somewhere.  Another great way to evaluate results like these is to create a correlation table.  Write code below to generate a correlation table for `simulation_results` "
   ]
  },
  {
   "cell_type": "code",
   "execution_count": null,
   "id": "e5bc5e8c",
   "metadata": {
    "tags": [
     "otter_answer_cell"
    ]
   },
   "outputs": [],
   "source": [
    "# replace ... with your code to generate a correlation table for simulation_results\n",
    "corr_table = ...\n",
    "corr_table"
   ]
  },
  {
   "cell_type": "markdown",
   "id": "73d2b8be",
   "metadata": {
    "deletable": false,
    "editable": false
   },
   "source": [
    "**Problem 4.13 (1 point).** Looking at your table, what is the correlation between `chosen door` and `win?` and does it make sense?  Explain."
   ]
  },
  {
   "cell_type": "markdown",
   "id": "4dcc7b2d",
   "metadata": {
    "deletable": false,
    "editable": false
   },
   "source": [
    "*write your answer here*"
   ]
  },
  {
   "cell_type": "markdown",
   "id": "2e785180",
   "metadata": {
    "deletable": false,
    "editable": false
   },
   "source": [
    "**Problem 4.14 (1 point).** Looking at your table, what is the correlation between `trade?` and `win?` and does it make sense?  Explain."
   ]
  },
  {
   "cell_type": "markdown",
   "id": "87960f1d",
   "metadata": {
    "deletable": false,
    "editable": false
   },
   "source": [
    "*write your answer here*"
   ]
  },
  {
   "cell_type": "markdown",
   "id": "8260a087",
   "metadata": {
    "deletable": false,
    "editable": false
   },
   "source": [
    "**Extra credit (1 point).** Use seaborn to display a heatmap for `corr_table` that:\n",
    "* shows the correlation values in each of the grid cells\n",
    "* and uses the \"cividis\" color map\n",
    "* represents a correlation of 0 as gray."
   ]
  },
  {
   "cell_type": "code",
   "execution_count": null,
   "id": "453032b5",
   "metadata": {
    "tags": [
     "otter_answer_cell"
    ]
   },
   "outputs": [],
   "source": [
    "# replace ... to make your heatmap.\n",
    "..."
   ]
  },
  {
   "cell_type": "markdown",
   "id": "12ebb46f",
   "metadata": {},
   "source": [
    "## Problem 5.  Just how old are you? (12 points) \n",
    "Suppose you are asked to provide information about the **age of permanent residents of North Carolina**, so you decide to obtain age data for **100 people**."
   ]
  },
  {
   "cell_type": "markdown",
   "id": "116052ba",
   "metadata": {},
   "source": [
    "**Problem 5.1 (3 points).**\n",
    "Initially, you ask the age of the **first 100 people you meet on campus**.  \n",
    "1. What is this type of sampling called? Pick **one** closest and most specific answer.\n",
    "2. What are potential biases that could result from this sampling approach?  Name **at least two**.  \n",
    "3. Would you expect this to be a representative sample of North Carolina residents?"
   ]
  },
  {
   "cell_type": "markdown",
   "id": "c51dfc4a",
   "metadata": {},
   "source": [
    "*Write your answers here*"
   ]
  },
  {
   "cell_type": "markdown",
   "id": "77f5de2a",
   "metadata": {},
   "source": [
    "**Problem 5.2 (3 points).** \n",
    "You decide to look up the **proportions of race/ethnicity** for North Carolina permanent residents. You calculate the corresponding **proportions of 100**, then collect data again by wandering campus and asking the age of exactly that many people of each race/ethnicity.  \n",
    "\n",
    "For example, the [2020 US Census](https://www.census.gov/library/stories/state-by-state/north-carolina-population-change-between-census-decade.html) says the four largest NC race and ethnicity groups are White alone 62%, Black alone 12%, Hispanic 19%, and Asian alone 6%. So you would ask the age of the first 62 White people you meet, the first 12 Black people you meet, and so on.\n",
    "\n",
    "1. What type of sampling is this? Pick **one** closest and most specific answer.\n",
    "2. Would you expect it to be more or less representative than your previous data from Problem 5.1?  \n",
    "3. What are the most significant biases that would remain?  Name **at least two**."
   ]
  },
  {
   "cell_type": "markdown",
   "id": "df8faef2",
   "metadata": {},
   "source": [
    "*Write your answers here*"
   ]
  },
  {
   "cell_type": "markdown",
   "id": "92a5ac86",
   "metadata": {},
   "source": [
    "**Problem 5.3 (1 point).** \n",
    "Alternatively, suppose you get access to full census data for all residents of the state of North Carolina that includes age as an attribute.  You take the age of the **first 100 rows of the table** and drop the rest.  What potential concerns do you have with this approach?"
   ]
  },
  {
   "cell_type": "markdown",
   "id": "26082627",
   "metadata": {},
   "source": [
    "*Write your answer here*"
   ]
  },
  {
   "cell_type": "markdown",
   "id": "a954397d",
   "metadata": {},
   "source": [
    "**Problem 5.4 (3 points).** \n",
    "Finally, you decide to take **100 random samples from the census data** table.\n",
    "1. What type of sampling is this? Pick **one** closest and most specific answer.\n",
    "2. Would you expect this to be a representative sample of North Carolina residents?\n",
    "3. Do you think it matters if you allow replacement for this sampling?  Explain why or why not to receive credit."
   ]
  },
  {
   "cell_type": "markdown",
   "id": "e1c69824",
   "metadata": {},
   "source": [
    "*Write your answer here*"
   ]
  },
  {
   "cell_type": "markdown",
   "id": "01cb6b63",
   "metadata": {},
   "source": [
    "**Problem 5.5 (1 point).** For Problem 5.4 above, if the census data is in a table named `nc_people` that has a row for every person, write code that uses pandas to randomly sample 100 people from `nc_people` and put them in a new table named `nc_people_100`.  Write your code in the markdown cell below; don't write it in a code cell since it won't be runnable."
   ]
  },
  {
   "cell_type": "markdown",
   "id": "a72b93dc",
   "metadata": {},
   "source": [
    "*Write your answer here*"
   ]
  },
  {
   "cell_type": "markdown",
   "id": "1b00797e",
   "metadata": {},
   "source": [
    "**Problem 5.6 (1 point).** \n",
    "Which of the following is an example of sampling?\n",
    "1. Enumerating all the possible outcomes of drawing 1 card from a deck\n",
    "2. Counting the number of planets in our solar system\n",
    "3. Surveying a piece of property to mark its boundaries\n",
    "4. Asking people in your class who sit next to you their favorite color "
   ]
  },
  {
   "cell_type": "markdown",
   "id": "a3f0f918",
   "metadata": {},
   "source": [
    "*Write your answer here*"
   ]
  },
  {
   "cell_type": "markdown",
   "id": "99b52de5",
   "metadata": {
    "deletable": false,
    "editable": false
   },
   "source": [
    "## Submission\n",
    "\n",
    "Make sure you have run all cells in your notebook in order before running the cell below, so that all images/graphs appear in the output. The cell below will generate a zip file for you to submit. **Please save before exporting!**\n",
    "\n",
    "Submit PDF to Gradescope Homework6"
   ]
  },
  {
   "cell_type": "code",
   "execution_count": null,
   "id": "a1997dbc",
   "metadata": {
    "deletable": false,
    "editable": false
   },
   "outputs": [],
   "source": [
    "# Save your notebook first, then run this cell to export your submission.\n",
    "grader.export(pdf=False, run_tests=True)"
   ]
  },
  {
   "cell_type": "markdown",
   "id": "e1efc0f6",
   "metadata": {},
   "source": [
    " "
   ]
  }
 ],
 "metadata": {
  "kernelspec": {
   "display_name": "Python 3",
   "language": "python",
   "name": "python3"
  },
  "language_info": {
   "codemirror_mode": {
    "name": "ipython",
    "version": 3
   },
   "file_extension": ".py",
   "mimetype": "text/x-python",
   "name": "python",
   "nbconvert_exporter": "python",
   "pygments_lexer": "ipython3",
   "version": "3.12.10"
  },
  "otter": {
   "OK_FORMAT": true,
   "tests": {}
  }
 },
 "nbformat": 4,
 "nbformat_minor": 5
}
