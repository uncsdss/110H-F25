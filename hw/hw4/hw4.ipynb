{
 "cells": [
  {
   "cell_type": "code",
   "execution_count": null,
   "id": "bc3564bd",
   "metadata": {
    "deletable": false,
    "editable": false
   },
   "outputs": [],
   "source": [
    "# Initialize Otter\n",
    "import otter\n",
    "grader = otter.Notebook(\"hw4.ipynb\")"
   ]
  },
  {
   "cell_type": "markdown",
   "id": "89bedbf7-cb85-491c-a637-e6b30f1f41ab",
   "metadata": {
    "jp-MarkdownHeadingCollapsed": true
   },
   "source": [
    "## <u>Name:</u> [Your name] and (your onyen)\n",
    "\n",
    "I encourage discussing ideas and brainstorming with your peers, but the final text, code, and comments in this homework assignment MUST be 100% written by you as mentioned in syllabus.\n",
    "\n"
   ]
  },
  {
   "cell_type": "markdown",
   "id": "22d1e54e-16d4-4a59-8d04-889400a18948",
   "metadata": {},
   "source": [
    "# Homework 4: Distributions and Data Visualization  (32 points)\n",
    "\n",
    "Please complete this notebook by filling in the cells provided.\n",
    "\n",
    "!! Please submit the generated **zip** file and a **PDF** of your notebook. You can make a PDF from JupyterHub by 1. File->Print or 2. Command+P (on Mac), then choose 'Save to PDF'. This saves the file on your laptop. All problems will be manually graded, so no need to submit ipynb or zip file. **But you need to make sure all your code is visible and not cut off in the pdf. If we can't see your answer code for a coding problem, points may be deducted.**\n",
    "\n",
    "!! Points will also be **deducted** if you do not include your name and Onyen in the Markdown cell above!!\n"
   ]
  },
  {
   "cell_type": "markdown",
   "id": "481973e7",
   "metadata": {},
   "source": [
    "## Problem 1. Visualization: Looking for relationships (8 points)\n",
    "This problem deals with visualizing different attributes and also determining whether there might be a relationship between `Length` and `Age` and `Temperament` for ROUSes.\n",
    "\n",
    "Start by running the code below."
   ]
  },
  {
   "cell_type": "code",
   "execution_count": null,
   "id": "9338953f",
   "metadata": {},
   "outputs": [],
   "source": [
    "import pandas as pd\n",
    "import seaborn as sns\n",
    "rouses_df = pd.read_csv(\"ROUSes.csv\")"
   ]
  },
  {
   "cell_type": "markdown",
   "id": "2e0be900",
   "metadata": {},
   "source": [
    "**Problem 1.1 (1 point).** Starting off by visualizing the data is always a good option.  Use seaborn `scatterplot()` to plot the $Length$ (y axis) vs. $Age$ (x axis)."
   ]
  },
  {
   "cell_type": "code",
   "execution_count": null,
   "id": "a4bcba00",
   "metadata": {
    "tags": [
     "otter_answer_cell"
    ]
   },
   "outputs": [],
   "source": [
    "# write your code here, replacing ...\n",
    "..."
   ]
  },
  {
   "cell_type": "markdown",
   "id": "5d2ea6bc",
   "metadata": {},
   "source": [
    "**Problem 1.2 (1 point).** Use seaborn `barplot()` and pandas `groupby()` to create a vertical bar chart for the average $Age$ for each kind of $Temperament$.  Hint: seaborn functions can often directly display the result of many pandas functions.  There should be no black lines in your bars."
   ]
  },
  {
   "cell_type": "code",
   "execution_count": null,
   "id": "a657422a",
   "metadata": {
    "tags": [
     "otter_answer_cell"
    ]
   },
   "outputs": [],
   "source": [
    "# write your code here, replacing ...\n",
    "..."
   ]
  },
  {
   "cell_type": "markdown",
   "id": "5a685b67",
   "metadata": {},
   "source": [
    "**Problem 1.3 (1 point).** Use seaborn `countplot` to create a vertical bar chart for the counts of each kind of $Temperament$.  Hint: to find the options for countplot, you can type `sns.countplot?` or it might be easier to search online for the documentation to `countplot()`."
   ]
  },
  {
   "cell_type": "code",
   "execution_count": null,
   "id": "1e5d865d",
   "metadata": {
    "tags": [
     "otter_answer_cell"
    ]
   },
   "outputs": [],
   "source": [
    "# write your code here, replacing ...\n",
    "..."
   ]
  },
  {
   "cell_type": "markdown",
   "id": "217c67b6",
   "metadata": {},
   "source": [
    "**Problem 1.4 (2 points).** `countplot()` also has a nifty argument called `stat` that determines whether the count, the fraction, or the percentage are drawn.  For example, run this code:  "
   ]
  },
  {
   "cell_type": "code",
   "execution_count": null,
   "id": "79b46f3c",
   "metadata": {},
   "outputs": [],
   "source": [
    "# run this code to see the bar chart\n",
    "sns.countplot(data=rouses_df, y='Temperament', stat='percent')"
   ]
  },
  {
   "cell_type": "markdown",
   "id": "0c46f827",
   "metadata": {},
   "source": [
    "Use pandas `groupby()` and seaborn `barplot()` to create a horizontal bar chart that looks similar to the one from the code above.  In other words, shows the percent of each kind of $Temperament$, rounded to the nearest percent.  Don't worry about the ordering of the bars or the word percent in the x label.  You might want to refer back to **Problem 1.2** if you are stuck."
   ]
  },
  {
   "cell_type": "code",
   "execution_count": null,
   "id": "b06d454f",
   "metadata": {
    "tags": [
     "otter_answer_cell"
    ]
   },
   "outputs": [],
   "source": [
    "# write your code here, replacing ...\n",
    "..."
   ]
  },
  {
   "cell_type": "markdown",
   "id": "a1c57917",
   "metadata": {},
   "source": [
    "**Problem 1.5 (1 point).** Use seaborn `histplot()` to plot the density of $Age$."
   ]
  },
  {
   "cell_type": "code",
   "execution_count": null,
   "id": "50bef0ca",
   "metadata": {
    "tags": [
     "otter_answer_cell"
    ]
   },
   "outputs": [],
   "source": [
    "# write your code here, replacing ...\n",
    "..."
   ]
  },
  {
   "cell_type": "markdown",
   "id": "183884ba",
   "metadata": {},
   "source": [
    "**Problem 1.6 (2 points).**  If you were to make a density histogram with custom bins, and the first bin is [0, 5), what is the height of that bar in the histogram of $Age$? Write boolean indexing Python code to help compute it.  Hint: what are the units of the vertical axis for a density histogram?"
   ]
  },
  {
   "cell_type": "code",
   "execution_count": null,
   "id": "67abbc3a",
   "metadata": {
    "tags": [
     "otter_answer_cell"
    ]
   },
   "outputs": [],
   "source": [
    "# write your code here, replacing ...\n",
    "..."
   ]
  },
  {
   "cell_type": "markdown",
   "id": "374bf899",
   "metadata": {},
   "source": [
    "## Problem 2: Burritos Revisited (10 points)\n",
    "Let's revisit the `burritos` data from HW1.  Run the following code:\n"
   ]
  },
  {
   "cell_type": "code",
   "execution_count": null,
   "id": "19a905f5",
   "metadata": {},
   "outputs": [],
   "source": [
    "# Run this cell!!\n",
    "import pandas as pd\n",
    "import seaborn as sns\n",
    "import matplotlib.pyplot as plt"
   ]
  },
  {
   "cell_type": "markdown",
   "id": "38040ba4",
   "metadata": {},
   "source": [
    "**Problem 2.1 (1 point)** In the next cell, write two lines of code:\n",
    "\n",
    "* read the file `ratings.csv` and save the resulting table as a variable called `ratings`,\n",
    "* read the file `burritos_types.csv` and save the resulting table as a variable called `burritos_types`."
   ]
  },
  {
   "cell_type": "code",
   "execution_count": null,
   "id": "5e54e2f0",
   "metadata": {
    "otter": {
     "tests": [
      "q2.1"
     ]
    },
    "tags": [
     "otter_answer_cell"
    ]
   },
   "outputs": [],
   "source": [
    "# write your code here, replacing ... Use as many lines of code as you need.\n",
    "..."
   ]
  },
  {
   "cell_type": "code",
   "execution_count": null,
   "id": "846a8235",
   "metadata": {},
   "outputs": [],
   "source": [
    "ratings.head() # Run this to check"
   ]
  },
  {
   "cell_type": "code",
   "execution_count": null,
   "id": "e437e1e0",
   "metadata": {},
   "outputs": [],
   "source": [
    "burritos_types.head() # Run this to check"
   ]
  },
  {
   "cell_type": "markdown",
   "id": "249bd82a",
   "metadata": {},
   "source": [
    "**Problem 2.2 (8 points)**. Burrito costs.\n",
    "\n",
    "Take a look at the following plot:\n",
    "\n",
    "![burritos_avg](./burritos_avg.png)\n",
    "\n",
    "Recreate this plot by following these steps.\n",
    "\n",
    "* Calculate the average burrito cost **per restuarant** and save that resulting table as a variable called `mean_cost_per_restaurant`. **Hint**: First decide whether you need `ratings` or `burritos_types`. **Hint**: This is one line of code!\n",
    "\n",
    "* Determine whether this plot is a line plot, scatter plot, bar chart, or a histogram. Then try to create a plot that looks like this using the appropriate seaborn function. No worries if you don't get the `cost` legend on the corner or if you get a different color. **Hint**: This is one line!\n",
    "\n",
    "* Now add the extra things - x axis label, y axis label, and title. I used fontsize 14 for the axes labels and 16 for the title. **Hint**: Each of this is one line, total of three lines! If you're unsure, take a look at Lab 8. If you're doing something weird with the ticklabels, you've done the previous question incorrectly. \n",
    "\n",
    "* Determine what the units of the x and y axes should be, and make sure to replace the `(units??)` text placeholders in the labels with the appropriate text."
   ]
  },
  {
   "cell_type": "code",
   "execution_count": null,
   "id": "86db3264",
   "metadata": {},
   "outputs": [],
   "source": [
    "# Write your code here to implement all the steps above.  It will be multiple lines.\n"
   ]
  },
  {
   "cell_type": "markdown",
   "id": "2a43d3c9",
   "metadata": {},
   "source": [
    "**Problem 2.3 (1 points)** Without doing any calculations or coding, what would you say a typical burrito at a typical restaurant would cost in this town? In other words, if you walk into a random restaurant and buy a random burrito, roughly how much do you expect to pay?"
   ]
  },
  {
   "cell_type": "markdown",
   "id": "3daca3fb",
   "metadata": {},
   "source": [
    "[Write your answer here!]"
   ]
  },
  {
   "cell_type": "markdown",
   "id": "12c0d598",
   "metadata": {},
   "source": [
    "## Problem 3: Basketball (14 points)\n",
    "\n",
    "So I may or may not be contractually obligated to write at least one homework problem about basketball while at UNC.\n",
    "\n",
    "Using data from this website (https://www.sports-reference.com/cbb/schools/north-carolina/men/), let's take a look at the UNC Men's Basketball history."
   ]
  },
  {
   "cell_type": "code",
   "execution_count": null,
   "id": "4d23abaf",
   "metadata": {},
   "outputs": [],
   "source": [
    "# Run this cell!!\n",
    "import pandas as pd\n",
    "import seaborn as sns\n",
    "import matplotlib.pyplot as plt"
   ]
  },
  {
   "cell_type": "markdown",
   "id": "43988f5e",
   "metadata": {},
   "source": [
    "**Problem 3.1 (1 points)**. Read the file `unc_all.csv` and save the resulting table as a variable called `unc`. Next, read the file `unc_coaches.csv` and save the resulting table as a variable named `unc_coaches`."
   ]
  },
  {
   "cell_type": "code",
   "execution_count": null,
   "id": "d31bafcb",
   "metadata": {
    "otter": {
     "tests": [
      "q3.1"
     ]
    },
    "tags": [
     "otter_answer_cell"
    ]
   },
   "outputs": [],
   "source": [
    "# write your code here, replacing ... Use as many lines of code as you need.\n",
    "..."
   ]
  },
  {
   "cell_type": "code",
   "execution_count": null,
   "id": "17936440",
   "metadata": {},
   "outputs": [],
   "source": [
    "unc.head() # run this to check"
   ]
  },
  {
   "cell_type": "code",
   "execution_count": null,
   "id": "ea7094ae",
   "metadata": {},
   "outputs": [],
   "source": [
    "unc_coaches.head() # run this to check"
   ]
  },
  {
   "cell_type": "markdown",
   "id": "e194772e",
   "metadata": {},
   "source": [
    "**Problem 3.2 (2 points)** Take a look at the `Season` column in `unc`. Our goal is to create a new column called `Year` that is derived from the `Season` column such that it takes the \"beginning\" year of the season. For example, I want \"2023-24\" in Season -> 2023 in Year, \"2022-23\" in Season -> 2022 in Year, and so on. Note that I am being intentional with the use of quotation marks here; I want all values in my new Year column to be of data type `int`.\n",
    "\n",
    "**Hint**: You've seen examples in lecture where we took the first names and last names of the NBA players. This used the `.str.split(...).str.get(...)` notation. Find out what to replace each `...` with, and what should come before the `.str`.\n",
    "\n",
    "**Hint**: You can change the datatype of a column by using the `.astype(...)` notation. Same hint as above."
   ]
  },
  {
   "cell_type": "code",
   "execution_count": null,
   "id": "eb08d56f",
   "metadata": {
    "tags": [
     "otter_answer_cell"
    ]
   },
   "outputs": [],
   "source": [
    "# write your code here, replacing ...  Use as many lines of code as you need.\n",
    "..."
   ]
  },
  {
   "cell_type": "code",
   "execution_count": null,
   "id": "c550b10e",
   "metadata": {},
   "outputs": [],
   "source": [
    "unc.head() # run this to check"
   ]
  },
  {
   "cell_type": "markdown",
   "id": "e53cfc76",
   "metadata": {},
   "source": [
    "### Problem 3.3 (4 points) Understanding histograms.\n",
    "\n",
    "I made the following histogram of wins (with the `stat='density'` parameter):\n",
    "![wins_density.png](wins_density.png)\n",
    "\n",
    "The bins correspond to coaches, which you can check via the `From` and `To` columns of the `unc_coaches` table.\n",
    "\n",
    "**Problem 3.3.1 (1 point)** What should the unit be on the y axis?\n",
    "\n",
    "   "
   ]
  },
  {
   "cell_type": "markdown",
   "id": "a75f2160",
   "metadata": {},
   "source": [
    "[Write your answer here!]"
   ]
  },
  {
   "cell_type": "markdown",
   "id": "0f8e3494",
   "metadata": {},
   "source": [
    "**Problem 3.3.2 (1 point)** Based on this histogram, which coach won the **most games**? Write a short sentence to justify your answer."
   ]
  },
  {
   "cell_type": "markdown",
   "id": "7f7a7238",
   "metadata": {},
   "source": [
    "[Write your answer here!]"
   ]
  },
  {
   "cell_type": "markdown",
   "id": "6bf6ee1a",
   "metadata": {},
   "source": [
    "**Problem 3.3.3 (1 point)** Based on this histogram, which coach won the **most games per year**? Write a short sentence to justify your answer."
   ]
  },
  {
   "cell_type": "markdown",
   "id": "c4f8460b",
   "metadata": {},
   "source": [
    "[Write your answer here!]"
   ]
  },
  {
   "cell_type": "markdown",
   "id": "cec7345b",
   "metadata": {},
   "source": [
    "**Problme 3.3.4 (1 point)** Based on this histogram (and this histogram only), who would you vote as the most successful coach in the history of UNC Men's Basketball? Write a short sentence to justify your answer. "
   ]
  },
  {
   "cell_type": "markdown",
   "id": "829743d3",
   "metadata": {},
   "source": [
    "[Write your answer here!]"
   ]
  },
  {
   "cell_type": "markdown",
   "id": "c075d3bf",
   "metadata": {},
   "source": [
    "### Problem 3.4 (7 points). Let's make some barplots!\n",
    "\n",
    "**Problem 3.4.1 (2 points)** Make a barplot of the number of **wins** for each coach. Please use the horizontal orientation so that we can read the coach names easily. **Hint**: First decide which table has that information."
   ]
  },
  {
   "cell_type": "code",
   "execution_count": null,
   "id": "7755dd84",
   "metadata": {
    "tags": [
     "otter_answer_cell"
    ]
   },
   "outputs": [],
   "source": [
    "# write your code here, replacing ...  Use as many lines of code as you need.\n",
    "..."
   ]
  },
  {
   "cell_type": "markdown",
   "id": "81a9aa86",
   "metadata": {},
   "source": [
    "**Problem 3.4.2 (2 points)** Create a new column for the table called `W/Yr` that keeps track of how many **wins per year** each coach has accomplished. Then make a new horizontal barplot with this column.\n"
   ]
  },
  {
   "cell_type": "code",
   "execution_count": null,
   "id": "44588dba",
   "metadata": {
    "tags": [
     "otter_answer_cell"
    ]
   },
   "outputs": [],
   "source": [
    "# write your code here, replacing ...  Use as many lines of code as you need.\n",
    "..."
   ]
  },
  {
   "cell_type": "markdown",
   "id": "7b480155",
   "metadata": {},
   "source": [
    "**Problem 3.4.3 (1 point)** Compare the two barplots. What are the main differences you notice?\n"
   ]
  },
  {
   "cell_type": "markdown",
   "id": "8e3b8c38",
   "metadata": {},
   "source": [
    "[Write your answer here!]"
   ]
  },
  {
   "cell_type": "markdown",
   "id": "4e55810c",
   "metadata": {},
   "source": [
    "**Problem 3.4.4 (1 point)** Now compare the set of the two barplots to the histogram from Problem 3.3.  The bar plots display the wins and the wins/year; does the histogram also include this information?"
   ]
  },
  {
   "cell_type": "markdown",
   "id": "be7edcd8",
   "metadata": {},
   "source": [
    "[Write your answer here!]"
   ]
  },
  {
   "cell_type": "markdown",
   "id": "5e0e4155",
   "metadata": {},
   "source": [
    "**Problem 3.4.5 (1 point)** The bar charts include the names of the coaches, but the histogram does not; is there any information in the histogram that is not contained in the combination of the 2 bar charts?"
   ]
  },
  {
   "cell_type": "markdown",
   "id": "c7248896",
   "metadata": {},
   "source": [
    "[Write your answer here!]"
   ]
  },
  {
   "cell_type": "markdown",
   "id": "001c9ae4",
   "metadata": {
    "deletable": false,
    "editable": false
   },
   "source": [
    "## Submission\n",
    "\n",
    "Make sure you have run all cells in your notebook in order before running the cell below, so that all images/graphs appear in the output. The cell below will generate a zip file for you to submit. **Please save before exporting!**\n",
    "\n",
    "Submit zip file and PDF to Gradescope Homework4"
   ]
  },
  {
   "cell_type": "code",
   "execution_count": null,
   "id": "47c2b1bb",
   "metadata": {
    "deletable": false,
    "editable": false
   },
   "outputs": [],
   "source": [
    "# Save your notebook first, then run this cell to export your submission.\n",
    "grader.export(pdf=False, run_tests=True)"
   ]
  },
  {
   "cell_type": "markdown",
   "id": "b7007b85",
   "metadata": {},
   "source": [
    " "
   ]
  }
 ],
 "metadata": {
  "kernelspec": {
   "display_name": "Python 3",
   "language": "python",
   "name": "python3"
  },
  "language_info": {
   "codemirror_mode": {
    "name": "ipython",
    "version": 3
   },
   "file_extension": ".py",
   "mimetype": "text/x-python",
   "name": "python",
   "nbconvert_exporter": "python",
   "pygments_lexer": "ipython3",
   "version": "3.12.10"
  },
  "otter": {
   "OK_FORMAT": true,
   "tests": {
    "q2.1": {
     "name": "q2.1",
     "points": 1,
     "suites": [
      {
       "cases": [],
       "scored": true,
       "setup": "",
       "teardown": "",
       "type": "doctest"
      }
     ]
    },
    "q3.1": {
     "name": "q3.1",
     "points": 1,
     "suites": [
      {
       "cases": [],
       "scored": true,
       "setup": "",
       "teardown": "",
       "type": "doctest"
      }
     ]
    }
   }
  }
 },
 "nbformat": 4,
 "nbformat_minor": 5
}
