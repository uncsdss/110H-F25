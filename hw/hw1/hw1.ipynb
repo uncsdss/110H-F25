{
 "cells": [
  {
   "cell_type": "code",
   "execution_count": null,
   "id": "d90580bb",
   "metadata": {
    "deletable": false,
    "editable": false
   },
   "outputs": [],
   "source": [
    "# Initialize Otter\n",
    "import otter\n",
    "grader = otter.Notebook(\"hw1.ipynb\")"
   ]
  },
  {
   "cell_type": "markdown",
   "id": "077d9ac9",
   "metadata": {},
   "source": [
    "## <u>Name:</u> [Your name] and (your onyen)\n",
    "\n",
    "\n",
    "\n",
    "I encourage discussing ideas and brainstorming with your peers, but the final text, code, and comments in this homework assignment MUST be 100% written by you as mentioned in syllabus.\n",
    "\n"
   ]
  },
  {
   "cell_type": "markdown",
   "id": "2232705c-dbb6-4465-957f-478562c4577b",
   "metadata": {},
   "source": [
    "# Homework 1: Introduction to Programming (35 points)\n",
    "\n",
    "Please complete this notebook by filling in the cells provided. Be sure to run the cell above that loads the autograder, and be sure to save your notebook before generating your submission by running the last cell.  Also be sure to edit the cell above with your name and onyen!\n",
    "\n",
    "!! Please submit a PDF of your notebook and upload it to Gradescope along with the generated zip file.  If no PDF submitted, **points will be deducted**.  You can make a PDF from JupyterHub by 1. File->Print or 2. Command+P (on Mac), then choose 'Save to PDF'. This saves the file on your laptop.  You can then drag and drop the zip & pdf file together to the upload box on Gradescope.\n",
    "\n",
    "!! Points will also be **deducted** if you do not include your name and Onyen in the Markdown cell above!\n",
    "\n",
    "Note that you are not expected to understand all the Python code in this homework; you will mostly be executing code and analyzing the output, but you will not be writing extensive amounts of code.\n",
    "\n",
    "Also, note that this homework touches on many of the topics we will be covering in more depth during the course, so you are not expected to fully understand the concepts yet, but answer every question to the best of your ability.  Also, several of the questions do not have a single correct answer, so apply critical thinking when answering the questions.  We will discuss the homework problems and answers in class later."
   ]
  },
  {
   "cell_type": "markdown",
   "id": "f896e7b2-c8d3-4adf-9343-d042d0c4342a",
   "metadata": {},
   "source": [
    "**Deadline:**\n",
    "\n",
    "This assignment is **due Tuesday, 9/2 at 8m ET**.\n",
    "\n",
    "You should start early so that you have time to get help if you're stuck.\n",
    "\n",
    "**Note: The tests included in this homework are meant to help with learning, but are not thorough grading tests.  That means even though tests may say 100% passed, it doesn't mean your final grade will be 100%. We will be grading the homework manually.**\n",
    "\n"
   ]
  },
  {
   "cell_type": "markdown",
   "id": "bc9f975e",
   "metadata": {},
   "source": [
    "## 1. Data Types (5 points)\n",
    "\n"
   ]
  },
  {
   "cell_type": "markdown",
   "id": "08689c9f",
   "metadata": {},
   "source": [
    "**Problem 1.1 (1 point).** Understanding the purposes and advantages of data types is an important aspect of being a proficient programmer.  Four basic types are `int`, `float`, `bool`, and `str` (integer, floating point, Boolean, and string).  As mentioned in class, all numeric data can also be represented as a string. So why not just make all data a string and just have one type? "
   ]
  },
  {
   "cell_type": "markdown",
   "id": "eea8d9e1",
   "metadata": {},
   "source": [
    "_Type your answer here, replacing this text._\n"
   ]
  },
  {
   "cell_type": "markdown",
   "id": "9374507f",
   "metadata": {},
   "source": [
    "**Problem 1.2 (4 points).** Using each exactly once, which basic data type (`int`, `float`, `bool`, or `str`) would work for the following four kinds of information related to a home listing?"
   ]
  },
  {
   "cell_type": "markdown",
   "id": "ab372069",
   "metadata": {},
   "source": [
    "**Situation 1.** Lot size in acres"
   ]
  },
  {
   "cell_type": "markdown",
   "id": "3618e338",
   "metadata": {},
   "source": [
    "_Type your answer here, replacing this text._"
   ]
  },
  {
   "cell_type": "markdown",
   "id": "10e3b3a2",
   "metadata": {},
   "source": [
    "**Situation 2.** Street name and address"
   ]
  },
  {
   "cell_type": "markdown",
   "id": "ce8682ea",
   "metadata": {},
   "source": [
    "_Type your answer here, replacing this text._"
   ]
  },
  {
   "cell_type": "markdown",
   "id": "46c91885",
   "metadata": {},
   "source": [
    "**Situation 3.** Zip code"
   ]
  },
  {
   "cell_type": "markdown",
   "id": "a4ece296",
   "metadata": {},
   "source": [
    "_Type your answer here, replacing this text._"
   ]
  },
  {
   "cell_type": "markdown",
   "id": "c9dfe8cb",
   "metadata": {},
   "source": [
    "**Situation 4.** Is a single-story dwelling"
   ]
  },
  {
   "cell_type": "markdown",
   "id": "3be4046f",
   "metadata": {},
   "source": [
    "_Type your answer here, replacing this text._"
   ]
  },
  {
   "cell_type": "markdown",
   "id": "5801a1da",
   "metadata": {},
   "source": [
    "## 2. Python: Assignment and Function calls (8 points)  \n",
    "For each of the sentences below, write the corresponding Python code.  For example, for the sentence \"Assign the string `Rick is left-handed` to the variable named `inconceivable`\", the corresponding code would be:\n",
    "\n",
    "`inconceivable = 'Rick is left-handed'`\n",
    "\n",
    "Don't change any of the code that is provided, and **be sure to run the code cell below first!**"
   ]
  },
  {
   "cell_type": "code",
   "execution_count": null,
   "id": "5e7636d3",
   "metadata": {},
   "outputs": [],
   "source": [
    "# RUN THIS CELL BEFORE RUNNING OTHER CELLS IN PROBLEM 2\n",
    "import pandas as pd\n",
    "x = 5\n",
    "y = 6.01\n",
    "z = -4\n",
    "percentage = 42.4818\n",
    "name = 'Piper'"
   ]
  },
  {
   "cell_type": "markdown",
   "id": "310d1f1b",
   "metadata": {},
   "source": [
    "**Problem 2.1 (1 point).** Assign a value of 7.3 to a variable named `easypeasy`."
   ]
  },
  {
   "cell_type": "code",
   "execution_count": null,
   "id": "baa780db",
   "metadata": {
    "tags": [
     "otter_answer_cell"
    ]
   },
   "outputs": [],
   "source": [
    "# Write your code here by replacing the ...\n",
    "..."
   ]
  },
  {
   "cell_type": "code",
   "execution_count": null,
   "id": "b339dd1b",
   "metadata": {
    "deletable": false,
    "editable": false
   },
   "outputs": [],
   "source": [
    "grader.check(\"q2.1\")"
   ]
  },
  {
   "cell_type": "markdown",
   "id": "8f8ed06e",
   "metadata": {},
   "source": [
    "**Problem 2.2 (1 point).** Assign the sum of `x` and `y` to a variable named `mysum`."
   ]
  },
  {
   "cell_type": "code",
   "execution_count": null,
   "id": "5a4f4ffb",
   "metadata": {
    "tags": [
     "otter_answer_cell"
    ]
   },
   "outputs": [],
   "source": [
    "\n",
    "# Write your code here by replacing the ...\n",
    "..."
   ]
  },
  {
   "cell_type": "code",
   "execution_count": null,
   "id": "342e4079",
   "metadata": {
    "deletable": false,
    "editable": false
   },
   "outputs": [],
   "source": [
    "grader.check(\"q2.2\")"
   ]
  },
  {
   "cell_type": "markdown",
   "id": "c374addc",
   "metadata": {},
   "source": [
    "**Problem 2.3 (1 point).** Assign the value of `x` raised to the fifth power to a variable named `x_to_the_fifth` "
   ]
  },
  {
   "cell_type": "code",
   "execution_count": null,
   "id": "80fd4beb",
   "metadata": {
    "tags": [
     "otter_answer_cell"
    ]
   },
   "outputs": [],
   "source": [
    "# Write your code here by replacing the ...\n",
    "..."
   ]
  },
  {
   "cell_type": "code",
   "execution_count": null,
   "id": "28c2f38d",
   "metadata": {
    "deletable": false,
    "editable": false
   },
   "outputs": [],
   "source": [
    "grader.check(\"q2.3\")"
   ]
  },
  {
   "cell_type": "markdown",
   "id": "3d9cd56d",
   "metadata": {},
   "source": [
    "**Problem 2.4 (1 point).** Use code to concatenate the three strings `'Go'` and `' '` and `'Heels!'` and assign the result to a variable named `cheer_words` "
   ]
  },
  {
   "cell_type": "code",
   "execution_count": null,
   "id": "bfccecd9",
   "metadata": {
    "tags": [
     "otter_answer_cell"
    ]
   },
   "outputs": [],
   "source": [
    "\n",
    "# Write your code here by replacing the ...\n",
    "..."
   ]
  },
  {
   "cell_type": "code",
   "execution_count": null,
   "id": "16e17082",
   "metadata": {
    "deletable": false,
    "editable": false
   },
   "outputs": [],
   "source": [
    "grader.check(\"q2.4\")"
   ]
  },
  {
   "cell_type": "markdown",
   "id": "cb4b768a",
   "metadata": {},
   "source": [
    "**Problem 2.5 (1 point).** Using a built-in Python function, assign the data type of the variable `y` to the variable `detected_type`"
   ]
  },
  {
   "cell_type": "code",
   "execution_count": null,
   "id": "29f78e93",
   "metadata": {
    "tags": [
     "otter_answer_cell"
    ]
   },
   "outputs": [],
   "source": [
    "\n",
    "# Write your code here by replacing the ...\n",
    "..."
   ]
  },
  {
   "cell_type": "code",
   "execution_count": null,
   "id": "18b3cccd",
   "metadata": {
    "deletable": false,
    "editable": false
   },
   "outputs": [],
   "source": [
    "grader.check(\"q2.5\")"
   ]
  },
  {
   "cell_type": "markdown",
   "id": "6cc8ae68",
   "metadata": {},
   "source": [
    "**Problem 2.6 (1 point).** Using a built-in Python function, assign the length of the string variable `name` to the variable `name_length`."
   ]
  },
  {
   "cell_type": "code",
   "execution_count": null,
   "id": "cbef3066",
   "metadata": {
    "tags": [
     "otter_answer_cell"
    ]
   },
   "outputs": [],
   "source": [
    "\n",
    "# Write your code here by replacing the ...\n",
    "..."
   ]
  },
  {
   "cell_type": "code",
   "execution_count": null,
   "id": "28e13bcd",
   "metadata": {
    "deletable": false,
    "editable": false
   },
   "outputs": [],
   "source": [
    "grader.check(\"q2.6\")"
   ]
  },
  {
   "cell_type": "markdown",
   "id": "b8207278",
   "metadata": {},
   "source": [
    "**Problem 2.7 (1 point).** Using a built-in Python function, round the value of the variable `percentage` to the tenths place and assign the result to the variable `percentage_rounded`."
   ]
  },
  {
   "cell_type": "code",
   "execution_count": null,
   "id": "43e647e9",
   "metadata": {
    "tags": [
     "otter_answer_cell"
    ]
   },
   "outputs": [],
   "source": [
    "\n",
    "# Write your code here by replacing the ...\n",
    "..."
   ]
  },
  {
   "cell_type": "code",
   "execution_count": null,
   "id": "10e0c715",
   "metadata": {
    "deletable": false,
    "editable": false
   },
   "outputs": [],
   "source": [
    "grader.check(\"q2.7\")"
   ]
  },
  {
   "cell_type": "markdown",
   "id": "11f75867",
   "metadata": {},
   "source": [
    "**Problem 2.8 (1 point).** Using a built-in Python function, assign the minimum value of `x`, `y`, `z` to a variable named `lowest_coord` "
   ]
  },
  {
   "cell_type": "code",
   "execution_count": null,
   "id": "c0510d7f",
   "metadata": {
    "tags": [
     "otter_answer_cell"
    ]
   },
   "outputs": [],
   "source": [
    "\n",
    "# Write your code here by replacing the ...\n",
    "..."
   ]
  },
  {
   "cell_type": "code",
   "execution_count": null,
   "id": "6bedc7c2",
   "metadata": {
    "deletable": false,
    "editable": false
   },
   "outputs": [],
   "source": [
    "grader.check(\"q2.8\")"
   ]
  },
  {
   "cell_type": "markdown",
   "id": "116dc51f",
   "metadata": {},
   "source": [
    "## Problem 3. Python Lightning Round (10 points)\n",
    "For each of the sentences below, write the corresponding Python code.  For example, for the sentence \"Assign the string `Rick is left-handed` to the variable named `inconceivable`\", the corresponding code would be:\n",
    "\n",
    "`inconceivable = 'Rick is left-handed'`\n",
    "\n",
    "Don't change any of the code that is provided.  Note that answers may require more than a single line of code."
   ]
  },
  {
   "cell_type": "markdown",
   "id": "962c839c",
   "metadata": {},
   "source": [
    "**Problem 3.1 (1 point).** Assign 8.2 to two variables named `a` and `b` then assign the sum of `a` and `b` to a variable named `c`."
   ]
  },
  {
   "cell_type": "code",
   "execution_count": null,
   "id": "d499e589",
   "metadata": {
    "otter": {
     "tests": [
      "q3.1"
     ]
    },
    "tags": [
     "otter_answer_cell"
    ]
   },
   "outputs": [],
   "source": [
    "..."
   ]
  },
  {
   "cell_type": "markdown",
   "id": "a218631e",
   "metadata": {},
   "source": [
    "**Problem 3.2 (1 point).** Assign a list of 4 consecutive even integers starting with 12 to a variable named `some_evens`."
   ]
  },
  {
   "cell_type": "code",
   "execution_count": null,
   "id": "673a599c",
   "metadata": {
    "otter": {
     "tests": [
      "q3.2"
     ]
    },
    "tags": [
     "otter_answer_cell"
    ]
   },
   "outputs": [],
   "source": [
    "# Write your code here by replacing the ...\n",
    "..."
   ]
  },
  {
   "cell_type": "markdown",
   "id": "0bc8c9c5",
   "metadata": {},
   "source": [
    "**Problem 3.3 (1 point).** To a variable named `my_items`, assign a list that contains -7, the string 'notebook', and 4.8 (in this order)."
   ]
  },
  {
   "cell_type": "code",
   "execution_count": null,
   "id": "21df6caa",
   "metadata": {
    "otter": {
     "tests": [
      "q3.3"
     ]
    },
    "tags": [
     "otter_answer_cell"
    ]
   },
   "outputs": [],
   "source": [
    "..."
   ]
  },
  {
   "cell_type": "markdown",
   "id": "002f1bf1",
   "metadata": {},
   "source": [
    "**Problem 3.4 (1 point).** Assign a range of integers to a variable named `buzz` that starts at 7 and steps by 7 up to and including 35."
   ]
  },
  {
   "cell_type": "code",
   "execution_count": null,
   "id": "fbfb8866",
   "metadata": {
    "tags": [
     "otter_answer_cell"
    ]
   },
   "outputs": [],
   "source": [
    "..."
   ]
  },
  {
   "cell_type": "code",
   "execution_count": null,
   "id": "dde2e52a",
   "metadata": {
    "deletable": false,
    "editable": false
   },
   "outputs": [],
   "source": [
    "grader.check(\"q3.4\")"
   ]
  },
  {
   "cell_type": "markdown",
   "id": "ca26e265",
   "metadata": {},
   "source": [
    "**Problem 3.5 (1 points).** Assign the last item from a list named `many_things` to a variable named `last_one`.  Don't change any of the given code, only replace the three dots."
   ]
  },
  {
   "cell_type": "code",
   "execution_count": null,
   "id": "eb58456f",
   "metadata": {
    "otter": {
     "tests": [
      "q3.5"
     ]
    },
    "tags": [
     "otter_answer_cell"
    ]
   },
   "outputs": [],
   "source": [
    "import random\n",
    "many_things = random.sample(range(0, 11), 10)\n",
    "last_one = ..."
   ]
  },
  {
   "cell_type": "markdown",
   "id": "77b47ef1",
   "metadata": {},
   "source": [
    "**Problem 3.6 (1 points).** Assign to a variable named `third_one` the third item from a list named `more_things`"
   ]
  },
  {
   "cell_type": "code",
   "execution_count": null,
   "id": "099759b5",
   "metadata": {
    "otter": {
     "tests": [
      "q3.6"
     ]
    },
    "tags": [
     "otter_answer_cell"
    ]
   },
   "outputs": [],
   "source": [
    "import random\n",
    "more_things = random.sample(range(100, 121), 10)\n",
    "third_one = ..."
   ]
  },
  {
   "cell_type": "markdown",
   "id": "78e8dfda",
   "metadata": {},
   "source": [
    "**Problem 3.7 (2 points).** Write code to loop through all the elements in a list of strings named `lots_of_words` and increment a variable named `big_word_count` by a value of 1 for each string that is more than 4 letters long.  Remember, don't change any of the given code."
   ]
  },
  {
   "cell_type": "code",
   "execution_count": null,
   "id": "91c03c41",
   "metadata": {
    "otter": {
     "tests": [
      "q3.7"
     ]
    },
    "tags": [
     "otter_answer_cell"
    ]
   },
   "outputs": [],
   "source": [
    "lots_of_words = \"This is an awful large number of words, don't-ya-know\".split()\n",
    "big_word_count = 0\n",
    "..."
   ]
  },
  {
   "cell_type": "markdown",
   "id": "d01f1807",
   "metadata": {},
   "source": [
    "**Problem 3.8 (2 points).** Write code to to loop through all the strings in a list of strings named `many_words` and print the string, the index of the string in the list, and the string converted to upper case.  Remember, don't change any of the given code.  This question will be graded manually."
   ]
  },
  {
   "cell_type": "code",
   "execution_count": null,
   "id": "fc5b31bb",
   "metadata": {
    "tags": [
     "otter_answer_cell"
    ]
   },
   "outputs": [],
   "source": [
    "many_words = \"So many words, such little oxygen in the room.\".split()\n",
    "..."
   ]
  },
  {
   "cell_type": "markdown",
   "id": "897d1aa6",
   "metadata": {},
   "source": [
    "## Problem 4. Control flow (12 points) \n",
    "In this problem you will be building on what you learned during Lab 3, so fully completing that is recommended.  You'll be writing code to loop through a list and perform different actions depending on the type of the element in the list, which is a common programming pattern.  This question will be manually graded.\n",
    "\n",
    "\n"
   ]
  },
  {
   "cell_type": "markdown",
   "id": "57c8b0c4",
   "metadata": {},
   "source": [
    "**Problem 4.1 (2 points).** First, write code to loop through a list named `employee_data` and print the type of every item in the list."
   ]
  },
  {
   "cell_type": "code",
   "execution_count": null,
   "id": "bbb176e7",
   "metadata": {
    "tags": [
     "otter_answer_cell"
    ]
   },
   "outputs": [],
   "source": [
    "employee_data = ['Rick', 6, True, 8.6, 'Piper', 24.3, range(5), 42]\n",
    "# write your code here by replacing the \"...\" with your solution\n",
    "..."
   ]
  },
  {
   "cell_type": "markdown",
   "id": "dd42dedb",
   "metadata": {},
   "source": [
    "**Problem 4.2 (2 points).** Next, rewrite your loop again below, but instead of printing the type of every one of the items in the list, test if the type of the item is a string, and if so, print the item."
   ]
  },
  {
   "cell_type": "code",
   "execution_count": null,
   "id": "69ee8159",
   "metadata": {
    "tags": [
     "otter_answer_cell"
    ]
   },
   "outputs": [],
   "source": [
    "employee_data = ['Rick', 6, True, 8.6, 'Piper', 24.3, range(5), 42]\n",
    "# write your code here by replacing the \"...\" with your solution\n",
    "..."
   ]
  },
  {
   "cell_type": "markdown",
   "id": "f4a06c87",
   "metadata": {},
   "source": [
    "**Problem 4.3 (2 points).** Next, copy your code from Problem 4.2 and add to it another test.  In the case that the type of the item was not `str`, test if the type is `int`, and if it is, add the item to `int_total` and print \"Running total\" followed by `int_total` on the same line.  You shouldn't need to change any of the code you've already written, just add more code.  Hint: the output when you run your completed code should look like this:\n",
    "```\n",
    "Rick\n",
    "Running total 6\n",
    "Piper\n",
    "Running total 48\n",
    "```"
   ]
  },
  {
   "cell_type": "code",
   "execution_count": null,
   "id": "aa58880d",
   "metadata": {
    "tags": [
     "otter_answer_cell"
    ]
   },
   "outputs": [],
   "source": [
    "employee_data = ['Rick', 6, True, 8.6, 'Piper', 24.3, range(5), 42]\n",
    "int_total = 0\n",
    "# write your code here by replacing the \"...\" with your solution\n",
    "..."
   ]
  },
  {
   "cell_type": "markdown",
   "id": "4099eb62",
   "metadata": {},
   "source": [
    "**Problem 4.4 (1 point).** Copy your code from Problem 4.3, and add another test to it.  In the case the item is not a string or int, test if the item is a float and if so, increment `float_count` and add the item to `float_total` and print \"Running average\" followed by `float_total` divided by `float_count` on the same line."
   ]
  },
  {
   "cell_type": "code",
   "execution_count": null,
   "id": "287e257b",
   "metadata": {
    "tags": [
     "otter_answer_cell"
    ]
   },
   "outputs": [],
   "source": [
    "employee_data = ['Rick', 6, True, 8.6, 'Piper', 24.3, range(5), 42]\n",
    "int_total = 0\n",
    "float_total = 0\n",
    "float_count = 0\n",
    "# write your code here by replacing the \"...\" with your solution\n",
    "..."
   ]
  },
  {
   "cell_type": "markdown",
   "id": "845dbfda",
   "metadata": {},
   "source": [
    "**Problem 4.5 (1 point).** Copy your from Problem 4.4, and this time add code that prints \"Unprocessed item\" for any type that you didn't already test for.  Hint: you don't need to add any new test for this."
   ]
  },
  {
   "cell_type": "code",
   "execution_count": null,
   "id": "f57ec6ff",
   "metadata": {
    "tags": [
     "otter_answer_cell"
    ]
   },
   "outputs": [],
   "source": [
    "employee_data = ['Rick', 6, True, 8.6, 'Piper', 24.3, range(5), 42]\n",
    "int_total = 0\n",
    "float_total = 0\n",
    "float_count = 0\n",
    "# write your code here by replacing the \"...\" with your solution\n",
    "..."
   ]
  },
  {
   "cell_type": "markdown",
   "id": "e9557749",
   "metadata": {},
   "source": [
    "**Problem 4.6 (2 points).** Oops!  We actually are going to handle one more type.  Copy your code from Problem 4.5, and again you will just be adding to it.  Add a test to see if the item is type `range`, and if it is print \"Counting...\" then print every item in the range on a separate line.  Hint: the output should look like this:\n",
    "````\n",
    "Rick\n",
    "Running total 6\n",
    "Unprocessed item\n",
    "Running average 8.6\n",
    "Piper\n",
    "Running average 16.45\n",
    "Counting...\n",
    "0\n",
    "1\n",
    "2\n",
    "3\n",
    "4\n",
    "Running total 48\n",
    "````"
   ]
  },
  {
   "cell_type": "code",
   "execution_count": null,
   "id": "85f9de6d",
   "metadata": {
    "tags": [
     "otter_answer_cell"
    ]
   },
   "outputs": [],
   "source": [
    "employee_data = ['Rick', 6, True, 8.6, 'Piper', 24.3, range(5), 42]\n",
    "int_total = 0\n",
    "float_total = 0\n",
    "float_count = 0\n",
    "# write your code here by replacing the \"...\" with your solution\n",
    "..."
   ]
  },
  {
   "cell_type": "markdown",
   "id": "08153334",
   "metadata": {},
   "source": [
    "**Problem 4.7 (2 points).** Okay!  One last bit of code to write.  Lists can contain objects of various types...including other lists!  For this problem, you'll be using all your code from Problem 4.6, but you'll be \"nesting it\" inside another `for` loop.  The \"outside\" loop will process a list named `company_data` that contains the data for multiple employees, with each employee's data in a list (just like you've been using).  The \"inside\" loop is your code from Problem 4.6.  One more thing (really?!?): use `enumerate` with the outer `for` loop and print \"Employee #\" followed by the index of the outer loop before executing the inner loop."
   ]
  },
  {
   "cell_type": "code",
   "execution_count": null,
   "id": "f9dd5f7a",
   "metadata": {
    "tags": [
     "otter_answer_cell"
    ]
   },
   "outputs": [],
   "source": [
    "company_data = [['Rick', 6, True, 8.6, 'Piper', 24.3, range(5), 42],\n",
    "                ['Harlin', False, 'Puppycat', 9.3, range(6,0,-2)],\n",
    "                ['Chudi', 1,2,3, 'No pets']]\n",
    "# write the code for the outer loop here by replacing the \"...\" with your solution\n",
    "...\n",
    "    int_total = 0\n",
    "    float_total = 0\n",
    "    float_count = 0\n",
    "# write the code for the inner loop here (your code from Problem 2.7)\n",
    "...\n"
   ]
  },
  {
   "cell_type": "markdown",
   "id": "a0707e06",
   "metadata": {},
   "source": [
    "Hint: the final output should look like this:\n",
    "````\n",
    "Employee # 0\n",
    "Rick\n",
    "Running total 6\n",
    "Unprocessed item\n",
    "Running average 8.6\n",
    "Piper\n",
    "Running average 16.45\n",
    "Counting...\n",
    "0\n",
    "1\n",
    "2\n",
    "3\n",
    "4\n",
    "Running total 48\n",
    "Employee # 1\n",
    "Harlin\n",
    "Unprocessed item\n",
    "Puppycat\n",
    "Running average 9.3\n",
    "Counting...\n",
    "6\n",
    "4\n",
    "2\n",
    "Employee # 2\n",
    "Chudi\n",
    "Running total 1\n",
    "Running total 3\n",
    "Running total 6\n",
    "No pets\n",
    "````"
   ]
  },
  {
   "cell_type": "markdown",
   "id": "fe27f058",
   "metadata": {},
   "source": [
    "You're all done with Homework 1!\n",
    "\n",
    "**Important submission steps:**\n",
    "\n",
    "1. Run the tests and verify that they all pass.\n",
    "2. Choose **Save Notebook** from the **File** menu, then **run the final cell**.\n",
    "3. Click the link to download the zip file.\n",
    "4. Go to Canvas and submit the zip file.\n",
    "**It is your responsibility to make sure your work is saved before running the last cell.**"
   ]
  },
  {
   "cell_type": "markdown",
   "id": "2dc6ba11",
   "metadata": {
    "deletable": false,
    "editable": false
   },
   "source": [
    "## Submission\n",
    "\n",
    "Make sure you have run all cells in your notebook in order before running the cell below, so that all images/graphs appear in the output. The cell below will generate a zip file for you to submit. **Please save before exporting!**\n",
    "\n",
    "Submit zip file and PDF to Gradescope Homework1"
   ]
  },
  {
   "cell_type": "code",
   "execution_count": null,
   "id": "b2271b83",
   "metadata": {
    "deletable": false,
    "editable": false
   },
   "outputs": [],
   "source": [
    "# Save your notebook first, then run this cell to export your submission.\n",
    "grader.export(pdf=False, run_tests=True)"
   ]
  },
  {
   "cell_type": "markdown",
   "id": "1b02b923",
   "metadata": {},
   "source": [
    " "
   ]
  }
 ],
 "metadata": {
  "kernelspec": {
   "display_name": "Python 3",
   "language": "python",
   "name": "python3"
  },
  "language_info": {
   "codemirror_mode": {
    "name": "ipython",
    "version": 3
   },
   "file_extension": ".py",
   "mimetype": "text/x-python",
   "name": "python",
   "nbconvert_exporter": "python",
   "pygments_lexer": "ipython3",
   "version": "3.11.9"
  },
  "otter": {
   "OK_FORMAT": true,
   "tests": {
    "q2.1": {
     "name": "q2.1",
     "points": 1,
     "suites": [
      {
       "cases": [
        {
         "code": ">>> assert easypeasy == 7.3\n",
         "hidden": false,
         "locked": false
        }
       ],
       "scored": true,
       "setup": "",
       "teardown": "",
       "type": "doctest"
      }
     ]
    },
    "q2.2": {
     "name": "q2.2",
     "points": 1,
     "suites": [
      {
       "cases": [
        {
         "code": ">>> assert x == 5\n>>> assert y == 6.01\n>>> assert mysum == 11.01\n",
         "hidden": false,
         "locked": false
        }
       ],
       "scored": true,
       "setup": "",
       "teardown": "",
       "type": "doctest"
      }
     ]
    },
    "q2.3": {
     "name": "q2.3",
     "points": 1,
     "suites": [
      {
       "cases": [
        {
         "code": ">>> assert x == 5\n",
         "hidden": false,
         "locked": false
        }
       ],
       "scored": true,
       "setup": "",
       "teardown": "",
       "type": "doctest"
      }
     ]
    },
    "q2.4": {
     "name": "q2.4",
     "points": 1,
     "suites": [
      {
       "cases": [
        {
         "code": ">>> assert cheer_words == 'Go Heels!'\n",
         "hidden": false,
         "locked": false
        }
       ],
       "scored": true,
       "setup": "",
       "teardown": "",
       "type": "doctest"
      }
     ]
    },
    "q2.5": {
     "name": "q2.5",
     "points": 1,
     "suites": [
      {
       "cases": [
        {
         "code": ">>> assert y == 6.01\n>>> assert detected_type == float\n",
         "hidden": false,
         "locked": false
        }
       ],
       "scored": true,
       "setup": "",
       "teardown": "",
       "type": "doctest"
      }
     ]
    },
    "q2.6": {
     "name": "q2.6",
     "points": 1,
     "suites": [
      {
       "cases": [
        {
         "code": ">>> assert name_length == len(name)\n",
         "hidden": false,
         "locked": false
        }
       ],
       "scored": true,
       "setup": "",
       "teardown": "",
       "type": "doctest"
      }
     ]
    },
    "q2.7": {
     "name": "q2.7",
     "points": 1,
     "suites": [
      {
       "cases": [
        {
         "code": ">>> assert percentage == 42.4818\n>>> assert percentage_rounded == 42.5\n",
         "hidden": false,
         "locked": false
        }
       ],
       "scored": true,
       "setup": "",
       "teardown": "",
       "type": "doctest"
      }
     ]
    },
    "q2.8": {
     "name": "q2.8",
     "points": 1,
     "suites": [
      {
       "cases": [
        {
         "code": ">>> assert lowest_coord == -4\n>>> assert lowest_coord == min(x, y, z)\n",
         "hidden": false,
         "locked": false
        }
       ],
       "scored": true,
       "setup": "",
       "teardown": "",
       "type": "doctest"
      }
     ]
    },
    "q3.1": {
     "name": "q3.1",
     "points": 1,
     "suites": [
      {
       "cases": [],
       "scored": true,
       "setup": "",
       "teardown": "",
       "type": "doctest"
      }
     ]
    },
    "q3.2": {
     "name": "q3.2",
     "points": 1,
     "suites": [
      {
       "cases": [],
       "scored": true,
       "setup": "",
       "teardown": "",
       "type": "doctest"
      }
     ]
    },
    "q3.3": {
     "name": "q3.3",
     "points": 1,
     "suites": [
      {
       "cases": [],
       "scored": true,
       "setup": "",
       "teardown": "",
       "type": "doctest"
      }
     ]
    },
    "q3.4": {
     "name": "q3.4",
     "points": 1,
     "suites": [
      {
       "cases": [
        {
         "code": ">>> assert type(buzz) == range\n",
         "hidden": false,
         "locked": false
        }
       ],
       "scored": true,
       "setup": "",
       "teardown": "",
       "type": "doctest"
      }
     ]
    },
    "q3.5": {
     "name": "q3.5",
     "points": 1,
     "suites": [
      {
       "cases": [],
       "scored": true,
       "setup": "",
       "teardown": "",
       "type": "doctest"
      }
     ]
    },
    "q3.6": {
     "name": "q3.6",
     "points": 1,
     "suites": [
      {
       "cases": [],
       "scored": true,
       "setup": "",
       "teardown": "",
       "type": "doctest"
      }
     ]
    },
    "q3.7": {
     "name": "q3.7",
     "points": 2,
     "suites": [
      {
       "cases": [],
       "scored": true,
       "setup": "",
       "teardown": "",
       "type": "doctest"
      }
     ]
    }
   }
  }
 },
 "nbformat": 4,
 "nbformat_minor": 5
}
