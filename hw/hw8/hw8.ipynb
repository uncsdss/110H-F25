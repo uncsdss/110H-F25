{
 "cells": [
  {
   "cell_type": "code",
   "execution_count": null,
   "id": "7dc913ca",
   "metadata": {
    "deletable": false,
    "editable": false
   },
   "outputs": [],
   "source": [
    "# Initialize Otter\n",
    "import otter\n",
    "grader = otter.Notebook(\"hw8.ipynb\")"
   ]
  },
  {
   "cell_type": "markdown",
   "id": "1e2061b4",
   "metadata": {},
   "source": [
    "## Name: [Your name] and (your onyen)\n",
    "\n",
    "I encourage discussing ideas and brainstorming with your peers, but the final text, code, and comments in this homework assignment MUST be 100% written by you as mentioned in syllabus.\n",
    "\n"
   ]
  },
  {
   "cell_type": "markdown",
   "id": "7a3a32e5",
   "metadata": {},
   "source": [
    "# Homework 8: NN and Linear Regression (38 points)\n",
    "\n",
    "Please complete this notebook by filling in the cells provided.\n",
    "\n",
    "!! Please submit a zip and a PDF of your notebook. You can make a PDF from JupyterHub by 1. File->Print or 2. Command+P (on Mac), then choose 'Save to PDF'. This saves the file on your laptop. Most problems will be manually graded, but there a couple autograded questions.  No private autograded, so if you pass in JupyterHub, you'll get full Autograder credit on Gradescope. Please make sure all your code is visible and not cut off in the pdf.\n",
    "\n",
    "!! Points will also be deducted if you do not include your name and Onyen in the Markdown cell above!!"
   ]
  },
  {
   "cell_type": "markdown",
   "id": "a4c75e03",
   "metadata": {},
   "source": [
    "## Problem 1. Are you my neighbor? (13 points)\n",
    "In this problem, you will be manually implementing the nearest neighbor algorithm in Python using the penguins dataset.  Run the following cell to load the data:"
   ]
  },
  {
   "cell_type": "code",
   "execution_count": null,
   "id": "0ed61926",
   "metadata": {},
   "outputs": [],
   "source": [
    "import pandas as pd\n",
    "penguins = pd.read_csv(\"palmer_penguins.csv\") # Load the penguins dataset from the demo folder\n",
    "penguins.head()"
   ]
  },
  {
   "cell_type": "markdown",
   "id": "e333d4bb",
   "metadata": {},
   "source": [
    "### **Problem 1.1 (2 points)**\n",
    "Suppose you stumble upon a penguin in a zoo, and you are able to measure it's Culmen Length (49.3) and Culmen Depth (18.2) but nothing else.  In this problem, you will use the nearest neighbor (NN) algorithm to predict that penguin's Sex, Species, and what Island it comes from.  Since you know that nearest neighbor uses distance to find the neighbor, you start by writing a distance function.  Complete the code for the following distance function, replacing ..."
   ]
  },
  {
   "cell_type": "code",
   "execution_count": null,
   "id": "59df773a",
   "metadata": {
    "tags": [
     "otter_answer_cell"
    ]
   },
   "outputs": [],
   "source": [
    "# we will need sqrt function, so we import math\n",
    "import math \n",
    "\n",
    "# Compute the distance between two lists of numbers.\n",
    "def compute_distance(list1, list2, distance_type):\n",
    "    # list1 (list of float): The first list of numbers.\n",
    "    # list2 (list of float): The second list of numbers.\n",
    "    # distance_type (str): The type of distance to compute. Currently only 'euclidean' is supported.\n",
    "    if (len(list1) != len(list2)):\n",
    "        raise ValueError(\"Lists must be of the same length\")\n",
    "    if distance_type == 'euclidean':\n",
    "        sum = 0\n",
    "        for i in range(len(list1)):\n",
    "            ...\n",
    "        return math.sqrt(sum)\n",
    "    else:\n",
    "        raise ValueError(\"Unsupported distance type: {}\".format(distance_type))\n",
    "    \n"
   ]
  },
  {
   "cell_type": "code",
   "execution_count": null,
   "id": "3dee5f25",
   "metadata": {
    "deletable": false,
    "editable": false
   },
   "outputs": [],
   "source": [
    "# Test the distance function\n",
    "print(compute_distance([1, 2], [4, 6], 'euclidean'))  # Should print 5.0\n"
   ]
  },
  {
   "cell_type": "code",
   "execution_count": null,
   "id": "13f0484f",
   "metadata": {
    "deletable": false,
    "editable": false
   },
   "outputs": [],
   "source": [
    "# Test the distance function\n",
    "print(compute_distance([0, 0, 0], [1, 2, 2], 'euclidean'))  # Should print 3.0"
   ]
  },
  {
   "cell_type": "markdown",
   "id": "3af3dc0b",
   "metadata": {
    "deletable": false,
    "editable": false
   },
   "source": [
    "### **Problem 1.2 (2 points)**\n",
    "When computing distances, it would be bad if one of the features had missing data.  Similarly, if there is missing data for Sex, Species, or Island we won't be able to give a prediction. Write code to drop all the rows that have NaN for either the features or the things we want to predict, and store the result in a new table called `penguins_clean`"
   ]
  },
  {
   "cell_type": "code",
   "execution_count": null,
   "id": "1c8f6ab9",
   "metadata": {
    "tags": [
     "otter_answer_cell"
    ]
   },
   "outputs": [],
   "source": [
    "penguins_clean = ...\n",
    "print(f\"Rows before cleaning: {len(penguins)}, Rows after cleaning: {len(penguins_clean)}\")\n",
    "penguins_clean.reset_index(drop=True, inplace=True) # reset index after dropping rows.  This makes sure no index values are skipped.\n",
    "penguins_clean.head()"
   ]
  },
  {
   "cell_type": "code",
   "execution_count": null,
   "id": "3bfac109",
   "metadata": {
    "deletable": false,
    "editable": false
   },
   "outputs": [],
   "source": [
    "grader.check(\"q1.1\")"
   ]
  },
  {
   "cell_type": "markdown",
   "id": "2b98cb7b",
   "metadata": {},
   "source": [
    "### **Problem 1.3 (2 points)**\n",
    "Finish the code below to find the nearest neighbor of our penguin, replacing the two ... portions.  Use the distance function you finished above. "
   ]
  },
  {
   "cell_type": "code",
   "execution_count": null,
   "id": "5fb7ddee",
   "metadata": {
    "tags": [
     "otter_answer_cell"
    ]
   },
   "outputs": [],
   "source": [
    "def find_zoo_penguin_nearest_neighbor(zoo_penguin_features_list, distance_type):\n",
    "    nearest_index = -1\n",
    "    nearest_distance = float('inf') # initialize to a huge distance\n",
    "    for index in range(len(penguins_clean)):\n",
    "        penguin_culmen_length = penguins_clean.loc[index, 'Culmen Length (mm)']\n",
    "        penguin_culmen_depth = penguins_clean.loc[index, 'Culmen Depth (mm)']\n",
    "        penguin_features_list = [penguin_culmen_length, penguin_culmen_depth]\n",
    "        distance = ...\n",
    "        if distance < nearest_distance:\n",
    "            # update nearest neighbor\n",
    "            nearest_distance = ...\n",
    "            nearest_index = index\n",
    "    print(\"Nearest neighbor distance:\", nearest_distance)\n",
    "    print(\"Nearest neighbor species:\", penguins.loc[nearest_index, 'Species'].split()[0]) # print only the genus\n",
    "    print(\"Nearest neighbor sex:\", penguins.loc[nearest_index, 'Sex'])\n",
    "    print(\"Nearest neighbor island:\", penguins.loc[nearest_index, 'Island'])\n",
    "    return nearest_index"
   ]
  },
  {
   "cell_type": "code",
   "execution_count": null,
   "id": "ff87935d",
   "metadata": {
    "deletable": false,
    "editable": false
   },
   "outputs": [],
   "source": [
    "# test the function.  You should get Adelie, FEMALE, Dream as the answer\n",
    "zoo_penguin = [49.3, 18.2]  # Culmen Length (mm), Culmen Depth (mm)\n",
    "find_zoo_penguin_nearest_neighbor(zoo_penguin, 'euclidean')"
   ]
  },
  {
   "cell_type": "markdown",
   "id": "91890df4",
   "metadata": {
    "deletable": false,
    "editable": false
   },
   "source": [
    "### **Problem 1.4 (1 points)**\n",
    "Oops!  You misread your handwriting.  The Culmen Length was actually 29.3, not 49.3.  Try again.  Good thing you implemented nearest neighbor as a function!"
   ]
  },
  {
   "cell_type": "code",
   "execution_count": null,
   "id": "02bcbc7a",
   "metadata": {
    "tags": [
     "otter_answer_cell"
    ]
   },
   "outputs": [],
   "source": [
    "zoo_penguin = ...\n",
    "find_zoo_penguin_nearest_neighbor(zoo_penguin, 'euclidean')"
   ]
  },
  {
   "cell_type": "code",
   "execution_count": null,
   "id": "a6abdd62",
   "metadata": {
    "deletable": false,
    "editable": false
   },
   "outputs": [],
   "source": [
    "grader.check(\"q2\")"
   ]
  },
  {
   "cell_type": "markdown",
   "id": "5298650a",
   "metadata": {},
   "source": [
    "### **Problem 1.5 (2 points)**\n",
    "Copy your distance function from above, but re-write it to also handle the \"manhattan\" distance."
   ]
  },
  {
   "cell_type": "code",
   "execution_count": null,
   "id": "4180b0ab",
   "metadata": {
    "tags": [
     "otter_answer_cell"
    ]
   },
   "outputs": [],
   "source": [
    "..."
   ]
  },
  {
   "cell_type": "code",
   "execution_count": null,
   "id": "b2235361",
   "metadata": {
    "deletable": false,
    "editable": false
   },
   "outputs": [],
   "source": [
    "zoo_penguin = [29.3, 18.2]  # Culmen Length (mm), Culmen Depth (mm)\n",
    "find_zoo_penguin_nearest_neighbor(zoo_penguin, 'manhattan')"
   ]
  },
  {
   "cell_type": "markdown",
   "id": "1482a05c",
   "metadata": {
    "deletable": false,
    "editable": false
   },
   "source": [
    "### **Problem 1.6 (1 points)**\n",
    "Are there any differences in the nearest neighbor results when using Euclidean distance versus Manhattan distance?"
   ]
  },
  {
   "cell_type": "markdown",
   "id": "eadac155",
   "metadata": {
    "deletable": false,
    "editable": false
   },
   "source": [
    "*Write your answer here*"
   ]
  },
  {
   "cell_type": "markdown",
   "id": "27fdaa81",
   "metadata": {
    "deletable": false,
    "editable": false
   },
   "source": [
    "### **Problem 1.7 (2 points)**\n",
    "After many embarrassing attempts, you finally get a measurement of the zoo penguin's flipper length: 217.0.  In the cell below, finish a new function named `new_find_zoo_penguin_nearest_neighbor` that uses Flipper Length as a feature along with Culmen Length and Culmen Depth.  The code will be very similar to the original, so you might want to copy a lot of the code from above.  Make sure your new function prints the prediction results like the old one did.  Don't worry about re-cleaning the data; all the flipper length measurements are there in penguin_clean. "
   ]
  },
  {
   "cell_type": "code",
   "execution_count": null,
   "id": "0a190ee6",
   "metadata": {
    "tags": [
     "otter_answer_cell"
    ]
   },
   "outputs": [],
   "source": [
    "def new_find_zoo_penguin_nearest_neighbor(zoo_penguin_features_list, distance_type):\n",
    "    nearest_index = -1\n",
    "...\n",
    "    return nearest_index"
   ]
  },
  {
   "cell_type": "markdown",
   "id": "89c26f71",
   "metadata": {
    "deletable": false,
    "editable": false
   },
   "source": [
    "### **Problem 1.8 (1 points)**\n",
    "What predictions do you get for the zoo penguin now?  Call your new function below with each of the distance types."
   ]
  },
  {
   "cell_type": "code",
   "execution_count": null,
   "id": "6efbbb34",
   "metadata": {
    "tags": [
     "otter_answer_cell"
    ]
   },
   "outputs": [],
   "source": [
    "..."
   ]
  },
  {
   "cell_type": "markdown",
   "id": "08db8b0e",
   "metadata": {
    "deletable": false,
    "editable": false
   },
   "source": [
    "## Problem 2. Parkinsons progression detection (25 points)\n",
    "\n",
    "We will reproduce some of the qualitative results from \n",
    "the following paper, which I've downloaded for you in the same folder:\n",
    "\n",
    "    A. Tsanas, M. A. Little, P. E. McSharry and L. O. Ramig, \"Accurate Telemonitoring of Parkinson's Disease Progression by Noninvasive Speech Tests,\" in IEEE Transactions on Biomedical Engineering, vol. 57, no. 4, pp. 884-893, April 2010, doi: 10.1109/TBME.2009.2036000.\n",
    "\n",
    "The Parkinsons Telemonitoring dataset was downloaded from https://archive.ics.uci.edu/dataset/189/parkinsons+telemonitoring.\n",
    "\n",
    "**It is not necessary for you to read or understand the paper in order to complete this problem. You only need to look at the Tables and Figures in the paper that I point to.**\n",
    "\n",
    "For context, this dataset is composed of a range of biomedical voice measurements from 42 people with early-stage Parkinson's disease recruited to a six-month trial of a telemonitoring device for remote symptom progression monitoring. The recordings were automatically captured in the patient's homes.\n",
    "    \n",
    "Physical test observations are mapped to a metric specifically designed to follow disease progression, typically the unified Parkinson’s disease rating scale (UPDRS) that reflects the presence and severity of symptoms (but does not quantify their underlying causes). For untreated patients, the **total UPDRS spans the range 0–176**, with 0 representing healthy state and 176 representing total disabilities, and consists of three sections: 1) mentation, behavior, and mood; 2) activities of daily living; and 3) motor. The **motor UPDRS ranges from 0 to 108**, with 0 denoting symptom free and 108 denoting severe motor impairment, and encompasses tasks such as speech, facial expression, tremor, and rigidity. \n",
    "\n",
    "Columns in the table contain subject number, subject age, subject gender, time interval from baseline recruitment date, motor UPDRS, total UPDRS, and 16 biomedical voice measures. Each row corresponds to one of 5,875 voice recording from these individuals. **The main aim is to predict the motor and total UPDRS scores from the 16 voice measures.**\n"
   ]
  },
  {
   "cell_type": "code",
   "execution_count": null,
   "id": "b88899b1",
   "metadata": {
    "deletable": false,
    "editable": false
   },
   "outputs": [],
   "source": [
    "parkinsons = pd.read_csv('parkinsons_updrs.csv')\n",
    "parkinsons"
   ]
  },
  {
   "cell_type": "markdown",
   "id": "e796806c",
   "metadata": {
    "deletable": false,
    "editable": false
   },
   "source": [
    "### **Problem 2.1 (2 points) Concepts of machine learning**\n",
    "\n",
    "Given the data format and the description above,\n",
    "- Is this more of a **regression** problem or a **classification** problem? Pick one closest answer.\n",
    "- What do the **samples** correspond to, and how many are there?\n",
    "- What are the **target variables (labels, y)**, and how many are there?\n",
    "- What are the **predictor variables (features, X)**, and how many are there?"
   ]
  },
  {
   "cell_type": "markdown",
   "id": "d596be1e",
   "metadata": {
    "deletable": false,
    "editable": false
   },
   "source": [
    "*Write your answer here!*"
   ]
  },
  {
   "cell_type": "markdown",
   "id": "d95d56c0",
   "metadata": {
    "deletable": false,
    "editable": false
   },
   "source": [
    "### **Problem 2.2 (6 points) Exploring correlations**\n",
    "\n",
    "Open the paper pdf file and scroll down to page 887, Table 1. It looks scary, but all it's doing is calculating the **correlations** between each of the voice features with the UPDRS scores. We'll recreate this table step by step.\n",
    "\n",
    "#### Step 1 (1 point)\n",
    "\n",
    "Drop the columns `subject#`, `age`, `sex`, `test_time` and save the resulting table to a new variable `parkinsons_small`. Your new table should be of size (5875, 18)."
   ]
  },
  {
   "cell_type": "code",
   "execution_count": null,
   "id": "5c6e196d",
   "metadata": {
    "tags": [
     "otter_answer_cell"
    ]
   },
   "outputs": [],
   "source": [
    "# Step 1\n",
    "# write your code here\n",
    "...\n",
    "print(parkinsons_small.shape)\n",
    "parkinsons_small.head()"
   ]
  },
  {
   "cell_type": "markdown",
   "id": "f958ef77",
   "metadata": {
    "deletable": false,
    "editable": false
   },
   "source": [
    "#### Step 2 (0 point, it's just copy pasting)\n",
    "\n",
    "Copy and run the following code, which calculates the correlation between each pairs of columns in `parkinsons_small`. Your new table should be of size (18, 18).\n",
    "\n",
    "```Python\n",
    "corrs = parkinsons_small.corr(method='spearman')\n",
    "print(corrs.shape)\n",
    "corrs\n",
    "```\n",
    "\n",
    "How to read the table: The correlation between `Jitter(%)` and `total_UPDRS` is 0.129237.\n",
    "\n",
    "Out of scope for DATA110 but just in case you're curious: There are a few mathematical definitions of how to calculate correlation, and Pearson's and Spearman's are two of the most popular methods. The main difference is that Spearman's cares about the ranking of the values, and not the raw values. So it has fewer assumptions on the data than Pearson's and can handle outliers better. But the way the correlation values are interpreted are the same."
   ]
  },
  {
   "cell_type": "code",
   "execution_count": null,
   "id": "509e1cb2",
   "metadata": {
    "tags": [
     "otter_answer_cell"
    ]
   },
   "outputs": [],
   "source": [
    "# Step 2\n",
    "# copy code here and run it\n",
    "...\n"
   ]
  },
  {
   "cell_type": "markdown",
   "id": "fe1c73db",
   "metadata": {
    "deletable": false,
    "editable": false
   },
   "source": [
    "#### Step 3 (2 points)\n",
    "\n",
    "Since we're only interested in the correlations with the UPDRS scores, \n",
    "\n",
    "1. Keep only the columns `motor_UPDRS`,`total_UPDRS` and save the new table to `corrs_table1`.\n",
    "2. Within the table `corrs_table1`, drop the rows with index `motor_UPDRS`,`total_UPDRS` and save the new table to `corrs_table1` (overwrite it)."
   ]
  },
  {
   "cell_type": "code",
   "execution_count": null,
   "id": "c9a9c313",
   "metadata": {
    "tags": [
     "otter_answer_cell"
    ]
   },
   "outputs": [],
   "source": [
    "# Step 3\n",
    "# write your code here\n",
    "...\n",
    "print(corrs_table1)"
   ]
  },
  {
   "cell_type": "markdown",
   "id": "732e6a28",
   "metadata": {
    "deletable": false,
    "editable": false
   },
   "source": [
    "#### Step 4 (3 points) Interpretation\n",
    "\n",
    "Compare what you have with the numbers in Table 1, and check if they are **roughly** the same. \n",
    "\n",
    "**Note**: The numbers won't be exactly the same, because 5923 recordings are analyzed in the paper, but we only have access to 5875 of them. \n",
    "\n",
    "Question: What are your interpretations of these values? Do any of the biomedical voice variables seem highly correlated with the Parkinson's scores? Which variable do you think would be the most important in predicting UPDRS? "
   ]
  },
  {
   "cell_type": "markdown",
   "id": "dc66b0d9",
   "metadata": {
    "deletable": false,
    "editable": false
   },
   "source": [
    "*Write your answer here!*"
   ]
  },
  {
   "cell_type": "markdown",
   "id": "d2fbd0fc",
   "metadata": {
    "deletable": false,
    "editable": false
   },
   "source": [
    "### **Problem 2.3 (6 points) Prepare data for ML**\n",
    "\n",
    "Now comes the actual prediction! We will train and test a **linear regression** model to predict motor_UPDRS from the 16 voice variables. In other words, we are assuming that the motor_UPDRS scores are **approximately** equal to\n",
    "\n",
    "c1\\*Jitter(%) + c2\\*Jitter(Abs) + c3\\*Jitter:RAP + ... + c16\\*PPE\n",
    "\n",
    "for some set of coefficients (c1, c2, c3, ..., c16). And when we train or fit a linear regression model, we are looking for the best set of coefficients that describes the training dataset. When we test the model, we compare the model's predictions with the actual motor_UPDRS scores in the test dataset. If any of this sounds foreign to you, now would be a good time to review the past few lectures.\n",
    "\n",
    "#### Problem 2.3.1 (2 points)\n",
    "\n",
    "In an ideal world, we would train our model on the entire dataset, collect data from new patients, then test it on the new data. However, this is obviously not feasible in this case. In cases like this, most people randomly split the *existing* samples into train and test, and \"pretend\" like the samples in the test set are actually coming from future patients.\n",
    "\n",
    "We can split the data by patients or by recordings. The authors of this paper chose to split by recordings. \n",
    "\n",
    "**Fill in the blank** such that this sentence describes what the code does:\n",
    "\n",
    "    We will randomly put __1__% of the ___2____ into the __3___ set, and put the remaining __2_____ into the ____3___ set.\n",
    "\n",
    "- Options for 1: number between 0 and 100\n",
    "- Options for 2: rows or columns\n",
    "- Options for 3: train or test\n",
    "\n",
    "The corresponding code:\n",
    "\n",
    "```Python\n",
    "train = parkinsons_small.sample(frac=0.9)\n",
    "test = parkinsons_small.drop(index=train.index)\n",
    "```\n",
    "\n",
    "And then copy and run the code.\n"
   ]
  },
  {
   "cell_type": "markdown",
   "id": "8f567fd2",
   "metadata": {
    "deletable": false,
    "editable": false
   },
   "source": [
    "*Write your answer here!*"
   ]
  },
  {
   "cell_type": "code",
   "execution_count": null,
   "id": "579e89cb",
   "metadata": {
    "tags": [
     "otter_answer_cell"
    ]
   },
   "outputs": [],
   "source": [
    "# copy code here and run it\n",
    "...\n"
   ]
  },
  {
   "cell_type": "markdown",
   "id": "a7fd90c0",
   "metadata": {
    "deletable": false,
    "editable": false
   },
   "source": [
    "#### Problem 2.3.2 (4 points)\n",
    "\n",
    "Given your knowledge of what predictor variables and target variables are, create the following four variables: `X_train`, `y_train`, `X_test`, `y_test`. They are derived from tables `train` and `test`.\n",
    "\n",
    "Here's one way to check your answer:\n",
    "```Python\n",
    "print(X_train.shape, y_train.shape)\n",
    "    (5288, 16) (5288,)\n",
    "print(X_test.shape, y_test.shape)\n",
    "    (587, 16) (587,)\n",
    "```"
   ]
  },
  {
   "cell_type": "code",
   "execution_count": null,
   "id": "ae826eb8",
   "metadata": {
    "tags": [
     "otter_answer_cell"
    ]
   },
   "outputs": [],
   "source": [
    "# write your code here\n",
    "..."
   ]
  },
  {
   "cell_type": "markdown",
   "id": "167358c1",
   "metadata": {
    "deletable": false,
    "editable": false
   },
   "source": [
    "### **Problem 2.4 (2 points) Train and test model**\n",
    "\n",
    "Copy the code, fill in the blanks (i.e., call with appropriate parameters), and run the code in the next cell.\n",
    "\n",
    "```Python\n",
    "from sklearn.linear_model import LinearRegression\n",
    "\n",
    "lr = LinearRegression(fit_intercept=False)\n",
    "lr.fit(..., ...)\n",
    "print(lr.score(..., ...))\n",
    "\n",
    "coefs = pd.DataFrame(lr.coef_, \n",
    "                     index=lr.feature_names_in_, \n",
    "                    columns=['Motor UPDRS LR coefficients'])\n",
    "coefs\n",
    "```"
   ]
  },
  {
   "cell_type": "code",
   "execution_count": null,
   "id": "862d14b7",
   "metadata": {
    "tags": [
     "otter_answer_cell"
    ]
   },
   "outputs": [],
   "source": [
    "# Copy the skeleton code here and complete it\n",
    "..."
   ]
  },
  {
   "cell_type": "markdown",
   "id": "2dc900d6",
   "metadata": {
    "deletable": false,
    "editable": false
   },
   "source": [
    "### **Problem 2.5 (4 points) Analyze model results**\n",
    "\n",
    "#### Problem 2.5.1 (2 points)\n",
    "\n",
    "Given the $R^2$ score that is printed out, do you think this linear regression model is a good predictive model of motor_UPDRS or not?"
   ]
  },
  {
   "cell_type": "markdown",
   "id": "75a39ec6",
   "metadata": {
    "deletable": false,
    "editable": false
   },
   "source": [
    "*Write your answer here!*"
   ]
  },
  {
   "cell_type": "markdown",
   "id": "a76b77e5",
   "metadata": {
    "deletable": false,
    "editable": false
   },
   "source": [
    "#### Problem 2.5.2 (2 points)\n",
    "Out of the 16 features, which one(s) are deemed the most *important* or *useful* at predicting motor_UPDRS according to the model? Comment on both the magnitude and direction (negative vs. positive) of the coefficient values and what that means in the context of the problem we're interested in. Are they the same variables you mentioned in Problem 4.2 (based on correlations)? You are welcome to compare your numbers with the reulsts in Table 3 (first column), but not required."
   ]
  },
  {
   "cell_type": "markdown",
   "id": "263af917",
   "metadata": {
    "deletable": false,
    "editable": false
   },
   "source": [
    "*Write your answers here!*"
   ]
  },
  {
   "cell_type": "markdown",
   "id": "71db4f37",
   "metadata": {
    "deletable": false,
    "editable": false
   },
   "source": [
    "### **Problem 2.6 (5 points) Repeating the experiment multiple times**\n",
    "\n",
    "You might say - but Harlin, this is only based on a specific train/test split. What if it just so happened that this set of samples leads to this result? How can we trust our interpretations are generally true? \n",
    "\n",
    "You are absolutely right! That's why the authors of this paper repeated this 1000 times to create Table 3. \n",
    "\n",
    "Fill in the missing parts of the code below (you shouldn't have to write new code, just copy paste from earlier problems). \n",
    "\n",
    "```Python\n",
    "coefs = pd.DataFrame([], columns=lr.feature_names_in_)\n",
    "\n",
    "for i in range(1000):\n",
    "    train = parkinsons_small.sample(frac=0.9)\n",
    "    test = parkinsons_small.drop(train.index)\n",
    "\n",
    "    #####\n",
    "    # Add four lines of code here that creates X_train, y_train, X_test, y_test. \n",
    "    #####\n",
    "    \n",
    "    lr = LinearRegression(fit_intercept=False)\n",
    "    # fill in the parameters here\n",
    "    lr.fit(..., ...)\n",
    "\n",
    "    coefs.loc[len(coefs)] = lr.coef_\n",
    "\n",
    "coefs.mean()\n",
    "```\n",
    "\n",
    "Then tell us, **how did your analysis on the importance of each feature change?** If it didn't change, that's is also okay.\n",
    "\n",
    "\n",
    "**Note**: Again, you won't get the same numbers as Table 3 because we don't have access to the full dataset, and there is some randomness involved. But my coefficients except for Jitter (%) looks *qualitatively* similar (I get a 40-ish number for Jitter (%) instead of a -80-ish number, which is odd)."
   ]
  },
  {
   "cell_type": "code",
   "execution_count": null,
   "id": "3b5d53cc",
   "metadata": {
    "tags": [
     "otter_answer_cell"
    ]
   },
   "outputs": [],
   "source": [
    "# Copy the skeleton code here and complete it\n",
    "...\n"
   ]
  },
  {
   "cell_type": "code",
   "execution_count": null,
   "id": "29fb7eff",
   "metadata": {},
   "outputs": [],
   "source": [
    "# this should give you pretty box plots once you're done with the previous question.\n",
    "import seaborn as sns\n",
    "sns.boxplot(coefs, orient='h')"
   ]
  },
  {
   "cell_type": "markdown",
   "id": "03354855",
   "metadata": {},
   "source": [
    "*Write your answer here: How did your analysis of the importance of each feature change?*"
   ]
  },
  {
   "cell_type": "markdown",
   "id": "f7fd5433",
   "metadata": {
    "deletable": false,
    "editable": false
   },
   "source": [
    "## Submission\n",
    "\n",
    "Make sure you have run all cells in your notebook in order before running the cell below, so that all images/graphs appear in the output. The cell below will generate a zip file for you to submit. **Please save before exporting!**\n",
    "\n",
    "Submit zip file and PDF to Gradescope Homework8"
   ]
  },
  {
   "cell_type": "code",
   "execution_count": null,
   "id": "0464d28c",
   "metadata": {
    "deletable": false,
    "editable": false
   },
   "outputs": [],
   "source": [
    "# Save your notebook first, then run this cell to export your submission.\n",
    "grader.export(pdf=False, run_tests=True)"
   ]
  },
  {
   "cell_type": "markdown",
   "id": "802d2a7a",
   "metadata": {},
   "source": [
    " "
   ]
  }
 ],
 "metadata": {
  "kernelspec": {
   "display_name": "Python 3",
   "language": "python",
   "name": "python3"
  },
  "language_info": {
   "codemirror_mode": {
    "name": "ipython",
    "version": 3
   },
   "file_extension": ".py",
   "mimetype": "text/x-python",
   "name": "python",
   "nbconvert_exporter": "python",
   "pygments_lexer": "ipython3",
   "version": "3.12.10"
  },
  "otter": {
   "OK_FORMAT": true,
   "tests": {
    "q1.1": {
     "name": "q1.1",
     "points": 2,
     "suites": [
      {
       "cases": [
        {
         "code": ">>> assert penguins_clean.shape[0] == 334\n",
         "hidden": false,
         "locked": false
        }
       ],
       "scored": true,
       "setup": "",
       "teardown": "",
       "type": "doctest"
      }
     ]
    },
    "q2": {
     "name": "q2",
     "points": 1,
     "suites": [
      {
       "cases": [
        {
         "code": ">>> assert find_zoo_penguin_nearest_neighbor([29.3, 18.2], 'euclidean') == 136\nNearest neighbor distance: 3.889730067755345\nNearest neighbor species: Adelie\nNearest neighbor sex: FEMALE\nNearest neighbor island: Dream\n",
         "hidden": false,
         "locked": false
        }
       ],
       "scored": true,
       "setup": "",
       "teardown": "",
       "type": "doctest"
      }
     ]
    }
   }
  }
 },
 "nbformat": 4,
 "nbformat_minor": 5
}
