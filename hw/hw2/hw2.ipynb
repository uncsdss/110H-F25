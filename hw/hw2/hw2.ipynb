{
 "cells": [
  {
   "cell_type": "code",
   "execution_count": null,
   "id": "1a733adc",
   "metadata": {
    "deletable": false,
    "editable": false
   },
   "outputs": [],
   "source": [
    "# Initialize Otter\n",
    "import otter\n",
    "grader = otter.Notebook(\"hw2.ipynb\")"
   ]
  },
  {
   "cell_type": "markdown",
   "id": "4449f091",
   "metadata": {},
   "source": [
    "## <u>Name:</u> [Your name] and (your onyen)\n",
    "\n",
    "I encourage discussing ideas and brainstorming with your peers, but the final text, code, and comments in this homework assignment MUST be 100% written by you as mentioned in syllabus.\n",
    "\n"
   ]
  },
  {
   "cell_type": "markdown",
   "id": "5053a655",
   "metadata": {},
   "source": []
  },
  {
   "cell_type": "markdown",
   "id": "953a7ae3",
   "metadata": {},
   "source": [
    "# Homework 2: Pandas (30 points)\n",
    "\n",
    "<img src=\"https://get.pxhere.com/photo/Zoo-Berlin-zoo-berlin-panda-plant-carnivore-nature-branch-biome-terrestrial-animal-natural-material-trunk-tree-snout-fur-nature-reserve-jungle-twig-tail-split-rail-fence-wildlife-grass-wood-bear-claw-1643708.jpg\" width=600px>\n",
    "<div style=\"text-align: center\"> </div>\n",
    "\n",
    "**STOP LOOKING AT THE CUTE PANDAS AND READ THIS!!**\n",
    "\n",
    "Please complete this notebook by filling in the cells provided. Be sure to run the cell above that loads the autograder, run all assignment the cells, then be sure to save your notebook before generating your submission by running the last cell (again, if you ran everything before saving).\n",
    "\n",
    "!! Please submit a PDF of your notebook and upload it to Gradescope along with the generated zip file in the same submission.  If no ZIP file is submitted, you will get 0 for the autograder portion. If no PDF submitted, **points will be deducted**.  You can make a PDF from JupyterHub by 1. File->Print or 2. Command+P (on Mac), then choose 'Save to PDF'. This saves the file on your laptop.  You can then drag and drop the zip & pdf file together to the upload box on Gradescope.\n",
    "\n",
    "!! Points will also be **deducted** if you do not include your name and Onyen in the Markdown cell above!\n",
    "\n",
    "Note that for homework, the autograder is useful feedback that you should pay attention to, and the autograder gives additional feedback when you submit to Gradescope, so we encourage you to submit as often as you like!  Note that only the last submission will be used for grading.  Also note that passing the autograder for a problem **DOES NOT GUARANTEE** you will get full credit on the problem (some tests are run after submission, and manual grading is used to verify the assignment instructions were followed).\n",
    "\n"
   ]
  },
  {
   "cell_type": "code",
   "execution_count": null,
   "id": "732e3cb4",
   "metadata": {},
   "outputs": [],
   "source": [
    "import pandas as pd"
   ]
  },
  {
   "cell_type": "markdown",
   "id": "c5e41d85",
   "metadata": {},
   "source": [
    "## Problem 1. Creating Tables (10 points)\n",
    "Instead of a list of lists, it is often easier to use a table to represent groups of data.  In most cases, you will be using data that you are reading in from a file; in fact, sometimes you might be using data that is so big it can't fit in memory, and HAS to be accessed from a file!  But it can still be useful to know how to build a table from scratch, and understanding how to do it also provides insight into the behavior of tables.  Run the code below to see an example of how to create a table. "
   ]
  },
  {
   "cell_type": "code",
   "execution_count": null,
   "id": "8e9f7811",
   "metadata": {},
   "outputs": [],
   "source": [
    "import pandas as pd\n",
    "row_list0 = [1, 2, 3]\n",
    "row_list1 = [4, 5, 6]\n",
    "row_list2 = [7, 8, 9]\n",
    "df = pd.DataFrame( data=[row_list0, row_list1, row_list2], columns=['name', 'rank', 'serial number'])\n",
    "df"
   ]
  },
  {
   "cell_type": "markdown",
   "id": "6b6af996",
   "metadata": {},
   "source": [
    "**Problem 1.1 (2 points).** Suppose you're using Python to help solve a high school Algebra problem.  You have several groups of shapes: 8 squares, 6 triangles, and 3 rectangles.  Create a table (pandas DataFrame) named `shapes_df` that contains this information. It should have two attributes or pieces of information about each shape: `'Shape name'` and `'Count'`.  Note: Use lower-case and singular words for the name of each shape, like \"square\".  "
   ]
  },
  {
   "cell_type": "code",
   "execution_count": null,
   "id": "f8902a44",
   "metadata": {
    "tags": [
     "otter_answer_cell"
    ]
   },
   "outputs": [],
   "source": [
    "shapes_df = ...\n",
    "autograder1_1=shapes_df.copy()"
   ]
  },
  {
   "cell_type": "code",
   "execution_count": null,
   "id": "1ba130a4",
   "metadata": {
    "deletable": false,
    "editable": false
   },
   "outputs": [],
   "source": [
    "grader.check(\"q1.1\")"
   ]
  },
  {
   "cell_type": "markdown",
   "id": "879242ed",
   "metadata": {},
   "source": [
    "**Problem 1.2 (1 point).** Write code that computes the total count of the shapes in the table and assigns it to a variable named `shape_count`.  Note: the answer is not 3."
   ]
  },
  {
   "cell_type": "code",
   "execution_count": null,
   "id": "09080da7",
   "metadata": {
    "otter": {
     "tests": [
      "q1.2"
     ]
    },
    "tags": [
     "otter_answer_cell"
    ]
   },
   "outputs": [],
   "source": [
    "shape_count = ..."
   ]
  },
  {
   "cell_type": "markdown",
   "id": "35e14b48",
   "metadata": {},
   "source": [
    "**Problem 1.3 (2 points).** Suppose you are given a second group of triangles.  We will add these by adding another row to the table.  To do this, note that `df.loc[rownum]` returns a particular row of `df` according to the row label (index), and `len(df)` returns the current number of rows of `df`.  To add a new row to our example table from above:    "
   ]
  },
  {
   "cell_type": "code",
   "execution_count": null,
   "id": "27fe13c3",
   "metadata": {
    "deletable": false,
    "editable": false
   },
   "outputs": [],
   "source": [
    "df.loc[len(df)] = [ 10, 11, 12]\n",
    "df"
   ]
  },
  {
   "cell_type": "markdown",
   "id": "01687c5f",
   "metadata": {
    "deletable": false,
    "editable": false
   },
   "source": [
    "Your turn.  Add a group with a `Shape name` of `triangle` and a `Count` of 5 to the end of table `shapes_df`."
   ]
  },
  {
   "cell_type": "code",
   "execution_count": null,
   "id": "2723e268",
   "metadata": {
    "tags": [
     "otter_answer_cell"
    ]
   },
   "outputs": [],
   "source": [
    "...\n",
    "autograder1_3=shapes_df.copy()"
   ]
  },
  {
   "cell_type": "code",
   "execution_count": null,
   "id": "3806b8a1",
   "metadata": {
    "deletable": false,
    "editable": false
   },
   "outputs": [],
   "source": [
    "grader.check(\"q1.3\")"
   ]
  },
  {
   "cell_type": "markdown",
   "id": "625a44ed",
   "metadata": {},
   "source": [
    "**Problem 1.3 (2 points).** Add a new attribute to `shapes_df` named `'Sides'` and initialize the value for all the shapes to be 4 (just for now!)."
   ]
  },
  {
   "cell_type": "code",
   "execution_count": null,
   "id": "614b6483",
   "metadata": {
    "tags": [
     "otter_answer_cell"
    ]
   },
   "outputs": [],
   "source": [
    "...\n",
    "autograder1_4=shapes_df.copy()"
   ]
  },
  {
   "cell_type": "code",
   "execution_count": null,
   "id": "bcdfadc0",
   "metadata": {
    "deletable": false,
    "editable": false
   },
   "outputs": [],
   "source": [
    "grader.check(\"q1.4\")"
   ]
  },
  {
   "cell_type": "markdown",
   "id": "e278d36e",
   "metadata": {},
   "source": [
    "**Problem 1.5 (1 points).** Now let's correct the number of sides the triangles!  I'm sure this was bothering some of you!  To do this, use **Boolean indexing** as covered in lecture.  A Boolean index is a sequence of True/False values that results from a comparison on a particular column.  Create a Boolean index to select all `triangle` rows and assign this to the variable `triangle_bool_index`.  Hint:  the cell below shows an example:"
   ]
  },
  {
   "cell_type": "code",
   "execution_count": null,
   "id": "48502185",
   "metadata": {},
   "outputs": [],
   "source": [
    "example_bool_index=df['name']==4\n",
    "list(example_bool_index)"
   ]
  },
  {
   "cell_type": "code",
   "execution_count": null,
   "id": "7811e35c",
   "metadata": {
    "tags": [
     "otter_answer_cell"
    ]
   },
   "outputs": [],
   "source": [
    "triangle_bool_index = ...\n",
    "list(triangle_bool_index)"
   ]
  },
  {
   "cell_type": "code",
   "execution_count": null,
   "id": "96ffa251",
   "metadata": {
    "deletable": false,
    "editable": false
   },
   "outputs": [],
   "source": [
    "grader.check(\"q1.5\")"
   ]
  },
  {
   "cell_type": "markdown",
   "id": "9f966324",
   "metadata": {},
   "source": [
    "**Problem 1.6 (2 points).** To change the sides for just triangles, we need to set the value of particular cells.  In Problem 1.3 you used `loc()` to add a new row; similarly, we can use `loc()` to assign cells of a particular column for only our Boolean indexed rows.  Again, see the example below for `df`: "
   ]
  },
  {
   "cell_type": "code",
   "execution_count": null,
   "id": "6b3edb2c",
   "metadata": {
    "deletable": false,
    "editable": false
   },
   "outputs": [],
   "source": [
    "df.loc[ example_bool_index, 'serial number' ] = 99\n",
    "df"
   ]
  },
  {
   "cell_type": "markdown",
   "id": "11ff224e",
   "metadata": {
    "deletable": false,
    "editable": false
   },
   "source": [
    "The above code is effectively \"For all the rows in which `name` equals 4, set the value for `serial number` to be 99.  Similarly, your task is to set the sides for triangles in `shapes_df` to 3 using Boolean indexing (`triangle_bool_index`) and `loc()`."
   ]
  },
  {
   "cell_type": "code",
   "execution_count": null,
   "id": "e2fe8eab",
   "metadata": {
    "tags": [
     "otter_answer_cell"
    ]
   },
   "outputs": [],
   "source": [
    "...\n",
    "shapes_df"
   ]
  },
  {
   "cell_type": "code",
   "execution_count": null,
   "id": "a9651b4e",
   "metadata": {
    "deletable": false,
    "editable": false
   },
   "outputs": [],
   "source": [
    "grader.check(\"q1.6\")"
   ]
  },
  {
   "cell_type": "markdown",
   "id": "dceb0f45",
   "metadata": {},
   "source": [
    "**Extra Credit (1 point).** Using Pandas column operations, write a single line of code to compute the total number of sides in the table `shapes_df`."
   ]
  },
  {
   "cell_type": "code",
   "execution_count": null,
   "id": "3c5f53c8",
   "metadata": {
    "otter": {
     "tests": [
      "extracredit1"
     ]
    },
    "tags": [
     "otter_answer_cell"
    ]
   },
   "outputs": [],
   "source": [
    "\n",
    "total_sides = ...\n",
    "total_sides"
   ]
  },
  {
   "cell_type": "markdown",
   "id": "e1447735",
   "metadata": {},
   "source": [
    "## Problem 2. R.O.U.S.es (10 points)\n",
    "**R**odents **O**f **U**nusual **S**ize are fabled to be one of the most fearsome creatures you might ever encounter, but accounts of their attributes vary widely.  "
   ]
  },
  {
   "cell_type": "markdown",
   "id": "ada667c8",
   "metadata": {},
   "source": [
    "**Problem 2.1 (1 point).** Run the following code to load a table of all known data about R.O.U.S.es. How many attributes or different pieces of information have been measured for R.O.U.S.es?  Assign that number to `num_attributes`."
   ]
  },
  {
   "cell_type": "code",
   "execution_count": null,
   "id": "96713726",
   "metadata": {
    "tags": [
     "otter_answer_cell"
    ]
   },
   "outputs": [],
   "source": [
    "import pandas as pd\n",
    "rodents_of_unusual_size = pd.read_csv(\"ROUSes.csv\")\n",
    "rodents_of_unusual_size\n"
   ]
  },
  {
   "cell_type": "code",
   "execution_count": null,
   "id": "2d4703af",
   "metadata": {
    "tags": [
     "otter_answer_cell"
    ]
   },
   "outputs": [],
   "source": [
    "# write your code here by replacing the \"...\" with your solution\n",
    "num_attributes = ...\n",
    "print(num_attributes)\n",
    "\n"
   ]
  },
  {
   "cell_type": "code",
   "execution_count": null,
   "id": "b62b419c",
   "metadata": {
    "deletable": false,
    "editable": false
   },
   "outputs": [],
   "source": [
    "grader.check(\"q2.1\")"
   ]
  },
  {
   "cell_type": "markdown",
   "id": "15daa439",
   "metadata": {},
   "source": [
    "**Problem 2.2 (1 point).** Write pandas code to compute the number of R.O.U.S.es in the table that are Female.  Assign that number to `num_female`."
   ]
  },
  {
   "cell_type": "code",
   "execution_count": null,
   "id": "7c884d62",
   "metadata": {
    "otter": {
     "tests": [
      "q2.2"
     ]
    },
    "tags": [
     "otter_answer_cell"
    ]
   },
   "outputs": [],
   "source": [
    "# write your code here by replacing the \"...\" with your solution\n",
    "...\n",
    "print(num_female)\n"
   ]
  },
  {
   "cell_type": "markdown",
   "id": "4104deb5",
   "metadata": {},
   "source": [
    "**Problem 2.3 (1 point).** Write pandas code to compute the number of R.O.U.S.es that are of either 'Sleepy' or 'Playful' temperament.  Assign that number to `num_harmless`."
   ]
  },
  {
   "cell_type": "code",
   "execution_count": null,
   "id": "0e82ac7c",
   "metadata": {
    "otter": {
     "tests": [
      "q2.3"
     ]
    },
    "tags": [
     "otter_answer_cell"
    ]
   },
   "outputs": [],
   "source": [
    "...\n",
    "print(num_harmless)\n"
   ]
  },
  {
   "cell_type": "markdown",
   "id": "e1e62366",
   "metadata": {},
   "source": [
    "**Problem 2.4 (2 points).** Write pandas code to compute the total weight of R.O.U.S.es that are playful and not female and under the age of 10.  Assign that number to `total_weight`."
   ]
  },
  {
   "cell_type": "code",
   "execution_count": null,
   "id": "37e9bbfe",
   "metadata": {
    "otter": {
     "tests": [
      "q2.4"
     ]
    },
    "tags": [
     "otter_answer_cell"
    ]
   },
   "outputs": [],
   "source": [
    "...\n",
    "print(total_weight)\n"
   ]
  },
  {
   "cell_type": "markdown",
   "id": "9bd1f6ba",
   "metadata": {},
   "source": [
    "**Problem 2.5 (1 point)** Sometimes sorting or grouping the data by an attribute can help to make sense of the data.  Write pandas code to sort the data by `Length`. No need to save or assign the modified table to a variable.  This question will be manually graded."
   ]
  },
  {
   "cell_type": "code",
   "execution_count": null,
   "id": "7d592fd9",
   "metadata": {
    "tags": [
     "otter_answer_cell"
    ]
   },
   "outputs": [],
   "source": [
    "..."
   ]
  },
  {
   "cell_type": "markdown",
   "id": "602beebf",
   "metadata": {},
   "source": [
    "**Problem 2.6 (1 point).**  With the data sorted by age, what trends do you see in the `Temperament`?  Are there any exceptions to the trends? No need to calculate anything."
   ]
  },
  {
   "cell_type": "markdown",
   "id": "1dc6a8f5",
   "metadata": {},
   "source": [
    "_Type your answer here, replacing this text._"
   ]
  },
  {
   "cell_type": "markdown",
   "id": "24c80d7e",
   "metadata": {},
   "source": [
    "**Problem 2.7 (2 points).** Some people report that real danger from R.O.U.S.es is that they are very uncoordinated and sometimes trip and fall onto people, so `Weight` is actually the attribute which represents the biggest threat.   Write a `for` loop that calculates the mean weight for each temperament, and **print**s it along side the temperament.  This question will be manually graded.\n",
    "\n",
    "Hint: this is just like a problem we covered in lecture.\n"
   ]
  },
  {
   "cell_type": "code",
   "execution_count": null,
   "id": "033491e4",
   "metadata": {
    "tags": [
     "otter_answer_cell"
    ]
   },
   "outputs": [],
   "source": [
    "..."
   ]
  },
  {
   "cell_type": "markdown",
   "id": "bdc8def9",
   "metadata": {},
   "source": [
    "**Problem 2.8 (1 point).** What temperament on average would be the most dangerous to encounter?  What temperament on average would be the least dangerous to encounter?"
   ]
  },
  {
   "cell_type": "markdown",
   "id": "abd02d09",
   "metadata": {},
   "source": [
    "_Type your answer here, replacing this text._"
   ]
  },
  {
   "cell_type": "markdown",
   "id": "95d09f49",
   "metadata": {},
   "source": [
    "## Problem 3. (10 points). Burritos\n",
    "A certain Carolina student from DATA110H is visiting California for Spring Break this year, and they intend to use their newly-mastered Data Science skills to make sure they have some great burritos while they are there.  And the rest of the DATA110H students get this delightful homework problem out of the experience!  The student found some data files with reviews and menu information for some California burrito restauraunts."
   ]
  },
  {
   "cell_type": "markdown",
   "id": "a8aaec07",
   "metadata": {},
   "source": [
    "**Problem 5.1 (1 point).** Write the code to load the file \"burrito_ratings.csv\" into a DataFrame named `burritos`."
   ]
  },
  {
   "cell_type": "code",
   "execution_count": null,
   "id": "23db82bc",
   "metadata": {
    "tags": [
     "otter_answer_cell"
    ]
   },
   "outputs": [],
   "source": [
    "import pandas as pd\n",
    "pd.options.display.max_colwidth=15\n",
    "\n",
    "burritos = ...\n",
    "\n",
    "print(burritos)"
   ]
  },
  {
   "cell_type": "code",
   "execution_count": null,
   "id": "841d1836",
   "metadata": {
    "deletable": false,
    "editable": false
   },
   "outputs": [],
   "source": [
    "grader.check(\"q3.1\")"
   ]
  },
  {
   "cell_type": "markdown",
   "id": "72b6b1cb",
   "metadata": {},
   "source": [
    "**Problem 3.2 (1 point).** Write code to calculate average cost of items in the table `burritos` rounded to the nearest cent."
   ]
  },
  {
   "cell_type": "code",
   "execution_count": null,
   "id": "440f319d",
   "metadata": {
    "otter": {
     "tests": [
      "q3.2"
     ]
    },
    "tags": [
     "otter_answer_cell"
    ]
   },
   "outputs": [],
   "source": [
    "average_cost = ...\n",
    "average_cost\n"
   ]
  },
  {
   "cell_type": "markdown",
   "id": "fd3d4d5a",
   "metadata": {},
   "source": [
    "**Problem 3.3 (2 points).** Make a new table called `top_rated_burritos` that is just like `burritos` but only includes entries that have an Overall rating >= 4.1."
   ]
  },
  {
   "cell_type": "code",
   "execution_count": null,
   "id": "2f2cdf33",
   "metadata": {
    "otter": {
     "tests": [
      "q3.3"
     ]
    },
    "tags": [
     "otter_answer_cell"
    ]
   },
   "outputs": [],
   "source": [
    "...\n",
    "print(top_rated_burritos)\n",
    "\n"
   ]
  },
  {
   "cell_type": "markdown",
   "id": "212e3c00",
   "metadata": {},
   "source": [
    "**Problem 3.4 (1 points).** Write pandas code to compute the average cost of menu item entries that have a Overall rating >= 4.1, again rounded to the nearest cent."
   ]
  },
  {
   "cell_type": "code",
   "execution_count": null,
   "id": "f2e89fc7",
   "metadata": {
    "otter": {
     "tests": [
      "q3.4"
     ]
    },
    "tags": [
     "otter_answer_cell"
    ]
   },
   "outputs": [],
   "source": [
    "...\n",
    "print(average_cost_top_rated)\n",
    "\n"
   ]
  },
  {
   "cell_type": "code",
   "execution_count": null,
   "id": "c0cf4ac2",
   "metadata": {},
   "outputs": [],
   "source": [
    "print(round(average_cost_top_rated-average_cost,2))"
   ]
  },
  {
   "cell_type": "markdown",
   "id": "8a409f21",
   "metadata": {},
   "source": [
    "**Problem 3.5 (2 points).** Only 37 cents more for a great burrito instead of an average one...count me in!  But then the student realized, not all the items are the kind of burrito that they like, or even burritos at all!  In particular, the student likes Asada-style burritos, which just have a menu item name containing the word `Asada`.  To make sure there are enough choices, the student also decides to lower their standards a little on the rating requirement.  Write code to calculate how many Asada burrito options there are that have a Overall rating > 3.5, and assign this to a variable named `type_rated_Asada_count`\n",
    "\n",
    "**Hint**: You'll need to figure out how to check if a particular word is in a string (there are several ways to do this). Take a look at [https://pandas.pydata.org/docs/reference/api/pandas.Series.str.find.html](https://pandas.pydata.org/docs/reference/api/pandas.Series.str.find.html) for one such way.\n",
    "\n",
    "**Hint**: Your answer does not have to be in a single line of code."
   ]
  },
  {
   "cell_type": "code",
   "execution_count": null,
   "id": "18674cfd",
   "metadata": {
    "otter": {
     "tests": [
      "q3.5"
     ]
    },
    "tags": [
     "otter_answer_cell"
    ]
   },
   "outputs": [],
   "source": [
    "...\n",
    "print(top_rated_Asada_count)"
   ]
  },
  {
   "cell_type": "markdown",
   "id": "37bb3f9e",
   "metadata": {},
   "source": [
    "**Problem 3.6 (1 point).** Now, feeling confident in their analysis, the student feels they are armed with the knowledge they will need to have a great burrito experience.  But when their DATA110H professor finds out about what they've been working on, the professor asks them to clean up the data even more so it can be used for future DATA110H classes.  First, they ask the student to use a pandas function to make a new table `burritos_compact` that has the attributes for Google and Yelp scores removed.  Write the code below."
   ]
  },
  {
   "cell_type": "code",
   "execution_count": null,
   "id": "1b8c0cf6",
   "metadata": {
    "otter": {
     "tests": [
      "q3.6"
     ]
    },
    "tags": [
     "otter_answer_cell"
    ]
   },
   "outputs": [],
   "source": [
    "burritos_compact = ...\n",
    "print( burritos_compact)"
   ]
  },
  {
   "cell_type": "markdown",
   "id": "9ebc6a6d",
   "metadata": {},
   "source": [
    "**Problem 3.7 (2 points).** And finally, the professor asks the student to add one extra attribute to `burritos_compact`.  The attribute should be named `'Overall_Value'` which is 100.0 times the Overall rating divided by the item cost, rounded to the nearest integer.  Write the code for `burritos_extravalue` below."
   ]
  },
  {
   "cell_type": "code",
   "execution_count": null,
   "id": "8638c56d",
   "metadata": {
    "otter": {
     "tests": [
      "q3.7"
     ]
    },
    "tags": [
     "otter_answer_cell"
    ]
   },
   "outputs": [],
   "source": [
    "...\n",
    "print(burritos_compact)"
   ]
  },
  {
   "cell_type": "markdown",
   "id": "b51273c3",
   "metadata": {},
   "source": [
    "**Extra Credit (1 point).** What is the name of the menu item with the highest value?  Credit will only be given for an exact match."
   ]
  },
  {
   "cell_type": "code",
   "execution_count": null,
   "id": "817a2977",
   "metadata": {
    "otter": {
     "tests": [
      "extracredit3"
     ]
    },
    "tags": [
     "otter_answer_cell"
    ]
   },
   "outputs": [],
   "source": [
    "\n",
    "highest_value_item = ...\n",
    "highest_value_item"
   ]
  },
  {
   "cell_type": "raw",
   "id": "d20627b6",
   "metadata": {},
   "source": []
  },
  {
   "cell_type": "markdown",
   "id": "b3db89db",
   "metadata": {
    "deletable": false,
    "editable": false
   },
   "source": [
    "## Submission\n",
    "\n",
    "Make sure you have run all cells in your notebook in order before running the cell below, so that all images/graphs appear in the output. The cell below will generate a zip file for you to submit. **Please save before exporting!**\n",
    "\n",
    "Submit zip file and PDF to Gradescope Homework2"
   ]
  },
  {
   "cell_type": "code",
   "execution_count": null,
   "id": "155457a1",
   "metadata": {
    "deletable": false,
    "editable": false
   },
   "outputs": [],
   "source": [
    "# Save your notebook first, then run this cell to export your submission.\n",
    "grader.export(pdf=False, run_tests=True)"
   ]
  },
  {
   "cell_type": "markdown",
   "id": "c62cdd00",
   "metadata": {},
   "source": [
    " "
   ]
  }
 ],
 "metadata": {
  "kernelspec": {
   "display_name": "Python 3",
   "language": "python",
   "name": "python3"
  },
  "language_info": {
   "codemirror_mode": {
    "name": "ipython",
    "version": 3
   },
   "file_extension": ".py",
   "mimetype": "text/x-python",
   "name": "python",
   "nbconvert_exporter": "python",
   "pygments_lexer": "ipython3",
   "version": "3.12.10"
  },
  "otter": {
   "OK_FORMAT": true,
   "tests": {
    "extracredit1": {
     "name": "extracredit1",
     "points": 1,
     "suites": [
      {
       "cases": [],
       "scored": true,
       "setup": "",
       "teardown": "",
       "type": "doctest"
      }
     ]
    },
    "extracredit3": {
     "name": "extracredit3",
     "points": 1,
     "suites": [
      {
       "cases": [],
       "scored": true,
       "setup": "",
       "teardown": "",
       "type": "doctest"
      }
     ]
    },
    "q1.1": {
     "name": "q1.1",
     "points": 2,
     "suites": [
      {
       "cases": [
        {
         "code": ">>> assert 'Shape name' in autograder1_1.columns and 'Count' in autograder1_1.columns\n>>> assert autograder1_1.shape == (3, 2)\n",
         "hidden": false,
         "locked": false
        }
       ],
       "scored": true,
       "setup": "",
       "teardown": "",
       "type": "doctest"
      }
     ]
    },
    "q1.2": {
     "name": "q1.2",
     "points": 1,
     "suites": [
      {
       "cases": [],
       "scored": true,
       "setup": "",
       "teardown": "",
       "type": "doctest"
      }
     ]
    },
    "q1.3": {
     "name": "q1.3",
     "points": 2,
     "suites": [
      {
       "cases": [
        {
         "code": ">>> assert autograder1_3.shape == (4, 2)\n",
         "hidden": false,
         "locked": false
        }
       ],
       "scored": true,
       "setup": "",
       "teardown": "",
       "type": "doctest"
      }
     ]
    },
    "q1.4": {
     "name": "q1.4",
     "points": 2,
     "suites": [
      {
       "cases": [
        {
         "code": ">>> assert 'Sides' in autograder1_4.columns and 'Shape name' in autograder1_4.columns and ('Count' in autograder1_4.columns)\n>>> assert autograder1_4.shape == (4, 3)\n",
         "hidden": false,
         "locked": false
        }
       ],
       "scored": true,
       "setup": "",
       "teardown": "",
       "type": "doctest"
      }
     ]
    },
    "q1.5": {
     "name": "q1.5",
     "points": 1,
     "suites": [
      {
       "cases": [
        {
         "code": ">>> assert triangle_bool_index.dtype == bool\n",
         "hidden": false,
         "locked": false
        }
       ],
       "scored": true,
       "setup": "",
       "teardown": "",
       "type": "doctest"
      }
     ]
    },
    "q1.6": {
     "name": "q1.6",
     "points": 2,
     "suites": [
      {
       "cases": [
        {
         "code": ">>> assert shapes_df.shape == (4, 3)\n",
         "hidden": false,
         "locked": false
        }
       ],
       "scored": true,
       "setup": "",
       "teardown": "",
       "type": "doctest"
      }
     ]
    },
    "q2.1": {
     "name": "q2.1",
     "points": 1,
     "suites": [
      {
       "cases": [
        {
         "code": ">>> assert rodents_of_unusual_size.shape == (29, 5)\n",
         "hidden": false,
         "locked": false
        }
       ],
       "scored": true,
       "setup": "",
       "teardown": "",
       "type": "doctest"
      }
     ]
    },
    "q2.2": {
     "name": "q2.2",
     "points": 1,
     "suites": [
      {
       "cases": [],
       "scored": true,
       "setup": "",
       "teardown": "",
       "type": "doctest"
      }
     ]
    },
    "q2.3": {
     "name": "q2.3",
     "points": 1,
     "suites": [
      {
       "cases": [],
       "scored": true,
       "setup": "",
       "teardown": "",
       "type": "doctest"
      }
     ]
    },
    "q2.4": {
     "name": "q2.4",
     "points": 2,
     "suites": [
      {
       "cases": [],
       "scored": true,
       "setup": "",
       "teardown": "",
       "type": "doctest"
      }
     ]
    },
    "q3.1": {
     "name": "q3.1",
     "points": 1,
     "suites": [
      {
       "cases": [
        {
         "code": ">>> assert burritos.shape == (211, 6)\n",
         "hidden": false,
         "locked": false
        }
       ],
       "scored": true,
       "setup": "",
       "teardown": "",
       "type": "doctest"
      }
     ]
    },
    "q3.2": {
     "name": "q3.2",
     "points": 1,
     "suites": [
      {
       "cases": [],
       "scored": true,
       "setup": "",
       "teardown": "",
       "type": "doctest"
      }
     ]
    },
    "q3.3": {
     "name": "q3.3",
     "points": 2,
     "suites": [
      {
       "cases": [],
       "scored": true,
       "setup": "",
       "teardown": "",
       "type": "doctest"
      }
     ]
    },
    "q3.4": {
     "name": "q3.4",
     "points": 1,
     "suites": [
      {
       "cases": [],
       "scored": true,
       "setup": "",
       "teardown": "",
       "type": "doctest"
      }
     ]
    },
    "q3.5": {
     "name": "q3.5",
     "points": 2,
     "suites": [
      {
       "cases": [],
       "scored": true,
       "setup": "",
       "teardown": "",
       "type": "doctest"
      }
     ]
    },
    "q3.6": {
     "name": "q3.6",
     "points": 1,
     "suites": [
      {
       "cases": [],
       "scored": true,
       "setup": "",
       "teardown": "",
       "type": "doctest"
      }
     ]
    },
    "q3.7": {
     "name": "q3.7",
     "points": 2,
     "suites": [
      {
       "cases": [],
       "scored": true,
       "setup": "",
       "teardown": "",
       "type": "doctest"
      }
     ]
    }
   }
  }
 },
 "nbformat": 4,
 "nbformat_minor": 5
}
