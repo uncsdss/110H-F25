{
 "cells": [
  {
   "cell_type": "code",
   "execution_count": null,
   "id": "4f7969ee-43e2-47a5-9188-ec819a972438",
   "metadata": {},
   "outputs": [],
   "source": [
    "import pandas as pd"
   ]
  },
  {
   "cell_type": "code",
   "execution_count": null,
   "id": "9e96d90d-e748-43dc-8c4f-56e34ea27528",
   "metadata": {},
   "outputs": [],
   "source": [
    "games = pd.read_csv('games.csv', parse_dates=True)\n",
    "games"
   ]
  },
  {
   "cell_type": "code",
   "execution_count": null,
   "id": "9a05766f-46f9-41ab-8f1d-797735ca7cd4",
   "metadata": {},
   "outputs": [],
   "source": [
    "players = pd.read_csv('players.csv', parse_dates=True)\n",
    "players"
   ]
  },
  {
   "cell_type": "code",
   "execution_count": null,
   "id": "cc0593ab-15fc-40de-b91c-1688736519e7",
   "metadata": {},
   "outputs": [],
   "source": [
    "plays = pd.read_csv('plays.csv')\n",
    "plays"
   ]
  },
  {
   "cell_type": "code",
   "execution_count": null,
   "id": "f67e2f75-a87b-43f9-817b-5050402e5aad",
   "metadata": {},
   "outputs": [],
   "source": [
    "week_data = pd.read_csv('week_data.csv', parse_dates=True)\n",
    "week_data"
   ]
  },
  {
   "cell_type": "markdown",
   "id": "5ee0fec3-df6f-46c6-bb0a-a81e63eb17af",
   "metadata": {},
   "source": [
    "# Merging (or joining) tables"
   ]
  },
  {
   "cell_type": "code",
   "execution_count": null,
   "id": "45d0f738-6f50-483e-8013-3988bca5262b",
   "metadata": {},
   "outputs": [],
   "source": [
    "# add game information (from games table) to each play in plays table\n",
    "plays_merged = pd.merge(plays, games, how='left', on='gameId')\n",
    "plays_merged"
   ]
  },
  {
   "cell_type": "markdown",
   "id": "5e89c7f5-7cda-4a67-b239-d77959c86d29",
   "metadata": {},
   "source": [
    "You can do any of the following table merging operations. You can also do multiple of them by saving the merged table to `week_data`."
   ]
  },
  {
   "cell_type": "code",
   "execution_count": null,
   "id": "af3f319d-ce40-473e-91ba-5d9000a5b382",
   "metadata": {},
   "outputs": [],
   "source": [
    "# Add player information (from players table) to week_data based on nflId\n",
    "# week_data_merged = pd.merge(week_data, players, how='left', on='nflId')\n",
    "\n",
    "# Add play information (from plays table) to week_data based on playId \n",
    "# week_data_merged = pd.merge(week_data, plays, how='left', on='playId')\n",
    "\n",
    "# Add game information (from games table) to week_data based on gameId\n",
    "# week_data_merged = pd.merge(week_data, games, how='left', on='gameId')\n"
   ]
  },
  {
   "cell_type": "code",
   "execution_count": null,
   "id": "d710f05e-340a-4f15-a1f4-43a97db71a97",
   "metadata": {},
   "outputs": [],
   "source": []
  }
 ],
 "metadata": {
  "kernelspec": {
   "display_name": "Python 3 (ipykernel)",
   "language": "python",
   "name": "python3"
  },
  "language_info": {
   "codemirror_mode": {
    "name": "ipython",
    "version": 3
   },
   "file_extension": ".py",
   "mimetype": "text/x-python",
   "name": "python",
   "nbconvert_exporter": "python",
   "pygments_lexer": "ipython3",
   "version": "3.10.14"
  }
 },
 "nbformat": 4,
 "nbformat_minor": 5
}
