{
 "cells": [
  {
   "cell_type": "code",
   "execution_count": 1,
   "id": "9bad8653-04ad-4e7f-b667-ad98b12961be",
   "metadata": {},
   "outputs": [],
   "source": [
    "import pandas as pd"
   ]
  },
  {
   "cell_type": "code",
   "execution_count": 2,
   "id": "264d29d0-b484-448c-ad08-7956cc307807",
   "metadata": {},
   "outputs": [],
   "source": [
    "stations = pd.read_csv(\"https://raw.githubusercontent.com/PhilChodrow/PIC16B/master/datasets/noaa-ghcn/station-metadata.csv\")"
   ]
  },
  {
   "cell_type": "code",
   "execution_count": 3,
   "id": "52b29f31-7874-4bea-8a66-4b1b9f263267",
   "metadata": {},
   "outputs": [],
   "source": [
    "def merge_decade(decade):\n",
    "    decade = decade.rename(columns={\n",
    "        'VALUE1': 'January',\n",
    "        'VALUE2': 'February',\n",
    "        'VALUE3': 'March',\n",
    "        'VALUE4': 'April',\n",
    "        'VALUE5': 'May',\n",
    "        'VALUE6': 'June',\n",
    "        'VALUE7': 'July',\n",
    "        'VALUE8': 'August',\n",
    "        'VALUE9': 'September',\n",
    "        'VALUE10': 'October',\n",
    "        'VALUE11': 'November',\n",
    "        'VALUE12': 'December',\n",
    "    })\n",
    "    decade = pd.merge(decade, stations, on='ID')\n",
    "    decade = decade[['ID', 'NAME', 'LATITUDE', 'LONGITUDE', 'STNELEV', 'Year', \n",
    "                           'January', 'February', 'March', 'April', 'May', 'June', 'July', 'August',\n",
    "                          'September', 'October', 'November', 'December']]\n",
    "    return decade"
   ]
  },
  {
   "cell_type": "code",
   "execution_count": 4,
   "id": "206bd96f-1433-4895-af68-118aab06f761",
   "metadata": {},
   "outputs": [
    {
     "name": "stdout",
     "output_type": "stream",
     "text": [
      "['1901-1910', '1911-1920', '1921-1930', '1931-1940', '1941-1950', '1951-1960', '1961-1970', '1971-1980', '1981-1990', '1991-2000', '2001-2010', '2011-2020']\n",
      "(41463, 18)\n",
      "(51507, 18)\n",
      "(57536, 18)\n",
      "(69143, 18)\n",
      "(86214, 18)\n",
      "(117833, 18)\n",
      "(145033, 18)\n",
      "(156073, 18)\n",
      "(157375, 18)\n",
      "(161192, 18)\n",
      "(167490, 18)\n",
      "(139758, 18)\n"
     ]
    }
   ],
   "source": [
    "intervals = [f'{years[0]}-{years[1]}' for years in zip(range(1901, 2012, 10), range(1910, 2021, 10))]\n",
    "print(intervals)\n",
    "\n",
    "for interval in intervals:\n",
    "    url = f\"https://raw.githubusercontent.com/PhilChodrow/PIC16B/master/datasets/noaa-ghcn/decades/{interval}.csv\"\n",
    "    decade = pd.read_csv(url)\n",
    "    decade = merge_decade(decade)\n",
    "    print(decade.shape)\n",
    "    decade.to_csv(f'{interval}.csv', index=False)"
   ]
  },
  {
   "cell_type": "code",
   "execution_count": null,
   "id": "d5def79d-c2f2-49cb-b119-07da838a4579",
   "metadata": {},
   "outputs": [],
   "source": []
  },
  {
   "cell_type": "code",
   "execution_count": null,
   "id": "415b0004-4105-474e-bf55-e0e13a4f2a99",
   "metadata": {},
   "outputs": [],
   "source": []
  },
  {
   "cell_type": "code",
   "execution_count": null,
   "id": "c202acd3-1bd5-4629-8322-97c243b2c200",
   "metadata": {},
   "outputs": [],
   "source": []
  }
 ],
 "metadata": {
  "kernelspec": {
   "display_name": "Python 3 (ipykernel)",
   "language": "python",
   "name": "python3"
  },
  "language_info": {
   "codemirror_mode": {
    "name": "ipython",
    "version": 3
   },
   "file_extension": ".py",
   "mimetype": "text/x-python",
   "name": "python",
   "nbconvert_exporter": "python",
   "pygments_lexer": "ipython3",
   "version": "3.10.14"
  }
 },
 "nbformat": 4,
 "nbformat_minor": 5
}
