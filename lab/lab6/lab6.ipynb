{
 "cells": [
  {
   "cell_type": "code",
   "execution_count": null,
   "metadata": {
    "deletable": false,
    "editable": false
   },
   "outputs": [],
   "source": [
    "# Initialize Otter\n",
    "import otter\n",
    "grader = otter.Notebook(\"lab6.ipynb\")"
   ]
  },
  {
   "cell_type": "markdown",
   "metadata": {},
   "source": [
    "# Lab 6 Defining functions\n",
    "In this activity, our focus will be on writing some efficient Python functions for checking whether numbers are prime. \n"
   ]
  },
  {
   "cell_type": "code",
   "execution_count": null,
   "metadata": {},
   "outputs": [],
   "source": [
    "# write your code here\n",
    "me = [\"Rick Marks\", \"rlmarks\"]\n",
    "partner = [\"Piper Marks\", \"piper\"]"
   ]
  },
  {
   "cell_type": "code",
   "execution_count": null,
   "metadata": {
    "deletable": false,
    "editable": false
   },
   "outputs": [],
   "source": [
    "grader.check(\"yourname\")"
   ]
  },
  {
   "cell_type": "markdown",
   "metadata": {},
   "source": [
    "# 1. Test even and odd numbers\n",
    "\n",
    "Run the cells below. What do they tell us about the number 9?\n",
    "\n",
    "**Hint**: Recall that `n % i` is the remainder of dividing `n` by `i`."
   ]
  },
  {
   "cell_type": "code",
   "execution_count": null,
   "metadata": {},
   "outputs": [],
   "source": [
    "# Run this code\n",
    "# This is an expression which is evaluated to a data object\n",
    "9 % 2 == 0 "
   ]
  },
  {
   "cell_type": "code",
   "execution_count": null,
   "metadata": {},
   "outputs": [],
   "source": [
    "# Run this code\n",
    "# What does == check for?\n",
    "9 % 3 == 0 "
   ]
  },
  {
   "cell_type": "code",
   "execution_count": null,
   "metadata": {},
   "outputs": [],
   "source": [
    "# What is the type of this object?\n",
    "type(9 % 2 == 0)"
   ]
  },
  {
   "cell_type": "markdown",
   "metadata": {},
   "source": [
    "[Write your observation here]"
   ]
  },
  {
   "cell_type": "markdown",
   "metadata": {},
   "source": [
    "Now let's turn that into a function so that we can test multiple numbers, not just 9. Write a function called `is_even` that takes in one integer parameter `n` and returns `True` or `False` depending on whether `n` is an even number or not."
   ]
  },
  {
   "cell_type": "code",
   "execution_count": null,
   "metadata": {
    "tags": [
     "otter_answer_cell"
    ]
   },
   "outputs": [],
   "source": [
    "def is_even(n):\n",
    "    ..."
   ]
  },
  {
   "cell_type": "code",
   "execution_count": null,
   "metadata": {
    "deletable": false,
    "editable": false
   },
   "outputs": [],
   "source": [
    "grader.check(\"is_even\")"
   ]
  },
  {
   "cell_type": "markdown",
   "metadata": {},
   "source": [
    "Write a new function called `evens_up_to` that takes in parameter `n` as before, but now returns a `list` of all even numbers between 1 and `n` (inclusive).\n",
    "\n",
    "For example, `evens_up_to(5) = [2, 4]` and `evens_up_to(8) = [2, 4, 6, 8]`.\n",
    "\n",
    "**Hint**: Consider using a `for` loop with `range`. \n",
    "\n",
    "**Hint**: You'll find a very helpful example in lecture 5 slides."
   ]
  },
  {
   "cell_type": "code",
   "execution_count": null,
   "metadata": {
    "tags": [
     "otter_answer_cell"
    ]
   },
   "outputs": [],
   "source": [
    "def evens_up_to(n):\n",
    "    ..."
   ]
  },
  {
   "cell_type": "code",
   "execution_count": null,
   "metadata": {
    "deletable": false,
    "editable": false
   },
   "outputs": [],
   "source": [
    "grader.check(\"evens_up_to\")"
   ]
  },
  {
   "cell_type": "markdown",
   "metadata": {},
   "source": [
    "# 2. Test Primes\n",
    "\n",
    "We are now going to try something more advanced.\n",
    "\n",
    "Write a function called `is_prime(n)` that tests whether an integer `n` is prime. Do so by checking whether `i` divides `n` for all integers `i` where $2 \\le i < n$. You should return `True` if the input is prime, and `False` otherwise. \n",
    "\n",
    "**Hint**: Remember that `0` and `1` are not prime. You can safely assume that the input $n \\ge 2$. \n",
    "\n",
    "**Hint**: Recall from lecture 5 that once the function `return`s something, no more code inside the function gets run."
   ]
  },
  {
   "cell_type": "code",
   "execution_count": null,
   "metadata": {
    "tags": [
     "otter_answer_cell"
    ]
   },
   "outputs": [],
   "source": [
    "# write is_prime(n) here\n",
    "\n",
    "..."
   ]
  },
  {
   "cell_type": "code",
   "execution_count": null,
   "metadata": {
    "deletable": false,
    "editable": false
   },
   "outputs": [],
   "source": [
    "grader.check(\"is_prime\")"
   ]
  },
  {
   "cell_type": "markdown",
   "metadata": {},
   "source": [
    "**Note on grading**: If you have gotten to this point, you will get full credit for today's lab! It is not necessary to complete the entire worksheet in order to receive full credit, provided that you are actively working on the activity for the entirety of the Lab period. If, however, you would like to meet up later with your partners to finish up the activity, then please do -- this will be very helpful for your learning (and therefore your performance on exams). "
   ]
  },
  {
   "cell_type": "markdown",
   "metadata": {},
   "source": [
    "# 3. Test primes faster\n",
    "\n",
    "You may remember from math class that it's not necessary to check *all* numbers `i < n` to tell whether `n` is prime. In fact, it suffices to check only numbers `i` such that $i \\leq \\sqrt{n}$ (why?). Write a new function called `fast_is_prime(n)` that takes advantage of this fact. \n",
    "\n",
    "Check your function using the same tests as above. \n",
    "\n",
    "***Hint***: You can get square root of 2 by running the following code:\n",
    "\n",
    "```python\n",
    "import math\n",
    "k = math.sqrt(2)\n",
    "print(k)\n",
    "```\n",
    "\n",
    "**Hint**: You should be able to accomplish this by changing just one line from your previous function."
   ]
  },
  {
   "cell_type": "code",
   "execution_count": null,
   "metadata": {},
   "outputs": [],
   "source": [
    "import math"
   ]
  },
  {
   "cell_type": "code",
   "execution_count": null,
   "metadata": {
    "tags": [
     "otter_answer_cell"
    ]
   },
   "outputs": [],
   "source": [
    "# write fast_is_prime(n) here\n",
    "\n",
    "...\n"
   ]
  },
  {
   "cell_type": "code",
   "execution_count": null,
   "metadata": {
    "deletable": false,
    "editable": false
   },
   "outputs": [],
   "source": [
    "grader.check(\"fast_is_prime\")"
   ]
  },
  {
   "cell_type": "markdown",
   "metadata": {},
   "source": [
    "# BONUS BONUS. Compare Speed\n",
    "\n",
    "Jupyter comes with a special \"magic macro\" that lets you compare the execution speed of your functions. To use it, add `%timeit` (\"time it\") in front of your function call. Write and run the following two lines: \n",
    "\n",
    "```python\n",
    "%timeit is_prime(9973)\n",
    "%timeit fast_is_prime(9973)\n",
    "```\n",
    "\n",
    "You'll see some summary statistics based on a large number of repetitions of your function. How much faster is `fast_is_prime` than `is_prime`? "
   ]
  },
  {
   "cell_type": "code",
   "execution_count": null,
   "metadata": {},
   "outputs": [],
   "source": [
    "# try testing 9973\n"
   ]
  },
  {
   "cell_type": "markdown",
   "metadata": {},
   "source": [
    "Now test `n = 1000003`. How much faster is your implementation of `fast_is_prime()`? \n",
    "\n",
    "**Note:** What is $\\sqrt{1,000,000}$?"
   ]
  },
  {
   "cell_type": "code",
   "execution_count": null,
   "metadata": {},
   "outputs": [],
   "source": [
    "# try testing 1000003\n"
   ]
  },
  {
   "cell_type": "markdown",
   "metadata": {},
   "source": [
    "How long does it take to return all primes up to 9973?"
   ]
  },
  {
   "cell_type": "code",
   "execution_count": null,
   "metadata": {},
   "outputs": [],
   "source": [
    "# Run your code here\n"
   ]
  },
  {
   "cell_type": "markdown",
   "metadata": {
    "deletable": false,
    "editable": false
   },
   "source": [
    "## Submission\n",
    "\n",
    "Make sure you have run all cells in your notebook in order before running the cell below, so that all images/graphs appear in the output. The cell below will generate a zip file for you to submit. **Please save before exporting!**\n",
    "\n",
    "Submit zip and PDF file to Gradescope Lab 6"
   ]
  },
  {
   "cell_type": "code",
   "execution_count": null,
   "metadata": {
    "deletable": false,
    "editable": false
   },
   "outputs": [],
   "source": [
    "# Save your notebook first, then run this cell to export your submission.\n",
    "grader.export(pdf=False, run_tests=True)"
   ]
  },
  {
   "cell_type": "markdown",
   "metadata": {},
   "source": [
    " "
   ]
  }
 ],
 "metadata": {
  "kernelspec": {
   "display_name": "Python 3",
   "language": "python",
   "name": "python3"
  },
  "language_info": {
   "codemirror_mode": {
    "name": "ipython",
    "version": 3
   },
   "file_extension": ".py",
   "mimetype": "text/x-python",
   "name": "python",
   "nbconvert_exporter": "python",
   "pygments_lexer": "ipython3",
   "version": "3.11.9"
  },
  "otter": {
   "OK_FORMAT": true,
   "tests": {
    "evens_up_to": {
     "name": "evens_up_to",
     "points": 3,
     "suites": [
      {
       "cases": [
        {
         "code": ">>> assert evens_up_to(5) == [2, 4]\n>>> assert evens_up_to(10) == [2, 4, 6, 8, 10]\n",
         "hidden": false,
         "locked": false
        }
       ],
       "scored": true,
       "setup": "",
       "teardown": "",
       "type": "doctest"
      }
     ]
    },
    "fast_is_prime": {
     "name": "fast_is_prime",
     "points": 1,
     "suites": [
      {
       "cases": [
        {
         "code": ">>> assert fast_is_prime(3)\n>>> assert not fast_is_prime(4)\n>>> assert fast_is_prime(9973)\n>>> assert not fast_is_prime(9977)\n",
         "hidden": false,
         "locked": false
        }
       ],
       "scored": true,
       "setup": "",
       "teardown": "",
       "type": "doctest"
      }
     ]
    },
    "is_even": {
     "name": "is_even",
     "points": 2,
     "suites": [
      {
       "cases": [
        {
         "code": ">>> assert not is_even(4909)\n>>> assert is_even(4886)\n",
         "hidden": false,
         "locked": false
        }
       ],
       "scored": true,
       "setup": "",
       "teardown": "",
       "type": "doctest"
      }
     ]
    },
    "is_prime": {
     "name": "is_prime",
     "points": 3,
     "suites": [
      {
       "cases": [
        {
         "code": ">>> assert is_prime(3)\n>>> assert not is_prime(4)\n>>> assert is_prime(9973)\n>>> assert not is_prime(9977)\n",
         "hidden": false,
         "locked": false
        }
       ],
       "scored": true,
       "setup": "",
       "teardown": "",
       "type": "doctest"
      }
     ]
    },
    "yourname": {
     "name": "yourname",
     "points": 1,
     "suites": [
      {
       "cases": [
        {
         "code": ">>> assert me[0] != 'Rick Marks'\n",
         "hidden": false,
         "locked": false
        }
       ],
       "scored": true,
       "setup": "",
       "teardown": "",
       "type": "doctest"
      }
     ]
    }
   }
  }
 },
 "nbformat": 4,
 "nbformat_minor": 4
}
