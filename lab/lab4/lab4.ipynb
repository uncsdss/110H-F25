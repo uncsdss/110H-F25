{
 "cells": [
  {
   "cell_type": "code",
   "execution_count": null,
   "metadata": {
    "deletable": false,
    "editable": false
   },
   "outputs": [],
   "source": [
    "# Initialize Otter\n",
    "import otter\n",
    "grader = otter.Notebook(\"lab4.ipynb\")"
   ]
  },
  {
   "cell_type": "markdown",
   "metadata": {},
   "source": [
    "# Lab 4. Wordle\n",
    "\n",
    "In this activity, we will start using Pandas, though most of the lab will really be about writing basic Python to implement a playable version of the game Wordle!"
   ]
  },
  {
   "cell_type": "code",
   "execution_count": null,
   "metadata": {},
   "outputs": [],
   "source": [
    "# write your code here\n",
    "me = [\"Ric Marks\", \"rlmarks\"]\n",
    "partner = [\"Piper Marks\", \"piper\"]"
   ]
  },
  {
   "cell_type": "code",
   "execution_count": null,
   "metadata": {
    "deletable": false,
    "editable": false
   },
   "outputs": [],
   "source": [
    "grader.check(\"q0\")"
   ]
  },
  {
   "cell_type": "markdown",
   "metadata": {},
   "source": [
    "## 1. Loading a table from a file, and understanding the table. (5 minutes)\n",
    "First, you will load some Comma-Separated Values (CSV) data from a file.  You'll use the pandas function `read_csv()` to do this, so pandas needs to be imported (which is done for you in the code below).  \n",
    "\n",
    "**Q**: Add one line of code that calls `pd.read_csv()` to read a file named 'wordle_answers.csv', and assign the table to a new variable `wordle_df`. You can do this by replacing the ... with your code."
   ]
  },
  {
   "cell_type": "code",
   "execution_count": null,
   "metadata": {
    "tags": [
     "otter_answer_cell"
    ]
   },
   "outputs": [],
   "source": [
    "import pandas as pd\n",
    "wordle_df = ..."
   ]
  },
  {
   "cell_type": "code",
   "execution_count": null,
   "metadata": {
    "deletable": false,
    "editable": false
   },
   "outputs": [],
   "source": [
    "grader.check(\"read\")"
   ]
  },
  {
   "cell_type": "markdown",
   "metadata": {},
   "source": [
    "**Remark**: Run the following cell to learn more about the data type of the Pandas table."
   ]
  },
  {
   "cell_type": "code",
   "execution_count": null,
   "metadata": {},
   "outputs": [],
   "source": [
    "type(wordle_df)"
   ]
  },
  {
   "cell_type": "markdown",
   "metadata": {},
   "source": [
    "Note that sometimes when you check the type of something, the return value looks more complex than what you would expect, but it is still equivalent to the simpler type that you were expecting, as you can see in the next cell."
   ]
  },
  {
   "cell_type": "code",
   "execution_count": null,
   "metadata": {},
   "outputs": [],
   "source": [
    "type(wordle_df) == pd.DataFrame"
   ]
  },
  {
   "cell_type": "markdown",
   "metadata": {},
   "source": [
    "**Q**: Run each of the following cells. Make sure to understand what kind of information they give you. Be careful - some of them are calling functions (table methods ), so require parenthesis `()`, while some are just looking up information attached to the table (think of it like metadata in your phone images), so they don't involve `()`."
   ]
  },
  {
   "cell_type": "code",
   "execution_count": null,
   "metadata": {},
   "outputs": [],
   "source": [
    "wordle_df.dtypes"
   ]
  },
  {
   "cell_type": "code",
   "execution_count": null,
   "metadata": {},
   "outputs": [],
   "source": [
    "wordle_df.columns"
   ]
  },
  {
   "cell_type": "code",
   "execution_count": null,
   "metadata": {},
   "outputs": [],
   "source": [
    "wordle_df.shape"
   ]
  },
  {
   "cell_type": "code",
   "execution_count": null,
   "metadata": {},
   "outputs": [],
   "source": [
    "wordle_df.info()"
   ]
  },
  {
   "cell_type": "code",
   "execution_count": null,
   "metadata": {},
   "outputs": [],
   "source": [
    "wordle_df.describe()"
   ]
  },
  {
   "cell_type": "markdown",
   "metadata": {},
   "source": [
    "## 2. Adding columns (5 minutes)\n",
    "\n",
    "**Q**: Write one line of code below that selects the column `word` in table `wordle_df`. We showed you two ways to achieve this in lecture."
   ]
  },
  {
   "cell_type": "code",
   "execution_count": null,
   "metadata": {},
   "outputs": [],
   "source": [
    "# Write your code here!\n",
    "\n"
   ]
  },
  {
   "cell_type": "markdown",
   "metadata": {},
   "source": [
    "We want to keep track of whether a word has been used in a game or not so we don't repeat words.  One way to do this is to add a `bool` attribute for each entry.  As you know, attributes are columns in tables, so you'll need to add a new column.\n",
    "\n",
    "Add the column `already_used?` to `wordle_df` and initialize all the values to `False` "
   ]
  },
  {
   "cell_type": "code",
   "execution_count": null,
   "metadata": {
    "tags": [
     "otter_answer_cell"
    ]
   },
   "outputs": [],
   "source": [
    "...\n",
    "wordle_df"
   ]
  },
  {
   "cell_type": "code",
   "execution_count": null,
   "metadata": {
    "deletable": false,
    "editable": false
   },
   "outputs": [],
   "source": [
    "grader.check(\"column\")"
   ]
  },
  {
   "cell_type": "markdown",
   "metadata": {},
   "source": [
    "The classic Wordle game has all letters upper case, but you may have noticed all the letters in our table are lower case.  Add an attribute named `word_upper` to `wordle_df` that is the upper case version of the words. \n",
    "To do this, use one of the special `str` column operations that converts all letters to upper case."
   ]
  },
  {
   "cell_type": "code",
   "execution_count": null,
   "metadata": {
    "tags": [
     "otter_answer_cell"
    ]
   },
   "outputs": [],
   "source": [
    "...\n",
    "wordle_df"
   ]
  },
  {
   "cell_type": "code",
   "execution_count": null,
   "metadata": {
    "deletable": false,
    "editable": false
   },
   "outputs": [],
   "source": [
    "grader.check(\"column2\")"
   ]
  },
  {
   "cell_type": "markdown",
   "metadata": {},
   "source": [
    "## 3. Let's design Wordle!\n",
    "Implementing Wordle is a great way to hone your basic Python skills.  But just like with any nontrivial programming problem, it is important to first think about the problem and understand it before you jump into coding.  In case you have never played Wordle:\n",
    "https://www.nytimes.com/games/wordle/index.html\n",
    "\n",
    "We'll be using the same color scheme for giving feedback as classic Wordle: if a guessed letter is printed green, it means it is in the answer and in the correct spot.  If a guessed letter is printed yellow it means it is means the letter is in the answer but not that spot.  If a letter is black, it is not in the answer.  Don't worry, I will provide you the code to colorize what you will print!\n",
    "\n",
    "Before continuing, stop and discuss with your lab partner some of the steps you think would be key to implementing Wordle.\n",
    "\n",
    "\n",
    "\n"
   ]
  },
  {
   "cell_type": "markdown",
   "metadata": {},
   "source": [
    "*feel free to write your steps here*\n",
    "1.\n",
    "2.\n",
    "3.\n",
    "4.\n",
    "5.\n",
    "6."
   ]
  },
  {
   "cell_type": "markdown",
   "metadata": {},
   "source": [
    "Here is my recommended breakdown:\n",
    "\n",
    "#### Wordle steps\n",
    "1. Randomly get an answer word from the table \n",
    "2. Give the player 6 guesses at the answer word\n",
    "3. __Verify each guess is valid (5 letters long, and a potential answer word)\n",
    "4. __Evaluate each valid guess against the answer word and give appropriate colored feedback.\n",
    "5. __If a valid guess matches the answer word, no more guesses are needed.  Stop and print a success message.\n",
    "6. If the player doesn't guess the word after 6 tries, print the answer word."
   ]
  },
  {
   "cell_type": "markdown",
   "metadata": {},
   "source": [
    "Note the not very subtle indentation for steps 3, 4, 5.  Why do you think I did this?"
   ]
  },
  {
   "cell_type": "markdown",
   "metadata": {},
   "source": [
    "## 4. Let's implement Wordle!\n",
    "The below code implements the steps above, with some more parts to be added (TBD).  Take some time to make sure you understand this code before you move on to implement the TBD sections.\n",
    "\n",
    "````\n",
    "# STEP 1\n",
    "import random\n",
    "answer = random.choice(wordle_df['word']) # get a random word from wordle_df\n",
    "\n",
    "# STEP 2\n",
    "correct_guess = False\n",
    "for attempt_num in range(1,7):\n",
    "\n",
    "    # STEP 3: Get a valid guess (TBD)\n",
    "    guess = \"temp\" # placeholder code\n",
    "\n",
    "    # STEP 4: Evaluate the guess against the answer and get the feedback string (TBD)\n",
    "    feedback_string = \"*****\" # placeholder code\n",
    "    \n",
    "    print(f\"Guess #{attempt_num}: {guess}, Result: {feedback_string}\")\n",
    "\n",
    "    # STEP 5: if the guess matches the answer exit the loop\n",
    "    if guess == answer:\n",
    "        correct_guess = True\n",
    "        break\n",
    "# STEP 6: print the end-of-game feedback\n",
    "if correct_guess==False:\n",
    "    print(\"Better luck next time.  The correct word was:\", answer)\n",
    "else:\n",
    "    print(\"Yay! You guessed the word!\")\n",
    "````"
   ]
  },
  {
   "cell_type": "markdown",
   "metadata": {},
   "source": [
    "### STEP 3: Valid user input\n",
    "Your first job is to replace the placeholder code above for STEP 3.  This will be a lot like what you did in Lab3 for the password, but this time you should use a `while` loop.  There are while loop examples in `demo/lec4.ipynb` that may help.  To validate the guess, you should:\n",
    "1. ask the player to input a guess (like Lab3)\n",
    "2. convert the guess to uppercase letters\n",
    "3. check if the guess is 5 characters long and all the characters are alphabetical characters.\n",
    "4. check if the guess is a possible answer from `wordle_df`\n",
    "5. do all this again if the guess is not valid\n",
    "\n",
    "Hint: the string methods `upper()` and `isalpha()` and the built-in function `len` might be useful! \n",
    "\n"
   ]
  },
  {
   "cell_type": "code",
   "execution_count": null,
   "metadata": {},
   "outputs": [],
   "source": [
    "# Write your code here!\n"
   ]
  },
  {
   "cell_type": "markdown",
   "metadata": {},
   "source": [
    "There are multiple ways you can do this, but if you are stuck, the following rough outline is a good starting skeleton:\n",
    "````\n",
    "is_valid_guess = False\n",
    "while ...:\n",
    "    guess = ...\n",
    "    guess = guess.upper() # convert guess to uppercase\n",
    "    if ...:\n",
    "        print(\"Invalid guess. Please enter a 5-letter word.\")\n",
    "    elif ...:\n",
    "        print(\"Word not in answer list. Please enter a valid 5-letter word.\")\n",
    "    else:\n",
    "        is_valid_guess = True\n",
    "````"
   ]
  },
  {
   "cell_type": "markdown",
   "metadata": {},
   "source": [
    "### STEP 4: Evaluating the guess against the answer\n",
    "Evaluating the guess against the answer can be done in many different ways, but we are going to break it into 2 steps:\n",
    "1. Find what letters of `guess` are in `answer` and in the right place (the green letters)\n",
    "2. Find what letters of `guess` are in `answer` but in the wrong place (the yellow letters)\n",
    "3. Create color-coded feedback string\n",
    "\n",
    "#### STEP 4.1. Right letter right place\n",
    "The first step is pretty straight forward to implement, since at this point in the code we've made sure that `guess` and `answer` are both 5-letter uppercase words.  Use a list of 5 bool values named `right_letter_right_location` to hold the results.  Fill in the missing code using `guess` and `answer` and string indexing/comparison:\n",
    "````\n",
    "right_letter_right_place = [False, False, False, False, False]\n",
    "for i in range(...):\n",
    "    if ...:\n",
    "        right_letter_right_place[i] = True\n",
    "````"
   ]
  },
  {
   "cell_type": "code",
   "execution_count": null,
   "metadata": {},
   "outputs": [],
   "source": [
    "# Write your code here!\n",
    "# You can test this code by temporarily setting values for guess and answer and printing right_letter_right_location\n",
    "# For example:\n",
    "# guess = \"CRANE\"\n",
    "# answer = \"CRATE\"\n",
    "\n"
   ]
  },
  {
   "cell_type": "markdown",
   "metadata": {},
   "source": [
    "#### STEP 4.2 Right letter wrong place\n",
    "The second step is a bit trickier logic, though the code is not very long.  But too tricky to figure out in the few minutes of lab!: \n",
    "````\n",
    "right_letter_wrong_place = [False, False, False, False, False]\n",
    "answer_letter_list = list(answer)\n",
    "for i in range(5):\n",
    "    if right_letter_right_place[i] == True:\n",
    "        answer_letter_list[i]=' ' # mark as used\n",
    "for i in range(5):\n",
    "    if right_letter_right_place[i] == False:\n",
    "        if guess[i] in answer_letter_list:\n",
    "            right_letter_wrong_place[i] = True\n",
    "            location_of_guess_letter_in_answer = answer_letter_list.index(guess[i])\n",
    "            answer_letter_list[location_of_guess_letter_in_answer] = ' ' # mark as used\n",
    "````"
   ]
  },
  {
   "cell_type": "markdown",
   "metadata": {},
   "source": [
    "#### STEP 4.3 Color-coded feedback string\n",
    "The code to colorize the feedback string uses \"escape codes\":\n",
    "````\n",
    "feedback_string = \"\"\n",
    "for i in range(5):\n",
    "    if right_letter_right_place[i] == True:\n",
    "        feedback_string += \"\\033[42m\" # GREEN\n",
    "    elif right_letter_wrong_place[i] == True:\n",
    "        feedback_string += \"\\033[43m\" # YELLOW\n",
    "    feedback_string += \" \" + guess[i] + \" \"\n",
    "    feedback_string += \"\\033[00m\" + \" \" # add a space between letters\n",
    "````"
   ]
  },
  {
   "cell_type": "markdown",
   "metadata": {},
   "source": [
    "## 5. Putting it all together\n",
    "Okay, so maybe this was a bit ambitious!  Here is a working version of Wordle complete with all the steps copied over:"
   ]
  },
  {
   "cell_type": "markdown",
   "metadata": {},
   "source": [
    "````\n",
    "# STEP 1\n",
    "import random\n",
    "answer = random.choice(wordle_df['word_upper'])\n",
    "\n",
    "# STEP 2\n",
    "correct_guess = False\n",
    "for attempt_num in range(1,7):\n",
    "    # STEP 3\n",
    "    is_valid_guess = False\n",
    "    while is_valid_guess==False:\n",
    "        guess = input(\"Enter your Wordle guess: \")\n",
    "        guess = guess.upper()\n",
    "        if len(guess) != 5 or guess.isalpha() == False:\n",
    "            print(\"Invalid guess. Please enter a 5-letter word.\")\n",
    "        elif guess not in list(wordle_df['word_upper']):\n",
    "            print(\"Word not in list. Please enter a valid 5-letter word.\")\n",
    "        else:\n",
    "            is_valid_guess = True\n",
    "\n",
    "    # STEP 4\n",
    "    # STEP 4.1\n",
    "    right_letter_right_place = [False, False, False, False, False]\n",
    "    for i in range(5):\n",
    "        if guess[i] == answer[i]:\n",
    "            right_letter_right_place[i] = True\n",
    "\n",
    "    # STEP 4.2\n",
    "    right_letter_wrong_place = [False, False, False, False, False]\n",
    "    answer_letter_list = list(answer)\n",
    "    for i in range(5):\n",
    "        if right_letter_right_place[i] == True:\n",
    "            answer_letter_list[i]=' ' # mark as used\n",
    "    for i in range(5):\n",
    "        if right_letter_right_place[i] == False:\n",
    "            if guess[i] in answer_letter_list:\n",
    "                right_letter_wrong_place[i] = True\n",
    "                location_of_guess_letter_in_answer = answer_letter_list.index(guess[i])\n",
    "                answer_letter_list[location_of_guess_letter_in_answer] = ' ' # mark as used\n",
    "\n",
    "    # STEP 4.3\n",
    "    feedback_string = \"\"\n",
    "    for i in range(5):\n",
    "        if right_letter_right_place[i] == True:\n",
    "            feedback_string += \"\\033[42m\" # GREEN\n",
    "        elif right_letter_wrong_place[i] == True:\n",
    "            feedback_string += \"\\033[43m\" # YELLOW\n",
    "        feedback_string += \" \" + guess[i] + \" \"\n",
    "        feedback_string += \"\\033[00m\" + \" \" # add a space between letters\n",
    "    print(f\"Guess #{attempt_num}: {feedback_string}\")\n",
    "\n",
    "    # STEP 5\n",
    "    if guess == answer:\n",
    "        correct_guess = True\n",
    "        break\n",
    "# STEP 6\n",
    "if correct_guess==False:\n",
    "    print(\"Better luck next time.  The correct word was:\", answer)\n",
    "else:\n",
    "    print(\"Yay! You guessed the word!\")\n",
    "````"
   ]
  },
  {
   "cell_type": "code",
   "execution_count": null,
   "metadata": {},
   "outputs": [],
   "source": [
    "# copy code here to try Wordle"
   ]
  },
  {
   "cell_type": "markdown",
   "metadata": {},
   "source": [
    "## BONUS\n",
    "The real Wordle doesn't print \"Yay! You guessed the word!\" when you get it right.  It prints a different message depending on hom many attempts it took you to get the word:\n",
    "\n",
    "1: Genius 2: Magnificent 3: Impressive 4: Splendid 5: Great 6: Phew!\n",
    "\n",
    "Try changing the implementation to remove the \"Yay!\" print and give this feedback instead using multiple conditional tests and prints (using multiple `elif` commands, and possible `if` or `else` depending on you choose to do it). "
   ]
  },
  {
   "cell_type": "code",
   "execution_count": null,
   "metadata": {},
   "outputs": [],
   "source": [
    "# write your code here!"
   ]
  },
  {
   "cell_type": "markdown",
   "metadata": {},
   "source": [
    "Now try doing the feedback differently by sticking all the feedback message strings into a list, and do a single print that prints one item from the list using indexing. "
   ]
  },
  {
   "cell_type": "code",
   "execution_count": null,
   "metadata": {},
   "outputs": [],
   "source": [
    "# write your code here!"
   ]
  },
  {
   "cell_type": "markdown",
   "metadata": {},
   "source": [
    "## BONUS\n",
    "Update the implementation to verify the value of `aleady_used?` for the answer word is `False`.  If it isn't, you should get another random answer word from the table.  What if the next random word is already used too?  Be sure to handle that case!  Hint: the new Python commands from Lecture 4 seem perfect for this. "
   ]
  },
  {
   "cell_type": "code",
   "execution_count": null,
   "metadata": {},
   "outputs": [],
   "source": [
    "# Write your code here!"
   ]
  },
  {
   "cell_type": "markdown",
   "metadata": {},
   "source": [
    "## BONUS BONUS\n",
    "People look at all sorts of trivia related to Wordle words.  Add an attribute to `wordle_df` that is the number of vowels **(a, e, i, o, u, y)** in each potential Wordle answer. \n",
    "The attribute should be named `vowel_count` and should be initialized with the number of vowels in each word.  To calculate that, you can use a special `str` column operation that counts how many times a character appears in a string. For example, to count the letter `x` for every string in the column `wordle_df['name']`:\n",
    "\n",
    "`wordle_df['name'].str.count('x')`\n",
    "\n"
   ]
  },
  {
   "cell_type": "code",
   "execution_count": null,
   "metadata": {},
   "outputs": [],
   "source": [
    "# Write your code here!"
   ]
  },
  {
   "cell_type": "markdown",
   "metadata": {},
   "source": [
    "But y is actually only **sometimes** a vowel.  A simple rule that is often used is that y is not a vowel when followed by a vowel (aeiou).  Try implementing this challenging twist!  "
   ]
  },
  {
   "cell_type": "code",
   "execution_count": null,
   "metadata": {},
   "outputs": [],
   "source": [
    "# Write your code here!"
   ]
  },
  {
   "cell_type": "markdown",
   "metadata": {
    "deletable": false,
    "editable": false
   },
   "source": [
    "## Submission\n",
    "\n",
    "Make sure you have run all cells in your notebook in order before running the cell below, so that all images/graphs appear in the output. The cell below will generate a zip file for you to submit. **Please save before exporting!**\n",
    "\n",
    "Submit zip and PDF file to Gradescope Lab 4"
   ]
  },
  {
   "cell_type": "code",
   "execution_count": null,
   "metadata": {
    "deletable": false,
    "editable": false
   },
   "outputs": [],
   "source": [
    "# Save your notebook first, then run this cell to export your submission.\n",
    "grader.export(pdf=False, run_tests=True)"
   ]
  },
  {
   "cell_type": "markdown",
   "metadata": {},
   "source": [
    " "
   ]
  }
 ],
 "metadata": {
  "kernelspec": {
   "display_name": "Python 3",
   "language": "python",
   "name": "python3"
  },
  "language_info": {
   "codemirror_mode": {
    "name": "ipython",
    "version": 3
   },
   "file_extension": ".py",
   "mimetype": "text/x-python",
   "name": "python",
   "nbconvert_exporter": "python",
   "pygments_lexer": "ipython3",
   "version": "3.12.10"
  },
  "otter": {
   "OK_FORMAT": true,
   "tests": {
    "column": {
     "name": "column",
     "points": 2,
     "suites": [
      {
       "cases": [
        {
         "code": ">>> assert 'already_used?' in wordle_df.columns\n>>> assert wordle_df['already_used?'][0] == False\n",
         "hidden": false,
         "locked": false
        }
       ],
       "scored": true,
       "setup": "",
       "teardown": "",
       "type": "doctest"
      }
     ]
    },
    "column2": {
     "name": "column2",
     "points": 2,
     "suites": [
      {
       "cases": [
        {
         "code": ">>> assert wordle_df['word_upper'][0] == 'ABACK'\n>>> assert wordle_df['word_upper'][1] == 'ABASE'\n",
         "hidden": false,
         "locked": false
        }
       ],
       "scored": true,
       "setup": "",
       "teardown": "",
       "type": "doctest"
      }
     ]
    },
    "q0": {
     "name": "q0",
     "points": 1,
     "suites": [
      {
       "cases": [
        {
         "code": ">>> assert me[0] != 'Rick Marks'\n",
         "hidden": false,
         "locked": false
        }
       ],
       "scored": true,
       "setup": "",
       "teardown": "",
       "type": "doctest"
      }
     ]
    },
    "read": {
     "name": "read",
     "points": 1,
     "suites": [
      {
       "cases": [
        {
         "code": ">>> assert wordle_df.loc[0, 'word'] == 'aback'\n",
         "hidden": false,
         "locked": false
        }
       ],
       "scored": true,
       "setup": "",
       "teardown": "",
       "type": "doctest"
      }
     ]
    }
   }
  }
 },
 "nbformat": 4,
 "nbformat_minor": 4
}
