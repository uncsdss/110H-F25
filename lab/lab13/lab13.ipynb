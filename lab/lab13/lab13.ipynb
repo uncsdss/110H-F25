{
 "cells": [
  {
   "cell_type": "code",
   "execution_count": null,
   "id": "6c5730db",
   "metadata": {
    "deletable": false,
    "editable": false
   },
   "outputs": [],
   "source": [
    "# Initialize Otter\n",
    "import otter\n",
    "grader = otter.Notebook(\"lab13.ipynb\")"
   ]
  },
  {
   "cell_type": "markdown",
   "id": "d2c321fb",
   "metadata": {},
   "source": [
    "# Your name and your onyen\n",
    "\n",
    "\n",
    "**Submission instruction**: Please save then create both a zip and `pdf` (via File -> Print or cmd + P on mac), and upload it to Gradescope."
   ]
  },
  {
   "cell_type": "markdown",
   "id": "99c84be4-4dac-4907-9355-0babc8e6ff43",
   "metadata": {},
   "source": [
    "#  Lab 13:  Sampling and Hypothesis Testing\n",
    "\n",
    "<img src=\"Trick-or-Treat-Yourself.jpg\" width=500px>\n",
    "<div style=\"text-align: center\"> </div>"
   ]
  },
  {
   "cell_type": "markdown",
   "id": "dbed6c7c",
   "metadata": {},
   "source": [
    "## Part 1: Data Collection (15 mins)\n",
    "We are going to be collecting data about **the number and kind of candies** that are taken when **a person \"grabs a reasonable handful\"**.  Every student reach into the bowl of candy with one hand, grab a handful of candy, and announce the number of **Starbursts**, number of **Kisses**, and number of **Miniatures** for the other students to record.  To be considered a valid \"handful\" sample, at least 1 candy must be pulled out of the bowl.  "
   ]
  },
  {
   "cell_type": "markdown",
   "id": "aa89d383",
   "metadata": {},
   "source": [
    "**Questions: (4 points)** \n",
    "1. What are your initial thoughts/concerns about the plan?  \n",
    "2. What is the population that is being sampled?\n",
    "3. What kind of sampling do you think this would be considered?\n",
    "4. Do you expect to get a representative sample?  "
   ]
  },
  {
   "cell_type": "markdown",
   "id": "82ffe40f",
   "metadata": {},
   "source": [
    "*Write your answers here*  "
   ]
  },
  {
   "cell_type": "markdown",
   "id": "8311e1fb",
   "metadata": {
    "deletable": false,
    "editable": false
   },
   "source": [
    "What is your guess for the average number of candies in a handful? **(1 point)**\n"
   ]
  },
  {
   "cell_type": "code",
   "execution_count": null,
   "id": "14f2dcbc",
   "metadata": {
    "tags": [
     "otter_answer_cell"
    ]
   },
   "outputs": [],
   "source": [
    "my_guess = ..."
   ]
  },
  {
   "cell_type": "code",
   "execution_count": null,
   "id": "df36e264",
   "metadata": {
    "deletable": false,
    "editable": false
   },
   "outputs": [],
   "source": [
    "grader.check(\"q1\")"
   ]
  },
  {
   "cell_type": "markdown",
   "id": "acd95639",
   "metadata": {},
   "source": [
    "What kind of distribution do you think you'll see in the data you collect?  Why? **(1 point)**"
   ]
  },
  {
   "cell_type": "markdown",
   "id": "fc232636",
   "metadata": {},
   "source": [
    "*Write your answer here*  "
   ]
  },
  {
   "cell_type": "code",
   "execution_count": null,
   "id": "c94e7b79",
   "metadata": {},
   "outputs": [],
   "source": [
    "import pandas as pd\n",
    "import seaborn as sns\n",
    "import matplotlib.pyplot as plt\n",
    "import random"
   ]
  },
  {
   "cell_type": "code",
   "execution_count": null,
   "id": "f1d04048",
   "metadata": {
    "tags": [
     "otter_answer_cell"
    ]
   },
   "outputs": [],
   "source": [
    "# USE THIS CODE FOR LOADING COLLECTING DATA\n",
    "candy_df = pd.DataFrame(columns=['Starbursts','Kisses','Miniatures'], data=[\n",
    "    # replace these placeholder measurements and add actual measurements in the form [?,?,?] (just like the placeholders)\n",
    "    [1, 2, 3], [42,42,42],\n",
    "...\n",
    "\n",
    "    ])\n",
    "candy_df"
   ]
  },
  {
   "cell_type": "markdown",
   "id": "72be6bf0",
   "metadata": {
    "deletable": false,
    "editable": false
   },
   "source": [
    "## Part 2 Exploratory Data Analysis (EDA) (5 minutes)\n",
    "Run the code cell below."
   ]
  },
  {
   "cell_type": "code",
   "execution_count": null,
   "id": "5e92c9d2",
   "metadata": {
    "deletable": false,
    "editable": false
   },
   "outputs": [],
   "source": [
    "fig, ax = plt.subplots(1)\n",
    "ax.set_ylabel('Kisses, Miniatures per Handful')\n",
    "ax.set_xlabel('Starbursts per Handful')\n",
    "sns.scatterplot(candy_df, x='Starbursts', y='Kisses',label='Kisses')\n",
    "sns.scatterplot(candy_df, x='Starbursts', y='Miniatures',label='Miniatures')\n",
    "ax.set_title('Scatter plot of Kisses and Miniatures vs. Starbursts per Handful')"
   ]
  },
  {
   "cell_type": "markdown",
   "id": "b03d4a59",
   "metadata": {
    "deletable": false,
    "editable": false
   },
   "source": [
    "From the plot above, does the # of Kisses or # of Miniatures correlate better with the # of Starburst per handful? **(1 point)** "
   ]
  },
  {
   "cell_type": "markdown",
   "id": "f6037bc0",
   "metadata": {
    "deletable": false,
    "editable": false
   },
   "source": [
    "*Write your answer here*  "
   ]
  },
  {
   "cell_type": "markdown",
   "id": "39151d94",
   "metadata": {
    "deletable": false,
    "editable": false
   },
   "source": [
    "Add the code to compute the correlation table between the types of candies. **(1 point)**"
   ]
  },
  {
   "cell_type": "code",
   "execution_count": null,
   "id": "ab505486",
   "metadata": {
    "tags": [
     "otter_answer_cell"
    ]
   },
   "outputs": [],
   "source": [
    "correlation_table = ...\n",
    "correlation_table"
   ]
  },
  {
   "cell_type": "markdown",
   "id": "da20a4ff",
   "metadata": {
    "deletable": false,
    "editable": false
   },
   "source": [
    "Was your interpretation of the scatterplot correct?\n",
    "\n",
    "Now write code to add another column to `candy_df` named `'Total'` that is the total number of pieces of candy in each sample. **(1 point)**"
   ]
  },
  {
   "cell_type": "code",
   "execution_count": null,
   "id": "12f5ea6b",
   "metadata": {
    "tags": [
     "otter_answer_cell"
    ]
   },
   "outputs": [],
   "source": [
    "# write your code here, replacing ...\n",
    "...\n",
    "candy_df"
   ]
  },
  {
   "cell_type": "markdown",
   "id": "a92078ec",
   "metadata": {
    "deletable": false,
    "editable": false
   },
   "source": [
    "Next, let's examine that total.  First, compute the mean and standard deviation for your `Total` column and assign them to variables `handful_mean` and `handful_std` **(1 point)**"
   ]
  },
  {
   "cell_type": "code",
   "execution_count": null,
   "id": "44feb0d7",
   "metadata": {
    "tags": [
     "otter_answer_cell"
    ]
   },
   "outputs": [],
   "source": [
    "handful_mean = ...\n",
    "handful_std = ..."
   ]
  },
  {
   "cell_type": "markdown",
   "id": "d5e51449",
   "metadata": {
    "deletable": false,
    "editable": false
   },
   "source": [
    "In the interest of time, below I've supplied code for several different visualizations of the Total # per handful.  Execute each of the cells to see the visualization; if they don't execute, you must have an issue with your code cells above."
   ]
  },
  {
   "cell_type": "code",
   "execution_count": null,
   "id": "0a886f93",
   "metadata": {
    "deletable": false,
    "editable": false
   },
   "outputs": [],
   "source": [
    "fig, ax = plt.subplots(1)\n",
    "sns.barplot(candy_df['Total'],label='Candies per handful')\n",
    "ax.axhline(handful_mean, color='g', label='Mean')\n",
    "ax.set_xlabel('Student (one handful per student)')\n",
    "ax.set_ylabel('Total # of candies in a handful')\n",
    "ax.legend()\n",
    "ax.set_title('Bar chart of Total Candies per Handful')"
   ]
  },
  {
   "cell_type": "code",
   "execution_count": null,
   "id": "adf7d289",
   "metadata": {
    "deletable": false,
    "editable": false
   },
   "outputs": [],
   "source": [
    "fig, ax = plt.subplots(1)\n",
    "sns.histplot(candy_df['Total'], label='Candies per handful', stat='density')\n",
    "ax.set_xlabel('Total # of candies in a handful')\n",
    "ax.set_ylabel('Density')\n",
    "ax.axvline(handful_mean, color='g', label='Mean')\n",
    "ax.axvline(handful_mean-handful_std, color='r', label='Mean +/- 1 std', linestyle=':')\n",
    "ax.axvline(handful_mean+handful_std, color='r',linestyle=':')\n",
    "ax.legend()\n",
    "ax.set_title('Histogram of Total Candies per Handful')"
   ]
  },
  {
   "cell_type": "code",
   "execution_count": null,
   "id": "94e76913",
   "metadata": {
    "deletable": false,
    "editable": false
   },
   "outputs": [],
   "source": [
    "fig, ax = plt.subplots(1)\n",
    "sns.boxplot(candy_df['Total'], showmeans=True)\n",
    "ax.set_xlabel('Total')\n",
    "ax.set_ylabel('Candies per handful')\n",
    "ax.set_title('Boxplot of Total Candies per Handful')"
   ]
  },
  {
   "cell_type": "markdown",
   "id": "b8e7b524",
   "metadata": {
    "deletable": false,
    "editable": false
   },
   "source": [
    "## Intermission: Short Professor-led discussion about questions (5-10 mins)\n",
    "After everyone has collected data and looked at plots, Professor will lead discussion about the following quesions **(not required to write anything)**.\n",
    "\n",
    "1. Does anything jump out at you immediately from the data?\n"
   ]
  },
  {
   "cell_type": "markdown",
   "id": "ed1e28b9",
   "metadata": {
    "deletable": false,
    "editable": false
   },
   "source": [
    "**Questions:** Instead of having ~30 different students in class each pull out 1 handful, consider if instead just 1 person had pulled out ~30 handfuls.\n",
    "1. Why would that not be as good an estimate of an average person's handful?  \n",
    "2. Would you expect the mean or standard deviation to be any different?  If so, how?"
   ]
  },
  {
   "cell_type": "markdown",
   "id": "2feaeeae",
   "metadata": {
    "deletable": false,
    "editable": false
   },
   "source": [
    "**Questions:** If you know exactly 100 people will visit your house and each take a handful:\n",
    "\n",
    "3. Using the data you gathered, how much candy would you **expect** to need?\n",
    "4. If you buy exactly that much, based on your data very roughly what is the chance that you'll run out of candy before everyone gets some?\n",
    "5. What factors might be different if you were actually giving out candy on Halloween vs. how we collected data?"
   ]
  },
  {
   "cell_type": "markdown",
   "id": "99eb69e3",
   "metadata": {
    "deletable": false,
    "editable": false
   },
   "source": [
    "## Part 3: Comparing Distributions of a Categorical Variable (10 mins)\n",
    "Now, pretend that the bag of candy is no longer available to you so you can't examine it.  (This kind of situation happens often in real life because it can be difficult to quantify the exact conditions for which an experiment was conducted.)  \n",
    "\n",
    "1. Do you think the distribution of the types of candy in the bag could potentially influence your handful results?  If so, how? **(1 point)**"
   ]
  },
  {
   "cell_type": "markdown",
   "id": "2739aa9a",
   "metadata": {
    "deletable": false,
    "editable": false
   },
   "source": [
    "*Write your answer here*  "
   ]
  },
  {
   "cell_type": "markdown",
   "id": "14e26544",
   "metadata": {
    "deletable": false,
    "editable": false
   },
   "source": [
    "Suppose you decide you would like to know the distribution of candy that was in the bag, but unfortunately you no longer have to bag to count them exactly.  If you assume the likelihood of a candy being in a handful is the same as the likelihood a candy would be randomly selected from the bag, you might **estimate** the bag distribution using your collected data by computing the total proportion of each candy.  Complete the code below for the other 2 candies: **(1 point)**"
   ]
  },
  {
   "cell_type": "code",
   "execution_count": null,
   "id": "1ba1cc7d",
   "metadata": {
    "tags": [
     "otter_answer_cell"
    ]
   },
   "outputs": [],
   "source": [
    "kisses_proportion = candy_df['Kisses'].sum()/candy_df['Total'].sum()\n",
    "starbursts_proportion = ...\n",
    "miniatures_proportion = ..."
   ]
  },
  {
   "cell_type": "markdown",
   "id": "76d296cb",
   "metadata": {
    "deletable": false,
    "editable": false
   },
   "source": [
    "I actually already counted all the candies in the bag, and the true distribution is 50, 50, 50.\n",
    "\n",
    "**Questions (1 point):**  \n",
    "1. What kind of distribution is this?\n",
    "2. What is the actual proportion of each candy in the bag?"
   ]
  },
  {
   "cell_type": "markdown",
   "id": "31d6dc90",
   "metadata": {
    "deletable": false,
    "editable": false
   },
   "source": [
    "*Write your answers here*"
   ]
  },
  {
   "cell_type": "markdown",
   "id": "f8cab1ee",
   "metadata": {
    "deletable": false,
    "editable": false
   },
   "source": [
    "Now, calclulate the **Total Variation Distance** for your measured candy proportions to the true distribution. **(1 point)**\n",
    "\n",
    "To compute the *Total Variation Distance (TVD)* between two distributions:\n",
    "* For each category, subtract the two proportions\n",
    "* Compute the absolute value of each differences\n",
    "* Add up those values\n",
    "* Divide by 2\n",
    "\n",
    "For example, TVD between two distributions [0.5, 0.5] and [0.3, 0.7] is\n",
    "* (abs(0.5 - 0.3) + abs(0.5 - 0.7))/2 = (0.2 + 0.2)/2 = 0.2"
   ]
  },
  {
   "cell_type": "code",
   "execution_count": null,
   "id": "aefbada9",
   "metadata": {
    "tags": [
     "otter_answer_cell"
    ]
   },
   "outputs": [],
   "source": [
    "TVD = ..."
   ]
  },
  {
   "cell_type": "markdown",
   "id": "4d1ab495",
   "metadata": {
    "deletable": false,
    "editable": false
   },
   "source": [
    "If TVD is close to 0, it means the distributions are very similar.  If TVD is close to 1, it means distributions are very dissimilar. How close was our estimate?"
   ]
  },
  {
   "cell_type": "markdown",
   "id": "813a9fe0",
   "metadata": {
    "deletable": false,
    "editable": false
   },
   "source": [
    "## Part 4: Hypothesis testing (15 mins)\n",
    "You decide to investigate if **miniatures are actually selected at a different rate than other candy when grabbing a handful**.  And you realize, now that you know the true distribution of candy types, you can use your collected data to evaluate this by using a hypothesis testing process!\n",
    "\n",
    "Write a null hypothesis and an alternate hypothesis that you could use for determining if there is evidence that miniatures are selected at a **higher** rate than would be predicted by random chance. **(2 points)**\n"
   ]
  },
  {
   "cell_type": "markdown",
   "id": "fd50dee4",
   "metadata": {
    "deletable": false,
    "editable": false
   },
   "source": [
    "* **Null Hypothesis:** ...\n",
    "* **Alternate Hypothesis:** ...\n",
    "* **Statistic you'll use to evaluate:** ..."
   ]
  },
  {
   "cell_type": "markdown",
   "id": "e772faf1",
   "metadata": {
    "deletable": false,
    "editable": false
   },
   "source": [
    "Now, complete the code blocks below to simulate your statistic \"under the null\". **(3 points)**"
   ]
  },
  {
   "cell_type": "code",
   "execution_count": null,
   "id": "31b1af66",
   "metadata": {
    "tags": [
     "otter_answer_cell"
    ]
   },
   "outputs": [],
   "source": [
    "# first, set t1 to the statistic you will use\n",
    "observed_t1 = ..."
   ]
  },
  {
   "cell_type": "code",
   "execution_count": null,
   "id": "b5134e9d",
   "metadata": {
    "tags": [
     "otter_answer_cell"
    ]
   },
   "outputs": [],
   "source": [
    "# 1. Make a lot of simulated data under the null hypothesis\n",
    "# 2. Calculate the statistics t1 from simulated data\n",
    "\n",
    "statistic = pd.DataFrame(columns=['t1'])\n",
    "\n",
    "for simulation in range(1000):\n",
    "    num_candies_actually_sampled = ...\n",
    "    simulated_candy = pd.DataFrame(random.choices(['M','K','S'], k=num_candies_actually_sampled), columns=['candy'])\n",
    "    # minatures should be a True, False array indicating which candies are miniatures\n",
    "    miniatures = ...\n",
    "    # compute the statistic from the simulated data\n",
    "    sim_t1 = ...\n",
    "    statistic.loc[len(statistic)] = [sim_t1]\n",
    "statistic"
   ]
  },
  {
   "cell_type": "code",
   "execution_count": null,
   "id": "f54a63b1",
   "metadata": {
    "tags": [
     "otter_answer_cell"
    ]
   },
   "outputs": [],
   "source": [
    "# 3. Plot empirical distribution of t1 (under the null)\n",
    "\n",
    "fig, ax = plt.subplots(1)\n",
    "sns.histplot(data=statistic, x='t1', stat='density', label='Under the null')\n",
    "# write code to plot the observed statistic t1\n",
    "...\n",
    "ax.legend()"
   ]
  },
  {
   "cell_type": "markdown",
   "id": "c10d73cc",
   "metadata": {
    "deletable": false,
    "editable": false
   },
   "source": [
    "From this plot, how much evidence do you see \"against the null\"?  Which region of the graph is the p-value region?  Write the code to compute the p-value below. **(1 point)**"
   ]
  },
  {
   "cell_type": "code",
   "execution_count": null,
   "id": "fbe27498",
   "metadata": {
    "tags": [
     "otter_answer_cell"
    ]
   },
   "outputs": [],
   "source": [
    "# first, set t1 to the statistic you will use\n",
    "p_value = ..."
   ]
  },
  {
   "cell_type": "markdown",
   "id": "9ba213a6",
   "metadata": {
    "deletable": false,
    "editable": false
   },
   "source": [
    "## BONUS\n",
    "If you would have instead decided you wanted to see if miniatures are selected at a **different** rate than would be predicted by random chance, what would you instead use for the statistic?"
   ]
  },
  {
   "cell_type": "markdown",
   "id": "8ec85264",
   "metadata": {
    "deletable": false,
    "editable": false
   },
   "source": [
    "*write your answers here*"
   ]
  },
  {
   "cell_type": "markdown",
   "id": "54bdfe56",
   "metadata": {
    "deletable": false,
    "editable": false
   },
   "source": [
    "For extra practice, repeat Part 4 of the lab using this new statistic instead."
   ]
  },
  {
   "cell_type": "markdown",
   "id": "7f487b18",
   "metadata": {
    "deletable": false,
    "editable": false
   },
   "source": [
    "## Submission\n",
    "\n",
    "Make sure you have run all cells in your notebook in order before running the cell below, so that all images/graphs appear in the output. The cell below will generate a zip file for you to submit. **Please save before exporting!**\n",
    "\n",
    "Submit zip and PDF file to Gradescope Lab 13"
   ]
  },
  {
   "cell_type": "code",
   "execution_count": null,
   "id": "31398524",
   "metadata": {
    "deletable": false,
    "editable": false
   },
   "outputs": [],
   "source": [
    "# Save your notebook first, then run this cell to export your submission.\n",
    "grader.export(pdf=False, run_tests=True)"
   ]
  },
  {
   "cell_type": "markdown",
   "id": "d2a52000",
   "metadata": {},
   "source": [
    " "
   ]
  }
 ],
 "metadata": {
  "kernelspec": {
   "display_name": "Python 3",
   "language": "python",
   "name": "python3"
  },
  "language_info": {
   "codemirror_mode": {
    "name": "ipython",
    "version": 3
   },
   "file_extension": ".py",
   "mimetype": "text/x-python",
   "name": "python",
   "nbconvert_exporter": "python",
   "pygments_lexer": "ipython3",
   "version": "3.12.10"
  },
  "otter": {
   "OK_FORMAT": true,
   "tests": {
    "q1": {
     "name": "q1",
     "points": 1,
     "suites": [
      {
       "cases": [
        {
         "code": ">>> assert my_guess > 0\n",
         "hidden": false,
         "locked": false
        }
       ],
       "scored": true,
       "setup": "",
       "teardown": "",
       "type": "doctest"
      }
     ]
    }
   }
  }
 },
 "nbformat": 4,
 "nbformat_minor": 5
}
