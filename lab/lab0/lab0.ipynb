{
 "cells": [
  {
   "cell_type": "code",
   "execution_count": null,
   "id": "f8b2e1b2",
   "metadata": {
    "deletable": false,
    "editable": false
   },
   "outputs": [],
   "source": [
    "# Initialize Otter\n",
    "import otter\n",
    "grader = otter.Notebook(\"lab0.ipynb\")"
   ]
  },
  {
   "cell_type": "markdown",
   "id": "3ca24de5-8cce-49f0-9d44-3c29222c7d09",
   "metadata": {},
   "source": [
    "# Lab 0: Welcome (10 points)\n",
    "\n",
    "Welcome to your first data science lab!\n",
    "In this lab, we will learn how to use **Jupyter Notebooks** and write our very first lines of Python code.  \n",
    "No programming experience? No problem! We’ll go step by step. We'll spend the next few weeks explaining Python programming. For now, this is just to whet your appetite and get you familiar with the tools we are using in this class.\n",
    "\n",
    "**Goals for Today:**\n",
    "1. Meet a classmate.\n",
    "2. Learn how to run code in Jupyter.\n",
    "3. Practice writing and running simple Python commands and Markdown text.\n",
    "This is a Jupyter Notebook, which is an interactive “notebook” where we will be writing a mixture of Python code and text explanations of our results. Each of these boxes is a cell, which can contain a piece of code or text. You’ll become very familiar with it over the semester."
   ]
  },
  {
   "cell_type": "markdown",
   "id": "4d03c5bb-afb0-4850-9ca9-c1fe028e4f8d",
   "metadata": {},
   "source": [
    "# 1. Hello Team\n",
    "\n",
    "As mentioned in lecture, find the person you are paired with for today and sit beside them.  You will be paired with a different person for each lab.  Labs are meant to be collaborative, so please communicate with your teammate.\n",
    "\n",
    "Introduce yourselves:\n",
    "\n",
    "1. Your name. \n",
    "2. Your year and area or planned area of study at UNC. \n",
    "3. Why you are interested in Data Science. \n",
    "\n",
    "Once each of you have shared your interest in Data Science move on to the following question. You might want to spend a minute or so thinking about this one.  \n",
    "\n",
    "> *If you were a vegetable, which vegetable would you be, **and why**?* \n",
    "\n",
    "Make sure that you have both selected a vegetable and a reason. Note that this question is **not** the same as \"what is your favorite vegetable?\"\n",
    "\n",
    "For the purposes of this question, botanical vegetables and culinary vegetables are valid choices. For example, \"tomato\" or \"squash\" are both fully acceptable responses."
   ]
  },
  {
   "cell_type": "markdown",
   "id": "08094280-5585-4b47-8ee9-fcd6c45d1a44",
   "metadata": {},
   "source": [
    "\n",
    "## 2. Hello Jupyter\n",
    "\n",
    "This is a Jupyter Notebook, which is an interactive “notebook” where we will be writing a mixture of Python code and text explanations of our results. Each of these boxes is a cell, which can contain a piece of code or text. You’ll become very familiar with it over the semester.\n",
    "\n",
    "- **Markdown cells** (like this one) contain text, which can be prettily formatted.   \n",
    "- **Code cells** contain Python code you can run.\n",
    "\n",
    "Let's start by running code that’s already written for you.\n",
    "\n",
    "Below is a code cell. To run it:  \n",
    "- Click the cell.\n",
    "- Press **Shift + Enter** (Windows/Mac) or use the **Run ▶** button in the toolbar.\n",
    "\n",
    "You should see some text appear *below* the cell."
   ]
  },
  {
   "cell_type": "code",
   "execution_count": null,
   "id": "07bc1bc8",
   "metadata": {},
   "outputs": [],
   "source": [
    "print(\"to boldly go where no one has gone before\")"
   ]
  },
  {
   "cell_type": "markdown",
   "id": "8ed8bba8",
   "metadata": {},
   "source": [
    "### Now You Try\n",
    "\n",
    "In the code cell below, change the text inside the quotation marks (`\" \"`), and then run it again.\n",
    "\n",
    "Example:  \n",
    "```python\n",
    "print(\"I love dogs and pizza!\")\n",
    "```\n"
   ]
  },
  {
   "cell_type": "code",
   "execution_count": null,
   "id": "1005146a",
   "metadata": {},
   "outputs": [],
   "source": [
    "print(\"Replace this with your own message\")"
   ]
  },
  {
   "cell_type": "markdown",
   "id": "76a45649-74dd-4b45-9f0b-cb8c73015f50",
   "metadata": {},
   "source": [
    "An important feature of the Jupyter interface is that the Python environment is persistent between code cells. That means that variables that you define in one code cell can be used in later code cells. \n",
    "\n",
    "In the code cell below, type: \n",
    "\n",
    "```python\n",
    "vegetables = [\"sweet potato\", \"Carolina reaper\"]\n",
    "```\n",
    "\n",
    "(or replace the vegetables with the vegetables you each chose in 1). \n",
    "\n",
    "Run the code cell (`shift + enter`). If you get any kind of error, it is likely a punctuation or formatting problem."
   ]
  },
  {
   "cell_type": "code",
   "execution_count": null,
   "id": "316e09d7-8026-4d8c-8a68-548df25892b3",
   "metadata": {
    "tags": [
     "otter_answer_cell"
    ]
   },
   "outputs": [],
   "source": [
    "# write your code here\n",
    "vegetables = ..."
   ]
  },
  {
   "cell_type": "code",
   "execution_count": null,
   "id": "ade52d0a",
   "metadata": {
    "deletable": false,
    "editable": false
   },
   "outputs": [],
   "source": [
    "grader.check(\"q2\")"
   ]
  },
  {
   "cell_type": "markdown",
   "id": "5ca0763a-1c19-42e9-a068-8d149f8a063d",
   "metadata": {},
   "source": [
    "The variable `vegetables` is now part of the Python session and is available for future use. For example, type the following code in the cell below and run it. \n",
    "\n",
    "```python\n",
    "print(\"If we were a vegetable, we would be\", vegetables, \".\")\n",
    "```\n",
    "\n",
    "You'll learn more about how this works in the next week or so. "
   ]
  },
  {
   "cell_type": "code",
   "execution_count": null,
   "id": "3ba42810-9964-4b45-99fe-fe580a270772",
   "metadata": {},
   "outputs": [],
   "source": [
    "# write your code here\n"
   ]
  },
  {
   "cell_type": "markdown",
   "id": "f6b0237b-27cf-4b4e-b988-fdb74ec23d57",
   "metadata": {},
   "source": [
    "Sometimes, you'll need to write some code, but there won't be a code cell present. In this case, you can use the `+` symbol on the toolbar to add a new code cell. Add a new cell now, immediately below this text, and type the following code: \n",
    "\n",
    "```python\n",
    "print(\"One of us would be a\", vegetables[0], \".\")\n",
    "```\n",
    "\n",
    "\\[add code cell immediately below\\]"
   ]
  },
  {
   "cell_type": "markdown",
   "id": "c51598a5-7188-48a4-89f3-6093f1b3c079",
   "metadata": {},
   "source": [
    "On occasion, you may find it useful to *restart the kernel*. Restarting the kernel has the effect of erasing all variables in the current Python session. \n",
    "\n",
    "**Restart the kernel by clicking the ↻ button in the Jupyter toolbar.** If asked whether you are sure you want to restart the kernel, choose \"yes\" \n",
    "\n",
    "Create a code cell below, and type in the following code: \n",
    "\n",
    "```python\n",
    "print(\"And some of us would be\", vegetables[1:], \".\")\n",
    "```\n",
    "\n",
    "\\[add code cell immediately below\\]"
   ]
  },
  {
   "cell_type": "markdown",
   "id": "81cc8061-0ced-4427-b9a6-f1dfc77db4a7",
   "metadata": {},
   "source": [
    "You should observe a `NameError: name 'vegetables' is not defined`. This is because, after restarting the kernel, the variable `vegetables` is no longer present in our namespace. To get it back, go back to the code cell in which you first defined this variable and run it. Then, the cell above will run without error. \n",
    "\n",
    "The toolbar also contains useful tools for duplicating cells, removing cells, and moving cells up and down.  Feel free to experiment."
   ]
  },
  {
   "cell_type": "markdown",
   "id": "b0175b64",
   "metadata": {},
   "source": [
    "# 3. Howdy partner\n",
    "Edit the code cell below with your full name and onyen, as well as your partners:"
   ]
  },
  {
   "cell_type": "code",
   "execution_count": null,
   "id": "4554c916",
   "metadata": {},
   "outputs": [],
   "source": [
    "# write your code here\n",
    "me = [\"Rick Marks\", \"rlmarks\"]\n",
    "partner = [\"Piper Marks\", \"piper\"]"
   ]
  },
  {
   "cell_type": "markdown",
   "id": "253b91be",
   "metadata": {},
   "source": [
    "Run the cell below to make sure everything looks correct."
   ]
  },
  {
   "cell_type": "code",
   "execution_count": null,
   "id": "0242433c",
   "metadata": {},
   "outputs": [],
   "source": [
    "print(\"My name is\", me[0], \"and my onyen is\", me[1])\n",
    "print(\"My esteemed partner's name is\", partner[0], \"and their onyen is\", partner[1])\n"
   ]
  },
  {
   "cell_type": "markdown",
   "id": "e3713037",
   "metadata": {},
   "source": [
    "# 4. Hello autograder\n",
    "You might have noticed the code cell above in section 2 that said ```grader.check(\"q2\")```  This is the autograder; it runs specific instructor-created tests to make sure your code is correct.  Some of these tests (non-hidden) will give immediate feedback when you run the cell block; those tests are designed to help you fix your code as you are writing it.  Others tests (called \"hidden\" tests) do not provide feedback and are intended for evaluation.  When you run an autograder cell, you will only find out if you successfully pass the non-hidden tests.  For DATA110H, you will be able to see the scoring result of hidden tests only when you submit your solution to Gradescope.\n",
    "\n",
    "The following test has 1 non-hidden and 2 hidden tests.  Go ahead and run it:\n",
    "  "
   ]
  },
  {
   "cell_type": "code",
   "execution_count": null,
   "id": "e87fa4c1",
   "metadata": {
    "deletable": false,
    "editable": false
   },
   "outputs": [],
   "source": [
    "grader.check(\"q4\")"
   ]
  },
  {
   "cell_type": "markdown",
   "id": "eb05a6dd",
   "metadata": {},
   "source": [
    "If you've updated ```me``` in the code above, the non-hidden test will pass.  For educational purposes, I've designed the hidden tests so the first will pass and the second will fail.  After following the submission instructions below, take a look at the Gradescope results and make sure you understand them; we'll be following this process for nearly every lab and homework assignment all semester. "
   ]
  },
  {
   "cell_type": "markdown",
   "id": "7d4fe22d-87ec-4b87-aed4-cf23f7412326",
   "metadata": {},
   "source": [
    "# 5. Goodbye first (and zeroeth) recitation\n",
    "\n",
    "Great job! It's time to submit your work to Gradescope.\n",
    "After you've submitted it successfully, feel free to play around with Jupyter some more.\n"
   ]
  },
  {
   "cell_type": "markdown",
   "id": "8bbeb5af",
   "metadata": {},
   "source": [
    "\n",
    "### Step 1 – Run All Cells and Save\n",
    "- My favorite thing to do in Jupyter Notebook is to click the ⏩️ button on the toolbar. This refreshes the memory, then runs all cells in order.\n",
    "- Then, click **File → Save Notebook** to make sure your notebook file (`.ipynb`) is up to date. Or run `command (or control) + s`.\n",
    "\n",
    "### Step 2 – Export to PDF\n",
    "  1. Choose **File → Print**.\n",
    "  2. In your browser’s print dialog, change the **Destination** to “Save as PDF.”\n",
    "  3. Click **Save** and name the file clearly (e.g., `lab0.pdf`).\n",
    "\n",
    "### Step 3 - Run the Last Cell\n",
    "1. Run the last cell (below)\n",
    "2. Download the zip file to your computer.\n",
    "\n",
    "### Step 4 – Submit to Gradescope\n",
    "- Log into **Gradescope** and open the Lab 0 assignment. You can get there from Canvas assignment as well.\n",
    "- Upload **both files** by highlighting both items and dragging and dropping them to the submission box:\n",
    "  1. Your **`.zip` file** (generated by otter).\n",
    "  2. Your **`.pdf` file** (exported from the notebook).\n",
    "- Make sure your submission is **complete and readable** before clicking submit.\n",
    "\n",
    "### Step 5 – Confirm Your Submission\n",
    "- After submitting, check Gradescope’s preview to ensure your files display properly.\n",
    "- If anything is missing or unreadable, re-export and resubmit before the deadline.\n"
   ]
  },
  {
   "cell_type": "code",
   "execution_count": null,
   "id": "ad040a4b-f4c3-4714-86a7-a1fe55fb01fe",
   "metadata": {},
   "outputs": [],
   "source": []
  },
  {
   "cell_type": "markdown",
   "id": "943f3c1c",
   "metadata": {
    "deletable": false,
    "editable": false
   },
   "source": [
    "## Submission\n",
    "\n",
    "Make sure you have run all cells in your notebook in order before running the cell below, so that all images/graphs appear in the output. The cell below will generate a zip file for you to submit. **Please save before exporting!**\n",
    "\n",
    "Submit zip file and PDF to Gradescope Lab0"
   ]
  },
  {
   "cell_type": "code",
   "execution_count": null,
   "id": "b8926e17",
   "metadata": {
    "deletable": false,
    "editable": false
   },
   "outputs": [],
   "source": [
    "# Save your notebook first, then run this cell to export your submission.\n",
    "grader.export(pdf=False, run_tests=True)"
   ]
  },
  {
   "cell_type": "markdown",
   "id": "89d80d43",
   "metadata": {},
   "source": [
    " "
   ]
  }
 ],
 "metadata": {
  "kernelspec": {
   "display_name": "Python 3",
   "language": "python",
   "name": "python3"
  },
  "language_info": {
   "codemirror_mode": {
    "name": "ipython",
    "version": 3
   },
   "file_extension": ".py",
   "mimetype": "text/x-python",
   "name": "python",
   "nbconvert_exporter": "python",
   "pygments_lexer": "ipython3",
   "version": "3.11.9"
  },
  "otter": {
   "OK_FORMAT": true,
   "tests": {
    "q2": {
     "name": "q2",
     "points": 6,
     "suites": [
      {
       "cases": [
        {
         "code": ">>> assert type(vegetables) == list\n",
         "hidden": false,
         "locked": false
        }
       ],
       "scored": true,
       "setup": "",
       "teardown": "",
       "type": "doctest"
      }
     ]
    },
    "q4": {
     "name": "q4",
     "points": 6,
     "suites": [
      {
       "cases": [
        {
         "code": ">>> assert me[0] != 'Rick Marks'\n",
         "hidden": false,
         "locked": false
        }
       ],
       "scored": true,
       "setup": "",
       "teardown": "",
       "type": "doctest"
      }
     ]
    }
   }
  }
 },
 "nbformat": 4,
 "nbformat_minor": 5
}
