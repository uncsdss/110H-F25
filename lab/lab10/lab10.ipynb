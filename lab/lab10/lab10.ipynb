{
 "cells": [
  {
   "cell_type": "markdown",
   "id": "689b7c13-31f2-4113-86a3-2bc5fe8d61c0",
   "metadata": {
    "jp-MarkdownHeadingCollapsed": true
   },
   "source": [
    "# Your name and your onyen\n",
    "\n",
    "**Classmates you worked with today (1 point)**:\n",
    "\n",
    "1. First name\n",
    "2. First name\n",
    "3. First name\n",
    "\n",
    "\n",
    "**Submission instruction**: Please save then create a `pdf` via File -> Print (or cmd + P on mac), and upload it to Gradescope. No autograder since there are many correct ways to approach this question. "
   ]
  },
  {
   "cell_type": "markdown",
   "id": "99c84be4-4dac-4907-9355-0babc8e6ff43",
   "metadata": {},
   "source": [
    "#  Lab 10:  Probability\n",
    "\n",
    "\n"
   ]
  },
  {
   "cell_type": "markdown",
   "id": "34db1eeb",
   "metadata": {},
   "source": [
    "## Problem 1: Gambler's Fallacy (15 minutes)\n",
    "\n",
    "### Part 1: Gambler's Fallacy (10 minutes)\n",
    "Read all instructions in this cell before starting!\n",
    "\n",
    "First, you'll need to work in groups of 4 for this.  Every group will need:\n",
    "* At least 1 coin (provided)\n",
    "* 3 sheets of paper (provided)\n",
    "* 4 pens or pencils\n",
    "\n",
    "Two of you will be recording actual coin flips: on one sheet of paper, one of you write down either 'H' or 'T' while the other does at least 20 coin flips. Then switch who is recording and who is writing.  You should end up with 2 sequences 20 long that look like 'HTTHT...'  \n",
    "During this time, the other two people will each write down 2 series of at least 20 simulated coin flips by writing down 'H' or 'T' as they choose.  Each series of 20 should look like 'THTTHH...'\n",
    "\n",
    "When you are finished, your team should have 3 sheets of paper, each with 2 series of 20 \"flip\" results (1 paper with true flips, the other 2 papers with made up flips).  Be sure to remember which paper has the actual flips.\n",
    "\n",
    "Once you are done, ask Professor Marks to look at your papers and guess which is the real flips.  Then exchange your papers with other groups and have them try to guess which paper has the real flips.\n",
    "\n",
    "**Record below the results (correct or incorrect) of Professor Marks's guess and at least 3 other guesses from other teams. (3 points)**\n",
    "\n"
   ]
  },
  {
   "cell_type": "markdown",
   "id": "2ff3e269",
   "metadata": {},
   "source": [
    "Professor Marks's guess: \n",
    "\n",
    "Other team 1 guess:\n",
    "\n",
    "Other team 2 guess:\n",
    "\n",
    "Other team 3 guess:\n",
    "\n",
    "Other team 4 guess:\n"
   ]
  },
  {
   "cell_type": "markdown",
   "id": "1bffad30",
   "metadata": {
    "jp-MarkdownHeadingCollapsed": true
   },
   "source": [
    "### Part 2: Gambler's Fallacy Discussion (5 minutes)\n",
    "We will have a discussion of Gambler's fallacy.  Please participate! \n",
    "\n",
    "![](gamblersfallacy.jpg)\n",
    "\n"
   ]
  },
  {
   "cell_type": "markdown",
   "id": "55400cfd",
   "metadata": {},
   "source": [
    "## Problem 2: *Let's Make a Deal!*  The Monty Hall Problem (10 minutes)\n",
    "### Part 1: Play the game (5 minutes)\n",
    "The Monty Hall problem can be confusing and non-intuitive.  To help everyone wrap their head around it better, you're going to \"play\" the game (and then help implement it later in Python in HW6!)  For lab today, there is a great website that let's you play, with cute graphical goats and everything!  And it keeps track of your results (nice graphical plot!), which you'll report below. You can easily play 20 or 30 times in just a couple minutes, so don't spend more than 5 minutes playing (But the goats! Yes, we know, they're very cute.).\n",
    "\n",
    "https://www.mathwarehouse.com/monty-hall-simulation-online/\n",
    "\n",
    "\n",
    "**Record your website play results in the space below, replacing the question marks. (2 points)**"
   ]
  },
  {
   "cell_type": "markdown",
   "id": "b37ced07",
   "metadata": {},
   "source": [
    "Change Choice-> cars count ?, goats count ?\n",
    "\n",
    "Change Choice-> cars % ?, goats % ?\n",
    "\n",
    "Keep Choice-> cars count ?, goats count ?\n",
    "\n",
    "Keep Choice-> cars % ?, goats % ?"
   ]
  },
  {
   "cell_type": "markdown",
   "id": "aeee1596",
   "metadata": {},
   "source": [
    "**Do your results support with what we learned in lecture?  Why or why not? (1 point)**"
   ]
  },
  {
   "cell_type": "markdown",
   "id": "323bf2ab",
   "metadata": {},
   "source": [
    "*Write your answer here*"
   ]
  },
  {
   "cell_type": "markdown",
   "id": "dabb3cc2",
   "metadata": {},
   "source": [
    "### Part 2: Simulate the game (5 minutes)\n",
    "Now, instead of playing, simulate 100 times for \"Change the choice\" and 100 times for \"Keep the choice\" (use \"Fast Speed\").  \n",
    "\n",
    "**Record your website simulation results in the space below, replacing the question marks. (2 points)**"
   ]
  },
  {
   "cell_type": "markdown",
   "id": "ad2d6068",
   "metadata": {},
   "source": [
    "Change Choice-> cars count ?, goats count ?\n",
    "\n",
    "Keep Choice-> cars count ?, goats count ?"
   ]
  },
  {
   "cell_type": "markdown",
   "id": "22118308",
   "metadata": {},
   "source": [
    "**Do your results support with what we learned in lecture?  Why or why not? (1 point)**"
   ]
  },
  {
   "cell_type": "markdown",
   "id": "f3f0cc8c",
   "metadata": {},
   "source": [
    "*Write your answer here*"
   ]
  }
 ],
 "metadata": {
  "kernelspec": {
   "display_name": "Python 3 (ipykernel)",
   "language": "python",
   "name": "python3"
  },
  "language_info": {
   "codemirror_mode": {
    "name": "ipython",
    "version": 3
   },
   "file_extension": ".py",
   "mimetype": "text/x-python",
   "name": "python",
   "nbconvert_exporter": "python",
   "pygments_lexer": "ipython3",
   "version": "3.10.10"
  }
 },
 "nbformat": 4,
 "nbformat_minor": 5
}
