{
 "cells": [
  {
   "cell_type": "code",
   "execution_count": null,
   "id": "eccdaaa7",
   "metadata": {
    "deletable": false,
    "editable": false
   },
   "outputs": [],
   "source": [
    "# Initialize Otter\n",
    "import otter\n",
    "grader = otter.Notebook(\"lab11.ipynb\")"
   ]
  },
  {
   "cell_type": "markdown",
   "id": "54059918",
   "metadata": {},
   "source": [
    "# Lab 11: Implementing Randomness\n",
    "\n",
    "\n",
    "**Submission instruction**: Please upload your `lab11.ipynb` file and a `pdf` to Gradescope. This lab will be manually graded (no autograder).\n"
   ]
  },
  {
   "cell_type": "code",
   "execution_count": null,
   "id": "d7502231",
   "metadata": {},
   "outputs": [],
   "source": [
    "# write your code here\n",
    "me = [\"Rico Marks\", \"rlmarks\"]\n",
    "partner = [\"Piper Marks\", \"piper\"]"
   ]
  },
  {
   "cell_type": "code",
   "execution_count": null,
   "id": "751532a4",
   "metadata": {
    "deletable": false,
    "editable": false
   },
   "outputs": [],
   "source": [
    "grader.check(\"yourname\")"
   ]
  },
  {
   "cell_type": "markdown",
   "id": "99c84be4-4dac-4907-9355-0babc8e6ff43",
   "metadata": {
    "deletable": false,
    "editable": false
   },
   "source": [
    "## 1. Generating random data (5 minutes)\n",
    "Suppose you are programming an RPG (Role Playing Game) and your game follows the common practice of considering it a \"critical hit\" when you roll a 20 on a 20-sided die.\n"
   ]
  },
  {
   "cell_type": "markdown",
   "id": "eeb321a3",
   "metadata": {
    "deletable": false,
    "editable": false
   },
   "source": [
    "### Using the random package\n",
    "Implementing randomness on a machine that is designed to be completely deterministic is actually quite challenging.  Luckily, there is a Python package for that!  Copy the code below to import the `random` package.\n",
    "```Python\n",
    "import random\n",
    "```\n",
    "\n"
   ]
  },
  {
   "cell_type": "code",
   "execution_count": null,
   "id": "73d277dc",
   "metadata": {
    "tags": [
     "otter_answer_cell"
    ]
   },
   "outputs": [],
   "source": [
    "# copy code here\n",
    "..."
   ]
  },
  {
   "cell_type": "markdown",
   "id": "53aab1da",
   "metadata": {
    "deletable": false,
    "editable": false
   },
   "source": [
    "Now, implement a function named `roll_d20()` that returns a random integer from 1 to 20 inclusive. To do this, the best function is `randint` from the `random` package.  Implement your function below."
   ]
  },
  {
   "cell_type": "code",
   "execution_count": null,
   "id": "7f6a835d",
   "metadata": {
    "tags": [
     "otter_answer_cell"
    ]
   },
   "outputs": [],
   "source": [
    "# write your function here\n",
    "..."
   ]
  },
  {
   "cell_type": "markdown",
   "id": "7b0a58e0",
   "metadata": {
    "deletable": false,
    "editable": false
   },
   "source": [
    "### Testing\n",
    "Like good software developers always do, test your function!  In the cell below, write code to call your function and print the result, and run the cell several times until you get a 20 and 1 at least once.  If you never get a 20 or a 1, or get a number that is not between 1 and 20, maybe you have a bug....  "
   ]
  },
  {
   "cell_type": "code",
   "execution_count": null,
   "id": "4ddab28a",
   "metadata": {
    "tags": [
     "otter_answer_cell"
    ]
   },
   "outputs": [],
   "source": [
    "# test your function here\n",
    "..."
   ]
  },
  {
   "cell_type": "markdown",
   "id": "08d3614f",
   "metadata": {
    "deletable": false,
    "editable": false
   },
   "source": [
    "Doing testing by calling the function once at a time is rather tedious.  Surely you could write some Python code that would, say, call your function 20 times...."
   ]
  },
  {
   "cell_type": "code",
   "execution_count": null,
   "id": "f0074487",
   "metadata": {
    "tags": [
     "otter_answer_cell"
    ]
   },
   "outputs": [],
   "source": [
    "# write your code here\n",
    "..."
   ]
  },
  {
   "cell_type": "markdown",
   "id": "c7c2afa7",
   "metadata": {
    "deletable": false,
    "editable": false
   },
   "source": [
    "## 2. Is this random? (10 minutes)\n",
    "You integrate your random function into the game, and the QA department starts testing.  Part of their job is to record every die roll they get while playing the game.  (Yes, game testers have to do more than just play games all day.  Talk about tedious!)\n",
    "\n",
    "Your company employs 3 game testers Vivian, Zoe, and Mitchell.  There has been some chatter that one of the testers is just playing for fun, then fabricating their die roll data later, so you are called into investigate.  Copy the code below to load in the testing data:\n",
    "```Python\n",
    "import pandas as pd\n",
    "tester_data=pd.read_csv(\"tester_data.csv\")\n",
    "```"
   ]
  },
  {
   "cell_type": "code",
   "execution_count": null,
   "id": "363e2974",
   "metadata": {
    "tags": [
     "otter_answer_cell"
    ]
   },
   "outputs": [],
   "source": [
    "..."
   ]
  },
  {
   "cell_type": "markdown",
   "id": "4de9c0a8",
   "metadata": {
    "deletable": false,
    "editable": false
   },
   "source": [
    "It is always a good idea to check out your data to see what you are working with.  Things like `head()`, `tail()`,`shape` are a great way to start. Give those 3 a try."
   ]
  },
  {
   "cell_type": "code",
   "execution_count": null,
   "id": "a29c4de3",
   "metadata": {
    "tags": [
     "otter_answer_cell"
    ]
   },
   "outputs": [],
   "source": [
    "# write your code here\n",
    "..."
   ]
  },
  {
   "cell_type": "code",
   "execution_count": null,
   "id": "33c39979",
   "metadata": {
    "tags": [
     "otter_answer_cell"
    ]
   },
   "outputs": [],
   "source": [
    "# write your code here\n",
    "..."
   ]
  },
  {
   "cell_type": "code",
   "execution_count": null,
   "id": "4f4b12b3",
   "metadata": {
    "tags": [
     "otter_answer_cell"
    ]
   },
   "outputs": [],
   "source": [
    "# write your code here\n",
    "..."
   ]
  },
  {
   "cell_type": "markdown",
   "id": "d6538835",
   "metadata": {
    "deletable": false,
    "editable": false
   },
   "source": [
    "Yikes!  10,000 die rolls per tester!  That is a lot!  And a lot of data for you to analyze!  Luckily, you took DATA110H so you have a plan....\n",
    "###  Investigation 1: Compute summary statistics (1 minute)\n",
    "First, you decide to check out the summary statistics of the data.  This is super easy using `describe`.  Do this below."
   ]
  },
  {
   "cell_type": "code",
   "execution_count": null,
   "id": "13f42f19",
   "metadata": {
    "tags": [
     "otter_answer_cell"
    ]
   },
   "outputs": [],
   "source": [
    "# write your code here\n",
    "..."
   ]
  },
  {
   "cell_type": "markdown",
   "id": "3700c1bf",
   "metadata": {
    "deletable": false,
    "editable": false
   },
   "source": [
    "What do you notice?  Anything fishy yet?  Hmmm, not really.\n",
    "### Investigation 2: Look at the distribution (5 minutes)\n",
    "What about doing some histplots?  Do an individual histplot for each of the testers.  How many bins do you think it makes sense to use?  You can either do this in separate cells, or get fancy and do it in one cell as 3 subplots."
   ]
  },
  {
   "cell_type": "code",
   "execution_count": null,
   "id": "69ff75bc",
   "metadata": {
    "tags": [
     "otter_answer_cell"
    ]
   },
   "outputs": [],
   "source": [
    "# write your code here\n",
    "..."
   ]
  },
  {
   "cell_type": "markdown",
   "id": "495d246a",
   "metadata": {
    "deletable": false,
    "editable": false
   },
   "source": [
    "Anything interesting?  Describe below."
   ]
  },
  {
   "cell_type": "markdown",
   "id": "200397d3",
   "metadata": {
    "deletable": false,
    "editable": false
   },
   "source": [
    "// Write your answer here."
   ]
  },
  {
   "cell_type": "markdown",
   "id": "15f53981",
   "metadata": {
    "deletable": false,
    "editable": false
   },
   "source": [
    "### Investigation 3: Looking for runs\n",
    "You vaguely remember that one lab in DATA110H when professor Marks amazed you with his ability to detect fake data, until you learned the \"trick\" was to look for runs, or the absence of runs.  You decide to check for runs of 3 in the data.  But first, these names are starting to make you uncomfortable, so you decide to anonymize the data a bit and convert each column of data to a separate list.  Copy this code to do that:\n",
    "```Python\n",
    "tester1 = list(tester_data.Vivian)\n",
    "tester2 = list(tester_data.Zoe)\n",
    "tester3 = list(tester_data.Mitchell)\n",
    "```"
   ]
  },
  {
   "cell_type": "code",
   "execution_count": null,
   "id": "0ae55684",
   "metadata": {
    "tags": [
     "otter_answer_cell"
    ]
   },
   "outputs": [],
   "source": [
    "# copy code here\n",
    "..."
   ]
  },
  {
   "cell_type": "markdown",
   "id": "80d0fc76",
   "metadata": {
    "deletable": false,
    "editable": false
   },
   "source": [
    "First, you decide to warm up by just writing a function to count the number times 20 appears in the data.  Write a function named `count_critical()` that takes a list as an argument and returns the number of times 20 appears.  There are many ways to do this with Python, but humor me and use a `for` loop this time.  And to make it easier to grade, please name the argument to the function `dierolls`\n",
    "\n",
    "\n",
    "Now, write a function named `count_critical_run_of_3()` that takes list as input and returns the number of times 20 appears in the data 3 times in a row. "
   ]
  },
  {
   "cell_type": "code",
   "execution_count": null,
   "id": "b6fe6d03",
   "metadata": {
    "tags": [
     "otter_answer_cell"
    ]
   },
   "outputs": [],
   "source": [
    "# write your function here\n",
    "..."
   ]
  },
  {
   "cell_type": "markdown",
   "id": "a7f846a3",
   "metadata": {
    "deletable": false,
    "editable": false
   },
   "source": [
    "Let's see the results: copy the code below to print out the number of criticals:\n",
    "```Python\n",
    "print(count_critical(tester1), count_critical(tester2), count_critical(tester3)) \n",
    "```"
   ]
  },
  {
   "cell_type": "code",
   "execution_count": null,
   "id": "2240e6ef",
   "metadata": {
    "tags": [
     "otter_answer_cell"
    ]
   },
   "outputs": [],
   "source": [
    "# copy code here\n",
    "..."
   ]
  },
  {
   "cell_type": "markdown",
   "id": "b1c328f5",
   "metadata": {
    "deletable": false,
    "editable": false
   },
   "source": [
    "You can verify the results by looking at your histplots, or by using the pandas `value_counts` method on each table column.\n",
    "\n",
    "Okay, now you are all warmed up.  Write a function named `count_critical_run_of_3()` that takes list as input and returns the number of times that 20 appears in the data 3 times in a row.  Hint: start with the code you wrote for `count_critical` and modify it."
   ]
  },
  {
   "cell_type": "code",
   "execution_count": null,
   "id": "19444e55",
   "metadata": {
    "tags": [
     "otter_answer_cell"
    ]
   },
   "outputs": [],
   "source": [
    "# write your function here\n",
    "..."
   ]
  },
  {
   "cell_type": "markdown",
   "id": "50f728cc",
   "metadata": {
    "deletable": false,
    "editable": false
   },
   "source": [
    "Run your function for each of the 3 testers with this code:\n",
    "```Python\n",
    "print( count_critical_run_of_3(tester1), count_critical_run_of_3(tester2), count_critical_run_of_3(tester3) )\n",
    "```"
   ]
  },
  {
   "cell_type": "code",
   "execution_count": null,
   "id": "6aff166e",
   "metadata": {
    "tags": [
     "otter_answer_cell"
    ]
   },
   "outputs": [],
   "source": [
    "# copy code here\n",
    "..."
   ]
  },
  {
   "cell_type": "markdown",
   "id": "9b168a5a",
   "metadata": {
    "deletable": false,
    "editable": false
   },
   "source": [
    "Yes, things are starting to become clear!  Maybe just one more investigation....\n",
    "### Investigation 4: Looking for gaps\n",
    "Similar to looking for runs, another thing you can check for is gaps; the longest streak of numbers without a 20 being rolled.  This is a little trickier, so here is some code to get started:\n",
    "```Python\n",
    "def find_biggest_gap(dierolls):\n",
    "    biggest_gap = 0\n",
    "    current_gap = 0\n",
    "    for roll in dierolls:\n",
    "        if roll == 20:\n",
    "            ...\n",
    "        else:\n",
    "            ...\n",
    "    return biggest_gap\n",
    "```\n",
    "Copy this code below and replace the `...` sections with the necessary logic."
   ]
  },
  {
   "cell_type": "code",
   "execution_count": null,
   "id": "6d5deea4",
   "metadata": {
    "tags": [
     "otter_answer_cell"
    ]
   },
   "outputs": [],
   "source": [
    "# write function here\n",
    "..."
   ]
  },
  {
   "cell_type": "markdown",
   "id": "4ade14e0",
   "metadata": {
    "deletable": false,
    "editable": false
   },
   "source": [
    "Check for gaps in the data with this code:\n",
    "```Python\n",
    "print(find_biggest_gap(tester1), find_biggest_gap(tester2), find_biggest_gap(tester3) )\n",
    "```"
   ]
  },
  {
   "cell_type": "code",
   "execution_count": null,
   "id": "76911889",
   "metadata": {
    "tags": [
     "otter_answer_cell"
    ]
   },
   "outputs": [],
   "source": [
    "# copy code here\n",
    "..."
   ]
  },
  {
   "cell_type": "markdown",
   "id": "6726ac73",
   "metadata": {
    "deletable": false,
    "editable": false
   },
   "source": [
    "Yes, one of the testers is definitely looking suspicious.  Which one is it (1,2,3)?  No names please!  "
   ]
  },
  {
   "cell_type": "markdown",
   "id": "e0a442f2",
   "metadata": {
    "deletable": false,
    "editable": false
   },
   "source": [
    "// Write your answer here"
   ]
  },
  {
   "cell_type": "markdown",
   "id": "f669ca95",
   "metadata": {
    "deletable": false,
    "editable": false
   },
   "source": [
    "# BONUS\n",
    "The designer of your game happens to be walking by while you are doing your analysis, and sees the run data you calculated.  They make the snap decision that the game would be better if players never get 2 critical hits in a row.  So they ask you to modify your `roll_d20` function so that it doesn't return a 20 if the previous roll was a 20.  Implement this new version:\n",
    "```Python\n",
    "def roll_d20_no_critical_repeat(prev_roll):\n",
    "   ...\n",
    "```\n",
    "and then test it."
   ]
  },
  {
   "cell_type": "code",
   "execution_count": null,
   "id": "b7def881",
   "metadata": {
    "tags": [
     "otter_answer_cell"
    ]
   },
   "outputs": [],
   "source": [
    "# write function here\n",
    "..."
   ]
  },
  {
   "cell_type": "code",
   "execution_count": null,
   "id": "418ca202",
   "metadata": {
    "tags": [
     "otter_answer_cell"
    ]
   },
   "outputs": [],
   "source": [
    "# write test code here\n",
    "..."
   ]
  },
  {
   "cell_type": "markdown",
   "id": "bfe613f9",
   "metadata": {
    "deletable": false,
    "editable": false
   },
   "source": [
    "# BONUS BONUS\n",
    "What a horrible idea!  Turns out everyone loves getting critical hits (go figure!).  So instead, they ask you to actually make it so that the chance of getting a critical hit increases by 5% for every roll you don't get one.  So right after a critical hit, your chance is 1 in 20, or 5% (the standard).  Then if you didn't get a critical hit, your next roll will have a 10% chance.  If that one isn't critical, then your next roll will have 15%, etc.  Implement the new function with the desired behavior:\n",
    "```Python\n",
    "def roll_d20_adjusted(rolls_since_20):\n",
    "    ...\n",
    "```\n",
    "Use this code to test your function:\n",
    "```Python\n",
    "rolls_since_20 = 0\n",
    "for i in range(25):\n",
    "    roll = roll_d20_adjusted(rolls_since_20)\n",
    "    print(roll)\n",
    "    if roll == 20:\n",
    "        rolls_since_20 = 0\n",
    "    else:\n",
    "        rolls_since_20 += 1\n",
    "```"
   ]
  },
  {
   "cell_type": "code",
   "execution_count": null,
   "id": "699c4b63",
   "metadata": {
    "tags": [
     "otter_answer_cell"
    ]
   },
   "outputs": [],
   "source": [
    "# write function here\n",
    "..."
   ]
  },
  {
   "cell_type": "code",
   "execution_count": null,
   "id": "1bbabb24",
   "metadata": {
    "tags": [
     "otter_answer_cell"
    ]
   },
   "outputs": [],
   "source": [
    "# copy test code here\n",
    "..."
   ]
  },
  {
   "cell_type": "markdown",
   "id": "69e5d61d",
   "metadata": {
    "deletable": false,
    "editable": false
   },
   "source": [
    "Does it seem like you are getting more criticals?  What is the longest possible gap between criticals now?  What is your chance of getting a 1 on the first roll?  If you didn't get a 20 on the first roll, what is your chance of getting a 1 on the second roll? (that one is trickier, but you should be able to do it)"
   ]
  },
  {
   "cell_type": "markdown",
   "id": "a50654a2",
   "metadata": {
    "deletable": false,
    "editable": false
   },
   "source": [
    "// write you answers here"
   ]
  },
  {
   "cell_type": "markdown",
   "id": "7ec4e83a",
   "metadata": {},
   "source": []
  },
  {
   "cell_type": "markdown",
   "id": "726f0818",
   "metadata": {
    "deletable": false,
    "editable": false
   },
   "source": [
    "## Submission\n",
    "\n",
    "Make sure you have run all cells in your notebook in order before running the cell below, so that all images/graphs appear in the output. The cell below will generate a zip file for you to submit. **Please save before exporting!**\n",
    "\n",
    "Submit zip and PDF file to Gradescope Lab 8"
   ]
  },
  {
   "cell_type": "code",
   "execution_count": null,
   "id": "e8ecde54",
   "metadata": {
    "deletable": false,
    "editable": false
   },
   "outputs": [],
   "source": [
    "# Save your notebook first, then run this cell to export your submission.\n",
    "grader.export(pdf=False, run_tests=True)"
   ]
  },
  {
   "cell_type": "markdown",
   "id": "ecbd23a3",
   "metadata": {},
   "source": [
    " "
   ]
  }
 ],
 "metadata": {
  "kernelspec": {
   "display_name": "Python 3",
   "language": "python",
   "name": "python3"
  },
  "language_info": {
   "codemirror_mode": {
    "name": "ipython",
    "version": 3
   },
   "file_extension": ".py",
   "mimetype": "text/x-python",
   "name": "python",
   "nbconvert_exporter": "python",
   "pygments_lexer": "ipython3",
   "version": "3.12.10"
  },
  "otter": {
   "OK_FORMAT": true,
   "tests": {
    "yourname": {
     "name": "yourname",
     "points": 1,
     "suites": [
      {
       "cases": [
        {
         "code": ">>> assert me[0] != 'Rick Marks'\n",
         "hidden": false,
         "locked": false
        }
       ],
       "scored": true,
       "setup": "",
       "teardown": "",
       "type": "doctest"
      }
     ]
    }
   }
  }
 },
 "nbformat": 4,
 "nbformat_minor": 5
}
