{
 "cells": [
  {
   "cell_type": "code",
   "execution_count": null,
   "metadata": {
    "deletable": false,
    "editable": false
   },
   "outputs": [],
   "source": [
    "# Initialize Otter\n",
    "import otter\n",
    "grader = otter.Notebook(\"lab3.ipynb\")"
   ]
  },
  {
   "cell_type": "markdown",
   "metadata": {},
   "source": [
    "# Lab3: Control flow\n",
    "\n",
    "This activity will be on writing Python code that can test whether a password is valid or not. We'll use this time to practice writing variable assignments, control flow (if, for) and thinking through logic.\n",
    "\n",
    "\n",
    "**Submission instruction**: Please generate a pdf file (File-> Print or cmd + P in Mac) and a zip fle and submit both to Gradescope.\n",
    "\n",
    "**This exercise can be challenging, so definitely talk through the logic before trying to write it down in code.**\n"
   ]
  },
  {
   "cell_type": "code",
   "execution_count": null,
   "metadata": {},
   "outputs": [],
   "source": [
    "# write your code here\n",
    "me = [\"Rick Marks\", \"rlmarks\"]\n",
    "partner = [\"Piper Marks\", \"piper\"]\n",
    "name=age=has_valid_length=0"
   ]
  },
  {
   "cell_type": "code",
   "execution_count": null,
   "metadata": {
    "deletable": false,
    "editable": false
   },
   "outputs": [],
   "source": [
    "grader.check(\"q0\")"
   ]
  },
  {
   "cell_type": "markdown",
   "metadata": {},
   "source": [
    "# 1. Getting user inputs (5 minutes)\n",
    "\n",
    "We haven't shown you this in class yet, but there's a nice function called `input` in Python that can ask for and save user input. Copy paste and run the code below to see an example.\n",
    "\n",
    "```Python\n",
    "name = input(\"What is your name?: \")\n",
    "name\n",
    "```"
   ]
  },
  {
   "cell_type": "code",
   "execution_count": null,
   "metadata": {},
   "outputs": [],
   "source": [
    "# paste and run the code here!\n"
   ]
  },
  {
   "cell_type": "markdown",
   "metadata": {},
   "source": [
    "What happened here? In the first line, we asked the user for their input with the prompt \"What is your name?: \", and saved their response to a variable `name`. In the second line, we checked to see what's saved in `name`. Make sure you understand these two lines.\n",
    "\n",
    "**Q**: What is the data type of the variable `name`? Write Python code that returns the type of the variable `name` and assigns it to the variable `name_type`.\n"
   ]
  },
  {
   "cell_type": "code",
   "execution_count": null,
   "metadata": {
    "tags": [
     "otter_answer_cell"
    ]
   },
   "outputs": [],
   "source": [
    "# Write your code here\n",
    "name_type = ..."
   ]
  },
  {
   "cell_type": "code",
   "execution_count": null,
   "metadata": {
    "deletable": false,
    "editable": false
   },
   "outputs": [],
   "source": [
    "grader.check(\"q1\")"
   ]
  },
  {
   "cell_type": "markdown",
   "metadata": {},
   "source": [
    "Let's try this one more time.\n",
    "\n",
    "```Python\n",
    "age = input(\"What is your age?: \")\n",
    "print(f'{name} is {age} years old.')\n",
    "```"
   ]
  },
  {
   "cell_type": "code",
   "execution_count": null,
   "metadata": {},
   "outputs": [],
   "source": [
    "# paste and run the code here!\n"
   ]
  },
  {
   "cell_type": "markdown",
   "metadata": {},
   "source": [
    "What did you notice? The first line looks very similar to the earlier code, but this time we ask the user for their age and save it in a new variable called `age`. \n",
    "The second line `print`s out a full sentence using both the variable `name` and `age`. \n",
    "\n",
    "**Q**: What is the data type of vaiable `age`? Write Python code that returns the type of the variable `age` and assigns it to the variable `age_type`. Is that what you expected?"
   ]
  },
  {
   "cell_type": "code",
   "execution_count": null,
   "metadata": {
    "tags": [
     "otter_answer_cell"
    ]
   },
   "outputs": [],
   "source": [
    "# Write your code here\n",
    "age_type = ..."
   ]
  },
  {
   "cell_type": "code",
   "execution_count": null,
   "metadata": {
    "deletable": false,
    "editable": false
   },
   "outputs": [],
   "source": [
    "grader.check(\"q2\")"
   ]
  },
  {
   "cell_type": "markdown",
   "metadata": {},
   "source": [
    "**Remark**: The `f` in the beginning of the string tells Python that this is a `f`ormatted string, and that whenever there are curly brackets `{ }`, they should replace that variable with its value. In other words, the curly brackets are placeholders. If this is confusing, copy paste the code below to a new code cell, and try running it to see the difference with the earlier print statement. If you're curious, take a look at [this tutorial](https://www.w3schools.com/python/python_string_formatting.asp) or google 'f-string python'. You are not expected to memorize this syntax or will ever be tested on this, so don't stress out too much.\n",
    "\n",
    "```python\n",
    "print('name is age years old.')\n",
    "```\n",
    "\n"
   ]
  },
  {
   "cell_type": "markdown",
   "metadata": {},
   "source": [
    "**Q**: Now we have the tools to ask the user for their password. Write one line of code below that asks the user for `input()` on their password with the prompt \"Enter your password: \", and assigns the response to a new variable named `password`. Don't use your actual passwords!!"
   ]
  },
  {
   "cell_type": "code",
   "execution_count": null,
   "metadata": {},
   "outputs": [],
   "source": [
    "# Write your code here!\n",
    "\n"
   ]
  },
  {
   "cell_type": "markdown",
   "metadata": {},
   "source": [
    "# 2. Testing for length (5 minutes)\n",
    "**Q**: We'll start by writing code to test whether the password is at least 8 letters long. If it is, we will assign variable `has_valid_length` to `True`. If the password is too short, we will assign variable `has_valid_length` to `False`. Refer back to lecture and talk to your group if you are confused. \n",
    "\n",
    "**Q**: What data type the variable `has_valid_length` be? (no need to write code to test this)\n",
    "\n",
    "**Hint**: What built-in Python function can we use to easily count the number of characters of a string?  In other words, the length of the string?\n"
   ]
  },
  {
   "cell_type": "code",
   "execution_count": null,
   "metadata": {
    "tags": [
     "otter_answer_cell"
    ]
   },
   "outputs": [],
   "source": [
    "# Write your code here\n",
    "..."
   ]
  },
  {
   "cell_type": "code",
   "execution_count": null,
   "metadata": {
    "deletable": false,
    "editable": false
   },
   "outputs": [],
   "source": [
    "grader.check(\"q3\")"
   ]
  },
  {
   "cell_type": "markdown",
   "metadata": {},
   "source": [
    "# 3. Testing for digits (15 minutes)\n",
    "\n",
    "Often websites require passwords to have at least one number or digit. There are multiple ways to achieve this through Python, and I'll walk you through one such method. I'm going to count the total number of digits in the password, and if that value is greater than 0, I'll declare that password to have passed this test. \n",
    "\n",
    "**If you're confused**: Definitely talk through the logic with your group before trying to write Python code. If it's still confusing - don't stay stuck! TAs are ready to help you. They can also share starter code (or see part 5 below for spoilers).\n",
    "\n",
    "Here's a step by step process.\n",
    "\n",
    "1. We are going to start by assigning a new variable `num_digits` to integer 0, which we hope (by the end of our code) will be equal to the total number of digits in the password. For example, if my password is 'puppycat999', num_digits should be 3 at the end our code.\n",
    "   \n",
    "2. Then, we will **iterate** through every `letter` in the `password`.\n",
    "\n",
    "**Hint**: Should we use an `if`-`else` statement or a `for` loop?\n",
    "\n",
    "3. While looking at every `letter`, let's check if it is a digit. You can do this in two ways. You can check whether `letter` is `in` '0123456789', or use the string method `isdigit()`, as in `letter.isdigit()`. See slides to remember how to use string methods.\n",
    "\n",
    " **Hint**: Try running this code (and play around with the letters) to understand this step.\n",
    "\n",
    "```python\n",
    "letter = 'l'\n",
    "print(letter.isdigit())\n",
    "print(letter in '0123456789')\n",
    "\n",
    "letter = '5'\n",
    "print(letter.isdigit())\n",
    "print(letter in '0123456789')\n",
    "```\n",
    "\n",
    "4. If the `letter` is a digit, increase the value of `num_digits` by 1.\n",
    "\n",
    "5. Once we've investigated every `letter` in the `password`, assign `has_digits` to be `True` if `num_digits` is greater than 0, otherwise `False`.\n",
    "\n",
    "\n",
    "**Q**: Once you talked through the logic and have an idea of what to do, try writing the code below. My solution has 8 lines."
   ]
  },
  {
   "cell_type": "code",
   "execution_count": null,
   "metadata": {},
   "outputs": [],
   "source": [
    "# Write your code here!\n",
    "\n"
   ]
  },
  {
   "cell_type": "markdown",
   "metadata": {},
   "source": [
    "# 4. Bonus Combining two criteria\n",
    "\n",
    "Now that we have checked two criteria and saved those results in two `bool` variables `has_valid_length` and `has_digits`, we can combine those information to tell the user whether their password is valid or not. We will do this with an `if`-`else` statement.\n",
    "\n",
    "Run the following cell, which does the following:\n",
    "\n",
    "1. If `has_valid_length` **and** `has_digits`, print 'Password is valid!'. We'll discuss **and** at a later lecture.\n",
    "2. Otherwise, print 'Password is not valid. Please try something else.'."
   ]
  },
  {
   "cell_type": "code",
   "execution_count": null,
   "metadata": {},
   "outputs": [],
   "source": [
    "# Run this cell!\n",
    "\n",
    "if has_valid_length and has_digits:\n",
    "    print('Password is valid')\n",
    "else:\n",
    "    print('Password is not valid. Please try something else.')\n"
   ]
  },
  {
   "cell_type": "markdown",
   "metadata": {},
   "source": [
    "# 5. Bonus Putting everything together [spoilers/hints]\n",
    "\n",
    "You won't have to write anything new for this part. \n",
    "\n",
    "**Q**: Copy paste the bits and pieces you've already written to create a full program. For example, this is what my code structure looks like.\n",
    "\n",
    "```Python\n",
    "# ask user for their password\n",
    "password = ...\n",
    "\n",
    "# check if password contains at least 8 letters\n",
    "if ... >= 8:\n",
    "    has_valid_length = ...\n",
    "else:\n",
    "    has_valid_length = ...\n",
    "\n",
    "# check if password contains at least one number\n",
    "num_digits = ...\n",
    "\n",
    "for ... in ... :\n",
    "    if ... :\n",
    "        num_digits = num_digits + 1\n",
    "\n",
    "if ... :\n",
    "    has_digits =  ...\n",
    "else:\n",
    "    has_digits =  ...\n",
    "\n",
    "# combining two criteria\n",
    "if has_valid_length and has_digits:\n",
    "    print('Password is valid')\n",
    "else:\n",
    "    print('Password is not valid. Please try something else.')\n",
    "```\n",
    "**Q**: Is 'password' a valid password?"
   ]
  },
  {
   "cell_type": "code",
   "execution_count": null,
   "metadata": {},
   "outputs": [],
   "source": [
    "# paste and run code here! Try running it multiple times with different password to check that it works.\n",
    "\n"
   ]
  },
  {
   "cell_type": "markdown",
   "metadata": {},
   "source": [
    "# 6. Bonus Bonus\n",
    "\n",
    "In reality, password checkers have more stringent requirements. If you feel up to the challenge and want more practice, try adding: \n",
    "\n",
    "- Password should contain at least one upper case letter.\n",
    "- Password should contain at least one lower case letter.\n",
    "- Password should contain at least one special character ~`!@#$%^&*()-_+={}[]|\\;:\"<>,./?\n",
    "\n",
    "**Hint**: If you focus on the big picture logic, all of them should feel very similar to one of the two we have already done. Which one?\n",
    "\n",
    "**Challenge**: Can you write it with just one for loop?"
   ]
  },
  {
   "cell_type": "code",
   "execution_count": null,
   "metadata": {},
   "outputs": [],
   "source": [
    "# Write your code here\n",
    "\n"
   ]
  },
  {
   "cell_type": "code",
   "execution_count": null,
   "metadata": {},
   "outputs": [],
   "source": []
  },
  {
   "cell_type": "markdown",
   "metadata": {
    "deletable": false,
    "editable": false
   },
   "source": [
    "## Submission\n",
    "\n",
    "Make sure you have run all cells in your notebook in order before running the cell below, so that all images/graphs appear in the output. The cell below will generate a zip file for you to submit. **Please save before exporting!**\n",
    "\n",
    "Gradescope Lab3"
   ]
  },
  {
   "cell_type": "code",
   "execution_count": null,
   "metadata": {
    "deletable": false,
    "editable": false
   },
   "outputs": [],
   "source": [
    "# Save your notebook first, then run this cell to export your submission.\n",
    "grader.export(pdf=False, run_tests=True)"
   ]
  },
  {
   "cell_type": "markdown",
   "metadata": {},
   "source": [
    " "
   ]
  }
 ],
 "metadata": {
  "kernelspec": {
   "display_name": "Python 3 (ipykernel)",
   "language": "python",
   "name": "python3"
  },
  "language_info": {
   "codemirror_mode": {
    "name": "ipython",
    "version": 3
   },
   "file_extension": ".py",
   "mimetype": "text/x-python",
   "name": "python",
   "nbconvert_exporter": "python",
   "pygments_lexer": "ipython3",
   "version": "3.11.8"
  },
  "otter": {
   "OK_FORMAT": true,
   "tests": {
    "q0": {
     "name": "q0",
     "points": 1,
     "suites": [
      {
       "cases": [
        {
         "code": ">>> assert me[0] != 'Rick Marks'\n",
         "hidden": false,
         "locked": false
        }
       ],
       "scored": true,
       "setup": "",
       "teardown": "",
       "type": "doctest"
      }
     ]
    },
    "q1": {
     "name": "q1",
     "points": 2,
     "suites": [
      {
       "cases": [
        {
         "code": ">>> assert name_type == str\n",
         "hidden": false,
         "locked": false
        }
       ],
       "scored": true,
       "setup": "",
       "teardown": "",
       "type": "doctest"
      }
     ]
    },
    "q2": {
     "name": "q2",
     "points": 2,
     "suites": [
      {
       "cases": [
        {
         "code": ">>> assert age_type == str\n",
         "hidden": false,
         "locked": false
        }
       ],
       "scored": true,
       "setup": "",
       "teardown": "",
       "type": "doctest"
      }
     ]
    },
    "q3": {
     "name": "q3",
     "points": 2,
     "suites": [
      {
       "cases": [
        {
         "code": ">>> assert type(has_valid_length) == bool\n",
         "hidden": false,
         "locked": false
        }
       ],
       "scored": true,
       "setup": "",
       "teardown": "",
       "type": "doctest"
      }
     ]
    }
   }
  }
 },
 "nbformat": 4,
 "nbformat_minor": 4
}
