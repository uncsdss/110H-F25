{
 "cells": [
  {
   "cell_type": "code",
   "execution_count": null,
   "id": "cf52ef8c",
   "metadata": {
    "deletable": false,
    "editable": false
   },
   "outputs": [],
   "source": [
    "# Initialize Otter\n",
    "import otter\n",
    "grader = otter.Notebook(\"lab12.ipynb\")"
   ]
  },
  {
   "cell_type": "markdown",
   "id": "4aefeb0a",
   "metadata": {},
   "source": [
    "# Your name and your onyen\n",
    "\n",
    "Classmates you worked with today:\n",
    "\n",
    "1. name\n",
    "2. name\n",
    "3. name\n",
    "\n",
    "\n",
    "**Submission instruction**: Please create a `pdf` via File -> Print (or cmd + P on mac), and upload it to Gradescope. No autograder since there are many correct ways to approach this question. You are **not** required to finish the entire worksheet provided that you were actively engaged during the entire class period. As long as you've collaborated, put in good effort and made **reasonable progress** during the lab period, you can expect to get full credit. So even if you decide to finish it at home, please submit what you have by the end of 50 minutes to make sure you get credit! "
   ]
  },
  {
   "cell_type": "markdown",
   "id": "99c84be4-4dac-4907-9355-0babc8e6ff43",
   "metadata": {},
   "source": [
    "#  Lab 12: Converting categorical data to numeric\n",
    "### Part 1: Getting started (2 points)\n",
    "We've done a lot of plotting and computation on numerical data; what can we do for categorical data?  We'll start with a simple table with just one column of shapes.\n"
   ]
  },
  {
   "cell_type": "code",
   "execution_count": null,
   "id": "dc5f0567-b057-4a82-9d0c-5aa5face7084",
   "metadata": {},
   "outputs": [],
   "source": [
    "import pandas as pd\n",
    "import seaborn as sns\n",
    "pd.set_option(\"future.no_silent_downcasting\", True) # Don't worry about understanding this line"
   ]
  },
  {
   "cell_type": "code",
   "execution_count": null,
   "id": "295b56c7-5455-419b-9a03-9a6926c89c13",
   "metadata": {},
   "outputs": [],
   "source": [
    "dice = pd.read_csv('d_and_d_dice.csv')\n",
    "dice"
   ]
  },
  {
   "cell_type": "markdown",
   "id": "4849bf81",
   "metadata": {},
   "source": [
    "As we learned in class, we can compute the `mode()` of categorical data, and we can do seaborn histplots or countplots.  We can also get the `value_counts()`.  Do all those things for `dice`. **(1 point)**"
   ]
  },
  {
   "cell_type": "code",
   "execution_count": null,
   "id": "4282ba80",
   "metadata": {
    "tags": [
     "otter_answer_cell"
    ]
   },
   "outputs": [],
   "source": [
    "# Write your code here.  Add as many cells as you want.\n",
    "..."
   ]
  },
  {
   "cell_type": "code",
   "execution_count": null,
   "id": "b038a006",
   "metadata": {
    "tags": [
     "otter_answer_cell"
    ]
   },
   "outputs": [],
   "source": [
    "..."
   ]
  },
  {
   "cell_type": "code",
   "execution_count": null,
   "id": "bfee47ac",
   "metadata": {
    "tags": [
     "otter_answer_cell"
    ]
   },
   "outputs": [],
   "source": [
    "..."
   ]
  },
  {
   "cell_type": "markdown",
   "id": "ba5979a6",
   "metadata": {
    "deletable": false,
    "editable": false
   },
   "source": [
    "Sometimes it can be useful to convert categorical data to numeric.  Why would this ever be useful?  Try to think of different situations it could be useful, and discuss with your classmates.  List your ideas below. **(1 point)**\n",
    "\n"
   ]
  },
  {
   "cell_type": "markdown",
   "id": "742f2809",
   "metadata": {
    "deletable": false,
    "editable": false
   },
   "source": [
    "[Write your answer here]"
   ]
  },
  {
   "cell_type": "markdown",
   "id": "2a428df5",
   "metadata": {
    "deletable": false,
    "editable": false
   },
   "source": [
    "### Part 2: Label encoding (4 points)\n",
    "One method for converting categorical data to number is called label encoding.  Label encoding assigns a unique numeric value for every unique categorical value.  pandas has a function called 'unique()` that returns a list of the unique categorical values:"
   ]
  },
  {
   "cell_type": "code",
   "execution_count": null,
   "id": "a5a8a8c0",
   "metadata": {
    "deletable": false,
    "editable": false
   },
   "outputs": [],
   "source": [
    "list(dice['Shape'].unique())"
   ]
  },
  {
   "cell_type": "markdown",
   "id": "91c5f8e3",
   "metadata": {
    "deletable": false,
    "editable": false
   },
   "source": [
    "Make a mental note of how many unique shapes there are.  If you wanted to make a new column of corresponding numeric values, how would you do it?  Discuss with your classmates, and in a sentence or two write the process you'd follow below. Note you don't have to write any actual code for this.  (If you really want to, try it later!) **(1 point)**\n",
    "\n"
   ]
  },
  {
   "cell_type": "markdown",
   "id": "4322a237",
   "metadata": {
    "deletable": false,
    "editable": false
   },
   "source": [
    "[Write your answer here]"
   ]
  },
  {
   "cell_type": "markdown",
   "id": "cf361b23",
   "metadata": {
    "deletable": false,
    "editable": false
   },
   "source": [
    "As with many common operations, pandas already has a quick way of doing this.  It isn't a function we have learned yet, and it is a little complicated, so we've supplied you the code:"
   ]
  },
  {
   "cell_type": "code",
   "execution_count": null,
   "id": "22815a6b",
   "metadata": {
    "deletable": false,
    "editable": false
   },
   "outputs": [],
   "source": [
    "dice['numeric'] = pd.factorize(dice['Shape'])[0]\n",
    "dice\n"
   ]
  },
  {
   "cell_type": "markdown",
   "id": "d47723b9",
   "metadata": {
    "deletable": false,
    "editable": false
   },
   "source": [
    "You should see a new column in the table now named `numeric`.  Is the range of values in the numeric column what you would expect given the number of unique shapes?  Other than by manually checking, can you think of how you might verify if a numeric value correctly assigned to a category?  Discuss with your classmates; don't worry if you don't have any answer!  Hint: maybe use Boolean comparison on the columns somehow?\n"
   ]
  },
  {
   "cell_type": "markdown",
   "id": "286370d0",
   "metadata": {
    "deletable": false,
    "editable": false
   },
   "source": [
    "[ Write your answer here ]"
   ]
  },
  {
   "cell_type": "markdown",
   "id": "cb453dc7",
   "metadata": {
    "deletable": false,
    "editable": false
   },
   "source": [
    "Now we have numeric values, but the values were arbitrarily assigned.  This can actually be a negative, because it can imply some kind of ordering that wasn't really there originally.  This particular dataset has numeric values that would make much more sense given the shapes and name of the table.  Discuss with your classmates, and list what better numeric values might be for each of the shapes.  If you're stuck, ask if any of your classmates if they play D&D!\n"
   ]
  },
  {
   "cell_type": "markdown",
   "id": "d44e4afe",
   "metadata": {
    "deletable": false,
    "editable": false
   },
   "source": [
    "[ Write your answer here ]"
   ]
  },
  {
   "cell_type": "markdown",
   "id": "3320856f",
   "metadata": {
    "deletable": false,
    "editable": false
   },
   "source": [
    "Assigning particular numeric values to a particular categorical values can be done using a find-and-replace approach.  Again, pandas has a great way to do that using a function called `replace()`.  We've created an example new column in `dice` that uses this function to assign some arbitrary numbers."
   ]
  },
  {
   "cell_type": "code",
   "execution_count": null,
   "id": "1d540429",
   "metadata": {
    "deletable": false,
    "editable": false
   },
   "outputs": [],
   "source": [
    "dice['example']=dice['Shape'].replace(['tetrahedron','dodecahedron','icosahedron','cube','octahedron','pentagonal trapezohedron'], [2,3,5,7,11,13])\n",
    "dice"
   ]
  },
  {
   "cell_type": "markdown",
   "id": "5f3ac052",
   "metadata": {
    "deletable": false,
    "editable": false
   },
   "source": [
    "Now, you use `replace()` to add a column to `dice` with an **appropriate column name** and the **better numeric values** you described above. **(1 point)**"
   ]
  },
  {
   "cell_type": "code",
   "execution_count": null,
   "id": "b0861b34",
   "metadata": {
    "tags": [
     "otter_answer_cell"
    ]
   },
   "outputs": [],
   "source": [
    "# Write your code here.\n",
    "..."
   ]
  },
  {
   "cell_type": "markdown",
   "id": "7857c4bf",
   "metadata": {
    "deletable": false,
    "editable": false
   },
   "source": [
    "Can you think of any value this new column offers?  We haven't talked about sampling yet, but what if you randomly grabbed 2 dice and rolled them.  Would this column provide any useful numeric information for the roll? **(1 point)**\n",
    "\n"
   ]
  },
  {
   "cell_type": "markdown",
   "id": "dc0dd19c",
   "metadata": {
    "deletable": false,
    "editable": false
   },
   "source": [
    "[ Write your answer here ]"
   ]
  },
  {
   "cell_type": "markdown",
   "id": "74646556",
   "metadata": {
    "deletable": false,
    "editable": false
   },
   "source": [
    "Now, take a look at the boxplots for the numeric columns of `dice`."
   ]
  },
  {
   "cell_type": "code",
   "execution_count": null,
   "id": "5e8b75f5",
   "metadata": {
    "deletable": false,
    "editable": false
   },
   "outputs": [],
   "source": [
    "sns.boxplot(dice)"
   ]
  },
  {
   "cell_type": "markdown",
   "id": "e012d030",
   "metadata": {
    "deletable": false,
    "editable": false
   },
   "source": [
    "The boxplots for `numeric` and `example` aren't particularly useful, because the assigned numeric values don't have any real meaning.  But the boxplot for your column actually does have some value.  What do you notice about the values for the whisker ends, the median line, and the box edges?  Can you explain why the median line isn't in the center of the box?  Could it ever be in the center for a table with an odd number of rows?  What about for a table with an even number of rows?  Would it: never be in the center, sometimes be in the center, or always be in the center?  Discuss with your classmates. **(1 point)**\n",
    "\n"
   ]
  },
  {
   "cell_type": "markdown",
   "id": "8aea676f",
   "metadata": {
    "deletable": false,
    "editable": false
   },
   "source": [
    "[ Write your answer here ]  "
   ]
  },
  {
   "cell_type": "markdown",
   "id": "0d4f93bc",
   "metadata": {
    "deletable": false,
    "editable": false
   },
   "source": [
    "### Part 3: Another example of categorical data (4 points)\n",
    "Another common kind of categorical data that is useful to convert to numeric are things like ratings.  For example, many rating forms have choices like 'Excellent', 'Very Good', or 'Poor'.  Note that you can make certain numeric statements about categorical data such as \"65% of respondents rated this 'Very Good' or better\".  Load the table below with the results of 3 survey questions."
   ]
  },
  {
   "cell_type": "code",
   "execution_count": null,
   "id": "8eca1ce1",
   "metadata": {
    "deletable": false,
    "editable": false
   },
   "outputs": [],
   "source": [
    "survey = pd.read_csv('job_satisfaction_results.csv')\n",
    "survey"
   ]
  },
  {
   "cell_type": "markdown",
   "id": "fb1da6dc",
   "metadata": {
    "deletable": false,
    "editable": false
   },
   "source": [
    "First, as review, use pandas and boolean indexing to compute the percent of 'Excellent' responses for Question 2 **(1 point)**"
   ]
  },
  {
   "cell_type": "code",
   "execution_count": null,
   "id": "6c6f7ffb",
   "metadata": {
    "tags": [
     "otter_answer_cell"
    ]
   },
   "outputs": [],
   "source": [
    "# Write your code here.\n",
    "..."
   ]
  },
  {
   "cell_type": "markdown",
   "id": "3dbb0efc",
   "metadata": {
    "deletable": false,
    "editable": false
   },
   "source": [
    "Now write code to compute the percent of responses in Question 3 that are 'Good' or better. **(1 point)**"
   ]
  },
  {
   "cell_type": "code",
   "execution_count": null,
   "id": "c1071e2f",
   "metadata": {
    "tags": [
     "otter_answer_cell"
    ]
   },
   "outputs": [],
   "source": [
    "# Write your code here.\n",
    "..."
   ]
  },
  {
   "cell_type": "markdown",
   "id": "9277b3ae",
   "metadata": {
    "deletable": false,
    "editable": false
   },
   "source": [
    "While such percentages can be useful, even more value can be derived from such data by converting it to numbers.  Obviously, the responses have a distinct ordering.  What numeric value do you think it makes sense to assign to each response?  Discuss with your classmates.\n"
   ]
  },
  {
   "cell_type": "markdown",
   "id": "18e0b55e",
   "metadata": {
    "deletable": false,
    "editable": false
   },
   "source": [
    "[ Write your answer here]"
   ]
  },
  {
   "cell_type": "markdown",
   "id": "02d7cb25",
   "metadata": {
    "deletable": false,
    "editable": false
   },
   "source": [
    "Now, use the `replace()` function as you did before to create 3 new columns with your numeric values in place of the responses.  In the code below **change the zeroes in `my_values` to the numeric values** you decided on.  The `to_numeric()` function guarantees the columns will be treated as numeric. **(1 point)**"
   ]
  },
  {
   "cell_type": "code",
   "execution_count": null,
   "id": "41861c85",
   "metadata": {
    "tags": [
     "otter_answer_cell"
    ]
   },
   "outputs": [],
   "source": [
    "my_values = [0,0,0,0,0]\n",
    "...\n",
    "survey['Q1 numeric'] = pd.to_numeric(survey['Question 1'].replace( ['Excellent','Very Good', 'Good', 'Fair', 'Poor'], my_values))\n",
    "survey['Q2 numeric'] = pd.to_numeric(survey['Question 2'].replace( ['Excellent','Very Good', 'Good', 'Fair', 'Poor'], my_values))\n",
    "survey['Q3 numeric'] = pd.to_numeric(survey['Question 3'].replace( ['Excellent','Very Good', 'Good', 'Fair', 'Poor'], my_values))\n",
    "survey"
   ]
  },
  {
   "cell_type": "markdown",
   "id": "66cd37f8",
   "metadata": {
    "deletable": false,
    "editable": false
   },
   "source": [
    "Now, you can compute all the summary statistics for this new table!  Below, use `describe()` to see them all."
   ]
  },
  {
   "cell_type": "code",
   "execution_count": null,
   "id": "e2ab6080",
   "metadata": {
    "tags": [
     "otter_answer_cell"
    ]
   },
   "outputs": [],
   "source": [
    "# Write your code here.\n",
    "..."
   ]
  },
  {
   "cell_type": "markdown",
   "id": "f38a3a66",
   "metadata": {
    "deletable": false,
    "editable": false
   },
   "source": [
    "In the cells below, use seaborn to separately generate a histogram for *Question 2* and for *Q2 numeric*.  Use the argument `bins=5` to make it look nicer. How are they different?  Which do you think would be more helpful for understanding the overall sentiment? **(1 point)**\n",
    "\n",
    "\n"
   ]
  },
  {
   "cell_type": "markdown",
   "id": "42f91f13",
   "metadata": {
    "deletable": false,
    "editable": false
   },
   "source": [
    "[ Write your answer here]"
   ]
  },
  {
   "cell_type": "code",
   "execution_count": null,
   "id": "0dde54df",
   "metadata": {
    "tags": [
     "otter_answer_cell"
    ]
   },
   "outputs": [],
   "source": [
    "# Write your code here.\n",
    "..."
   ]
  },
  {
   "cell_type": "code",
   "execution_count": null,
   "id": "763e3518",
   "metadata": {
    "tags": [
     "otter_answer_cell"
    ]
   },
   "outputs": [],
   "source": [
    "# Write your code here.\n",
    "..."
   ]
  },
  {
   "cell_type": "markdown",
   "id": "0d38013c",
   "metadata": {
    "deletable": false,
    "editable": false
   },
   "source": [
    "And also write the code to use seaborn to show box plots of your numeric columns."
   ]
  },
  {
   "cell_type": "code",
   "execution_count": null,
   "id": "250c6c4a",
   "metadata": {
    "tags": [
     "otter_answer_cell"
    ]
   },
   "outputs": [],
   "source": [
    "# Write your code here.\n",
    "..."
   ]
  },
  {
   "cell_type": "markdown",
   "id": "2b1782e3",
   "metadata": {
    "deletable": false,
    "editable": false
   },
   "source": [
    "What do you notice about the box plots for the 3 questions?  Is anything missing?  What do you think is going on?\n",
    "\n"
   ]
  },
  {
   "cell_type": "markdown",
   "id": "d3e93aa8",
   "metadata": {
    "deletable": false,
    "editable": false
   },
   "source": [
    "[ Write your answers here ]"
   ]
  },
  {
   "cell_type": "markdown",
   "id": "19290062",
   "metadata": {
    "deletable": false,
    "editable": false
   },
   "source": [
    "Sometimes, people add an indicator of the mean to box plots.  In seaborn, you can do that by adding the argument `showmeans=True`.  Do that below; do you think it make the box plots more useful?  "
   ]
  },
  {
   "cell_type": "code",
   "execution_count": null,
   "id": "317ebe3a",
   "metadata": {
    "tags": [
     "otter_answer_cell"
    ]
   },
   "outputs": [],
   "source": [
    "# Write your code here.\n",
    "..."
   ]
  },
  {
   "cell_type": "markdown",
   "id": "8254dd2b",
   "metadata": {},
   "source": [
    "The spacing between the numeric values assigned to categorical responses doesn't necessarily all have to be uniform.  For example, a company might decide that jump from a 'Poor' rating and a 'Fair' rating is different than from 'Good' to 'Very Good'.  Some universities do this when calculating GPA to exaggerate the step between an F and a D.  If you were to re-assign new values to the reponses that made the difference between 'Poor' and 'Fair' twice as large as the differences between all the other responses, what would that do to the results?  How would the box plots change?  How would the other summary statistics change?\n"
   ]
  },
  {
   "cell_type": "markdown",
   "id": "adc82428",
   "metadata": {},
   "source": [
    "\n",
    "[ Write your answer here ]"
   ]
  },
  {
   "cell_type": "markdown",
   "id": "199c973f",
   "metadata": {
    "deletable": false,
    "editable": false
   },
   "source": [
    "## Submission\n",
    "\n",
    "Make sure you have run all cells in your notebook in order before running the cell below, so that all images/graphs appear in the output. The cell below will generate a zip file for you to submit. **Please save before exporting!**\n",
    "\n",
    "Submit zip and PDF to Gradescope Lab 12"
   ]
  },
  {
   "cell_type": "code",
   "execution_count": null,
   "id": "1d61646d",
   "metadata": {
    "deletable": false,
    "editable": false
   },
   "outputs": [],
   "source": [
    "# Save your notebook first, then run this cell to export your submission.\n",
    "grader.export(pdf=False, run_tests=True)"
   ]
  },
  {
   "cell_type": "markdown",
   "id": "14c7ba20",
   "metadata": {},
   "source": [
    " "
   ]
  }
 ],
 "metadata": {
  "kernelspec": {
   "display_name": "Python 3",
   "language": "python",
   "name": "python3"
  },
  "language_info": {
   "codemirror_mode": {
    "name": "ipython",
    "version": 3
   },
   "file_extension": ".py",
   "mimetype": "text/x-python",
   "name": "python",
   "nbconvert_exporter": "python",
   "pygments_lexer": "ipython3",
   "version": "3.12.10"
  },
  "otter": {
   "OK_FORMAT": true,
   "tests": {}
  }
 },
 "nbformat": 4,
 "nbformat_minor": 5
}
