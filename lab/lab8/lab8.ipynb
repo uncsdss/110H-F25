{
 "cells": [
  {
   "cell_type": "code",
   "execution_count": null,
   "id": "51a3beb8",
   "metadata": {
    "deletable": false,
    "editable": false
   },
   "outputs": [],
   "source": [
    "# Initialize Otter\n",
    "import otter\n",
    "grader = otter.Notebook(\"lab8.ipynb\")"
   ]
  },
  {
   "cell_type": "markdown",
   "id": "55f0fd0e",
   "metadata": {},
   "source": [
    "# Lab 8: Matplotlib\n",
    "\n",
    "\n",
    "**Submission instruction**: Please create a `zip` and `pdf` via File -> Print (or cmd + P on mac), and upload it to Gradescope. Most of the lab will be manually graded.\n"
   ]
  },
  {
   "cell_type": "code",
   "execution_count": null,
   "id": "d7502231",
   "metadata": {},
   "outputs": [],
   "source": [
    "# write your code here\n",
    "me = [\"Rick Marks\", \"rlmarks\"]\n",
    "partner = [\"Piper Marks\", \"piper\"]"
   ]
  },
  {
   "cell_type": "code",
   "execution_count": null,
   "id": "358daade",
   "metadata": {
    "deletable": false,
    "editable": false
   },
   "outputs": [],
   "source": [
    "grader.check(\"yourname\")"
   ]
  },
  {
   "cell_type": "markdown",
   "id": "cd3caea5-9027-4d61-a5c0-acba84f52075",
   "metadata": {},
   "source": [
    "The last 2 weeks in lectures, we discussed how to use `seaborn` to visualize table data. As mentioned in the beginning, `seaborn` is a powerful tool that can get us very beautiful plots easily, but it can also be difficut to customize plots to 100% our liking. That's why today we are going over some important `matplotlib` functions and parameters that can be used in conjunction with `seaborn`."
   ]
  },
  {
   "cell_type": "code",
   "execution_count": null,
   "id": "541c7514-1431-4a07-91bb-07dc944192c6",
   "metadata": {},
   "outputs": [],
   "source": [
    "# Run this cell\n",
    "\n",
    "import pandas as pd\n",
    "import seaborn as sns\n",
    "import matplotlib.pyplot as plt"
   ]
  },
  {
   "cell_type": "markdown",
   "id": "94f593a4-2fb6-4087-a633-c76a1e39dd06",
   "metadata": {},
   "source": [
    "# 1. Figures and axes (5 minutes)\n",
    "\n",
    "These two images from the [ListenData matplotlib tutorial](https://www.listendata.com/2019/06/matplotlib-tutorial-learn-plot-python.html) summarize the most important elements of a Matplotlib figure (remember that seaborn uses matplotlib behind the scenes).\n",
    "\n",
    "\n",
    "![Matplotlib figure elements](https://blogger.googleusercontent.com/img/b/R29vZ2xl/AVvXsEj-ZStrYVLlanGuxuDmk_m2W8oXCIH-ueK9cgORQC_oY9_YwAkxf4npj2GbupXFaroy0s05fc2naWUsoF8J6R-A1pzKvsIKNn_ZmfYQqHKsVfmc0gVM2jcH6ZCb4ykO0H847mWyCYctwy0C/s1600/basics_matplotlib.PNG)\n",
    "\n",
    "- A **figure** is the overall space in which visualizations may be created. Think of it as a canvas for your painting.\n",
    "- An **axis** is the x- or y- axis along which the values occur.\n",
    "    - It may have a text **label** that describes what type of values are occurring along that direction.\n",
    "    - It may have **ticks** that mark spots on the axis. These ticks may have corresponding **tick labels**.\n",
    "- An **axes** is a single visualization (i.e. \"a plot\") containing both x- and y-axis.\n",
    "    - It may contain a **title**.\n",
    "    - Figures can contain one or more axes (just like you can have multiple drawings and paintings on one canvas). See the image below.\n",
    "\n",
    "![Subplots](https://blogger.googleusercontent.com/img/b/R29vZ2xl/AVvXsEhUh6lQj_vTkc0aoAnNVLuD-mmFNmn24dCj9hoPtdeABBnw4gPR0DNW-sYGLDQhIKJiTgU7bIbaAfMPXVXCF1qa6bBKxNGpMKKSc-cvAASK7Dk9wKFvQta2qn3G_5HLi9myL4LbFHQDqTEd/s1600/figure_axes.PNG)\n",
    "\n"
   ]
  },
  {
   "cell_type": "markdown",
   "id": "e84b05c9-520e-4515-9f3e-46cfbb5b11a2",
   "metadata": {},
   "source": [
    "Here is how you make a figure and *an* axes.\n",
    "\n",
    "```Python\n",
    "fig, ax = plt.subplots(1)\n",
    "```"
   ]
  },
  {
   "cell_type": "code",
   "execution_count": null,
   "id": "d8daca21-c2e8-49cb-85df-f6ba8afaf3b8",
   "metadata": {},
   "outputs": [],
   "source": [
    "# Copy and run the code here\n"
   ]
  },
  {
   "cell_type": "markdown",
   "id": "e95e7511-33f8-46cb-9753-b466407cfff7",
   "metadata": {},
   "source": [
    "Specify the figure dimension (width, height) in inches with parameter `figsize`.\n",
    "\n",
    "```Python\n",
    "fig, ax = plt.subplots(1, figsize=(5,3))\n",
    "fig, ax = plt.subplots(1, figsize=(12,8))\n",
    "```\n",
    "\n",
    "**Q**: Do you notice anything different about the size of the box as well as the fontsizes? "
   ]
  },
  {
   "cell_type": "code",
   "execution_count": null,
   "id": "1aa6a381-8a23-4cf5-b021-87bb0bb640bd",
   "metadata": {},
   "outputs": [],
   "source": [
    "# Copy and run the code here\n"
   ]
  },
  {
   "cell_type": "markdown",
   "id": "5576d41f-888b-40aa-92f5-555cff7aa6b4",
   "metadata": {},
   "source": [
    "# 2. Combining axes with seaborn (15 minutes)\n",
    "\n",
    "This is actually fairly simple.\n",
    "1. Create a matplotlib axes. This is equivalent to telling seaborn that this is the canvas we're now working with.\n",
    "2. Run seaborn plotting functions.\n",
    "3. Update parameters of the axes.\n",
    "\n",
    "Here is an example that creates a figure only for the purpose of demonstration:\n",
    "\n",
    "```Python\n",
    "fig, ax = plt.subplots(1, figsize=(8,8))\n",
    "sns.scatterplot(data=penguins, \n",
    "                x='Body Mass (g)', \n",
    "                y='Flipper Length (mm)',\n",
    "               color = '#056412',\n",
    "               marker= 'x')\n",
    "\n",
    "ax.set_title('Palmer Penguins', fontsize=20)\n",
    "ax.set_ylabel('Flipper Length (cm)', fontsize=16)\n",
    "ax.set_xlabel('Body Mass (kg)', fontsize=16)\n",
    "\n",
    "ax.set_xticks([3000, 4000, 5000, 6000])\n",
    "ax.set_xticklabels([3,4,5,6])\n",
    "\n",
    "ax.set_yticks([160, 180, 200, 220, 240])\n",
    "ax.set_yticklabels([16, 18, 20, 22, 24])\n",
    "# END SOLUTION\n",
    "```\n",
    "\n",
    "Compare it with the default plot you get with\n",
    "```Python\n",
    "sns.scatterplot(data=penguins, \n",
    "                x='Body Mass (g)', \n",
    "                y='Flipper Length (mm)')\n",
    "```\n",
    "\n",
    "**Q**: Can you figure out what each of the added code does?\n",
    "- In particular, what does `alpha` do? Hint: It must be a float between 0 and 1.\n",
    "\n",
    "**Hint**: \n",
    "Helpful links:\n",
    "- [List of parameters](https://seaborn.pydata.org/generated/seaborn.scatterplot.html) accepted by seaborn scatterplot\n",
    "- [Additional list of matplotlib parameters](https://matplotlib.org/stable/api/_as_gen/matplotlib.axes.Axes.scatter.html#matplotlib.axes.Axes.scatter) that are also accepted by seaborn scatterplot\n",
    "- [List of markers](https://matplotlib.org/stable/api/markers_api.html#module-matplotlib.markers)\n",
    "\n",
    "\n",
    "**Remark**: An important note on colors:\n",
    "- There are [many ways to specify colors](https://matplotlib.org/stable/users/explain/colors/colors.html#color-formats) for matplotlib. For example, you can provide a hex color code such as `'#056412'`.\n",
    "- When choosing colors, it is adivsable to use color palettes that are accessible to those with color blindness. See resources on this topic such as [this](https://www.nceas.ucsb.edu/sites/default/files/2022-06/Colorblind%20Safe%20Color%20Schemes.pdf) and [this](https://davidmathlogic.com/colorblind/).\n"
   ]
  },
  {
   "cell_type": "code",
   "execution_count": null,
   "id": "86641739-4646-4412-aa81-7d3b6470e93f",
   "metadata": {},
   "outputs": [],
   "source": [
    "# run this cell\n",
    "\n",
    "penguins = pd.read_csv('~/110H-F25/demo/palmer_penguins.csv')\n",
    "penguins = penguins.dropna(subset=['Culmen Length (mm)', 'Culmen Depth (mm)'])"
   ]
  },
  {
   "cell_type": "code",
   "execution_count": null,
   "id": "1a5f635d-2a82-4e33-b8d4-0e5ee78345b9",
   "metadata": {},
   "outputs": [],
   "source": [
    "# Copy and run the code here\n"
   ]
  },
  {
   "cell_type": "code",
   "execution_count": null,
   "id": "5e863a20-cc0d-49c9-a793-32643e43ab5d",
   "metadata": {},
   "outputs": [],
   "source": [
    "# Copy and run the code here\n"
   ]
  },
  {
   "cell_type": "markdown",
   "id": "c1f93176-45e6-487f-b5a3-af8fc74d7fcf",
   "metadata": {},
   "source": [
    "# 3: Saving your figure (5 minutes)\n",
    "\n",
    "Last step is saving your plot as a file! This is where you get to use `fig`.\n",
    "\n",
    "```Python\n",
    "fig.savefig('penguins-scatter.png') \n",
    "```\n",
    "\n",
    "Whether you want `jpg` vs `png` images depends on the situation. `png` contains more information than `jpg` and therefore can be considered higher quality, but `jpg` files are smaller and will therefore load faster on a website.\n",
    "\n",
    "No need to submit this file to Gradescope."
   ]
  },
  {
   "cell_type": "code",
   "execution_count": null,
   "id": "36883f87-110b-4d8f-8d29-daca4ce25655",
   "metadata": {},
   "outputs": [],
   "source": [
    "# Copy and run the code here\n",
    "\n"
   ]
  },
  {
   "cell_type": "markdown",
   "id": "c4bba21c",
   "metadata": {
    "deletable": false,
    "editable": false
   },
   "source": [
    "## Submission\n",
    "\n",
    "Make sure you have run all cells in your notebook in order before running the cell below, so that all images/graphs appear in the output. The cell below will generate a zip file for you to submit. **Please save before exporting!**\n",
    "\n",
    "Submit zip and PDF file to Gradescope Lab 8"
   ]
  },
  {
   "cell_type": "code",
   "execution_count": null,
   "id": "c1d7a695",
   "metadata": {
    "deletable": false,
    "editable": false
   },
   "outputs": [],
   "source": [
    "# Save your notebook first, then run this cell to export your submission.\n",
    "grader.export(pdf=False, run_tests=True)"
   ]
  },
  {
   "cell_type": "markdown",
   "id": "04b4f86e",
   "metadata": {},
   "source": [
    " "
   ]
  }
 ],
 "metadata": {
  "kernelspec": {
   "display_name": "Python 3",
   "language": "python",
   "name": "python3"
  },
  "language_info": {
   "codemirror_mode": {
    "name": "ipython",
    "version": 3
   },
   "file_extension": ".py",
   "mimetype": "text/x-python",
   "name": "python",
   "nbconvert_exporter": "python",
   "pygments_lexer": "ipython3",
   "version": "3.12.10"
  },
  "otter": {
   "OK_FORMAT": true,
   "tests": {
    "yourname": {
     "name": "yourname",
     "points": 1,
     "suites": [
      {
       "cases": [
        {
         "code": ">>> assert me[0] != 'Rick Marks'\n",
         "hidden": false,
         "locked": false
        }
       ],
       "scored": true,
       "setup": "",
       "teardown": "",
       "type": "doctest"
      }
     ]
    }
   }
  }
 },
 "nbformat": 4,
 "nbformat_minor": 5
}
