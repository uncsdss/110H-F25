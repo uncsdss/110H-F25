{
 "cells": [
  {
   "cell_type": "code",
   "execution_count": null,
   "id": "193f1776",
   "metadata": {
    "deletable": false,
    "editable": false
   },
   "outputs": [],
   "source": [
    "# Initialize Otter\n",
    "import otter\n",
    "grader = otter.Notebook(\"lab15.ipynb\")"
   ]
  },
  {
   "cell_type": "markdown",
   "id": "cd183195",
   "metadata": {},
   "source": [
    "## Lab 15: Linear regression (25 minutes)\n",
    "\n",
    "  \n",
    "**Submission instruction**: Please create a zip and pdf via File -> Print (or cmd + P on mac), and upload it to Gradescope."
   ]
  },
  {
   "cell_type": "code",
   "execution_count": null,
   "id": "898654f7",
   "metadata": {
    "tags": [
     "otter_answer_cell"
    ]
   },
   "outputs": [],
   "source": [
    "# edit these names to your name and your final project partner's name\n",
    "me = [\"Rick Marks\"]\n",
    "partner = [\"Piper Marks\"]\n",
    "..."
   ]
  },
  {
   "cell_type": "code",
   "execution_count": null,
   "id": "2922eb1b",
   "metadata": {
    "deletable": false,
    "editable": false
   },
   "outputs": [],
   "source": [
    "grader.check(\"name\")"
   ]
  },
  {
   "cell_type": "markdown",
   "id": "d00a414a",
   "metadata": {},
   "source": [
    "\n",
    "\n",
    "Let's revisit the ROUSes dataset. "
   ]
  },
  {
   "cell_type": "code",
   "execution_count": null,
   "id": "d2a55e5f",
   "metadata": {
    "deletable": false,
    "editable": false
   },
   "outputs": [],
   "source": [
    "import pandas as pd\n",
    "import seaborn as sns"
   ]
  },
  {
   "cell_type": "code",
   "execution_count": null,
   "id": "2af60b59",
   "metadata": {
    "deletable": false,
    "editable": false
   },
   "outputs": [],
   "source": [
    "rouses = pd.read_csv('ROUSes.csv')\n",
    "print(rouses.shape)\n",
    "rouses.head()"
   ]
  },
  {
   "cell_type": "markdown",
   "id": "61007e55",
   "metadata": {
    "deletable": false,
    "editable": false
   },
   "source": [
    "Run the following code to drop the column `Temperament` from the table `rouses`. "
   ]
  },
  {
   "cell_type": "code",
   "execution_count": null,
   "id": "ab69677d",
   "metadata": {
    "deletable": false,
    "editable": false
   },
   "outputs": [],
   "source": [
    "rouses = rouses.drop(columns='Temperament')"
   ]
  },
  {
   "cell_type": "markdown",
   "id": "bac463af",
   "metadata": {
    "deletable": false,
    "editable": false,
    "jp-MarkdownHeadingCollapsed": true
   },
   "source": [
    "Here our goal is to predict the `Weight` of ROUSes using numerical values. Start by answering the following questions: (2 points)\n",
    "\n",
    "- Classification or regression?\n",
    "- Predictor variables?\n",
    "- Target variables?\n",
    "- Model: is this simiple or multiple linear regression?"
   ]
  },
  {
   "cell_type": "markdown",
   "id": "8a677fa0",
   "metadata": {
    "deletable": false,
    "editable": false
   },
   "source": [
    "[Your answer]"
   ]
  },
  {
   "cell_type": "markdown",
   "id": "befcba5f",
   "metadata": {
    "deletable": false,
    "editable": false
   },
   "source": [
    "### Exploratory analysis"
   ]
  },
  {
   "cell_type": "markdown",
   "id": "11a0eb08",
   "metadata": {
    "deletable": false,
    "editable": false
   },
   "source": [
    "Run the code `rouses.corr()`. This calculates the correlations between pairs of numerical columns."
   ]
  },
  {
   "cell_type": "code",
   "execution_count": null,
   "id": "f0bb29ef",
   "metadata": {
    "tags": [
     "otter_answer_cell"
    ]
   },
   "outputs": [],
   "source": [
    "# write your code here\n",
    "...\n"
   ]
  },
  {
   "cell_type": "markdown",
   "id": "e7aad4b7",
   "metadata": {
    "deletable": false,
    "editable": false
   },
   "source": [
    "Based on the correlations, which variable do you expect to be more helpful in predicting `Weight`: `Age` or `Length`? (1 point)\n"
   ]
  },
  {
   "cell_type": "markdown",
   "id": "cc81673e",
   "metadata": {
    "deletable": false,
    "editable": false
   },
   "source": [
    "[Your answer]"
   ]
  },
  {
   "cell_type": "markdown",
   "id": "9be2d9a4",
   "metadata": {
    "deletable": false,
    "editable": false
   },
   "source": [
    "In an ideal world, we would train our model on the entire dataset, collect data from new ROUSes, then test it on the new data. However, this is obviously not feasible in this case. In cases like this, most people randomly split the existing samples into train and test, and \"pretend\" like the samples in the test set are actually coming from ROUSes they haven't met yet.\n",
    "\n",
    "Fill in the 4 blanks such that this sentence describes what the code does:\n",
    "\n",
    "    We will randomly put 80% of the ___1____ into the __2___ set, and put the remaining __3_____ into the ____4___ set.\n",
    "\n",
    "- Options for 1: rows or columns\n",
    "- Options for 2: train or test\n",
    "- Options for 3: rows or columns\n",
    "- Options for 4: train or test\n",
    "\n",
    "The corresponding code:\n",
    "\n",
    "```Python\n",
    "train = rouses.sample(frac=0.8, random_state=42)\n",
    "test = rouses.drop(index=train.index)\n",
    "print(train.shape, test.shape)\n",
    "```\n",
    "Write your answers below, then copy the code above into the code cell and run it. (2 points)"
   ]
  },
  {
   "cell_type": "markdown",
   "id": "d0bcc660",
   "metadata": {
    "deletable": false,
    "editable": false
   },
   "source": [
    "[Your answers here]\n",
    "\n",
    "1\n",
    "\n",
    "2\n",
    "\n",
    "3\n",
    "\n",
    "4 "
   ]
  },
  {
   "cell_type": "code",
   "execution_count": null,
   "id": "a8066ddf",
   "metadata": {
    "tags": [
     "otter_answer_cell"
    ]
   },
   "outputs": [],
   "source": [
    "# Copy code from above here\n",
    "...\n"
   ]
  },
  {
   "cell_type": "markdown",
   "id": "3b339f92",
   "metadata": {
    "deletable": false,
    "editable": false
   },
   "source": [
    "Each of your table needs to be split into two parts (`X` and `y`) for the automated regression algorithm to understand.  Remember that `X` corresponds to a table where each column is a feature or a predictor variable, and `y` corresponds to an array with the target variable. \n",
    "\n",
    "I've given you partial code that creates four new variables `y_train`, `X_train`, `X_test`, `y_test`. **Fill in the missing parts marked with ...**, then copy and run the code. The answer is a single column name that is the same in all four places. Pause and make sure you understand what is going on. (1 point)\n",
    "\n",
    "```Python\n",
    "y_train = train[...] # select column with target variable\n",
    "X_train = train.drop(columns=[...]) # keep all other columns with predictor variables\n",
    "print(X_train.shape, y_train.shape)\n",
    "\n",
    "y_test = test[...]\n",
    "X_test = test.drop(columns=[...]) \n",
    "print(X_test.shape, y_test.shape)\n",
    "```"
   ]
  },
  {
   "cell_type": "code",
   "execution_count": null,
   "id": "b43d9c80",
   "metadata": {
    "tags": [
     "otter_answer_cell"
    ]
   },
   "outputs": [],
   "source": [
    "# Write your code here\n",
    "...\n"
   ]
  },
  {
   "cell_type": "markdown",
   "id": "32ac9ba5",
   "metadata": {
    "deletable": false,
    "editable": false
   },
   "source": [
    "### Setting up regression pipeline\n",
    "\n",
    "We'll write our machine learning code inside a function so that we can call it multiple times later. Copy the following code, then fill in the missing spots marked by `...`. (2 points)\n",
    "\n",
    "**Hint**: The six `...` are from these options: `X_train`, `X_test`, `y_train`, `y_test`.\n",
    "\n",
    "``` Python\n",
    "from sklearn.linear_model import LinearRegression\n",
    "def rouses_lr(X_train, X_test, y_train, y_test): \n",
    "    # Create \"empty\" model    \n",
    "    lr = LinearRegression(fit_intercept=True)\n",
    "    \n",
    "    # Fit model to data (or train model)\n",
    "    lr.fit(..., ...)\n",
    "    \n",
    "    # Save coefficients of the trained model\n",
    "    coefs = pd.DataFrame(lr.coef_, \n",
    "                         index=lr.feature_names_in_, \n",
    "                        columns=['Coefficient vals'])\n",
    "    \n",
    "    # Save model performance on train and test\n",
    "    results = coefs\n",
    "    results.loc['Train R2 score'] = lr.score(..., ...)\n",
    "    results.loc['Test R2 score'] = lr.score(..., ...)\n",
    "    return coefs\n",
    "``` \n"
   ]
  },
  {
   "cell_type": "code",
   "execution_count": null,
   "id": "6bf8c6df",
   "metadata": {
    "tags": [
     "otter_answer_cell"
    ]
   },
   "outputs": [],
   "source": [
    "# complete and run your code here\n",
    "...\n"
   ]
  },
  {
   "cell_type": "markdown",
   "id": "528026ae",
   "metadata": {
    "deletable": false,
    "editable": false
   },
   "source": [
    "### Normalizing features\n",
    "\n",
    "In class, we talked about interpreting linear regression coefficients, and mentioned an important caveat: To use the **magnitude of the coefficients** as an indication of relative feature importance, **the features have to be in the same range or scale**. Today, we'll see a few different ways to acheive that goal. The technical term for this is **feature normalization**, if you want to Google it for your project."
   ]
  },
  {
   "cell_type": "markdown",
   "id": "5d726b3f",
   "metadata": {
    "deletable": false,
    "editable": false
   },
   "source": [
    "First, call the function `describe` on the table `X_train` to see the summary statistics of the numerical columns."
   ]
  },
  {
   "cell_type": "code",
   "execution_count": null,
   "id": "e37ae7f1",
   "metadata": {
    "tags": [
     "otter_answer_cell"
    ]
   },
   "outputs": [],
   "source": [
    "# write your code here\n",
    "...\n"
   ]
  },
  {
   "cell_type": "markdown",
   "id": "aa561e10",
   "metadata": {
    "deletable": false,
    "editable": false
   },
   "source": [
    "Question: Does `Age` and `Length` have the same ranges? Or the same means? (1 point)\n",
    "\n",
    "[Your answer]\n",
    "\n",
    "We'll see how that affects the final model and interpretation of coefficients."
   ]
  },
  {
   "cell_type": "markdown",
   "id": "74c460fe",
   "metadata": {
    "deletable": false,
    "editable": false
   },
   "source": [
    "### 1. Standardization\n",
    "\n",
    "The first method is called **standardization**. This means that each variable will have mean of 0 and standard deviation of 1 after this process. You can acheive this by doing the following steps:\n",
    "   1. Within each column, subtract its mean. For example, if the mean `Age` is 13, subtract 13 from everyone's age.\n",
    "   2. Within each column, divide by its standard deviation. For example, if the std of `Age` 10, divide everyone's age by 10.\n",
    "\n",
    "The code to achieve this is very simple. Make sure you understand what's going on, then copy and run the lines below.\n",
    "\n",
    "```Python\n",
    "X_train_standardized = (X_train - X_train.mean()) / X_train.std() # Subtract column mean and divide by column std\n",
    "X_test_standardized = (X_test - X_train.mean()) / X_train.std() # Subtract by train column mean and divide by train column std\n",
    "\n",
    "X_train_standardized.describe()\n",
    "```\n"
   ]
  },
  {
   "cell_type": "code",
   "execution_count": null,
   "id": "174ca5a3",
   "metadata": {
    "tags": [
     "otter_answer_cell"
    ]
   },
   "outputs": [],
   "source": [
    "# copy and run the code\n",
    "..."
   ]
  },
  {
   "cell_type": "markdown",
   "id": "e51ca757",
   "metadata": {
    "deletable": false,
    "editable": false
   },
   "source": [
    "Before we move on, check that each feature in `X_train_standardized` now has zero mean and 1 stadard deviation as expected."
   ]
  },
  {
   "cell_type": "markdown",
   "id": "2f3cb814",
   "metadata": {
    "deletable": false,
    "editable": false
   },
   "source": [
    "### 2. Min-max scaling\n",
    "\n",
    "The second method is called **min-max scaling**. This makes all values in each column to fall between 0 and 1. The minimum value becomes 0, the maximum value becomes 1, and everything in between is scaled linearly.\n",
    "\n",
    "Here is the code that does that. As before, make sure you understand what's going on.\n",
    "\n",
    "```Python\n",
    "col_ranges = X_train.max() - X_train.min() # calculate the range per column\n",
    "X_train_minmax = X_train - X_train.min() # this turns minimum value of each column to 0\n",
    "X_train_minmax = X_train_minmax/col_ranges # this turns maximum value of each column to 1\n",
    "\n",
    "X_test_minmax = X_test - X_train.min() # offset by X_train min\n",
    "X_test_minmax = X_test_minmax/col_ranges # scale by X_train range\n",
    "\n",
    "X_train_minmax.describe()\n",
    "```"
   ]
  },
  {
   "cell_type": "code",
   "execution_count": null,
   "id": "428649da",
   "metadata": {
    "tags": [
     "otter_answer_cell"
    ]
   },
   "outputs": [],
   "source": [
    "# copy andrun the code\n",
    "..."
   ]
  },
  {
   "cell_type": "markdown",
   "id": "b558cb1e",
   "metadata": {},
   "source": [
    "Before we move on, check that each feature in `X_train_minmax` now has minimum 0 and maximum 1 as expected."
   ]
  },
  {
   "cell_type": "markdown",
   "id": "27445d1d",
   "metadata": {},
   "source": [
    "### Check the results!\n",
    "\n",
    "Finally it's time to put everything together. Run the following code to check:\n",
    "\n",
    "rows: \n",
    "- the resulting coefficients (`Age`, `Length`) of the linear regression model, and the\n",
    "- $R^2$ scores (`Train R2 score`, `Test R2 score`), for\n",
    "\n",
    "columns:\n",
    "- the three different versions of feature tables (unnormalized `X_train`, standardized `X_train_standardized`, min-max scaled `X_train_minmax`), and\n",
    "- the unnormalized coefficients muliplied by the std of the unnormalized features (`Unnormalized * std`)"
   ]
  },
  {
   "cell_type": "code",
   "execution_count": null,
   "id": "d890cfd2",
   "metadata": {},
   "outputs": [],
   "source": [
    "results = pd.DataFrame(columns = [\"Unnormalized\", \"Standardized\", \"Min-max scaled\"])\n",
    "results['Unnormalized'] = rouses_lr(X_train, X_test, y_train, y_test)['Results']\n",
    "results['Standardized'] = rouses_lr(X_train_standardized, X_test_standardized, y_train, y_test)['Results']\n",
    "results['Min-max scaled'] = rouses_lr(X_train_minmax, X_test_minmax, y_train, y_test)['Results']\n",
    "\n",
    "results"
   ]
  },
  {
   "cell_type": "markdown",
   "id": "c9078685",
   "metadata": {},
   "source": [
    "I hope this convinces you to normalize your features for your project if you decide to do a predictive model, and especially if you plan to do linear regression.\n",
    "\n",
    "And though you get the same R2 score regardless of feature normalization here, this is not the case for every dataset and every ML model. Often normalization improves accuracy of the model."
   ]
  },
  {
   "cell_type": "markdown",
   "id": "88bebb20",
   "metadata": {
    "deletable": false,
    "editable": false
   },
   "source": [
    "## Submission\n",
    "\n",
    "Make sure you have run all cells in your notebook in order before running the cell below, so that all images/graphs appear in the output. The cell below will generate a zip file for you to submit. **Please save before exporting!**\n",
    "\n",
    "Submit zip and PDF file to Gradescope Lab 15"
   ]
  },
  {
   "cell_type": "code",
   "execution_count": null,
   "id": "75a43554",
   "metadata": {
    "deletable": false,
    "editable": false
   },
   "outputs": [],
   "source": [
    "# Save your notebook first, then run this cell to export your submission.\n",
    "grader.export(pdf=False, run_tests=True)"
   ]
  },
  {
   "cell_type": "markdown",
   "id": "fc193326",
   "metadata": {},
   "source": [
    " "
   ]
  }
 ],
 "metadata": {
  "kernelspec": {
   "display_name": "Python 3",
   "language": "python",
   "name": "python3"
  },
  "language_info": {
   "codemirror_mode": {
    "name": "ipython",
    "version": 3
   },
   "file_extension": ".py",
   "mimetype": "text/x-python",
   "name": "python",
   "nbconvert_exporter": "python",
   "pygments_lexer": "ipython3",
   "version": "3.12.10"
  },
  "otter": {
   "OK_FORMAT": true,
   "tests": {
    "name": {
     "name": "name",
     "points": 1,
     "suites": [
      {
       "cases": [
        {
         "code": ">>> assert me[0] != 'Rick Marks'\n>>> assert partner[0] != 'Piper Marks'\n",
         "hidden": false,
         "locked": false
        }
       ],
       "scored": true,
       "setup": "",
       "teardown": "",
       "type": "doctest"
      }
     ]
    }
   }
  }
 },
 "nbformat": 4,
 "nbformat_minor": 5
}
