{
 "cells": [
  {
   "cell_type": "code",
   "execution_count": null,
   "id": "9646bd09",
   "metadata": {
    "deletable": false,
    "editable": false
   },
   "outputs": [],
   "source": [
    "# Initialize Otter\n",
    "import otter\n",
    "grader = otter.Notebook(\"lab1.ipynb\")"
   ]
  },
  {
   "cell_type": "markdown",
   "id": "3ca24de5-8cce-49f0-9d44-3c29222c7d09",
   "metadata": {},
   "source": [
    "# Lab1: Fun with Markdown\n",
    "\n",
    "This is a Jupyter Notebook, which is an interactive “notebook” where we will be writing a mixture of Python code and text explanations of our results. Each of these boxes is a cell, which can contain a piece of code or text. You’ll become very familiar with it over the semester.\n"
   ]
  },
  {
   "cell_type": "markdown",
   "id": "4d03c5bb-afb0-4850-9ca9-c1fe028e4f8d",
   "metadata": {},
   "source": [
    "# 1. Hello Team\n",
    "\n",
    "Same as last time, find your assigned lab partner, sit next to them, and introduce yourself (but no vegetables this time).  Remember, even though you both need to do the lab on your own laptop and submit it individually, please collaborate! \n",
    "\n",
    "1. Your name. \n",
    "2. Your year and area or planned area of study at UNC. \n",
    "3. Why you are interested in Data Science.\n",
    "\n",
    "That's the last time labdswill explicitly call out this step, but please do it every time!  From now on, section one will just be:\n",
    "\n",
    "Edit the code cell below with your name and onyen and partner name and onyen.  Then execute the code cell and the autograder test.  Be sure to run the code cell at the top of the file to initialize the autograder!"
   ]
  },
  {
   "cell_type": "code",
   "execution_count": null,
   "id": "d54451d4",
   "metadata": {},
   "outputs": [],
   "source": [
    "# edit these names\n",
    "me = [\"Rick Marks\", \"rlmarks\"]\n",
    "partner = [\"Piper Marks\", \"piper\"]"
   ]
  },
  {
   "cell_type": "code",
   "execution_count": null,
   "id": "322e142e",
   "metadata": {
    "deletable": false,
    "editable": false
   },
   "outputs": [],
   "source": [
    "grader.check(\"q0\")"
   ]
  },
  {
   "cell_type": "markdown",
   "id": "2caaad7d",
   "metadata": {},
   "source": [
    "# 2. Hello Comments\n",
    "What is a Comment in Code?\n",
    "A comment is text in your code that Python ignores when running the program.\n",
    "Comments are for humans to read, not for the computer.\n",
    "You can use them to explain what your code does, leave notes for yourself, or make the code easier to understand for others.\n",
    "\n",
    "In Python, a comment starts with a # symbol.\n",
    "Anything after # on the same line will not be executed.\n",
    "Example:\n",
    "\n",
    "```\n",
    "# This line is a comment. It will not run.\n",
    "```\n",
    "Often comments are added to the end of lines of code to explain that line of code.  For example:\n",
    "```\n",
    "print(\"Hello, world!\")  # This prints a greeting\n",
    "```\n",
    "Change the comment in the code cell below to correctly match what the code does (execute the code cell to see what it does first!)"
   ]
  },
  {
   "cell_type": "code",
   "execution_count": null,
   "id": "4b9a3695",
   "metadata": {},
   "outputs": [],
   "source": [
    "print(me[1]) # This prints my name. "
   ]
  },
  {
   "cell_type": "markdown",
   "id": "5c4a162e-ef9d-4ed1-b088-e758c720b387",
   "metadata": {},
   "source": [
    "# 3. Hello Markdown\n",
    "\n",
    "Throughout DATA110, you will frequently be asked to write explanatory text in which you describe your problem-solving strategy and the structure of your code. One way to do this will be in code comments. Another important and more expressive way is with *Markdown cells.* Markdown (https://en.wikipedia.org/wiki/Markdown#Example) is a simple, readable way to create formatted text. It was invented by John Gruber and Aaron Swartz. This cheatsheet (https://commonmark.org/help/) contains a useful and concise set of instructions for Markdown editing. \n",
    "\n",
    "## 3.1 Simple Markdown\n",
    "To create a Markdown cell, first create a code cell like you did before in Lab 0. Then, with your cursor in the code cell, click the dropdown menu in the toolbar that says \"Code\".  Select \"Markdown\" from this menu instead. \n",
    "\n",
    "Return to the cell and type the following characters, exactly as they appear:\n",
    "\n",
    "`*To boldly go* **where no one has gone before.**`\n",
    "\n",
    "Then, \"run\" the Markdown cell (`shift + enter` again) to see your text rendered with italic and bold formatting. "
   ]
  },
  {
   "cell_type": "markdown",
   "id": "16147e7a-5235-454a-935d-b9f76c692cee",
   "metadata": {},
   "source": [
    "## 3.2 More involved Markdown\n",
    "Now, try to reproduce in Markdown the following algorithm for enjoying a relaxing cup of tea. \n",
    "\n",
    "<br>\n",
    "\n",
    "<figure class=\"image\" style=\"width:40%\">\n",
    "  <img src=\"https://raw.githubusercontent.com/PhilChodrow/PIC16A/master/_images/making-tea.png\" alt=\"A list of six items describing how to make tea. The list reads:             \n",
    "    1. Boil water.\n",
    "    2. Place tea bag in mug.\n",
    "    3. Pour water in mug. **Be careful, water is hot!**\n",
    "    3. *Optional: add milk and/or sugar*. \n",
    "    4. Drink tea. \n",
    "        - `while cup is not empty`\n",
    "            - Carefully raise mug to mouth. \n",
    "            - Take a sip. \n",
    "    5. Clean mug. \">\n",
    "  <figcaption><i></i></figcaption>\n",
    "</figure>\n",
    "\n",
    "\n",
    "\\[add Markdown cell immediately below\\]"
   ]
  },
  {
   "cell_type": "markdown",
   "id": "c000ba88",
   "metadata": {},
   "source": [
    "## 3.3 Let's get visual\n",
    "Sometimes, you might find it useful to include images in Markdown cells.  Create a markdown cell below this cell and paste the following text:\n",
    "\n",
    "```![AltText](https://media.giphy.com/media/vFKqnCdLPNOKc/giphy.gif)```"
   ]
  },
  {
   "cell_type": "markdown",
   "id": "85f81255",
   "metadata": {},
   "source": [
    "Try adding your own images."
   ]
  },
  {
   "cell_type": "markdown",
   "id": "a09f242f",
   "metadata": {},
   "source": [
    "## 3.4  Let's get connected\n",
    "It is also easy to add general links into markdown.  Try creating a Markdown cell below this one and add the following text to it:\n",
    "\n",
    "```[Markdown basic syntax](https://www.markdownguide.org/basic-syntax/)```\n",
    "\n",
    "There are many other things you can do in Markdown.  For a good summary, see:"
   ]
  },
  {
   "cell_type": "markdown",
   "id": "7d4fe22d-87ec-4b87-aed4-cf23f7412326",
   "metadata": {},
   "source": [
    "# 5. Goodbye Lab 1\n",
    "\n",
    "Great job! It's time to submit the worksheet. Make sure to run all cells (you can click on the fastforward button above (>>)), download the zip file, and submit it on Gradescope under `Lab 1`.  \n"
   ]
  },
  {
   "cell_type": "code",
   "execution_count": null,
   "id": "ad040a4b-f4c3-4714-86a7-a1fe55fb01fe",
   "metadata": {},
   "outputs": [],
   "source": []
  },
  {
   "cell_type": "markdown",
   "id": "d95cac19",
   "metadata": {
    "deletable": false,
    "editable": false
   },
   "source": [
    "## Submission\n",
    "\n",
    "Make sure you have run all cells in your notebook in order before running the cell below, so that all images/graphs appear in the output. The cell below will generate a zip file for you to submit. **Please save before exporting!**\n",
    "\n",
    "Gradescope Lab1"
   ]
  },
  {
   "cell_type": "code",
   "execution_count": null,
   "id": "9ece2836",
   "metadata": {
    "deletable": false,
    "editable": false
   },
   "outputs": [],
   "source": [
    "# Save your notebook first, then run this cell to export your submission.\n",
    "grader.export(pdf=False, run_tests=True)"
   ]
  },
  {
   "cell_type": "markdown",
   "id": "57d66fc5",
   "metadata": {},
   "source": [
    " "
   ]
  }
 ],
 "metadata": {
  "kernelspec": {
   "display_name": "Python 3",
   "language": "python",
   "name": "python3"
  },
  "language_info": {
   "codemirror_mode": {
    "name": "ipython",
    "version": 3
   },
   "file_extension": ".py",
   "mimetype": "text/x-python",
   "name": "python",
   "nbconvert_exporter": "python",
   "pygments_lexer": "ipython3",
   "version": "3.11.9"
  },
  "otter": {
   "OK_FORMAT": true,
   "tests": {
    "q0": {
     "name": "q0",
     "points": 3,
     "suites": [
      {
       "cases": [
        {
         "code": ">>> assert me[0] != 'Rick Marks'\n",
         "hidden": false,
         "locked": false
        }
       ],
       "scored": true,
       "setup": "",
       "teardown": "",
       "type": "doctest"
      }
     ]
    }
   }
  }
 },
 "nbformat": 4,
 "nbformat_minor": 5
}
