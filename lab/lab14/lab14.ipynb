{
 "cells": [
  {
   "cell_type": "code",
   "execution_count": null,
   "id": "bf72f3fd",
   "metadata": {
    "deletable": false,
    "editable": false
   },
   "outputs": [],
   "source": [
    "# Initialize Otter\n",
    "import otter\n",
    "grader = otter.Notebook(\"lab14.ipynb\")"
   ]
  },
  {
   "cell_type": "markdown",
   "id": "9c284369",
   "metadata": {},
   "source": [
    "\n",
    "**Submission instruction**: Please create a zip and `pdf` via File -> Print (or cmd + P on mac), and upload it to Gradescope. No autograder since there are many correct ways to explore the data. You are **not** required to finish the entire worksheet provided that you were actively engaged during the entire class period. As long as you've collaborated, put in good effort and made **reasonable progress** during the lab period, you can expect to get full credit. So even if you decide to finish it at home, please submit what you have by the end of 50 minutes to make sure you get credit! "
   ]
  },
  {
   "cell_type": "markdown",
   "id": "7a5f075a",
   "metadata": {},
   "source": [
    "#  Lab 14: Data Exploration for Final Project Proposal\n",
    "\n",
    "Your project proposal must contain all required sections outlined in the project document.\n",
    "\n",
    "During this lab, your will work on the data exploration part of the project proposal. By the end of the lab, you must submit progress on **data exploration** ***individually***. \n"
   ]
  },
  {
   "cell_type": "code",
   "execution_count": null,
   "id": "02d5e403",
   "metadata": {
    "tags": [
     "otter_answer_cell"
    ]
   },
   "outputs": [],
   "source": [
    "# edit these names to your name and your final project partner's name\n",
    "me = [\"Rick Marks\"]\n",
    "partner = [\"Piper Marks\"]\n",
    "..."
   ]
  },
  {
   "cell_type": "code",
   "execution_count": null,
   "id": "63b2f169",
   "metadata": {
    "deletable": false,
    "editable": false
   },
   "outputs": [],
   "source": [
    "grader.check(\"names\")"
   ]
  },
  {
   "cell_type": "markdown",
   "id": "a5d42de3",
   "metadata": {},
   "source": [
    "## Part 1: Work with your final project teammate to decide on your dataset (15 mins)\n"
   ]
  },
  {
   "cell_type": "markdown",
   "id": "ddd473e2",
   "metadata": {},
   "source": [
    "Specify the dataset your project intends to use.  Datasets and info for some topics can be found in the DATA110H/project/ directory.  For others, you will need to get the data yourselves from the web (see project page at https://docs.google.com/document/d/1reaiF54ByxpmVjM4n35J4PREyJ82CpWFtUoWcEqLnCQ/)"
   ]
  },
  {
   "cell_type": "code",
   "execution_count": null,
   "id": "ef054afd",
   "metadata": {},
   "outputs": [],
   "source": []
  },
  {
   "cell_type": "markdown",
   "id": "a828f641",
   "metadata": {},
   "source": [
    "## Part 2: Data exploration individually (20 mins)\n",
    "\n",
    "Conduct data exploration: load your data into Python and calculate summary statistics and create **at least two basic visualizations**.  Add as many code cells as you need.\n",
    "\n",
    "Try to create visualizations that are different from those created by your teammates."
   ]
  },
  {
   "cell_type": "code",
   "execution_count": null,
   "id": "8cd7858c",
   "metadata": {},
   "outputs": [],
   "source": []
  },
  {
   "cell_type": "code",
   "execution_count": null,
   "id": "230fedd2",
   "metadata": {},
   "outputs": [],
   "source": []
  },
  {
   "cell_type": "markdown",
   "id": "bbd26f30",
   "metadata": {
    "deletable": false,
    "editable": false
   },
   "source": [
    "## Submission\n",
    "\n",
    "Make sure you have run all cells in your notebook in order before running the cell below, so that all images/graphs appear in the output. The cell below will generate a zip file for you to submit. **Please save before exporting!**\n",
    "\n",
    "Submit zip and PDF file to Gradescope Lab 14"
   ]
  },
  {
   "cell_type": "code",
   "execution_count": null,
   "id": "4804f525",
   "metadata": {
    "deletable": false,
    "editable": false
   },
   "outputs": [],
   "source": [
    "# Save your notebook first, then run this cell to export your submission.\n",
    "grader.export(pdf=False, run_tests=True)"
   ]
  },
  {
   "cell_type": "markdown",
   "id": "58c05bf6",
   "metadata": {},
   "source": [
    " "
   ]
  }
 ],
 "metadata": {
  "kernelspec": {
   "display_name": "Python 3",
   "language": "python",
   "name": "python3"
  },
  "language_info": {
   "codemirror_mode": {
    "name": "ipython",
    "version": 3
   },
   "file_extension": ".py",
   "mimetype": "text/x-python",
   "name": "python",
   "nbconvert_exporter": "python",
   "pygments_lexer": "ipython3",
   "version": "3.7.6"
  },
  "otter": {
   "OK_FORMAT": true,
   "tests": {
    "names": {
     "name": "names",
     "points": 2,
     "suites": [
      {
       "cases": [
        {
         "code": ">>> assert me[0] != 'Rick Marks'\n>>> assert partner[0] != 'Piper Marks'\n",
         "hidden": false,
         "locked": false
        }
       ],
       "scored": true,
       "setup": "",
       "teardown": "",
       "type": "doctest"
      }
     ]
    }
   }
  }
 },
 "nbformat": 4,
 "nbformat_minor": 5
}
